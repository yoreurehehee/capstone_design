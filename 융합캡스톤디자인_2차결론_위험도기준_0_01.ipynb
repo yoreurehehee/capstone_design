{
  "cells": [
    {
      "cell_type": "code",
      "execution_count": null,
      "metadata": {
        "colab": {
          "base_uri": "https://localhost:8080/"
        },
        "id": "uE282GxKN4Fc",
        "outputId": "4c2b283a-7fc2-4f2c-8223-5e4acf96737c"
      },
      "outputs": [
        {
          "output_type": "stream",
          "name": "stdout",
          "text": [
            "Mounted at /content/drive\n"
          ]
        }
      ],
      "source": [
        "from google.colab import drive\n",
        "drive.mount('/content/drive')"
      ]
    },
    {
      "cell_type": "markdown",
      "metadata": {
        "id": "WJB47vJcOrGx"
      },
      "source": [
        "#라이브러리 다운"
      ]
    },
    {
      "cell_type": "code",
      "execution_count": null,
      "metadata": {
        "id": "VPdIh9A2OtrY"
      },
      "outputs": [],
      "source": [
        "import os\n",
        "import numpy as np\n",
        "import pandas as pd\n",
        "import seaborn as sns\n",
        "import datetime as dt\n",
        "import matplotlib.pyplot as plt\n",
        "%matplotlib inline\n",
        "from sklearn import preprocessing\n",
        "from sklearn.model_selection import train_test_split\n",
        "from sklearn.metrics import confusion_matrix\n",
        "\n",
        "\n",
        "# for coloring maps\n",
        "from matplotlib import colormaps\n",
        "\n",
        "# for data visualizations\n",
        "\n",
        "import plotly.express as px\n",
        "\n",
        "# for preprocessing\n",
        "from sklearn.preprocessing import StandardScaler\n",
        "\n",
        "# for label encoding\n",
        "from sklearn.preprocessing import LabelEncoder\n",
        "\n",
        "# for data split\n",
        "from sklearn.model_selection import train_test_split"
      ]
    },
    {
      "cell_type": "code",
      "source": [
        "df_start=pd.read_csv('/content/drive/MyDrive/캡디/최종 보고서용 모델 코드/융합캡스톤디자인_최종데이터.csv')"
      ],
      "metadata": {
        "id": "-St5ABHq-f-m"
      },
      "execution_count": null,
      "outputs": []
    },
    {
      "cell_type": "code",
      "execution_count": null,
      "metadata": {
        "colab": {
          "base_uri": "https://localhost:8080/"
        },
        "id": "0bpwimEtN7SI",
        "outputId": "e8796f38-3766-4b51-eda4-dbd06386af57"
      },
      "outputs": [
        {
          "output_type": "execute_result",
          "data": {
            "text/plain": [
              "       UCLN_OPN_ETC_SITE_CRCN_YN  UCLN_PRGN_YN  RDT_DTRN_YN  RDT_RT_NO  \\\n",
              "0                            0.0           0.0          0.0        0.0   \n",
              "1                            0.0           1.0          0.0        0.0   \n",
              "2                            1.0           0.0          1.0       18.0   \n",
              "3                            1.0           1.0          1.0       35.0   \n",
              "4                            1.0           0.0          0.0        0.0   \n",
              "...                          ...           ...          ...        ...   \n",
              "23802                        0.0           0.5          0.5      141.0   \n",
              "23803                        0.0           0.5          1.0      321.5   \n",
              "23804                        0.0           0.0          0.0        0.0   \n",
              "23805                        0.0           0.5          0.5      141.0   \n",
              "23806                        0.0           0.5          0.5      141.0   \n",
              "\n",
              "       RDT_DTRN_DCNT  RDT_SITE_KIND_CD  RDT_SITE_CD  RDT_TM1_CGY  \\\n",
              "0                0.0               0.0          0.0          0.0   \n",
              "1                0.0               0.0          0.0          0.0   \n",
              "2               63.0              99.0         10.0       9922.0   \n",
              "3                7.0              99.0         22.0       3740.0   \n",
              "4                0.0               0.0          0.0          0.0   \n",
              "...              ...               ...          ...          ...   \n",
              "23802           18.0               4.0          5.0       1148.5   \n",
              "23803           46.5              53.5         55.0       3041.5   \n",
              "23804            0.0               0.0          0.0          0.0   \n",
              "23805           18.0               4.0          5.0       1148.5   \n",
              "23806           18.0               4.0          5.0       1148.5   \n",
              "\n",
              "       RDT_TOTL_TRTM_NT  RDT_TOTL_CGY  ...  HRT_USE_YN  HRT_DTRN_MCNT  HT_VL  \\\n",
              "0                   0.0           0.0  ...         1.0            4.0  156.0   \n",
              "1                   0.0           0.0  ...         0.0            0.0  152.0   \n",
              "2                8876.0        1073.0  ...         0.0            0.0  153.0   \n",
              "3                5905.0         999.0  ...         0.0            0.0  153.0   \n",
              "4                   0.0           0.0  ...         1.0            6.0  156.9   \n",
              "...                 ...           ...  ...         ...            ...    ...   \n",
              "23802             216.5        1891.0  ...         1.0            0.0  174.8   \n",
              "23803            2870.0        2564.5  ...         1.0            0.0  145.2   \n",
              "23804               0.0           0.0  ...         0.0            0.0  175.0   \n",
              "23805             216.5        1891.0  ...         1.0            0.0  175.0   \n",
              "23806             216.5        1891.0  ...         1.0            0.0  175.0   \n",
              "\n",
              "       WT_MSRM_VL  BMI_VL  BRCA1_PAVR_DTCT_CLSF_CD  \\\n",
              "0            70.0   28.76                      0.0   \n",
              "1            61.0   26.40                      0.0   \n",
              "2            60.0   25.63                      0.0   \n",
              "3            64.0   27.34                      0.0   \n",
              "4            69.2   28.11                      0.0   \n",
              "...           ...     ...                      ...   \n",
              "23802        40.7   13.30                      1.0   \n",
              "23803        40.0   19.00                      1.0   \n",
              "23804        42.4   13.80                      1.0   \n",
              "23805        40.5   13.20                      1.0   \n",
              "23806        41.8   13.60                      1.0   \n",
              "\n",
              "       BRCA1_UNCL_VARN_DTCT_CLSF_CD  BRCA2_PAVR_DTCT_CLSF_CD  \\\n",
              "0                               0.0                      0.0   \n",
              "1                               0.0                      0.0   \n",
              "2                               0.0                      0.0   \n",
              "3                               0.0                      0.0   \n",
              "4                               0.0                      0.0   \n",
              "...                             ...                      ...   \n",
              "23802                           1.0                      1.0   \n",
              "23803                           1.0                      1.0   \n",
              "23804                           1.0                      1.0   \n",
              "23805                           1.0                      1.0   \n",
              "23806                           1.0                      1.0   \n",
              "\n",
              "       BRCA2_UNCL_VARN_DTCT_CLSF_CD  target  \n",
              "0                               0.0     1.0  \n",
              "1                               0.0     1.0  \n",
              "2                               0.0     1.0  \n",
              "3                               0.0     1.0  \n",
              "4                               0.0     1.0  \n",
              "...                             ...     ...  \n",
              "23802                           1.0     0.0  \n",
              "23803                           1.0     0.0  \n",
              "23804                           1.0     0.0  \n",
              "23805                           1.0     0.0  \n",
              "23806                           1.0     0.0  \n",
              "\n",
              "[23807 rows x 66 columns]"
            ],
            "text/html": [
              "\n",
              "  <div id=\"df-4374054e-0375-4b19-bced-cca69e66196f\" class=\"colab-df-container\">\n",
              "    <div>\n",
              "<style scoped>\n",
              "    .dataframe tbody tr th:only-of-type {\n",
              "        vertical-align: middle;\n",
              "    }\n",
              "\n",
              "    .dataframe tbody tr th {\n",
              "        vertical-align: top;\n",
              "    }\n",
              "\n",
              "    .dataframe thead th {\n",
              "        text-align: right;\n",
              "    }\n",
              "</style>\n",
              "<table border=\"1\" class=\"dataframe\">\n",
              "  <thead>\n",
              "    <tr style=\"text-align: right;\">\n",
              "      <th></th>\n",
              "      <th>UCLN_OPN_ETC_SITE_CRCN_YN</th>\n",
              "      <th>UCLN_PRGN_YN</th>\n",
              "      <th>RDT_DTRN_YN</th>\n",
              "      <th>RDT_RT_NO</th>\n",
              "      <th>RDT_DTRN_DCNT</th>\n",
              "      <th>RDT_SITE_KIND_CD</th>\n",
              "      <th>RDT_SITE_CD</th>\n",
              "      <th>RDT_TM1_CGY</th>\n",
              "      <th>RDT_TOTL_TRTM_NT</th>\n",
              "      <th>RDT_TOTL_CGY</th>\n",
              "      <th>...</th>\n",
              "      <th>HRT_USE_YN</th>\n",
              "      <th>HRT_DTRN_MCNT</th>\n",
              "      <th>HT_VL</th>\n",
              "      <th>WT_MSRM_VL</th>\n",
              "      <th>BMI_VL</th>\n",
              "      <th>BRCA1_PAVR_DTCT_CLSF_CD</th>\n",
              "      <th>BRCA1_UNCL_VARN_DTCT_CLSF_CD</th>\n",
              "      <th>BRCA2_PAVR_DTCT_CLSF_CD</th>\n",
              "      <th>BRCA2_UNCL_VARN_DTCT_CLSF_CD</th>\n",
              "      <th>target</th>\n",
              "    </tr>\n",
              "  </thead>\n",
              "  <tbody>\n",
              "    <tr>\n",
              "      <th>0</th>\n",
              "      <td>0.0</td>\n",
              "      <td>0.0</td>\n",
              "      <td>0.0</td>\n",
              "      <td>0.0</td>\n",
              "      <td>0.0</td>\n",
              "      <td>0.0</td>\n",
              "      <td>0.0</td>\n",
              "      <td>0.0</td>\n",
              "      <td>0.0</td>\n",
              "      <td>0.0</td>\n",
              "      <td>...</td>\n",
              "      <td>1.0</td>\n",
              "      <td>4.0</td>\n",
              "      <td>156.0</td>\n",
              "      <td>70.0</td>\n",
              "      <td>28.76</td>\n",
              "      <td>0.0</td>\n",
              "      <td>0.0</td>\n",
              "      <td>0.0</td>\n",
              "      <td>0.0</td>\n",
              "      <td>1.0</td>\n",
              "    </tr>\n",
              "    <tr>\n",
              "      <th>1</th>\n",
              "      <td>0.0</td>\n",
              "      <td>1.0</td>\n",
              "      <td>0.0</td>\n",
              "      <td>0.0</td>\n",
              "      <td>0.0</td>\n",
              "      <td>0.0</td>\n",
              "      <td>0.0</td>\n",
              "      <td>0.0</td>\n",
              "      <td>0.0</td>\n",
              "      <td>0.0</td>\n",
              "      <td>...</td>\n",
              "      <td>0.0</td>\n",
              "      <td>0.0</td>\n",
              "      <td>152.0</td>\n",
              "      <td>61.0</td>\n",
              "      <td>26.40</td>\n",
              "      <td>0.0</td>\n",
              "      <td>0.0</td>\n",
              "      <td>0.0</td>\n",
              "      <td>0.0</td>\n",
              "      <td>1.0</td>\n",
              "    </tr>\n",
              "    <tr>\n",
              "      <th>2</th>\n",
              "      <td>1.0</td>\n",
              "      <td>0.0</td>\n",
              "      <td>1.0</td>\n",
              "      <td>18.0</td>\n",
              "      <td>63.0</td>\n",
              "      <td>99.0</td>\n",
              "      <td>10.0</td>\n",
              "      <td>9922.0</td>\n",
              "      <td>8876.0</td>\n",
              "      <td>1073.0</td>\n",
              "      <td>...</td>\n",
              "      <td>0.0</td>\n",
              "      <td>0.0</td>\n",
              "      <td>153.0</td>\n",
              "      <td>60.0</td>\n",
              "      <td>25.63</td>\n",
              "      <td>0.0</td>\n",
              "      <td>0.0</td>\n",
              "      <td>0.0</td>\n",
              "      <td>0.0</td>\n",
              "      <td>1.0</td>\n",
              "    </tr>\n",
              "    <tr>\n",
              "      <th>3</th>\n",
              "      <td>1.0</td>\n",
              "      <td>1.0</td>\n",
              "      <td>1.0</td>\n",
              "      <td>35.0</td>\n",
              "      <td>7.0</td>\n",
              "      <td>99.0</td>\n",
              "      <td>22.0</td>\n",
              "      <td>3740.0</td>\n",
              "      <td>5905.0</td>\n",
              "      <td>999.0</td>\n",
              "      <td>...</td>\n",
              "      <td>0.0</td>\n",
              "      <td>0.0</td>\n",
              "      <td>153.0</td>\n",
              "      <td>64.0</td>\n",
              "      <td>27.34</td>\n",
              "      <td>0.0</td>\n",
              "      <td>0.0</td>\n",
              "      <td>0.0</td>\n",
              "      <td>0.0</td>\n",
              "      <td>1.0</td>\n",
              "    </tr>\n",
              "    <tr>\n",
              "      <th>4</th>\n",
              "      <td>1.0</td>\n",
              "      <td>0.0</td>\n",
              "      <td>0.0</td>\n",
              "      <td>0.0</td>\n",
              "      <td>0.0</td>\n",
              "      <td>0.0</td>\n",
              "      <td>0.0</td>\n",
              "      <td>0.0</td>\n",
              "      <td>0.0</td>\n",
              "      <td>0.0</td>\n",
              "      <td>...</td>\n",
              "      <td>1.0</td>\n",
              "      <td>6.0</td>\n",
              "      <td>156.9</td>\n",
              "      <td>69.2</td>\n",
              "      <td>28.11</td>\n",
              "      <td>0.0</td>\n",
              "      <td>0.0</td>\n",
              "      <td>0.0</td>\n",
              "      <td>0.0</td>\n",
              "      <td>1.0</td>\n",
              "    </tr>\n",
              "    <tr>\n",
              "      <th>...</th>\n",
              "      <td>...</td>\n",
              "      <td>...</td>\n",
              "      <td>...</td>\n",
              "      <td>...</td>\n",
              "      <td>...</td>\n",
              "      <td>...</td>\n",
              "      <td>...</td>\n",
              "      <td>...</td>\n",
              "      <td>...</td>\n",
              "      <td>...</td>\n",
              "      <td>...</td>\n",
              "      <td>...</td>\n",
              "      <td>...</td>\n",
              "      <td>...</td>\n",
              "      <td>...</td>\n",
              "      <td>...</td>\n",
              "      <td>...</td>\n",
              "      <td>...</td>\n",
              "      <td>...</td>\n",
              "      <td>...</td>\n",
              "      <td>...</td>\n",
              "    </tr>\n",
              "    <tr>\n",
              "      <th>23802</th>\n",
              "      <td>0.0</td>\n",
              "      <td>0.5</td>\n",
              "      <td>0.5</td>\n",
              "      <td>141.0</td>\n",
              "      <td>18.0</td>\n",
              "      <td>4.0</td>\n",
              "      <td>5.0</td>\n",
              "      <td>1148.5</td>\n",
              "      <td>216.5</td>\n",
              "      <td>1891.0</td>\n",
              "      <td>...</td>\n",
              "      <td>1.0</td>\n",
              "      <td>0.0</td>\n",
              "      <td>174.8</td>\n",
              "      <td>40.7</td>\n",
              "      <td>13.30</td>\n",
              "      <td>1.0</td>\n",
              "      <td>1.0</td>\n",
              "      <td>1.0</td>\n",
              "      <td>1.0</td>\n",
              "      <td>0.0</td>\n",
              "    </tr>\n",
              "    <tr>\n",
              "      <th>23803</th>\n",
              "      <td>0.0</td>\n",
              "      <td>0.5</td>\n",
              "      <td>1.0</td>\n",
              "      <td>321.5</td>\n",
              "      <td>46.5</td>\n",
              "      <td>53.5</td>\n",
              "      <td>55.0</td>\n",
              "      <td>3041.5</td>\n",
              "      <td>2870.0</td>\n",
              "      <td>2564.5</td>\n",
              "      <td>...</td>\n",
              "      <td>1.0</td>\n",
              "      <td>0.0</td>\n",
              "      <td>145.2</td>\n",
              "      <td>40.0</td>\n",
              "      <td>19.00</td>\n",
              "      <td>1.0</td>\n",
              "      <td>1.0</td>\n",
              "      <td>1.0</td>\n",
              "      <td>1.0</td>\n",
              "      <td>0.0</td>\n",
              "    </tr>\n",
              "    <tr>\n",
              "      <th>23804</th>\n",
              "      <td>0.0</td>\n",
              "      <td>0.0</td>\n",
              "      <td>0.0</td>\n",
              "      <td>0.0</td>\n",
              "      <td>0.0</td>\n",
              "      <td>0.0</td>\n",
              "      <td>0.0</td>\n",
              "      <td>0.0</td>\n",
              "      <td>0.0</td>\n",
              "      <td>0.0</td>\n",
              "      <td>...</td>\n",
              "      <td>0.0</td>\n",
              "      <td>0.0</td>\n",
              "      <td>175.0</td>\n",
              "      <td>42.4</td>\n",
              "      <td>13.80</td>\n",
              "      <td>1.0</td>\n",
              "      <td>1.0</td>\n",
              "      <td>1.0</td>\n",
              "      <td>1.0</td>\n",
              "      <td>0.0</td>\n",
              "    </tr>\n",
              "    <tr>\n",
              "      <th>23805</th>\n",
              "      <td>0.0</td>\n",
              "      <td>0.5</td>\n",
              "      <td>0.5</td>\n",
              "      <td>141.0</td>\n",
              "      <td>18.0</td>\n",
              "      <td>4.0</td>\n",
              "      <td>5.0</td>\n",
              "      <td>1148.5</td>\n",
              "      <td>216.5</td>\n",
              "      <td>1891.0</td>\n",
              "      <td>...</td>\n",
              "      <td>1.0</td>\n",
              "      <td>0.0</td>\n",
              "      <td>175.0</td>\n",
              "      <td>40.5</td>\n",
              "      <td>13.20</td>\n",
              "      <td>1.0</td>\n",
              "      <td>1.0</td>\n",
              "      <td>1.0</td>\n",
              "      <td>1.0</td>\n",
              "      <td>0.0</td>\n",
              "    </tr>\n",
              "    <tr>\n",
              "      <th>23806</th>\n",
              "      <td>0.0</td>\n",
              "      <td>0.5</td>\n",
              "      <td>0.5</td>\n",
              "      <td>141.0</td>\n",
              "      <td>18.0</td>\n",
              "      <td>4.0</td>\n",
              "      <td>5.0</td>\n",
              "      <td>1148.5</td>\n",
              "      <td>216.5</td>\n",
              "      <td>1891.0</td>\n",
              "      <td>...</td>\n",
              "      <td>1.0</td>\n",
              "      <td>0.0</td>\n",
              "      <td>175.0</td>\n",
              "      <td>41.8</td>\n",
              "      <td>13.60</td>\n",
              "      <td>1.0</td>\n",
              "      <td>1.0</td>\n",
              "      <td>1.0</td>\n",
              "      <td>1.0</td>\n",
              "      <td>0.0</td>\n",
              "    </tr>\n",
              "  </tbody>\n",
              "</table>\n",
              "<p>23807 rows × 66 columns</p>\n",
              "</div>\n",
              "    <div class=\"colab-df-buttons\">\n",
              "\n",
              "  <div class=\"colab-df-container\">\n",
              "    <button class=\"colab-df-convert\" onclick=\"convertToInteractive('df-4374054e-0375-4b19-bced-cca69e66196f')\"\n",
              "            title=\"Convert this dataframe to an interactive table.\"\n",
              "            style=\"display:none;\">\n",
              "\n",
              "  <svg xmlns=\"http://www.w3.org/2000/svg\" height=\"24px\" viewBox=\"0 -960 960 960\">\n",
              "    <path d=\"M120-120v-720h720v720H120Zm60-500h600v-160H180v160Zm220 220h160v-160H400v160Zm0 220h160v-160H400v160ZM180-400h160v-160H180v160Zm440 0h160v-160H620v160ZM180-180h160v-160H180v160Zm440 0h160v-160H620v160Z\"/>\n",
              "  </svg>\n",
              "    </button>\n",
              "\n",
              "  <style>\n",
              "    .colab-df-container {\n",
              "      display:flex;\n",
              "      gap: 12px;\n",
              "    }\n",
              "\n",
              "    .colab-df-convert {\n",
              "      background-color: #E8F0FE;\n",
              "      border: none;\n",
              "      border-radius: 50%;\n",
              "      cursor: pointer;\n",
              "      display: none;\n",
              "      fill: #1967D2;\n",
              "      height: 32px;\n",
              "      padding: 0 0 0 0;\n",
              "      width: 32px;\n",
              "    }\n",
              "\n",
              "    .colab-df-convert:hover {\n",
              "      background-color: #E2EBFA;\n",
              "      box-shadow: 0px 1px 2px rgba(60, 64, 67, 0.3), 0px 1px 3px 1px rgba(60, 64, 67, 0.15);\n",
              "      fill: #174EA6;\n",
              "    }\n",
              "\n",
              "    .colab-df-buttons div {\n",
              "      margin-bottom: 4px;\n",
              "    }\n",
              "\n",
              "    [theme=dark] .colab-df-convert {\n",
              "      background-color: #3B4455;\n",
              "      fill: #D2E3FC;\n",
              "    }\n",
              "\n",
              "    [theme=dark] .colab-df-convert:hover {\n",
              "      background-color: #434B5C;\n",
              "      box-shadow: 0px 1px 3px 1px rgba(0, 0, 0, 0.15);\n",
              "      filter: drop-shadow(0px 1px 2px rgba(0, 0, 0, 0.3));\n",
              "      fill: #FFFFFF;\n",
              "    }\n",
              "  </style>\n",
              "\n",
              "    <script>\n",
              "      const buttonEl =\n",
              "        document.querySelector('#df-4374054e-0375-4b19-bced-cca69e66196f button.colab-df-convert');\n",
              "      buttonEl.style.display =\n",
              "        google.colab.kernel.accessAllowed ? 'block' : 'none';\n",
              "\n",
              "      async function convertToInteractive(key) {\n",
              "        const element = document.querySelector('#df-4374054e-0375-4b19-bced-cca69e66196f');\n",
              "        const dataTable =\n",
              "          await google.colab.kernel.invokeFunction('convertToInteractive',\n",
              "                                                    [key], {});\n",
              "        if (!dataTable) return;\n",
              "\n",
              "        const docLinkHtml = 'Like what you see? Visit the ' +\n",
              "          '<a target=\"_blank\" href=https://colab.research.google.com/notebooks/data_table.ipynb>data table notebook</a>'\n",
              "          + ' to learn more about interactive tables.';\n",
              "        element.innerHTML = '';\n",
              "        dataTable['output_type'] = 'display_data';\n",
              "        await google.colab.output.renderOutput(dataTable, element);\n",
              "        const docLink = document.createElement('div');\n",
              "        docLink.innerHTML = docLinkHtml;\n",
              "        element.appendChild(docLink);\n",
              "      }\n",
              "    </script>\n",
              "  </div>\n",
              "\n",
              "\n",
              "<div id=\"df-4c137706-4e3a-4d66-82dc-3a623395ada6\">\n",
              "  <button class=\"colab-df-quickchart\" onclick=\"quickchart('df-4c137706-4e3a-4d66-82dc-3a623395ada6')\"\n",
              "            title=\"Suggest charts\"\n",
              "            style=\"display:none;\">\n",
              "\n",
              "<svg xmlns=\"http://www.w3.org/2000/svg\" height=\"24px\"viewBox=\"0 0 24 24\"\n",
              "     width=\"24px\">\n",
              "    <g>\n",
              "        <path d=\"M19 3H5c-1.1 0-2 .9-2 2v14c0 1.1.9 2 2 2h14c1.1 0 2-.9 2-2V5c0-1.1-.9-2-2-2zM9 17H7v-7h2v7zm4 0h-2V7h2v10zm4 0h-2v-4h2v4z\"/>\n",
              "    </g>\n",
              "</svg>\n",
              "  </button>\n",
              "\n",
              "<style>\n",
              "  .colab-df-quickchart {\n",
              "      --bg-color: #E8F0FE;\n",
              "      --fill-color: #1967D2;\n",
              "      --hover-bg-color: #E2EBFA;\n",
              "      --hover-fill-color: #174EA6;\n",
              "      --disabled-fill-color: #AAA;\n",
              "      --disabled-bg-color: #DDD;\n",
              "  }\n",
              "\n",
              "  [theme=dark] .colab-df-quickchart {\n",
              "      --bg-color: #3B4455;\n",
              "      --fill-color: #D2E3FC;\n",
              "      --hover-bg-color: #434B5C;\n",
              "      --hover-fill-color: #FFFFFF;\n",
              "      --disabled-bg-color: #3B4455;\n",
              "      --disabled-fill-color: #666;\n",
              "  }\n",
              "\n",
              "  .colab-df-quickchart {\n",
              "    background-color: var(--bg-color);\n",
              "    border: none;\n",
              "    border-radius: 50%;\n",
              "    cursor: pointer;\n",
              "    display: none;\n",
              "    fill: var(--fill-color);\n",
              "    height: 32px;\n",
              "    padding: 0;\n",
              "    width: 32px;\n",
              "  }\n",
              "\n",
              "  .colab-df-quickchart:hover {\n",
              "    background-color: var(--hover-bg-color);\n",
              "    box-shadow: 0 1px 2px rgba(60, 64, 67, 0.3), 0 1px 3px 1px rgba(60, 64, 67, 0.15);\n",
              "    fill: var(--button-hover-fill-color);\n",
              "  }\n",
              "\n",
              "  .colab-df-quickchart-complete:disabled,\n",
              "  .colab-df-quickchart-complete:disabled:hover {\n",
              "    background-color: var(--disabled-bg-color);\n",
              "    fill: var(--disabled-fill-color);\n",
              "    box-shadow: none;\n",
              "  }\n",
              "\n",
              "  .colab-df-spinner {\n",
              "    border: 2px solid var(--fill-color);\n",
              "    border-color: transparent;\n",
              "    border-bottom-color: var(--fill-color);\n",
              "    animation:\n",
              "      spin 1s steps(1) infinite;\n",
              "  }\n",
              "\n",
              "  @keyframes spin {\n",
              "    0% {\n",
              "      border-color: transparent;\n",
              "      border-bottom-color: var(--fill-color);\n",
              "      border-left-color: var(--fill-color);\n",
              "    }\n",
              "    20% {\n",
              "      border-color: transparent;\n",
              "      border-left-color: var(--fill-color);\n",
              "      border-top-color: var(--fill-color);\n",
              "    }\n",
              "    30% {\n",
              "      border-color: transparent;\n",
              "      border-left-color: var(--fill-color);\n",
              "      border-top-color: var(--fill-color);\n",
              "      border-right-color: var(--fill-color);\n",
              "    }\n",
              "    40% {\n",
              "      border-color: transparent;\n",
              "      border-right-color: var(--fill-color);\n",
              "      border-top-color: var(--fill-color);\n",
              "    }\n",
              "    60% {\n",
              "      border-color: transparent;\n",
              "      border-right-color: var(--fill-color);\n",
              "    }\n",
              "    80% {\n",
              "      border-color: transparent;\n",
              "      border-right-color: var(--fill-color);\n",
              "      border-bottom-color: var(--fill-color);\n",
              "    }\n",
              "    90% {\n",
              "      border-color: transparent;\n",
              "      border-bottom-color: var(--fill-color);\n",
              "    }\n",
              "  }\n",
              "</style>\n",
              "\n",
              "  <script>\n",
              "    async function quickchart(key) {\n",
              "      const quickchartButtonEl =\n",
              "        document.querySelector('#' + key + ' button');\n",
              "      quickchartButtonEl.disabled = true;  // To prevent multiple clicks.\n",
              "      quickchartButtonEl.classList.add('colab-df-spinner');\n",
              "      try {\n",
              "        const charts = await google.colab.kernel.invokeFunction(\n",
              "            'suggestCharts', [key], {});\n",
              "      } catch (error) {\n",
              "        console.error('Error during call to suggestCharts:', error);\n",
              "      }\n",
              "      quickchartButtonEl.classList.remove('colab-df-spinner');\n",
              "      quickchartButtonEl.classList.add('colab-df-quickchart-complete');\n",
              "    }\n",
              "    (() => {\n",
              "      let quickchartButtonEl =\n",
              "        document.querySelector('#df-4c137706-4e3a-4d66-82dc-3a623395ada6 button');\n",
              "      quickchartButtonEl.style.display =\n",
              "        google.colab.kernel.accessAllowed ? 'block' : 'none';\n",
              "    })();\n",
              "  </script>\n",
              "</div>\n",
              "\n",
              "  <div id=\"id_2952735e-d5c5-49a6-bc09-f36b0e8cbe8e\">\n",
              "    <style>\n",
              "      .colab-df-generate {\n",
              "        background-color: #E8F0FE;\n",
              "        border: none;\n",
              "        border-radius: 50%;\n",
              "        cursor: pointer;\n",
              "        display: none;\n",
              "        fill: #1967D2;\n",
              "        height: 32px;\n",
              "        padding: 0 0 0 0;\n",
              "        width: 32px;\n",
              "      }\n",
              "\n",
              "      .colab-df-generate:hover {\n",
              "        background-color: #E2EBFA;\n",
              "        box-shadow: 0px 1px 2px rgba(60, 64, 67, 0.3), 0px 1px 3px 1px rgba(60, 64, 67, 0.15);\n",
              "        fill: #174EA6;\n",
              "      }\n",
              "\n",
              "      [theme=dark] .colab-df-generate {\n",
              "        background-color: #3B4455;\n",
              "        fill: #D2E3FC;\n",
              "      }\n",
              "\n",
              "      [theme=dark] .colab-df-generate:hover {\n",
              "        background-color: #434B5C;\n",
              "        box-shadow: 0px 1px 3px 1px rgba(0, 0, 0, 0.15);\n",
              "        filter: drop-shadow(0px 1px 2px rgba(0, 0, 0, 0.3));\n",
              "        fill: #FFFFFF;\n",
              "      }\n",
              "    </style>\n",
              "    <button class=\"colab-df-generate\" onclick=\"generateWithVariable('df_start')\"\n",
              "            title=\"Generate code using this dataframe.\"\n",
              "            style=\"display:none;\">\n",
              "\n",
              "  <svg xmlns=\"http://www.w3.org/2000/svg\" height=\"24px\"viewBox=\"0 0 24 24\"\n",
              "       width=\"24px\">\n",
              "    <path d=\"M7,19H8.4L18.45,9,17,7.55,7,17.6ZM5,21V16.75L18.45,3.32a2,2,0,0,1,2.83,0l1.4,1.43a1.91,1.91,0,0,1,.58,1.4,1.91,1.91,0,0,1-.58,1.4L9.25,21ZM18.45,9,17,7.55Zm-12,3A5.31,5.31,0,0,0,4.9,8.1,5.31,5.31,0,0,0,1,6.5,5.31,5.31,0,0,0,4.9,4.9,5.31,5.31,0,0,0,6.5,1,5.31,5.31,0,0,0,8.1,4.9,5.31,5.31,0,0,0,12,6.5,5.46,5.46,0,0,0,6.5,12Z\"/>\n",
              "  </svg>\n",
              "    </button>\n",
              "    <script>\n",
              "      (() => {\n",
              "      const buttonEl =\n",
              "        document.querySelector('#id_2952735e-d5c5-49a6-bc09-f36b0e8cbe8e button.colab-df-generate');\n",
              "      buttonEl.style.display =\n",
              "        google.colab.kernel.accessAllowed ? 'block' : 'none';\n",
              "\n",
              "      buttonEl.onclick = () => {\n",
              "        google.colab.notebook.generateWithVariable('df_start');\n",
              "      }\n",
              "      })();\n",
              "    </script>\n",
              "  </div>\n",
              "\n",
              "    </div>\n",
              "  </div>\n"
            ],
            "application/vnd.google.colaboratory.intrinsic+json": {
              "type": "dataframe",
              "variable_name": "df_start"
            }
          },
          "metadata": {},
          "execution_count": 4
        }
      ],
      "source": [
        "df_start"
      ]
    },
    {
      "cell_type": "code",
      "execution_count": null,
      "metadata": {
        "colab": {
          "base_uri": "https://localhost:8080/"
        },
        "id": "jD5wmoyNK5xH",
        "outputId": "92b69da7-de1f-485f-8e89-0fccfb57e8f9"
      },
      "outputs": [
        {
          "output_type": "stream",
          "name": "stdout",
          "text": [
            "<class 'pandas.core.frame.DataFrame'>\n",
            "RangeIndex: 23807 entries, 0 to 23806\n",
            "Data columns (total 66 columns):\n",
            " #   Column                        Non-Null Count  Dtype  \n",
            "---  ------                        --------------  -----  \n",
            " 0   UCLN_OPN_ETC_SITE_CRCN_YN     23807 non-null  float64\n",
            " 1   UCLN_PRGN_YN                  23807 non-null  float64\n",
            " 2   RDT_DTRN_YN                   23807 non-null  float64\n",
            " 3   RDT_RT_NO                     23807 non-null  float64\n",
            " 4   RDT_DTRN_DCNT                 23807 non-null  float64\n",
            " 5   RDT_SITE_KIND_CD              23807 non-null  float64\n",
            " 6   RDT_SITE_CD                   23807 non-null  float64\n",
            " 7   RDT_TM1_CGY                   23807 non-null  float64\n",
            " 8   RDT_TOTL_TRTM_NT              23807 non-null  float64\n",
            " 9   RDT_TOTL_CGY                  23807 non-null  float64\n",
            " 10  HORM_TRTM_YN                  23807 non-null  float64\n",
            " 11  HORM_TRTM_PRPS_CD             23807 non-null  float64\n",
            " 12  HORM_TRTM_INGR_NM             23807 non-null  float64\n",
            " 13  HORM_TRTM_DTRN_DCNT           23807 non-null  float64\n",
            " 14  IMPT_ER_EXAM_RSLT_CD          23807 non-null  float64\n",
            " 15  IMPT_PR_EXAM_RSLT_CD          23807 non-null  float64\n",
            " 16  IMPT_AR_EXAM_RSLT_CD          23807 non-null  float64\n",
            " 17  IDGN_AGE                      23807 non-null  float64\n",
            " 18  PT_SEX_CD                     23807 non-null  float64\n",
            " 19  DRNK_YN                       23807 non-null  float64\n",
            " 20  DRNK_STRT_AGE                 23807 non-null  float64\n",
            " 21  DRNK_KIND_CD                  23807 non-null  float64\n",
            " 22  DRNK_QTY                      23807 non-null  float64\n",
            " 23  DRNK_NT                       23807 non-null  float64\n",
            " 24  DRNK_DTRN_YCNT                23807 non-null  float64\n",
            " 25  CUR_SMOK_YN                   23807 non-null  float64\n",
            " 26  SHIS_YN                       23807 non-null  float64\n",
            " 27  SMOK_STRT_AGE                 23807 non-null  float64\n",
            " 28  SMOK_QTY                      23807 non-null  float64\n",
            " 29  SMOK_DTRN_YCNT                23807 non-null  float64\n",
            " 30  NSMK_PERD_YCNT                23807 non-null  float64\n",
            " 31  MHIS_YN                       23807 non-null  float64\n",
            " 32  MHIS_HTN_YN                   23807 non-null  float64\n",
            " 33  MHIS_DBT_YN                   23807 non-null  float64\n",
            " 34  MHIS_TB_YN                    23807 non-null  float64\n",
            " 35  MHIS_LVDS_YN                  23807 non-null  float64\n",
            " 36  MHIS_CNCR_YN                  23807 non-null  float64\n",
            " 37  MHIS_DEPR_YN                  23807 non-null  float64\n",
            " 38  MHIS_INSM_YN                  23807 non-null  float64\n",
            " 39  MHIS_CADS_YN                  23807 non-null  float64\n",
            " 40  ETC_MHIS_YN                   23807 non-null  float64\n",
            " 41  LATST_MDCT_YN                 23807 non-null  float64\n",
            " 42  MDCA_YN                       23807 non-null  float64\n",
            " 43  MENA_AGE                      23807 non-null  float64\n",
            " 44  MENO_YN                       23807 non-null  float64\n",
            " 45  MENO_AGE                      23807 non-null  float64\n",
            " 46  MENS_CYCL_DCNT                23807 non-null  float64\n",
            " 47  MARG_YN                       23807 non-null  float64\n",
            " 48  DELV_YN                       23807 non-null  float64\n",
            " 49  FDLV_AGE                      23807 non-null  float64\n",
            " 50  DELV_CHLD_CNT                 23807 non-null  float64\n",
            " 51  BRFD_EXPR_YN                  23807 non-null  float64\n",
            " 52  FEED_DTRN_MCNT                23807 non-null  float64\n",
            " 53  MHIS_BRST_OPRT_YN             23807 non-null  float64\n",
            " 54  OC_USE_YN                     23807 non-null  float64\n",
            " 55  OC_USE_DTRN_MCNT              23807 non-null  float64\n",
            " 56  HRT_USE_YN                    23807 non-null  float64\n",
            " 57  HRT_DTRN_MCNT                 23807 non-null  float64\n",
            " 58  HT_VL                         23807 non-null  float64\n",
            " 59  WT_MSRM_VL                    23807 non-null  float64\n",
            " 60  BMI_VL                        23807 non-null  float64\n",
            " 61  BRCA1_PAVR_DTCT_CLSF_CD       23807 non-null  float64\n",
            " 62  BRCA1_UNCL_VARN_DTCT_CLSF_CD  23807 non-null  float64\n",
            " 63  BRCA2_PAVR_DTCT_CLSF_CD       23807 non-null  float64\n",
            " 64  BRCA2_UNCL_VARN_DTCT_CLSF_CD  23807 non-null  float64\n",
            " 65  target                        23807 non-null  float64\n",
            "dtypes: float64(66)\n",
            "memory usage: 12.0 MB\n"
          ]
        }
      ],
      "source": [
        "df_start.info()"
      ]
    },
    {
      "cell_type": "markdown",
      "metadata": {
        "id": "sfD-pFFHRxDS"
      },
      "source": [
        "#위험도 점수 분석"
      ]
    },
    {
      "cell_type": "code",
      "source": [
        "df = df_start[['SMOK_QTY','SMOK_STRT_AGE','SMOK_DTRN_YCNT','HORM_TRTM_YN',\n",
        "                'HORM_TRTM_DTRN_DCNT','HORM_TRTM_PRPS_CD','MENO_YN','MENO_AGE',\n",
        "                'UCLN_PRGN_YN','MENA_AGE','SHIS_YN','UCLN_OPN_ETC_SITE_CRCN_YN',\n",
        "                'CUR_SMOK_YN','RDT_DTRN_YN','FDLV_AGE','HORM_TRTM_INGR_NM','MHIS_BRST_OPRT_YN',\n",
        "                'HRT_USE_YN','HRT_DTRN_MCNT','target']]"
      ],
      "metadata": {
        "id": "MJE4YGPs0vix"
      },
      "execution_count": null,
      "outputs": []
    },
    {
      "cell_type": "code",
      "source": [
        "df.columns"
      ],
      "metadata": {
        "colab": {
          "base_uri": "https://localhost:8080/"
        },
        "id": "iiOdyUCg_kuO",
        "outputId": "20237ddd-4ae0-4f38-b6aa-1b4b1e6c0fc9"
      },
      "execution_count": null,
      "outputs": [
        {
          "output_type": "execute_result",
          "data": {
            "text/plain": [
              "Index(['SMOK_QTY', 'SMOK_STRT_AGE', 'SMOK_DTRN_YCNT', 'HORM_TRTM_YN',\n",
              "       'HORM_TRTM_DTRN_DCNT', 'HORM_TRTM_PRPS_CD', 'MENO_YN', 'MENO_AGE',\n",
              "       'UCLN_PRGN_YN', 'MENA_AGE', 'SHIS_YN', 'UCLN_OPN_ETC_SITE_CRCN_YN',\n",
              "       'CUR_SMOK_YN', 'RDT_DTRN_YN', 'FDLV_AGE', 'HORM_TRTM_INGR_NM',\n",
              "       'MHIS_BRST_OPRT_YN', 'HRT_USE_YN', 'HRT_DTRN_MCNT', 'target'],\n",
              "      dtype='object')"
            ]
          },
          "metadata": {},
          "execution_count": 7
        }
      ]
    },
    {
      "cell_type": "code",
      "source": [
        "df.info()"
      ],
      "metadata": {
        "colab": {
          "base_uri": "https://localhost:8080/"
        },
        "id": "NVHKvCPyZjjr",
        "outputId": "8c1c6580-8ca7-42ee-de4a-6f07961966bd"
      },
      "execution_count": null,
      "outputs": [
        {
          "output_type": "stream",
          "name": "stdout",
          "text": [
            "<class 'pandas.core.frame.DataFrame'>\n",
            "RangeIndex: 23807 entries, 0 to 23806\n",
            "Data columns (total 20 columns):\n",
            " #   Column                     Non-Null Count  Dtype  \n",
            "---  ------                     --------------  -----  \n",
            " 0   SMOK_QTY                   23807 non-null  float64\n",
            " 1   SMOK_STRT_AGE              23807 non-null  float64\n",
            " 2   SMOK_DTRN_YCNT             23807 non-null  float64\n",
            " 3   HORM_TRTM_YN               23807 non-null  float64\n",
            " 4   HORM_TRTM_DTRN_DCNT        23807 non-null  float64\n",
            " 5   HORM_TRTM_PRPS_CD          23807 non-null  float64\n",
            " 6   MENO_YN                    23807 non-null  float64\n",
            " 7   MENO_AGE                   23807 non-null  float64\n",
            " 8   UCLN_PRGN_YN               23807 non-null  float64\n",
            " 9   MENA_AGE                   23807 non-null  float64\n",
            " 10  SHIS_YN                    23807 non-null  float64\n",
            " 11  UCLN_OPN_ETC_SITE_CRCN_YN  23807 non-null  float64\n",
            " 12  CUR_SMOK_YN                23807 non-null  float64\n",
            " 13  RDT_DTRN_YN                23807 non-null  float64\n",
            " 14  FDLV_AGE                   23807 non-null  float64\n",
            " 15  HORM_TRTM_INGR_NM          23807 non-null  float64\n",
            " 16  MHIS_BRST_OPRT_YN          23807 non-null  float64\n",
            " 17  HRT_USE_YN                 23807 non-null  float64\n",
            " 18  HRT_DTRN_MCNT              23807 non-null  float64\n",
            " 19  target                     23807 non-null  float64\n",
            "dtypes: float64(20)\n",
            "memory usage: 3.6 MB\n"
          ]
        }
      ]
    },
    {
      "cell_type": "code",
      "execution_count": null,
      "metadata": {
        "id": "-MJu123r1jSt"
      },
      "outputs": [],
      "source": [
        "import pandas as pd\n",
        "import numpy as np\n",
        "\n",
        "import statsmodels.api as sm\n",
        "from sklearn.impute import SimpleImputer\n",
        "\n",
        "from statsmodels.stats.outliers_influence import variance_inflation_factor\n",
        "\n",
        "df_Odds = pd.DataFrame(df)\n",
        "\n",
        "# 독립 변수와 종속 변수 설정\n",
        "y = df['target']\n",
        "X = df[['SMOK_QTY','SMOK_STRT_AGE','SMOK_DTRN_YCNT','HORM_TRTM_YN',\n",
        "                'HORM_TRTM_DTRN_DCNT','HORM_TRTM_PRPS_CD','MENO_YN','MENO_AGE',\n",
        "                'UCLN_PRGN_YN','MENA_AGE','SHIS_YN','UCLN_OPN_ETC_SITE_CRCN_YN',\n",
        "                'CUR_SMOK_YN','RDT_DTRN_YN','FDLV_AGE','HORM_TRTM_INGR_NM','MHIS_BRST_OPRT_YN',\n",
        "                'HRT_USE_YN','HRT_DTRN_MCNT']] #여기에 위험요인 칼럼 삽입 #여기에 위험요인 칼럼 삽입\n"
      ]
    },
    {
      "cell_type": "markdown",
      "source": [
        "##로지스틱 회귀분석"
      ],
      "metadata": {
        "id": "o87bvuwS251L"
      }
    },
    {
      "cell_type": "markdown",
      "source": [
        "###모델학습"
      ],
      "metadata": {
        "id": "iAcXNafAFCaU"
      }
    },
    {
      "cell_type": "code",
      "source": [
        "\n",
        "# 상수 추가\n",
        "X = sm.add_constant(X)\n",
        "\n",
        "# VIF 계산\n",
        "vif = pd.DataFrame()\n",
        "vif[\"VIF Factor\"] = [variance_inflation_factor(X.values, i) for i in range(X.shape[1])]\n",
        "vif[\"features\"] = X.columns\n",
        "print(vif)\n",
        "\n",
        "# # 다중 공선성 높은 변수 제거 (예: 'INOP_AGE', 'IADM_AGE', 'HT_VL', 'IDGN_AGE', 'MENA_AGE' 제거)\n",
        "# high_vif_columns = ['INOP_AGE', 'IADM_AGE', 'HT_VL', 'IDGN_AGE', 'MENA_AGE']\n",
        "# X = X.drop(columns=high_vif_columns)\n",
        "\n",
        "# 스케일링을 위해 상수열 제거\n",
        "X_no_const = X.drop(columns=['const'])\n",
        "\n",
        "# 데이터 스케일링\n",
        "scaler = StandardScaler()\n",
        "X_scaled = scaler.fit_transform(X_no_const)\n",
        "\n",
        "# 상수 열 추가\n",
        "X_scaled = sm.add_constant(X_scaled)\n",
        "\n",
        "# 로지스틱 회귀 모델 적합\n",
        "logit_model = sm.Logit(y, X_scaled)\n",
        "\n",
        "# 최대 반복 횟수 및 수렴 조건 설정\n",
        "result = logit_model.fit(maxiter=100, method='lbfgs')\n",
        "\n",
        "# 결과 요약 출력\n",
        "print(result.summary())"
      ],
      "metadata": {
        "colab": {
          "base_uri": "https://localhost:8080/"
        },
        "id": "p2DjL4-n2n-5",
        "outputId": "8b8fff1f-6cb5-4634-bf32-8d27f8d15bcf"
      },
      "execution_count": null,
      "outputs": [
        {
          "output_type": "stream",
          "name": "stdout",
          "text": [
            "    VIF Factor                   features\n",
            "0    37.500585                      const\n",
            "1     2.352748                   SMOK_QTY\n",
            "2     2.365433              SMOK_STRT_AGE\n",
            "3     2.625385             SMOK_DTRN_YCNT\n",
            "4     5.466422               HORM_TRTM_YN\n",
            "5     3.170657        HORM_TRTM_DTRN_DCNT\n",
            "6     1.205619          HORM_TRTM_PRPS_CD\n",
            "7     3.649928                    MENO_YN\n",
            "8     3.242732                   MENO_AGE\n",
            "9     1.376216               UCLN_PRGN_YN\n",
            "10    1.351785                   MENA_AGE\n",
            "11    2.173449                    SHIS_YN\n",
            "12    1.368706  UCLN_OPN_ETC_SITE_CRCN_YN\n",
            "13    2.097385                CUR_SMOK_YN\n",
            "14    1.271531                RDT_DTRN_YN\n",
            "15    1.170584                   FDLV_AGE\n",
            "16    2.387538          HORM_TRTM_INGR_NM\n",
            "17    1.018568          MHIS_BRST_OPRT_YN\n",
            "18    1.773362                 HRT_USE_YN\n",
            "19    1.634873              HRT_DTRN_MCNT\n"
          ]
        },
        {
          "output_type": "stream",
          "name": "stderr",
          "text": [
            "/usr/local/lib/python3.10/dist-packages/statsmodels/base/model.py:595: HessianInversionWarning: Inverting hessian failed, no bse or cov_params available\n",
            "  warnings.warn('Inverting hessian failed, no bse or cov_params '\n"
          ]
        },
        {
          "output_type": "stream",
          "name": "stdout",
          "text": [
            "                           Logit Regression Results                           \n",
            "==============================================================================\n",
            "Dep. Variable:                 target   No. Observations:                23807\n",
            "Model:                          Logit   Df Residuals:                    23787\n",
            "Method:                           MLE   Df Model:                           19\n",
            "Date:                Mon, 10 Jun 2024   Pseudo R-squ.:                  0.9769\n",
            "Time:                        16:55:23   Log-Likelihood:                -380.51\n",
            "converged:                       True   LL-Null:                       -16474.\n",
            "Covariance Type:            nonrobust   LLR p-value:                     0.000\n",
            "==============================================================================\n",
            "                 coef    std err          z      P>|z|      [0.025      0.975]\n",
            "------------------------------------------------------------------------------\n",
            "const         59.7359        nan        nan        nan         nan         nan\n",
            "x1            15.2509        nan        nan        nan         nan         nan\n",
            "x2            14.9191        nan        nan        nan         nan         nan\n",
            "x3            11.4155        nan        nan        nan         nan         nan\n",
            "x4            13.2887        nan        nan        nan         nan         nan\n",
            "x5             2.7989        nan        nan        nan         nan         nan\n",
            "x6             0.5087        nan        nan        nan         nan         nan\n",
            "x7            20.8216        nan        nan        nan         nan         nan\n",
            "x8             2.4607        nan        nan        nan         nan         nan\n",
            "x9             2.7036        nan        nan        nan         nan         nan\n",
            "x10           -1.9946        nan        nan        nan         nan         nan\n",
            "x11            0.6419        nan        nan        nan         nan         nan\n",
            "x12           17.6529        nan        nan        nan         nan         nan\n",
            "x13           -3.2851        nan        nan        nan         nan         nan\n",
            "x14            0.1616        nan        nan        nan         nan         nan\n",
            "x15            1.6300        nan        nan        nan         nan         nan\n",
            "x16            2.3043        nan        nan        nan         nan         nan\n",
            "x17            0.5422        nan        nan        nan         nan         nan\n",
            "x18           -1.7797        nan        nan        nan         nan         nan\n",
            "x19            2.3579        nan        nan        nan         nan         nan\n",
            "==============================================================================\n",
            "\n",
            "Possibly complete quasi-separation: A fraction 0.61 of observations can be\n",
            "perfectly predicted. This might indicate that there is complete\n",
            "quasi-separation. In this case some parameters will not be identified.\n"
          ]
        }
      ]
    },
    {
      "cell_type": "code",
      "execution_count": null,
      "metadata": {
        "colab": {
          "base_uri": "https://localhost:8080/"
        },
        "id": "tMA49_XjNRfA",
        "outputId": "c4df1a35-a9aa-4725-e65a-97cb3f7a3f29"
      },
      "outputs": [
        {
          "output_type": "stream",
          "name": "stdout",
          "text": [
            "                           Logit Regression Results                           \n",
            "==============================================================================\n",
            "Dep. Variable:                 target   No. Observations:                23807\n",
            "Model:                          Logit   Df Residuals:                    23787\n",
            "Method:                           MLE   Df Model:                           19\n",
            "Date:                Mon, 10 Jun 2024   Pseudo R-squ.:                  0.9769\n",
            "Time:                        16:55:23   Log-Likelihood:                -380.51\n",
            "converged:                       True   LL-Null:                       -16474.\n",
            "Covariance Type:            nonrobust   LLR p-value:                     0.000\n",
            "==============================================================================\n",
            "                 coef    std err          z      P>|z|      [0.025      0.975]\n",
            "------------------------------------------------------------------------------\n",
            "const         59.7359        nan        nan        nan         nan         nan\n",
            "x1            15.2509        nan        nan        nan         nan         nan\n",
            "x2            14.9191        nan        nan        nan         nan         nan\n",
            "x3            11.4155        nan        nan        nan         nan         nan\n",
            "x4            13.2887        nan        nan        nan         nan         nan\n",
            "x5             2.7989        nan        nan        nan         nan         nan\n",
            "x6             0.5087        nan        nan        nan         nan         nan\n",
            "x7            20.8216        nan        nan        nan         nan         nan\n",
            "x8             2.4607        nan        nan        nan         nan         nan\n",
            "x9             2.7036        nan        nan        nan         nan         nan\n",
            "x10           -1.9946        nan        nan        nan         nan         nan\n",
            "x11            0.6419        nan        nan        nan         nan         nan\n",
            "x12           17.6529        nan        nan        nan         nan         nan\n",
            "x13           -3.2851        nan        nan        nan         nan         nan\n",
            "x14            0.1616        nan        nan        nan         nan         nan\n",
            "x15            1.6300        nan        nan        nan         nan         nan\n",
            "x16            2.3043        nan        nan        nan         nan         nan\n",
            "x17            0.5422        nan        nan        nan         nan         nan\n",
            "x18           -1.7797        nan        nan        nan         nan         nan\n",
            "x19            2.3579        nan        nan        nan         nan         nan\n",
            "==============================================================================\n",
            "\n",
            "Possibly complete quasi-separation: A fraction 0.61 of observations can be\n",
            "perfectly predicted. This might indicate that there is complete\n",
            "quasi-separation. In this case some parameters will not be identified.\n",
            "오즈비:\n",
            "const    8.769139e+25\n",
            "x1       4.201115e+06\n",
            "x2       3.014904e+06\n",
            "x3       9.072142e+04\n",
            "x4       5.905123e+05\n",
            "x5       1.642713e+01\n",
            "x6       1.663085e+00\n",
            "x7       1.103289e+09\n",
            "x8       1.171259e+01\n",
            "x9       1.493313e+01\n",
            "x10      1.360706e-01\n",
            "x11      1.900104e+00\n",
            "x12      4.640254e+07\n",
            "x13      3.743864e-02\n",
            "x14      1.175405e+00\n",
            "x15      5.103623e+00\n",
            "x16      1.001738e+01\n",
            "x17      1.719829e+00\n",
            "x18      1.686846e-01\n",
            "x19      1.056910e+01\n",
            "dtype: float64\n"
          ]
        }
      ],
      "source": [
        "# 결과 요약 출력\n",
        "print(result.summary())\n",
        "\n",
        "# 오즈비 계산\n",
        "odds_ratios = np.exp(result.params)\n",
        "print(\"오즈비:\")\n",
        "print(odds_ratios)\n",
        "\n"
      ]
    },
    {
      "cell_type": "markdown",
      "metadata": {
        "id": "abjOD4Dd3xn0"
      },
      "source": [
        "###점수 구하기"
      ]
    },
    {
      "cell_type": "code",
      "execution_count": null,
      "metadata": {
        "colab": {
          "base_uri": "https://localhost:8080/"
        },
        "id": "4sFK4d5RAoqv",
        "outputId": "c9a88cdb-8bd6-41c0-8f89-9c119cba638a"
      },
      "outputs": [
        {
          "output_type": "stream",
          "name": "stdout",
          "text": [
            "DIAG_YN=1인 행들 중 최대 위험 점수를 갖는 행의 점수: 267.69279747562473\n",
            "DIAG_YN=1인 행들 중 최대 위험 점수를 갖는 행: const                         1.0\n",
            "SMOK_QTY                     97.0\n",
            "SMOK_STRT_AGE                86.0\n",
            "SMOK_DTRN_YCNT               19.0\n",
            "HORM_TRTM_YN                  1.0\n",
            "HORM_TRTM_DTRN_DCNT          73.0\n",
            "HORM_TRTM_PRPS_CD             5.0\n",
            "MENO_YN                       1.0\n",
            "MENO_AGE                     95.0\n",
            "UCLN_PRGN_YN                  1.0\n",
            "MENA_AGE                      8.0\n",
            "SHIS_YN                       0.0\n",
            "UCLN_OPN_ETC_SITE_CRCN_YN     1.0\n",
            "CUR_SMOK_YN                   1.0\n",
            "RDT_DTRN_YN                   0.0\n",
            "FDLV_AGE                     72.0\n",
            "HORM_TRTM_INGR_NM             4.0\n",
            "MHIS_BRST_OPRT_YN             1.0\n",
            "HRT_USE_YN                    0.0\n",
            "HRT_DTRN_MCNT                 0.0\n",
            "Name: 3877, dtype: float64\n"
          ]
        }
      ],
      "source": [
        "# 각 행에 대한 위험 점수 계산\n",
        "# 회귀 계수를 Series로 변환\n",
        "coefficients_series = pd.Series(result.params)\n",
        "\n",
        "# 위험 점수 계산\n",
        "risk_scores_lr = X_scaled.dot(coefficients_series)\n",
        "# 'DIAG_YN'이 1인 행들 필터링\n",
        "high_risk_patients_lr = risk_scores_lr[y == 1]\n",
        "\n",
        "# 'high_risk_patients'를 pandas Series로 변환\n",
        "high_risk_patients_series_lr = pd.Series(high_risk_patients_lr)\n",
        "\n",
        "# 최대 위험 점수를 갖는 행 찾기\n",
        "max_risk_index_diag_lr_1 = high_risk_patients_series_lr.idxmax()\n",
        "max_risk_row_diag_lr_1 = X.loc[max_risk_index_diag_lr_1]\n",
        "\n",
        "# 최대 위험 점수를 갖는 행의 위험 점수\n",
        "max_risk_score_diag_lr_1 = high_risk_patients_series_lr.loc[max_risk_index_diag_lr_1]\n",
        "print(\"DIAG_YN=1인 행들 중 최대 위험 점수를 갖는 행의 점수:\", max_risk_score_diag_lr_1)\n",
        "print(\"DIAG_YN=1인 행들 중 최대 위험 점수를 갖는 행:\", max_risk_row_diag_lr_1)\n",
        "\n"
      ]
    },
    {
      "cell_type": "code",
      "execution_count": null,
      "metadata": {
        "colab": {
          "base_uri": "https://localhost:8080/"
        },
        "id": "Vph3D3ZbIte-",
        "outputId": "485ec6c6-c943-460b-85fe-64d4b9ed82ae"
      },
      "outputs": [
        {
          "output_type": "stream",
          "name": "stdout",
          "text": [
            "DIAG_YN=1인 행들 중 최소 위험 점수를 갖는 행의 점수: -7.240703848243738\n",
            "DIAG_YN=1인 행들 중 최소 위험 점수를 갖는 행: const                         1.0\n",
            "SMOK_QTY                      0.0\n",
            "SMOK_STRT_AGE                 0.0\n",
            "SMOK_DTRN_YCNT                0.0\n",
            "HORM_TRTM_YN                  0.0\n",
            "HORM_TRTM_DTRN_DCNT           0.0\n",
            "HORM_TRTM_PRPS_CD             0.0\n",
            "MENO_YN                       0.0\n",
            "MENO_AGE                      0.0\n",
            "UCLN_PRGN_YN                  0.0\n",
            "MENA_AGE                     13.0\n",
            "SHIS_YN                       0.0\n",
            "UCLN_OPN_ETC_SITE_CRCN_YN     0.0\n",
            "CUR_SMOK_YN                   0.0\n",
            "RDT_DTRN_YN                   0.0\n",
            "FDLV_AGE                      0.0\n",
            "HORM_TRTM_INGR_NM             0.0\n",
            "MHIS_BRST_OPRT_YN             1.0\n",
            "HRT_USE_YN                    1.0\n",
            "HRT_DTRN_MCNT                 0.0\n",
            "Name: 11956, dtype: float64\n"
          ]
        }
      ],
      "source": [
        "# 최소 위험 점수를 갖는 행 찾기\n",
        "min_risk_index_diag_1 = high_risk_patients_series_lr.idxmin()\n",
        "min_risk_row_diag_1 = X.loc[min_risk_index_diag_1]\n",
        "\n",
        "# 최소 위험 점수를 갖는 행의 위험 점수\n",
        "min_risk_score_diag_1 = high_risk_patients_series_lr.loc[min_risk_index_diag_1]\n",
        "print(\"DIAG_YN=1인 행들 중 최소 위험 점수를 갖는 행의 점수:\", min_risk_score_diag_1)\n",
        "print(\"DIAG_YN=1인 행들 중 최소 위험 점수를 갖는 행:\", min_risk_row_diag_1)\n"
      ]
    },
    {
      "cell_type": "markdown",
      "metadata": {
        "id": "x_aoPfoP3vMJ"
      },
      "source": [
        "###위험확률"
      ]
    },
    {
      "cell_type": "code",
      "execution_count": null,
      "metadata": {
        "colab": {
          "base_uri": "https://localhost:8080/"
        },
        "id": "HQra1yBk8ai4",
        "outputId": "8d263694-5dc7-4a8b-a674-dc895c2944a3"
      },
      "outputs": [
        {
          "output_type": "stream",
          "name": "stdout",
          "text": [
            "Index(['const', 'SMOK_QTY', 'SMOK_STRT_AGE', 'SMOK_DTRN_YCNT', 'HORM_TRTM_YN',\n",
            "       'HORM_TRTM_DTRN_DCNT', 'HORM_TRTM_PRPS_CD', 'MENO_YN', 'MENO_AGE',\n",
            "       'UCLN_PRGN_YN', 'MENA_AGE', 'SHIS_YN', 'UCLN_OPN_ETC_SITE_CRCN_YN',\n",
            "       'CUR_SMOK_YN', 'RDT_DTRN_YN', 'FDLV_AGE', 'HORM_TRTM_INGR_NM',\n",
            "       'MHIS_BRST_OPRT_YN', 'HRT_USE_YN', 'HRT_DTRN_MCNT'],\n",
            "      dtype='object')\n"
          ]
        }
      ],
      "source": [
        "print(X.columns)"
      ]
    },
    {
      "cell_type": "code",
      "execution_count": null,
      "metadata": {
        "colab": {
          "base_uri": "https://localhost:8080/"
        },
        "id": "j0kiiVTY5egd",
        "outputId": "7e5924fb-0f3d-4964-eb24-2e29ad53aa76"
      },
      "outputs": [
        {
          "output_type": "stream",
          "name": "stdout",
          "text": [
            "       const  SMOK_QTY  SMOK_STRT_AGE  SMOK_DTRN_YCNT  HORM_TRTM_YN  \\\n",
            "0        1.0      79.0           36.0             8.0           0.0   \n",
            "1        1.0      79.0           36.0             8.0           1.0   \n",
            "2        1.0      68.0           35.0            13.0           1.0   \n",
            "3        1.0       0.0            0.0             0.0           0.0   \n",
            "4        1.0       0.0            0.0             0.0           0.0   \n",
            "...      ...       ...            ...             ...           ...   \n",
            "23802    1.0       0.0            0.0             0.0           0.0   \n",
            "23803    1.0       0.0            0.0             0.0           0.0   \n",
            "23804    1.0       0.0            0.0             0.0           0.0   \n",
            "23805    1.0       0.0            0.0             0.0           0.0   \n",
            "23806    1.0       0.0            0.0             0.0           0.0   \n",
            "\n",
            "       HORM_TRTM_DTRN_DCNT  HORM_TRTM_PRPS_CD  MENO_YN  MENO_AGE  \\\n",
            "0                      0.0                0.0      1.0      12.0   \n",
            "1                     47.0               99.0      0.0       0.0   \n",
            "2                     91.0               99.0      0.0       0.0   \n",
            "3                      0.0                0.0      1.0      93.0   \n",
            "4                      0.0                0.0      0.0       0.0   \n",
            "...                    ...                ...      ...       ...   \n",
            "23802                  0.0                0.0      0.0       0.0   \n",
            "23803                  0.0                0.0      0.0       0.0   \n",
            "23804                  0.0                0.0      0.0       0.0   \n",
            "23805                  0.0                0.0      0.0       0.0   \n",
            "23806                  0.0                0.0      0.0       0.0   \n",
            "\n",
            "       UCLN_PRGN_YN  ...  SHIS_YN  UCLN_OPN_ETC_SITE_CRCN_YN  CUR_SMOK_YN  \\\n",
            "0               0.0  ...      1.0                        0.0          1.0   \n",
            "1               1.0  ...      1.0                        0.0          1.0   \n",
            "2               0.0  ...      1.0                        1.0          1.0   \n",
            "3               1.0  ...      0.0                        1.0          0.0   \n",
            "4               0.0  ...      0.0                        1.0          0.0   \n",
            "...             ...  ...      ...                        ...          ...   \n",
            "23802           0.5  ...      1.0                        0.0          1.0   \n",
            "23803           0.5  ...      1.0                        0.0          1.0   \n",
            "23804           0.0  ...      1.0                        0.0          1.0   \n",
            "23805           0.5  ...      1.0                        0.0          1.0   \n",
            "23806           0.5  ...      1.0                        0.0          1.0   \n",
            "\n",
            "       RDT_DTRN_YN  FDLV_AGE  HORM_TRTM_INGR_NM  MHIS_BRST_OPRT_YN  \\\n",
            "0              0.0      91.0                0.0                1.0   \n",
            "1              0.0      38.0                5.0                1.0   \n",
            "2              1.0      63.0                5.0                1.0   \n",
            "3              1.0       0.0                0.0                1.0   \n",
            "4              0.0      20.0                0.0                1.0   \n",
            "...            ...       ...                ...                ...   \n",
            "23802          0.5       0.0                0.0                0.5   \n",
            "23803          1.0       0.0                0.0                0.0   \n",
            "23804          0.0      39.6                0.0                0.5   \n",
            "23805          0.5       0.0                0.0                0.5   \n",
            "23806          0.5       0.0                0.0                0.5   \n",
            "\n",
            "       HRT_USE_YN  HRT_DTRN_MCNT  Risk_Percentile  \n",
            "0             1.0            4.0        43.161994  \n",
            "1             0.0            0.0        44.507059  \n",
            "2             0.0            0.0        60.586501  \n",
            "3             0.0            0.0        37.501864  \n",
            "4             1.0            6.0        15.479447  \n",
            "...           ...            ...              ...  \n",
            "23802         1.0            0.0        -3.124354  \n",
            "23803         1.0            0.0        -4.546407  \n",
            "23804         0.0            0.0        -4.189283  \n",
            "23805         1.0            0.0        -4.854473  \n",
            "23806         1.0            0.0        -3.485872  \n",
            "\n",
            "[23807 rows x 21 columns]\n"
          ]
        }
      ],
      "source": [
        "# 요인별 오즈비와 해당 요인의 사용자 입력 값을 곱하여 위험 점수 계산\n",
        "risk_scores_per_row_lr = X_scaled.dot(coefficients_series)\n",
        "\n",
        "# 최대 위험 점수\n",
        "max_risk_score_lr = risk_scores_per_row_lr.max()\n",
        "\n",
        "# 위험 점수를 100점 기준으로 변환하여 위험 백분위 계산\n",
        "risk_percentiles_lr = (risk_scores_per_row_lr / max_risk_score_lr) * 100\n",
        "\n",
        "# 데이터프레임에 위험 백분위 열 추가\n",
        "X_with_risk_percentiles_lr = X.copy()\n",
        "X_with_risk_percentiles_lr['Risk_Percentile'] = risk_percentiles_lr\n",
        "\n",
        "# 결과 출력\n",
        "print(X_with_risk_percentiles_lr)\n"
      ]
    },
    {
      "cell_type": "code",
      "execution_count": null,
      "metadata": {
        "id": "0m9IeBafUP4z",
        "colab": {
          "base_uri": "https://localhost:8080/"
        },
        "outputId": "0e4cb658-0da0-4ab1-b85b-57e0e6db0724"
      },
      "outputs": [
        {
          "output_type": "stream",
          "name": "stderr",
          "text": [
            "<ipython-input-16-fa953bd22db4>:1: SettingWithCopyWarning: \n",
            "A value is trying to be set on a copy of a slice from a DataFrame.\n",
            "Try using .loc[row_indexer,col_indexer] = value instead\n",
            "\n",
            "See the caveats in the documentation: https://pandas.pydata.org/pandas-docs/stable/user_guide/indexing.html#returning-a-view-versus-a-copy\n",
            "  df['Risk_Percentile_lr'] = risk_percentiles_lr\n"
          ]
        }
      ],
      "source": [
        "\n",
        "df['Risk_Percentile_lr'] = risk_percentiles_lr"
      ]
    },
    {
      "cell_type": "code",
      "execution_count": null,
      "metadata": {
        "colab": {
          "base_uri": "https://localhost:8080/"
        },
        "id": "mqNm9MhzUvzN",
        "outputId": "cba9655d-c3b2-4299-d714-586a29323a0b"
      },
      "outputs": [
        {
          "output_type": "execute_result",
          "data": {
            "text/plain": [
              "       SMOK_QTY  SMOK_STRT_AGE  SMOK_DTRN_YCNT  HORM_TRTM_YN  \\\n",
              "0          79.0           36.0             8.0           0.0   \n",
              "1          79.0           36.0             8.0           1.0   \n",
              "2          68.0           35.0            13.0           1.0   \n",
              "3           0.0            0.0             0.0           0.0   \n",
              "4           0.0            0.0             0.0           0.0   \n",
              "...         ...            ...             ...           ...   \n",
              "23802       0.0            0.0             0.0           0.0   \n",
              "23803       0.0            0.0             0.0           0.0   \n",
              "23804       0.0            0.0             0.0           0.0   \n",
              "23805       0.0            0.0             0.0           0.0   \n",
              "23806       0.0            0.0             0.0           0.0   \n",
              "\n",
              "       HORM_TRTM_DTRN_DCNT  HORM_TRTM_PRPS_CD  MENO_YN  MENO_AGE  \\\n",
              "0                      0.0                0.0      1.0      12.0   \n",
              "1                     47.0               99.0      0.0       0.0   \n",
              "2                     91.0               99.0      0.0       0.0   \n",
              "3                      0.0                0.0      1.0      93.0   \n",
              "4                      0.0                0.0      0.0       0.0   \n",
              "...                    ...                ...      ...       ...   \n",
              "23802                  0.0                0.0      0.0       0.0   \n",
              "23803                  0.0                0.0      0.0       0.0   \n",
              "23804                  0.0                0.0      0.0       0.0   \n",
              "23805                  0.0                0.0      0.0       0.0   \n",
              "23806                  0.0                0.0      0.0       0.0   \n",
              "\n",
              "       UCLN_PRGN_YN  MENA_AGE  ...  UCLN_OPN_ETC_SITE_CRCN_YN  CUR_SMOK_YN  \\\n",
              "0               0.0      13.0  ...                        0.0          1.0   \n",
              "1               1.0       9.0  ...                        0.0          1.0   \n",
              "2               0.0      10.0  ...                        1.0          1.0   \n",
              "3               1.0      10.0  ...                        1.0          0.0   \n",
              "4               0.0      11.0  ...                        1.0          0.0   \n",
              "...             ...       ...  ...                        ...          ...   \n",
              "23802           0.5       9.6  ...                        0.0          1.0   \n",
              "23803           0.5      14.4  ...                        0.0          1.0   \n",
              "23804           0.0      17.9  ...                        0.0          1.0   \n",
              "23805           0.5      16.3  ...                        0.0          1.0   \n",
              "23806           0.5      11.0  ...                        0.0          1.0   \n",
              "\n",
              "       RDT_DTRN_YN  FDLV_AGE  HORM_TRTM_INGR_NM  MHIS_BRST_OPRT_YN  \\\n",
              "0              0.0      91.0                0.0                1.0   \n",
              "1              0.0      38.0                5.0                1.0   \n",
              "2              1.0      63.0                5.0                1.0   \n",
              "3              1.0       0.0                0.0                1.0   \n",
              "4              0.0      20.0                0.0                1.0   \n",
              "...            ...       ...                ...                ...   \n",
              "23802          0.5       0.0                0.0                0.5   \n",
              "23803          1.0       0.0                0.0                0.0   \n",
              "23804          0.0      39.6                0.0                0.5   \n",
              "23805          0.5       0.0                0.0                0.5   \n",
              "23806          0.5       0.0                0.0                0.5   \n",
              "\n",
              "       HRT_USE_YN  HRT_DTRN_MCNT  target  Risk_Percentile_lr  \n",
              "0             1.0            4.0     1.0           43.161994  \n",
              "1             0.0            0.0     1.0           44.507059  \n",
              "2             0.0            0.0     1.0           60.586501  \n",
              "3             0.0            0.0     1.0           37.501864  \n",
              "4             1.0            6.0     1.0           15.479447  \n",
              "...           ...            ...     ...                 ...  \n",
              "23802         1.0            0.0     0.0           -3.124354  \n",
              "23803         1.0            0.0     0.0           -4.546407  \n",
              "23804         0.0            0.0     0.0           -4.189283  \n",
              "23805         1.0            0.0     0.0           -4.854473  \n",
              "23806         1.0            0.0     0.0           -3.485872  \n",
              "\n",
              "[23807 rows x 21 columns]"
            ],
            "text/html": [
              "\n",
              "  <div id=\"df-7c35f6e5-b0b8-4aeb-bf9d-a14fe94aa965\" class=\"colab-df-container\">\n",
              "    <div>\n",
              "<style scoped>\n",
              "    .dataframe tbody tr th:only-of-type {\n",
              "        vertical-align: middle;\n",
              "    }\n",
              "\n",
              "    .dataframe tbody tr th {\n",
              "        vertical-align: top;\n",
              "    }\n",
              "\n",
              "    .dataframe thead th {\n",
              "        text-align: right;\n",
              "    }\n",
              "</style>\n",
              "<table border=\"1\" class=\"dataframe\">\n",
              "  <thead>\n",
              "    <tr style=\"text-align: right;\">\n",
              "      <th></th>\n",
              "      <th>SMOK_QTY</th>\n",
              "      <th>SMOK_STRT_AGE</th>\n",
              "      <th>SMOK_DTRN_YCNT</th>\n",
              "      <th>HORM_TRTM_YN</th>\n",
              "      <th>HORM_TRTM_DTRN_DCNT</th>\n",
              "      <th>HORM_TRTM_PRPS_CD</th>\n",
              "      <th>MENO_YN</th>\n",
              "      <th>MENO_AGE</th>\n",
              "      <th>UCLN_PRGN_YN</th>\n",
              "      <th>MENA_AGE</th>\n",
              "      <th>...</th>\n",
              "      <th>UCLN_OPN_ETC_SITE_CRCN_YN</th>\n",
              "      <th>CUR_SMOK_YN</th>\n",
              "      <th>RDT_DTRN_YN</th>\n",
              "      <th>FDLV_AGE</th>\n",
              "      <th>HORM_TRTM_INGR_NM</th>\n",
              "      <th>MHIS_BRST_OPRT_YN</th>\n",
              "      <th>HRT_USE_YN</th>\n",
              "      <th>HRT_DTRN_MCNT</th>\n",
              "      <th>target</th>\n",
              "      <th>Risk_Percentile_lr</th>\n",
              "    </tr>\n",
              "  </thead>\n",
              "  <tbody>\n",
              "    <tr>\n",
              "      <th>0</th>\n",
              "      <td>79.0</td>\n",
              "      <td>36.0</td>\n",
              "      <td>8.0</td>\n",
              "      <td>0.0</td>\n",
              "      <td>0.0</td>\n",
              "      <td>0.0</td>\n",
              "      <td>1.0</td>\n",
              "      <td>12.0</td>\n",
              "      <td>0.0</td>\n",
              "      <td>13.0</td>\n",
              "      <td>...</td>\n",
              "      <td>0.0</td>\n",
              "      <td>1.0</td>\n",
              "      <td>0.0</td>\n",
              "      <td>91.0</td>\n",
              "      <td>0.0</td>\n",
              "      <td>1.0</td>\n",
              "      <td>1.0</td>\n",
              "      <td>4.0</td>\n",
              "      <td>1.0</td>\n",
              "      <td>43.161994</td>\n",
              "    </tr>\n",
              "    <tr>\n",
              "      <th>1</th>\n",
              "      <td>79.0</td>\n",
              "      <td>36.0</td>\n",
              "      <td>8.0</td>\n",
              "      <td>1.0</td>\n",
              "      <td>47.0</td>\n",
              "      <td>99.0</td>\n",
              "      <td>0.0</td>\n",
              "      <td>0.0</td>\n",
              "      <td>1.0</td>\n",
              "      <td>9.0</td>\n",
              "      <td>...</td>\n",
              "      <td>0.0</td>\n",
              "      <td>1.0</td>\n",
              "      <td>0.0</td>\n",
              "      <td>38.0</td>\n",
              "      <td>5.0</td>\n",
              "      <td>1.0</td>\n",
              "      <td>0.0</td>\n",
              "      <td>0.0</td>\n",
              "      <td>1.0</td>\n",
              "      <td>44.507059</td>\n",
              "    </tr>\n",
              "    <tr>\n",
              "      <th>2</th>\n",
              "      <td>68.0</td>\n",
              "      <td>35.0</td>\n",
              "      <td>13.0</td>\n",
              "      <td>1.0</td>\n",
              "      <td>91.0</td>\n",
              "      <td>99.0</td>\n",
              "      <td>0.0</td>\n",
              "      <td>0.0</td>\n",
              "      <td>0.0</td>\n",
              "      <td>10.0</td>\n",
              "      <td>...</td>\n",
              "      <td>1.0</td>\n",
              "      <td>1.0</td>\n",
              "      <td>1.0</td>\n",
              "      <td>63.0</td>\n",
              "      <td>5.0</td>\n",
              "      <td>1.0</td>\n",
              "      <td>0.0</td>\n",
              "      <td>0.0</td>\n",
              "      <td>1.0</td>\n",
              "      <td>60.586501</td>\n",
              "    </tr>\n",
              "    <tr>\n",
              "      <th>3</th>\n",
              "      <td>0.0</td>\n",
              "      <td>0.0</td>\n",
              "      <td>0.0</td>\n",
              "      <td>0.0</td>\n",
              "      <td>0.0</td>\n",
              "      <td>0.0</td>\n",
              "      <td>1.0</td>\n",
              "      <td>93.0</td>\n",
              "      <td>1.0</td>\n",
              "      <td>10.0</td>\n",
              "      <td>...</td>\n",
              "      <td>1.0</td>\n",
              "      <td>0.0</td>\n",
              "      <td>1.0</td>\n",
              "      <td>0.0</td>\n",
              "      <td>0.0</td>\n",
              "      <td>1.0</td>\n",
              "      <td>0.0</td>\n",
              "      <td>0.0</td>\n",
              "      <td>1.0</td>\n",
              "      <td>37.501864</td>\n",
              "    </tr>\n",
              "    <tr>\n",
              "      <th>4</th>\n",
              "      <td>0.0</td>\n",
              "      <td>0.0</td>\n",
              "      <td>0.0</td>\n",
              "      <td>0.0</td>\n",
              "      <td>0.0</td>\n",
              "      <td>0.0</td>\n",
              "      <td>0.0</td>\n",
              "      <td>0.0</td>\n",
              "      <td>0.0</td>\n",
              "      <td>11.0</td>\n",
              "      <td>...</td>\n",
              "      <td>1.0</td>\n",
              "      <td>0.0</td>\n",
              "      <td>0.0</td>\n",
              "      <td>20.0</td>\n",
              "      <td>0.0</td>\n",
              "      <td>1.0</td>\n",
              "      <td>1.0</td>\n",
              "      <td>6.0</td>\n",
              "      <td>1.0</td>\n",
              "      <td>15.479447</td>\n",
              "    </tr>\n",
              "    <tr>\n",
              "      <th>...</th>\n",
              "      <td>...</td>\n",
              "      <td>...</td>\n",
              "      <td>...</td>\n",
              "      <td>...</td>\n",
              "      <td>...</td>\n",
              "      <td>...</td>\n",
              "      <td>...</td>\n",
              "      <td>...</td>\n",
              "      <td>...</td>\n",
              "      <td>...</td>\n",
              "      <td>...</td>\n",
              "      <td>...</td>\n",
              "      <td>...</td>\n",
              "      <td>...</td>\n",
              "      <td>...</td>\n",
              "      <td>...</td>\n",
              "      <td>...</td>\n",
              "      <td>...</td>\n",
              "      <td>...</td>\n",
              "      <td>...</td>\n",
              "      <td>...</td>\n",
              "    </tr>\n",
              "    <tr>\n",
              "      <th>23802</th>\n",
              "      <td>0.0</td>\n",
              "      <td>0.0</td>\n",
              "      <td>0.0</td>\n",
              "      <td>0.0</td>\n",
              "      <td>0.0</td>\n",
              "      <td>0.0</td>\n",
              "      <td>0.0</td>\n",
              "      <td>0.0</td>\n",
              "      <td>0.5</td>\n",
              "      <td>9.6</td>\n",
              "      <td>...</td>\n",
              "      <td>0.0</td>\n",
              "      <td>1.0</td>\n",
              "      <td>0.5</td>\n",
              "      <td>0.0</td>\n",
              "      <td>0.0</td>\n",
              "      <td>0.5</td>\n",
              "      <td>1.0</td>\n",
              "      <td>0.0</td>\n",
              "      <td>0.0</td>\n",
              "      <td>-3.124354</td>\n",
              "    </tr>\n",
              "    <tr>\n",
              "      <th>23803</th>\n",
              "      <td>0.0</td>\n",
              "      <td>0.0</td>\n",
              "      <td>0.0</td>\n",
              "      <td>0.0</td>\n",
              "      <td>0.0</td>\n",
              "      <td>0.0</td>\n",
              "      <td>0.0</td>\n",
              "      <td>0.0</td>\n",
              "      <td>0.5</td>\n",
              "      <td>14.4</td>\n",
              "      <td>...</td>\n",
              "      <td>0.0</td>\n",
              "      <td>1.0</td>\n",
              "      <td>1.0</td>\n",
              "      <td>0.0</td>\n",
              "      <td>0.0</td>\n",
              "      <td>0.0</td>\n",
              "      <td>1.0</td>\n",
              "      <td>0.0</td>\n",
              "      <td>0.0</td>\n",
              "      <td>-4.546407</td>\n",
              "    </tr>\n",
              "    <tr>\n",
              "      <th>23804</th>\n",
              "      <td>0.0</td>\n",
              "      <td>0.0</td>\n",
              "      <td>0.0</td>\n",
              "      <td>0.0</td>\n",
              "      <td>0.0</td>\n",
              "      <td>0.0</td>\n",
              "      <td>0.0</td>\n",
              "      <td>0.0</td>\n",
              "      <td>0.0</td>\n",
              "      <td>17.9</td>\n",
              "      <td>...</td>\n",
              "      <td>0.0</td>\n",
              "      <td>1.0</td>\n",
              "      <td>0.0</td>\n",
              "      <td>39.6</td>\n",
              "      <td>0.0</td>\n",
              "      <td>0.5</td>\n",
              "      <td>0.0</td>\n",
              "      <td>0.0</td>\n",
              "      <td>0.0</td>\n",
              "      <td>-4.189283</td>\n",
              "    </tr>\n",
              "    <tr>\n",
              "      <th>23805</th>\n",
              "      <td>0.0</td>\n",
              "      <td>0.0</td>\n",
              "      <td>0.0</td>\n",
              "      <td>0.0</td>\n",
              "      <td>0.0</td>\n",
              "      <td>0.0</td>\n",
              "      <td>0.0</td>\n",
              "      <td>0.0</td>\n",
              "      <td>0.5</td>\n",
              "      <td>16.3</td>\n",
              "      <td>...</td>\n",
              "      <td>0.0</td>\n",
              "      <td>1.0</td>\n",
              "      <td>0.5</td>\n",
              "      <td>0.0</td>\n",
              "      <td>0.0</td>\n",
              "      <td>0.5</td>\n",
              "      <td>1.0</td>\n",
              "      <td>0.0</td>\n",
              "      <td>0.0</td>\n",
              "      <td>-4.854473</td>\n",
              "    </tr>\n",
              "    <tr>\n",
              "      <th>23806</th>\n",
              "      <td>0.0</td>\n",
              "      <td>0.0</td>\n",
              "      <td>0.0</td>\n",
              "      <td>0.0</td>\n",
              "      <td>0.0</td>\n",
              "      <td>0.0</td>\n",
              "      <td>0.0</td>\n",
              "      <td>0.0</td>\n",
              "      <td>0.5</td>\n",
              "      <td>11.0</td>\n",
              "      <td>...</td>\n",
              "      <td>0.0</td>\n",
              "      <td>1.0</td>\n",
              "      <td>0.5</td>\n",
              "      <td>0.0</td>\n",
              "      <td>0.0</td>\n",
              "      <td>0.5</td>\n",
              "      <td>1.0</td>\n",
              "      <td>0.0</td>\n",
              "      <td>0.0</td>\n",
              "      <td>-3.485872</td>\n",
              "    </tr>\n",
              "  </tbody>\n",
              "</table>\n",
              "<p>23807 rows × 21 columns</p>\n",
              "</div>\n",
              "    <div class=\"colab-df-buttons\">\n",
              "\n",
              "  <div class=\"colab-df-container\">\n",
              "    <button class=\"colab-df-convert\" onclick=\"convertToInteractive('df-7c35f6e5-b0b8-4aeb-bf9d-a14fe94aa965')\"\n",
              "            title=\"Convert this dataframe to an interactive table.\"\n",
              "            style=\"display:none;\">\n",
              "\n",
              "  <svg xmlns=\"http://www.w3.org/2000/svg\" height=\"24px\" viewBox=\"0 -960 960 960\">\n",
              "    <path d=\"M120-120v-720h720v720H120Zm60-500h600v-160H180v160Zm220 220h160v-160H400v160Zm0 220h160v-160H400v160ZM180-400h160v-160H180v160Zm440 0h160v-160H620v160ZM180-180h160v-160H180v160Zm440 0h160v-160H620v160Z\"/>\n",
              "  </svg>\n",
              "    </button>\n",
              "\n",
              "  <style>\n",
              "    .colab-df-container {\n",
              "      display:flex;\n",
              "      gap: 12px;\n",
              "    }\n",
              "\n",
              "    .colab-df-convert {\n",
              "      background-color: #E8F0FE;\n",
              "      border: none;\n",
              "      border-radius: 50%;\n",
              "      cursor: pointer;\n",
              "      display: none;\n",
              "      fill: #1967D2;\n",
              "      height: 32px;\n",
              "      padding: 0 0 0 0;\n",
              "      width: 32px;\n",
              "    }\n",
              "\n",
              "    .colab-df-convert:hover {\n",
              "      background-color: #E2EBFA;\n",
              "      box-shadow: 0px 1px 2px rgba(60, 64, 67, 0.3), 0px 1px 3px 1px rgba(60, 64, 67, 0.15);\n",
              "      fill: #174EA6;\n",
              "    }\n",
              "\n",
              "    .colab-df-buttons div {\n",
              "      margin-bottom: 4px;\n",
              "    }\n",
              "\n",
              "    [theme=dark] .colab-df-convert {\n",
              "      background-color: #3B4455;\n",
              "      fill: #D2E3FC;\n",
              "    }\n",
              "\n",
              "    [theme=dark] .colab-df-convert:hover {\n",
              "      background-color: #434B5C;\n",
              "      box-shadow: 0px 1px 3px 1px rgba(0, 0, 0, 0.15);\n",
              "      filter: drop-shadow(0px 1px 2px rgba(0, 0, 0, 0.3));\n",
              "      fill: #FFFFFF;\n",
              "    }\n",
              "  </style>\n",
              "\n",
              "    <script>\n",
              "      const buttonEl =\n",
              "        document.querySelector('#df-7c35f6e5-b0b8-4aeb-bf9d-a14fe94aa965 button.colab-df-convert');\n",
              "      buttonEl.style.display =\n",
              "        google.colab.kernel.accessAllowed ? 'block' : 'none';\n",
              "\n",
              "      async function convertToInteractive(key) {\n",
              "        const element = document.querySelector('#df-7c35f6e5-b0b8-4aeb-bf9d-a14fe94aa965');\n",
              "        const dataTable =\n",
              "          await google.colab.kernel.invokeFunction('convertToInteractive',\n",
              "                                                    [key], {});\n",
              "        if (!dataTable) return;\n",
              "\n",
              "        const docLinkHtml = 'Like what you see? Visit the ' +\n",
              "          '<a target=\"_blank\" href=https://colab.research.google.com/notebooks/data_table.ipynb>data table notebook</a>'\n",
              "          + ' to learn more about interactive tables.';\n",
              "        element.innerHTML = '';\n",
              "        dataTable['output_type'] = 'display_data';\n",
              "        await google.colab.output.renderOutput(dataTable, element);\n",
              "        const docLink = document.createElement('div');\n",
              "        docLink.innerHTML = docLinkHtml;\n",
              "        element.appendChild(docLink);\n",
              "      }\n",
              "    </script>\n",
              "  </div>\n",
              "\n",
              "\n",
              "<div id=\"df-14aca4bd-63e0-47e8-aca6-8680af323c38\">\n",
              "  <button class=\"colab-df-quickchart\" onclick=\"quickchart('df-14aca4bd-63e0-47e8-aca6-8680af323c38')\"\n",
              "            title=\"Suggest charts\"\n",
              "            style=\"display:none;\">\n",
              "\n",
              "<svg xmlns=\"http://www.w3.org/2000/svg\" height=\"24px\"viewBox=\"0 0 24 24\"\n",
              "     width=\"24px\">\n",
              "    <g>\n",
              "        <path d=\"M19 3H5c-1.1 0-2 .9-2 2v14c0 1.1.9 2 2 2h14c1.1 0 2-.9 2-2V5c0-1.1-.9-2-2-2zM9 17H7v-7h2v7zm4 0h-2V7h2v10zm4 0h-2v-4h2v4z\"/>\n",
              "    </g>\n",
              "</svg>\n",
              "  </button>\n",
              "\n",
              "<style>\n",
              "  .colab-df-quickchart {\n",
              "      --bg-color: #E8F0FE;\n",
              "      --fill-color: #1967D2;\n",
              "      --hover-bg-color: #E2EBFA;\n",
              "      --hover-fill-color: #174EA6;\n",
              "      --disabled-fill-color: #AAA;\n",
              "      --disabled-bg-color: #DDD;\n",
              "  }\n",
              "\n",
              "  [theme=dark] .colab-df-quickchart {\n",
              "      --bg-color: #3B4455;\n",
              "      --fill-color: #D2E3FC;\n",
              "      --hover-bg-color: #434B5C;\n",
              "      --hover-fill-color: #FFFFFF;\n",
              "      --disabled-bg-color: #3B4455;\n",
              "      --disabled-fill-color: #666;\n",
              "  }\n",
              "\n",
              "  .colab-df-quickchart {\n",
              "    background-color: var(--bg-color);\n",
              "    border: none;\n",
              "    border-radius: 50%;\n",
              "    cursor: pointer;\n",
              "    display: none;\n",
              "    fill: var(--fill-color);\n",
              "    height: 32px;\n",
              "    padding: 0;\n",
              "    width: 32px;\n",
              "  }\n",
              "\n",
              "  .colab-df-quickchart:hover {\n",
              "    background-color: var(--hover-bg-color);\n",
              "    box-shadow: 0 1px 2px rgba(60, 64, 67, 0.3), 0 1px 3px 1px rgba(60, 64, 67, 0.15);\n",
              "    fill: var(--button-hover-fill-color);\n",
              "  }\n",
              "\n",
              "  .colab-df-quickchart-complete:disabled,\n",
              "  .colab-df-quickchart-complete:disabled:hover {\n",
              "    background-color: var(--disabled-bg-color);\n",
              "    fill: var(--disabled-fill-color);\n",
              "    box-shadow: none;\n",
              "  }\n",
              "\n",
              "  .colab-df-spinner {\n",
              "    border: 2px solid var(--fill-color);\n",
              "    border-color: transparent;\n",
              "    border-bottom-color: var(--fill-color);\n",
              "    animation:\n",
              "      spin 1s steps(1) infinite;\n",
              "  }\n",
              "\n",
              "  @keyframes spin {\n",
              "    0% {\n",
              "      border-color: transparent;\n",
              "      border-bottom-color: var(--fill-color);\n",
              "      border-left-color: var(--fill-color);\n",
              "    }\n",
              "    20% {\n",
              "      border-color: transparent;\n",
              "      border-left-color: var(--fill-color);\n",
              "      border-top-color: var(--fill-color);\n",
              "    }\n",
              "    30% {\n",
              "      border-color: transparent;\n",
              "      border-left-color: var(--fill-color);\n",
              "      border-top-color: var(--fill-color);\n",
              "      border-right-color: var(--fill-color);\n",
              "    }\n",
              "    40% {\n",
              "      border-color: transparent;\n",
              "      border-right-color: var(--fill-color);\n",
              "      border-top-color: var(--fill-color);\n",
              "    }\n",
              "    60% {\n",
              "      border-color: transparent;\n",
              "      border-right-color: var(--fill-color);\n",
              "    }\n",
              "    80% {\n",
              "      border-color: transparent;\n",
              "      border-right-color: var(--fill-color);\n",
              "      border-bottom-color: var(--fill-color);\n",
              "    }\n",
              "    90% {\n",
              "      border-color: transparent;\n",
              "      border-bottom-color: var(--fill-color);\n",
              "    }\n",
              "  }\n",
              "</style>\n",
              "\n",
              "  <script>\n",
              "    async function quickchart(key) {\n",
              "      const quickchartButtonEl =\n",
              "        document.querySelector('#' + key + ' button');\n",
              "      quickchartButtonEl.disabled = true;  // To prevent multiple clicks.\n",
              "      quickchartButtonEl.classList.add('colab-df-spinner');\n",
              "      try {\n",
              "        const charts = await google.colab.kernel.invokeFunction(\n",
              "            'suggestCharts', [key], {});\n",
              "      } catch (error) {\n",
              "        console.error('Error during call to suggestCharts:', error);\n",
              "      }\n",
              "      quickchartButtonEl.classList.remove('colab-df-spinner');\n",
              "      quickchartButtonEl.classList.add('colab-df-quickchart-complete');\n",
              "    }\n",
              "    (() => {\n",
              "      let quickchartButtonEl =\n",
              "        document.querySelector('#df-14aca4bd-63e0-47e8-aca6-8680af323c38 button');\n",
              "      quickchartButtonEl.style.display =\n",
              "        google.colab.kernel.accessAllowed ? 'block' : 'none';\n",
              "    })();\n",
              "  </script>\n",
              "</div>\n",
              "\n",
              "  <div id=\"id_178c0203-300e-40c7-9c86-66c74f0c5226\">\n",
              "    <style>\n",
              "      .colab-df-generate {\n",
              "        background-color: #E8F0FE;\n",
              "        border: none;\n",
              "        border-radius: 50%;\n",
              "        cursor: pointer;\n",
              "        display: none;\n",
              "        fill: #1967D2;\n",
              "        height: 32px;\n",
              "        padding: 0 0 0 0;\n",
              "        width: 32px;\n",
              "      }\n",
              "\n",
              "      .colab-df-generate:hover {\n",
              "        background-color: #E2EBFA;\n",
              "        box-shadow: 0px 1px 2px rgba(60, 64, 67, 0.3), 0px 1px 3px 1px rgba(60, 64, 67, 0.15);\n",
              "        fill: #174EA6;\n",
              "      }\n",
              "\n",
              "      [theme=dark] .colab-df-generate {\n",
              "        background-color: #3B4455;\n",
              "        fill: #D2E3FC;\n",
              "      }\n",
              "\n",
              "      [theme=dark] .colab-df-generate:hover {\n",
              "        background-color: #434B5C;\n",
              "        box-shadow: 0px 1px 3px 1px rgba(0, 0, 0, 0.15);\n",
              "        filter: drop-shadow(0px 1px 2px rgba(0, 0, 0, 0.3));\n",
              "        fill: #FFFFFF;\n",
              "      }\n",
              "    </style>\n",
              "    <button class=\"colab-df-generate\" onclick=\"generateWithVariable('df')\"\n",
              "            title=\"Generate code using this dataframe.\"\n",
              "            style=\"display:none;\">\n",
              "\n",
              "  <svg xmlns=\"http://www.w3.org/2000/svg\" height=\"24px\"viewBox=\"0 0 24 24\"\n",
              "       width=\"24px\">\n",
              "    <path d=\"M7,19H8.4L18.45,9,17,7.55,7,17.6ZM5,21V16.75L18.45,3.32a2,2,0,0,1,2.83,0l1.4,1.43a1.91,1.91,0,0,1,.58,1.4,1.91,1.91,0,0,1-.58,1.4L9.25,21ZM18.45,9,17,7.55Zm-12,3A5.31,5.31,0,0,0,4.9,8.1,5.31,5.31,0,0,0,1,6.5,5.31,5.31,0,0,0,4.9,4.9,5.31,5.31,0,0,0,6.5,1,5.31,5.31,0,0,0,8.1,4.9,5.31,5.31,0,0,0,12,6.5,5.46,5.46,0,0,0,6.5,12Z\"/>\n",
              "  </svg>\n",
              "    </button>\n",
              "    <script>\n",
              "      (() => {\n",
              "      const buttonEl =\n",
              "        document.querySelector('#id_178c0203-300e-40c7-9c86-66c74f0c5226 button.colab-df-generate');\n",
              "      buttonEl.style.display =\n",
              "        google.colab.kernel.accessAllowed ? 'block' : 'none';\n",
              "\n",
              "      buttonEl.onclick = () => {\n",
              "        google.colab.notebook.generateWithVariable('df');\n",
              "      }\n",
              "      })();\n",
              "    </script>\n",
              "  </div>\n",
              "\n",
              "    </div>\n",
              "  </div>\n"
            ],
            "application/vnd.google.colaboratory.intrinsic+json": {
              "type": "dataframe",
              "variable_name": "df"
            }
          },
          "metadata": {},
          "execution_count": 17
        }
      ],
      "source": [
        "df"
      ]
    },
    {
      "cell_type": "code",
      "execution_count": null,
      "metadata": {
        "colab": {
          "base_uri": "https://localhost:8080/"
        },
        "id": "FylVffN6_SHm",
        "outputId": "113dca29-7bf3-4ace-95f4-56dd99baadd0"
      },
      "outputs": [
        {
          "output_type": "stream",
          "name": "stdout",
          "text": [
            "Max Risk Score 환자군 lr: 100.0\n",
            "Min Risk Score 환자군 lr: -2.704855684024541\n"
          ]
        }
      ],
      "source": [
        "# 'target'이 1인 데이터 필터링\n",
        "target_1_df = df[df['target'] == 1]\n",
        "\n",
        "# 'Risk_score'의 최대값과 최저값 계산\n",
        "max_risk_score_diag_yn_1_lr = target_1_df['Risk_Percentile_lr'].max()\n",
        "min_risk_score_diag_yn_1_lr = target_1_df['Risk_Percentile_lr'].min()\n",
        "\n",
        "print(f\"Max Risk Score 환자군 lr: {max_risk_score_diag_yn_1_lr}\")\n",
        "print(f\"Min Risk Score 환자군 lr: {min_risk_score_diag_yn_1_lr}\")\n"
      ]
    },
    {
      "cell_type": "code",
      "execution_count": null,
      "metadata": {
        "id": "xaInk63ZRtCo"
      },
      "outputs": [],
      "source": [
        "\n",
        "# # CSV 파일로 저장\n",
        "# df.to_csv('/content/drive/MyDrive/캡디/df_Risk_score_included_0530_변수들추출후.csv', index=False)"
      ]
    },
    {
      "cell_type": "markdown",
      "source": [
        "##random forest"
      ],
      "metadata": {
        "id": "fz4cou123DM4"
      }
    },
    {
      "cell_type": "code",
      "source": [
        "import pandas as pd\n",
        "import numpy as np\n",
        "from sklearn.impute import SimpleImputer\n",
        "from sklearn.ensemble import RandomForestClassifier\n",
        "from sklearn.preprocessing import StandardScaler\n",
        "from sklearn.metrics import accuracy_score, confusion_matrix, classification_report\n",
        "from sklearn.model_selection import train_test_split\n",
        "from statsmodels.stats.outliers_influence import variance_inflation_factor\n"
      ],
      "metadata": {
        "id": "UM-3jXiS3nb5"
      },
      "execution_count": null,
      "outputs": []
    },
    {
      "cell_type": "markdown",
      "source": [
        "###모델학습"
      ],
      "metadata": {
        "id": "96LIlYbHEzNu"
      }
    },
    {
      "cell_type": "code",
      "source": [
        "# 결측치 처리\n",
        "imputer = SimpleImputer(strategy='mean')\n",
        "X_imputed = imputer.fit_transform(X)\n",
        "\n",
        "# VIF 계산을 위한 상수 추가\n",
        "X_const = sm.add_constant(X_imputed)\n",
        "\n",
        "# VIF 계산\n",
        "vif = pd.DataFrame()\n",
        "vif[\"VIF Factor\"] = [variance_inflation_factor(X_const, i) for i in range(X_const.shape[1])]\n",
        "vif[\"features\"] = X.columns\n",
        "print(vif)\n",
        "\n",
        "# 데이터 스케일링\n",
        "scaler = StandardScaler()\n",
        "X_scaled = scaler.fit_transform(X_imputed)\n",
        "\n",
        "# 학습 데이터와 테스트 데이터 분할\n",
        "X_train, X_test, y_train, y_test = train_test_split(X_scaled, y, test_size=0.2, random_state=42)\n",
        "\n",
        "# Random Forest 모델 적합\n",
        "rf = RandomForestClassifier(n_estimators=100, random_state=42)\n",
        "rf.fit(X_train, y_train)\n",
        "\n",
        "# 예측\n",
        "y_pred_rf = rf.predict(X_test)\n",
        "\n",
        "# 결과 출력\n",
        "print(f'Random Forest 정확도: {accuracy_score(y_test, y_pred_rf)}')\n",
        "print(f'혼동 행렬:\\n{confusion_matrix(y_test, y_pred_rf)}')\n",
        "print(f'분류 보고서:\\n{classification_report(y_test, y_pred_rf)}')\n",
        "\n",
        "# 변수 중요도 출력\n",
        "feature_importances = rf.feature_importances_\n",
        "features = X.columns\n",
        "\n",
        "importance_df = pd.DataFrame({\n",
        "    'Feature': features,\n",
        "    'Importance': feature_importances\n",
        "})\n",
        "\n",
        "importance_df = importance_df.sort_values(by='Importance', ascending=False)\n",
        "print(\"변수 중요도:\")\n",
        "print(importance_df)"
      ],
      "metadata": {
        "colab": {
          "base_uri": "https://localhost:8080/"
        },
        "id": "VnFKtaWQ3HWF",
        "outputId": "00c62a4d-ecfb-4c4f-b6f4-5a95d0ff5f36"
      },
      "execution_count": null,
      "outputs": [
        {
          "output_type": "stream",
          "name": "stdout",
          "text": [
            "    VIF Factor                   features\n",
            "0    37.500585                      const\n",
            "1     2.352748                   SMOK_QTY\n",
            "2     2.365433              SMOK_STRT_AGE\n",
            "3     2.625385             SMOK_DTRN_YCNT\n",
            "4     5.466422               HORM_TRTM_YN\n",
            "5     3.170657        HORM_TRTM_DTRN_DCNT\n",
            "6     1.205619          HORM_TRTM_PRPS_CD\n",
            "7     3.649928                    MENO_YN\n",
            "8     3.242732                   MENO_AGE\n",
            "9     1.376216               UCLN_PRGN_YN\n",
            "10    1.351785                   MENA_AGE\n",
            "11    2.173449                    SHIS_YN\n",
            "12    1.368706  UCLN_OPN_ETC_SITE_CRCN_YN\n",
            "13    2.097385                CUR_SMOK_YN\n",
            "14    1.271531                RDT_DTRN_YN\n",
            "15    1.170584                   FDLV_AGE\n",
            "16    2.387538          HORM_TRTM_INGR_NM\n",
            "17    1.018568          MHIS_BRST_OPRT_YN\n",
            "18    1.773362                 HRT_USE_YN\n",
            "19    1.634873              HRT_DTRN_MCNT\n",
            "Random Forest 정확도: 0.998530029399412\n",
            "혼동 행렬:\n",
            "[[2240    3]\n",
            " [   4 2515]]\n",
            "분류 보고서:\n",
            "              precision    recall  f1-score   support\n",
            "\n",
            "         0.0       1.00      1.00      1.00      2243\n",
            "         1.0       1.00      1.00      1.00      2519\n",
            "\n",
            "    accuracy                           1.00      4762\n",
            "   macro avg       1.00      1.00      1.00      4762\n",
            "weighted avg       1.00      1.00      1.00      4762\n",
            "\n",
            "변수 중요도:\n",
            "                      Feature  Importance\n",
            "2               SMOK_STRT_AGE    0.160798\n",
            "3              SMOK_DTRN_YCNT    0.143610\n",
            "1                    SMOK_QTY    0.142394\n",
            "8                    MENO_AGE    0.070301\n",
            "7                     MENO_YN    0.068449\n",
            "5         HORM_TRTM_DTRN_DCNT    0.066904\n",
            "4                HORM_TRTM_YN    0.065373\n",
            "10                   MENA_AGE    0.064815\n",
            "9                UCLN_PRGN_YN    0.047846\n",
            "6           HORM_TRTM_PRPS_CD    0.042639\n",
            "12  UCLN_OPN_ETC_SITE_CRCN_YN    0.030824\n",
            "11                    SHIS_YN    0.023940\n",
            "15                   FDLV_AGE    0.021397\n",
            "13                CUR_SMOK_YN    0.015283\n",
            "17          MHIS_BRST_OPRT_YN    0.014203\n",
            "19              HRT_DTRN_MCNT    0.009468\n",
            "18                 HRT_USE_YN    0.007247\n",
            "14                RDT_DTRN_YN    0.003237\n",
            "16          HORM_TRTM_INGR_NM    0.001271\n",
            "0                       const    0.000000\n"
          ]
        }
      ]
    },
    {
      "cell_type": "markdown",
      "source": [
        "###점수구하기"
      ],
      "metadata": {
        "id": "PLU6JqQI9WnM"
      }
    },
    {
      "cell_type": "code",
      "source": [
        "# 각 행에 대한 위험 점수 계산\n",
        "# 클래스 1의 예측 확률을 위험 점수로 사용합니다.\n",
        "risk_scores_rf = rf.predict_proba(X_scaled)[:, 1]\n",
        "\n",
        "# 'target'이 1인 행들 필터링\n",
        "high_risk_patients_rf = risk_scores_rf[y == 1]\n",
        "\n",
        "# 'high_risk_patients'를 pandas Series로 변환\n",
        "high_risk_patients_series_rf = pd.Series(high_risk_patients_rf)\n",
        "\n",
        "# 최대 위험 점수를 갖는 행 찾기\n",
        "max_risk_index_diag_rf_1 = high_risk_patients_series_rf.idxmax()\n",
        "max_risk_row_diag_rf_1 = X.loc[max_risk_index_diag_rf_1]\n",
        "\n",
        "# 최대 위험 점수를 갖는 행의 위험 점수\n",
        "max_risk_score_diag_rf_1 = high_risk_patients_series_rf.loc[max_risk_index_diag_rf_1]\n",
        "print(\"DIAG_YN=1인 행들 중 최대 위험 점수를 갖는 행의 점수:\", max_risk_score_diag_rf_1)\n",
        "print(\"DIAG_YN=1인 행들 중 최대 위험 점수를 갖는 행:\", max_risk_row_diag_rf_1)\n"
      ],
      "metadata": {
        "colab": {
          "base_uri": "https://localhost:8080/"
        },
        "id": "outhxyfS9YZT",
        "outputId": "ccd4aafd-34dd-4a00-e100-2a9b84b45e19"
      },
      "execution_count": null,
      "outputs": [
        {
          "output_type": "stream",
          "name": "stdout",
          "text": [
            "DIAG_YN=1인 행들 중 최대 위험 점수를 갖는 행의 점수: 1.0\n",
            "DIAG_YN=1인 행들 중 최대 위험 점수를 갖는 행: const                         1.0\n",
            "SMOK_QTY                     79.0\n",
            "SMOK_STRT_AGE                36.0\n",
            "SMOK_DTRN_YCNT                8.0\n",
            "HORM_TRTM_YN                  0.0\n",
            "HORM_TRTM_DTRN_DCNT           0.0\n",
            "HORM_TRTM_PRPS_CD             0.0\n",
            "MENO_YN                       1.0\n",
            "MENO_AGE                     12.0\n",
            "UCLN_PRGN_YN                  0.0\n",
            "MENA_AGE                     13.0\n",
            "SHIS_YN                       1.0\n",
            "UCLN_OPN_ETC_SITE_CRCN_YN     0.0\n",
            "CUR_SMOK_YN                   1.0\n",
            "RDT_DTRN_YN                   0.0\n",
            "FDLV_AGE                     91.0\n",
            "HORM_TRTM_INGR_NM             0.0\n",
            "MHIS_BRST_OPRT_YN             1.0\n",
            "HRT_USE_YN                    1.0\n",
            "HRT_DTRN_MCNT                 4.0\n",
            "Name: 0, dtype: float64\n"
          ]
        }
      ]
    },
    {
      "cell_type": "code",
      "source": [
        "# 최소 위험 점수를 갖는 행 찾기\n",
        "min_risk_index_diag_rf_1 = high_risk_patients_series_rf.idxmin()\n",
        "min_risk_row_diag_rf_1 = X.loc[min_risk_index_diag_rf_1]\n",
        "\n",
        "# 최소 위험 점수를 갖는 행의 위험 점수\n",
        "min_risk_score_diag_rf_1 = high_risk_patients_series_rf.loc[min_risk_index_diag_rf_1]\n",
        "print(\"DIAG_YN=1인 행들 중 최소 위험 점수를 갖는 행의 점수:\", min_risk_score_diag_rf_1)\n",
        "print(\"DIAG_YN=1인 행들 중 최소 위험 점수를 갖는 행:\", min_risk_row_diag_rf_1)\n"
      ],
      "metadata": {
        "colab": {
          "base_uri": "https://localhost:8080/"
        },
        "id": "n4v87mr_Aiyd",
        "outputId": "b23a4064-4f50-4653-bc38-0602853bf292"
      },
      "execution_count": null,
      "outputs": [
        {
          "output_type": "stream",
          "name": "stdout",
          "text": [
            "DIAG_YN=1인 행들 중 최소 위험 점수를 갖는 행의 점수: 0.01\n",
            "DIAG_YN=1인 행들 중 최소 위험 점수를 갖는 행: const                         1.0\n",
            "SMOK_QTY                      0.0\n",
            "SMOK_STRT_AGE                 0.0\n",
            "SMOK_DTRN_YCNT                0.0\n",
            "HORM_TRTM_YN                  0.0\n",
            "HORM_TRTM_DTRN_DCNT           0.0\n",
            "HORM_TRTM_PRPS_CD             0.0\n",
            "MENO_YN                       0.0\n",
            "MENO_AGE                      0.0\n",
            "UCLN_PRGN_YN                  0.0\n",
            "MENA_AGE                     12.0\n",
            "SHIS_YN                       0.0\n",
            "UCLN_OPN_ETC_SITE_CRCN_YN     0.0\n",
            "CUR_SMOK_YN                   0.0\n",
            "RDT_DTRN_YN                   0.0\n",
            "FDLV_AGE                      0.0\n",
            "HORM_TRTM_INGR_NM             0.0\n",
            "MHIS_BRST_OPRT_YN             0.0\n",
            "HRT_USE_YN                    1.0\n",
            "HRT_DTRN_MCNT                 3.0\n",
            "Name: 2516, dtype: float64\n"
          ]
        }
      ]
    },
    {
      "cell_type": "markdown",
      "source": [
        "###위험확률"
      ],
      "metadata": {
        "id": "akzYeiPwBKv7"
      }
    },
    {
      "cell_type": "code",
      "source": [
        "# 각 행에 대한 위험 점수 계산\n",
        "risk_scores_per_row_rf = rf.predict_proba(X_scaled)[:, 1]\n",
        "\n",
        "# 최대 위험 점수\n",
        "max_risk_score_rf = risk_scores_per_row_rf.max()\n",
        "\n",
        "# 위험 점수를 100점 기준으로 변환하여 위험 백분위 계산\n",
        "risk_percentiles_rf = (risk_scores_per_row_rf / max_risk_score_rf) * 100\n",
        "\n",
        "# 데이터프레임에 위험 백분위 열 추가\n",
        "X_with_risk_percentiles_rf = X.copy()\n",
        "X_with_risk_percentiles_rf['Risk_Percentile'] = risk_percentiles_rf\n",
        "\n",
        "# 결과 출력\n",
        "print(X_with_risk_percentiles_rf)\n"
      ],
      "metadata": {
        "colab": {
          "base_uri": "https://localhost:8080/"
        },
        "id": "hfvCX1bnBNLC",
        "outputId": "06c86087-6e8f-448f-e414-94f96a7995bb"
      },
      "execution_count": null,
      "outputs": [
        {
          "output_type": "stream",
          "name": "stdout",
          "text": [
            "       const  SMOK_QTY  SMOK_STRT_AGE  SMOK_DTRN_YCNT  HORM_TRTM_YN  \\\n",
            "0        1.0      79.0           36.0             8.0           0.0   \n",
            "1        1.0      79.0           36.0             8.0           1.0   \n",
            "2        1.0      68.0           35.0            13.0           1.0   \n",
            "3        1.0       0.0            0.0             0.0           0.0   \n",
            "4        1.0       0.0            0.0             0.0           0.0   \n",
            "...      ...       ...            ...             ...           ...   \n",
            "23802    1.0       0.0            0.0             0.0           0.0   \n",
            "23803    1.0       0.0            0.0             0.0           0.0   \n",
            "23804    1.0       0.0            0.0             0.0           0.0   \n",
            "23805    1.0       0.0            0.0             0.0           0.0   \n",
            "23806    1.0       0.0            0.0             0.0           0.0   \n",
            "\n",
            "       HORM_TRTM_DTRN_DCNT  HORM_TRTM_PRPS_CD  MENO_YN  MENO_AGE  \\\n",
            "0                      0.0                0.0      1.0      12.0   \n",
            "1                     47.0               99.0      0.0       0.0   \n",
            "2                     91.0               99.0      0.0       0.0   \n",
            "3                      0.0                0.0      1.0      93.0   \n",
            "4                      0.0                0.0      0.0       0.0   \n",
            "...                    ...                ...      ...       ...   \n",
            "23802                  0.0                0.0      0.0       0.0   \n",
            "23803                  0.0                0.0      0.0       0.0   \n",
            "23804                  0.0                0.0      0.0       0.0   \n",
            "23805                  0.0                0.0      0.0       0.0   \n",
            "23806                  0.0                0.0      0.0       0.0   \n",
            "\n",
            "       UCLN_PRGN_YN  ...  SHIS_YN  UCLN_OPN_ETC_SITE_CRCN_YN  CUR_SMOK_YN  \\\n",
            "0               0.0  ...      1.0                        0.0          1.0   \n",
            "1               1.0  ...      1.0                        0.0          1.0   \n",
            "2               0.0  ...      1.0                        1.0          1.0   \n",
            "3               1.0  ...      0.0                        1.0          0.0   \n",
            "4               0.0  ...      0.0                        1.0          0.0   \n",
            "...             ...  ...      ...                        ...          ...   \n",
            "23802           0.5  ...      1.0                        0.0          1.0   \n",
            "23803           0.5  ...      1.0                        0.0          1.0   \n",
            "23804           0.0  ...      1.0                        0.0          1.0   \n",
            "23805           0.5  ...      1.0                        0.0          1.0   \n",
            "23806           0.5  ...      1.0                        0.0          1.0   \n",
            "\n",
            "       RDT_DTRN_YN  FDLV_AGE  HORM_TRTM_INGR_NM  MHIS_BRST_OPRT_YN  \\\n",
            "0              0.0      91.0                0.0                1.0   \n",
            "1              0.0      38.0                5.0                1.0   \n",
            "2              1.0      63.0                5.0                1.0   \n",
            "3              1.0       0.0                0.0                1.0   \n",
            "4              0.0      20.0                0.0                1.0   \n",
            "...            ...       ...                ...                ...   \n",
            "23802          0.5       0.0                0.0                0.5   \n",
            "23803          1.0       0.0                0.0                0.0   \n",
            "23804          0.0      39.6                0.0                0.5   \n",
            "23805          0.5       0.0                0.0                0.5   \n",
            "23806          0.5       0.0                0.0                0.5   \n",
            "\n",
            "       HRT_USE_YN  HRT_DTRN_MCNT  Risk_Percentile  \n",
            "0             1.0            4.0            100.0  \n",
            "1             0.0            0.0            100.0  \n",
            "2             0.0            0.0            100.0  \n",
            "3             0.0            0.0            100.0  \n",
            "4             1.0            6.0            100.0  \n",
            "...           ...            ...              ...  \n",
            "23802         1.0            0.0              0.0  \n",
            "23803         1.0            0.0              0.0  \n",
            "23804         0.0            0.0              0.0  \n",
            "23805         1.0            0.0              0.0  \n",
            "23806         1.0            0.0              0.0  \n",
            "\n",
            "[23807 rows x 21 columns]\n"
          ]
        }
      ]
    },
    {
      "cell_type": "code",
      "source": [
        "\n",
        "df['Risk_Percentile_rf'] = risk_percentiles_rf"
      ],
      "metadata": {
        "colab": {
          "base_uri": "https://localhost:8080/"
        },
        "id": "EBl5kW3jBW88",
        "outputId": "69d80c91-61c1-48a7-9f2f-5eebdeba5252"
      },
      "execution_count": null,
      "outputs": [
        {
          "output_type": "stream",
          "name": "stderr",
          "text": [
            "<ipython-input-25-cefa4b9237de>:1: SettingWithCopyWarning: \n",
            "A value is trying to be set on a copy of a slice from a DataFrame.\n",
            "Try using .loc[row_indexer,col_indexer] = value instead\n",
            "\n",
            "See the caveats in the documentation: https://pandas.pydata.org/pandas-docs/stable/user_guide/indexing.html#returning-a-view-versus-a-copy\n",
            "  df['Risk_Percentile_rf'] = risk_percentiles_rf\n"
          ]
        }
      ]
    },
    {
      "cell_type": "code",
      "source": [
        "# 'target'이 1인 데이터 필터링\n",
        "target_1_df = df[df['target'] == 1]\n",
        "\n",
        "# 'Risk_score'의 최대값과 최저값 계산\n",
        "max_risk_score_diag_yn_1_rf = target_1_df['Risk_Percentile_rf'].max()\n",
        "min_risk_score_diag_yn_1_rf = target_1_df['Risk_Percentile_rf'].min()\n",
        "\n",
        "print(f\"Max Risk Score 환자군: {max_risk_score_diag_yn_1_rf}\")\n",
        "print(f\"Min Risk Score 환자군: {min_risk_score_diag_yn_1_rf}\")\n"
      ],
      "metadata": {
        "colab": {
          "base_uri": "https://localhost:8080/"
        },
        "id": "YOjAo0THBahb",
        "outputId": "6731de42-74aa-447c-dcbe-35f989366b85"
      },
      "execution_count": null,
      "outputs": [
        {
          "output_type": "stream",
          "name": "stdout",
          "text": [
            "Max Risk Score 환자군: 100.0\n",
            "Min Risk Score 환자군: 1.0\n"
          ]
        }
      ]
    },
    {
      "cell_type": "markdown",
      "source": [
        "##ANN"
      ],
      "metadata": {
        "id": "CL-4IwJVCbdT"
      }
    },
    {
      "cell_type": "code",
      "source": [
        "import pandas as pd\n",
        "import numpy as np\n",
        "\n",
        "from sklearn.impute import SimpleImputer\n",
        "from sklearn.preprocessing import StandardScaler\n",
        "from sklearn.model_selection import train_test_split\n",
        "from sklearn.metrics import accuracy_score\n",
        "\n",
        "import tensorflow as tf\n",
        "from tensorflow.keras.models import Sequential\n",
        "from tensorflow.keras.layers import Dense, Dropout\n"
      ],
      "metadata": {
        "id": "hVdYPKTHCdp-"
      },
      "execution_count": null,
      "outputs": []
    },
    {
      "cell_type": "markdown",
      "source": [
        "###모델학습"
      ],
      "metadata": {
        "id": "Cjwe6r5fErpK"
      }
    },
    {
      "cell_type": "code",
      "source": [
        "\n",
        "# 데이터 스케일링\n",
        "scaler = StandardScaler()\n",
        "X_scaled = scaler.fit_transform(X)\n",
        "\n",
        "# 학습 데이터와 테스트 데이터로 분할\n",
        "X_train, X_test, y_train, y_test = train_test_split(X_scaled, y, test_size=0.2, random_state=42)\n",
        "\n",
        "# ANN 모델 정의\n",
        "model = Sequential()\n",
        "model.add(Dense(64, input_dim=X_train.shape[1], activation='relu'))\n",
        "model.add(Dropout(0.5))\n",
        "model.add(Dense(32, activation='relu'))\n",
        "model.add(Dropout(0.5))\n",
        "model.add(Dense(1, activation='sigmoid'))\n",
        "\n",
        "# 모델 컴파일\n",
        "model.compile(optimizer='adam', loss='binary_crossentropy', metrics=['accuracy'])\n",
        "\n",
        "# 모델 학습\n",
        "history = model.fit(X_train, y_train, epochs=10, batch_size=10, validation_data=(X_test, y_test))\n",
        "\n",
        "# 모델 평가\n",
        "y_pred_ann = (model.predict(X_test) > 0.5).astype(\"int32\")\n",
        "accuracy_ann = accuracy_score(y_test, y_pred_ann)\n",
        "\n",
        "print(f'Test Accuracy ann: {accuracy_ann}')\n",
        "\n",
        "# 모델 요약 출력\n",
        "model.summary()\n",
        "\n",
        "# 가중치 확인\n",
        "weights = model.get_weights()\n",
        "\n",
        "for layer_num, layer_weights in enumerate(weights):\n",
        "    print(f\"Layer {layer_num + 1} weights shape: {layer_weights.shape}\")\n",
        "    print(layer_weights)"
      ],
      "metadata": {
        "colab": {
          "base_uri": "https://localhost:8080/"
        },
        "id": "DBfdMXzUCgjN",
        "outputId": "9e3754bb-d99c-4b59-af07-383547a1be6c"
      },
      "execution_count": null,
      "outputs": [
        {
          "output_type": "stream",
          "name": "stdout",
          "text": [
            "Epoch 1/10\n",
            "1905/1905 [==============================] - 13s 5ms/step - loss: 0.0611 - accuracy: 0.9815 - val_loss: 0.0141 - val_accuracy: 0.9960\n",
            "Epoch 2/10\n",
            "1905/1905 [==============================] - 4s 2ms/step - loss: 0.0237 - accuracy: 0.9936 - val_loss: 0.0113 - val_accuracy: 0.9966\n",
            "Epoch 3/10\n",
            "1905/1905 [==============================] - 5s 3ms/step - loss: 0.0211 - accuracy: 0.9939 - val_loss: 0.0096 - val_accuracy: 0.9969\n",
            "Epoch 4/10\n",
            "1905/1905 [==============================] - 5s 3ms/step - loss: 0.0174 - accuracy: 0.9949 - val_loss: 0.0096 - val_accuracy: 0.9969\n",
            "Epoch 5/10\n",
            "1905/1905 [==============================] - 4s 2ms/step - loss: 0.0178 - accuracy: 0.9946 - val_loss: 0.0110 - val_accuracy: 0.9962\n",
            "Epoch 6/10\n",
            "1905/1905 [==============================] - 6s 3ms/step - loss: 0.0138 - accuracy: 0.9955 - val_loss: 0.0088 - val_accuracy: 0.9973\n",
            "Epoch 7/10\n",
            "1905/1905 [==============================] - 5s 3ms/step - loss: 0.0159 - accuracy: 0.9952 - val_loss: 0.0079 - val_accuracy: 0.9975\n",
            "Epoch 8/10\n",
            "1905/1905 [==============================] - 4s 2ms/step - loss: 0.0126 - accuracy: 0.9960 - val_loss: 0.0095 - val_accuracy: 0.9971\n",
            "Epoch 9/10\n",
            "1905/1905 [==============================] - 6s 3ms/step - loss: 0.0136 - accuracy: 0.9959 - val_loss: 0.0082 - val_accuracy: 0.9973\n",
            "Epoch 10/10\n",
            "1905/1905 [==============================] - 5s 3ms/step - loss: 0.0131 - accuracy: 0.9954 - val_loss: 0.0082 - val_accuracy: 0.9969\n",
            "149/149 [==============================] - 0s 1ms/step\n",
            "Test Accuracy ann: 0.99685006299874\n",
            "Model: \"sequential\"\n",
            "_________________________________________________________________\n",
            " Layer (type)                Output Shape              Param #   \n",
            "=================================================================\n",
            " dense (Dense)               (None, 64)                1344      \n",
            "                                                                 \n",
            " dropout (Dropout)           (None, 64)                0         \n",
            "                                                                 \n",
            " dense_1 (Dense)             (None, 32)                2080      \n",
            "                                                                 \n",
            " dropout_1 (Dropout)         (None, 32)                0         \n",
            "                                                                 \n",
            " dense_2 (Dense)             (None, 1)                 33        \n",
            "                                                                 \n",
            "=================================================================\n",
            "Total params: 3457 (13.50 KB)\n",
            "Trainable params: 3457 (13.50 KB)\n",
            "Non-trainable params: 0 (0.00 Byte)\n",
            "_________________________________________________________________\n",
            "Layer 1 weights shape: (20, 64)\n",
            "[[-0.17041773  0.19722366 -0.0494177  ... -0.22392218  0.11765984\n",
            "  -0.11654307]\n",
            " [-0.15335752  0.0219128   0.07738109 ... -0.23065184  0.01913866\n",
            "   0.202292  ]\n",
            " [ 0.1100815   0.43874997 -0.0252499  ...  0.12480716 -0.0661651\n",
            "  -0.06516279]\n",
            " ...\n",
            " [ 0.46232057 -0.28167024 -0.41681853 ... -0.1379819  -0.3827721\n",
            "  -0.06815972]\n",
            " [ 0.00059176 -0.10405418 -0.12120045 ...  0.27046803 -0.18352291\n",
            "   0.30059308]\n",
            " [ 0.02722095  0.3674497   0.15825494 ... -0.3850883  -0.1678399\n",
            "  -0.50138766]]\n",
            "Layer 2 weights shape: (64,)\n",
            "[ 0.06106543  0.2263801  -0.04303118 -0.09010972 -0.21502356 -0.19512385\n",
            " -0.26854858  0.10745896 -0.19234185 -0.19249816 -0.1601477   0.09820104\n",
            "  0.17581037  0.22996798 -0.1287415   0.23806092  0.09166025  0.1245812\n",
            " -0.0075343   0.06258067 -0.14175044  0.08805819  0.10373116 -0.22573581\n",
            " -0.09834533  0.10249979  0.04273472 -0.17647222  0.21072915  0.13609168\n",
            "  0.0706148   0.0141949   0.1112995  -0.23282032 -0.16675231 -0.04289607\n",
            "  0.13843146  0.22585614  0.08254083  0.03348638 -0.22252427  0.03756156\n",
            "  0.30202848  0.1644463   0.22339179  0.01713907  0.25612018  0.37550908\n",
            "  0.17992193 -0.16299    -0.16945386  0.21035868  0.06310181 -0.00764849\n",
            "  0.12940438  0.24274224  0.11040528  0.12767015 -0.16856813 -0.17348309\n",
            " -0.14320774 -0.14681312  0.16297162 -0.14984962]\n",
            "Layer 3 weights shape: (64, 32)\n",
            "[[ 0.12002275 -0.38277462 -0.26769567 ...  0.07949632 -0.33791474\n",
            "   0.01374274]\n",
            " [ 0.39992028 -0.12316707 -0.04258163 ...  0.47677997 -0.00060613\n",
            "   0.22564816]\n",
            " [-0.02143472 -0.19473012  0.03236393 ...  0.35654068 -0.29771072\n",
            "   0.21388641]\n",
            " ...\n",
            " [-0.0648069   0.07203496  0.32261136 ... -0.02466398  0.34668964\n",
            "   0.03961851]\n",
            " [ 0.15571655 -0.33594403 -0.3475988  ...  0.16963586 -0.2806321\n",
            "   0.20264947]\n",
            " [-0.19230063  0.30322382  0.24312903 ... -0.1657037   0.26488966\n",
            "  -0.27425414]]\n",
            "Layer 4 weights shape: (32,)\n",
            "[-0.27683675  0.27203265  0.23442659 -0.12147287  0.18481676  0.2962589\n",
            " -0.25635603 -0.1675336  -0.19597027  0.3227531   0.3573746  -0.07423798\n",
            "  0.32043812  0.38349    -0.12688266  0.23933053 -0.34236392 -0.23798914\n",
            "  0.30803204 -0.11497754  0.3071436  -0.16997139  0.32345137 -0.15001364\n",
            "  0.14361364 -0.151715   -0.09026506  0.2703887  -0.126183   -0.13895518\n",
            "  0.31068787 -0.09796517]\n",
            "Layer 5 weights shape: (32, 1)\n",
            "[[ 0.38284037]\n",
            " [-0.54218423]\n",
            " [-0.3437427 ]\n",
            " [ 0.33698088]\n",
            " [-0.5570386 ]\n",
            " [-0.4741747 ]\n",
            " [ 0.33000022]\n",
            " [ 0.37954798]\n",
            " [ 0.18122321]\n",
            " [-0.38650826]\n",
            " [-0.3861744 ]\n",
            " [ 0.29958156]\n",
            " [-0.5997056 ]\n",
            " [-0.22323994]\n",
            " [ 0.20543693]\n",
            " [-0.39555386]\n",
            " [ 0.39193508]\n",
            " [ 0.5070881 ]\n",
            " [-0.36860162]\n",
            " [ 0.28733975]\n",
            " [-0.3238616 ]\n",
            " [ 0.2922511 ]\n",
            " [-0.41970724]\n",
            " [ 0.24966499]\n",
            " [-0.27640316]\n",
            " [ 0.51544195]\n",
            " [ 0.31106174]\n",
            " [-0.4606159 ]\n",
            " [ 0.26098874]\n",
            " [ 0.34686902]\n",
            " [-0.35787207]\n",
            " [ 0.34757614]]\n",
            "Layer 6 weights shape: (1,)\n",
            "[-0.92898434]\n"
          ]
        }
      ]
    },
    {
      "cell_type": "markdown",
      "source": [
        "###점수구하기"
      ],
      "metadata": {
        "id": "BKb8jRcoDIgD"
      }
    },
    {
      "cell_type": "code",
      "source": [
        "# 각 행에 대한 위험 점수 계산\n",
        "risk_scores_ann = model.predict(X_scaled)\n",
        "\n",
        "# 'DIAG_YN'이 1인 행들 필터링\n",
        "high_risk_patients_ann = risk_scores_ann[y == 1]\n",
        "\n",
        "# 'high_risk_patients'를 pandas Series로 변환\n",
        "high_risk_patients_series_ann = pd.Series(np.squeeze(high_risk_patients_ann))\n",
        "\n",
        "# 최대 위험 점수를 갖는 행 찾기\n",
        "max_risk_index_diag_ann_1 = high_risk_patients_series_ann.idxmax()\n",
        "max_risk_row_diag_ann_1 = X.loc[max_risk_index_diag_ann_1]\n",
        "\n",
        "# 최대 위험 점수를 갖는 행의 위험 점수\n",
        "max_risk_score_diag_ann_1 = high_risk_patients_series_ann.loc[max_risk_index_diag_ann_1]\n",
        "print(\"DIAG_YN=1인 행들 중 최대 위험 점수를 갖는 행의 점수:\", max_risk_score_diag_ann_1)\n",
        "print(\"DIAG_YN=1인 행들 중 최대 위험 점수를 갖는 행:\", max_risk_row_diag_ann_1)\n"
      ],
      "metadata": {
        "colab": {
          "base_uri": "https://localhost:8080/"
        },
        "id": "q5WZFMVOCkEw",
        "outputId": "45042db6-2021-435f-f1ea-279d6ffb4931"
      },
      "execution_count": null,
      "outputs": [
        {
          "output_type": "stream",
          "name": "stdout",
          "text": [
            "744/744 [==============================] - 1s 1ms/step\n",
            "DIAG_YN=1인 행들 중 최대 위험 점수를 갖는 행의 점수: 1.0\n",
            "DIAG_YN=1인 행들 중 최대 위험 점수를 갖는 행: const                         1.0\n",
            "SMOK_QTY                     79.0\n",
            "SMOK_STRT_AGE                36.0\n",
            "SMOK_DTRN_YCNT                8.0\n",
            "HORM_TRTM_YN                  0.0\n",
            "HORM_TRTM_DTRN_DCNT           0.0\n",
            "HORM_TRTM_PRPS_CD             0.0\n",
            "MENO_YN                       1.0\n",
            "MENO_AGE                     12.0\n",
            "UCLN_PRGN_YN                  0.0\n",
            "MENA_AGE                     13.0\n",
            "SHIS_YN                       1.0\n",
            "UCLN_OPN_ETC_SITE_CRCN_YN     0.0\n",
            "CUR_SMOK_YN                   1.0\n",
            "RDT_DTRN_YN                   0.0\n",
            "FDLV_AGE                     91.0\n",
            "HORM_TRTM_INGR_NM             0.0\n",
            "MHIS_BRST_OPRT_YN             1.0\n",
            "HRT_USE_YN                    1.0\n",
            "HRT_DTRN_MCNT                 4.0\n",
            "Name: 0, dtype: float64\n"
          ]
        }
      ]
    },
    {
      "cell_type": "code",
      "source": [
        "# 최소 위험 점수를 갖는 행 찾기\n",
        "min_risk_index_diag_ann_1 = high_risk_patients_series_ann.idxmin()\n",
        "min_risk_row_diag_ann_1 = X.loc[min_risk_index_diag_ann_1]\n",
        "\n",
        "# 최소 위험 점수를 갖는 행의 위험 점수\n",
        "min_risk_score_diag_ann_1 = high_risk_patients_series_ann.loc[min_risk_index_diag_ann_1]\n",
        "print(\"DIAG_YN=1인 행들 중 최소 위험 점수를 갖는 행의 점수:\", min_risk_score_diag_ann_1)\n",
        "print(\"DIAG_YN=1인 행들 중 최소 위험 점수를 갖는 행:\", min_risk_row_diag_ann_1)\n"
      ],
      "metadata": {
        "colab": {
          "base_uri": "https://localhost:8080/"
        },
        "id": "ILhoQ_x2DLMQ",
        "outputId": "6ac72b3b-25b5-49d7-c0a0-612479b97465"
      },
      "execution_count": null,
      "outputs": [
        {
          "output_type": "stream",
          "name": "stdout",
          "text": [
            "DIAG_YN=1인 행들 중 최소 위험 점수를 갖는 행의 점수: 0.000116719624\n",
            "DIAG_YN=1인 행들 중 최소 위험 점수를 갖는 행: const                         1.0\n",
            "SMOK_QTY                      0.0\n",
            "SMOK_STRT_AGE                 0.0\n",
            "SMOK_DTRN_YCNT                0.0\n",
            "HORM_TRTM_YN                  0.0\n",
            "HORM_TRTM_DTRN_DCNT           0.0\n",
            "HORM_TRTM_PRPS_CD             0.0\n",
            "MENO_YN                       0.0\n",
            "MENO_AGE                      0.0\n",
            "UCLN_PRGN_YN                  0.0\n",
            "MENA_AGE                     13.0\n",
            "SHIS_YN                       0.0\n",
            "UCLN_OPN_ETC_SITE_CRCN_YN     0.0\n",
            "CUR_SMOK_YN                   0.0\n",
            "RDT_DTRN_YN                   0.0\n",
            "FDLV_AGE                      0.0\n",
            "HORM_TRTM_INGR_NM             0.0\n",
            "MHIS_BRST_OPRT_YN             1.0\n",
            "HRT_USE_YN                    1.0\n",
            "HRT_DTRN_MCNT                 0.0\n",
            "Name: 11956, dtype: float64\n"
          ]
        }
      ]
    },
    {
      "cell_type": "markdown",
      "source": [
        "###위험확률"
      ],
      "metadata": {
        "id": "RwbqlJXZDM2l"
      }
    },
    {
      "cell_type": "code",
      "source": [
        "# 각 행에 대한 위험 점수 계산\n",
        "risk_scores_per_row_ann = model.predict(X_scaled)\n",
        "\n",
        "# 최대 위험 점수\n",
        "max_risk_score_ann = risk_scores_per_row_ann.max()\n",
        "\n",
        "# 위험 점수를 100점 기준으로 변환하여 위험 백분위 계산\n",
        "risk_percentiles_ann = (risk_scores_per_row_ann / max_risk_score_ann) * 100\n",
        "\n",
        "# 데이터프레임에 위험 백분위 열 추가\n",
        "X_with_risk_percentiles_ann = X.copy()\n",
        "X_with_risk_percentiles_ann['Risk_Percentile'] = risk_percentiles_ann\n",
        "\n",
        "# 결과 출력\n",
        "print(X_with_risk_percentiles_ann)\n"
      ],
      "metadata": {
        "colab": {
          "base_uri": "https://localhost:8080/"
        },
        "id": "xHeEmXSnDQX5",
        "outputId": "ba1ba91e-c314-43e3-c53c-2e8591c59e30"
      },
      "execution_count": null,
      "outputs": [
        {
          "output_type": "stream",
          "name": "stdout",
          "text": [
            "744/744 [==============================] - 1s 1ms/step\n",
            "       const  SMOK_QTY  SMOK_STRT_AGE  SMOK_DTRN_YCNT  HORM_TRTM_YN  \\\n",
            "0        1.0      79.0           36.0             8.0           0.0   \n",
            "1        1.0      79.0           36.0             8.0           1.0   \n",
            "2        1.0      68.0           35.0            13.0           1.0   \n",
            "3        1.0       0.0            0.0             0.0           0.0   \n",
            "4        1.0       0.0            0.0             0.0           0.0   \n",
            "...      ...       ...            ...             ...           ...   \n",
            "23802    1.0       0.0            0.0             0.0           0.0   \n",
            "23803    1.0       0.0            0.0             0.0           0.0   \n",
            "23804    1.0       0.0            0.0             0.0           0.0   \n",
            "23805    1.0       0.0            0.0             0.0           0.0   \n",
            "23806    1.0       0.0            0.0             0.0           0.0   \n",
            "\n",
            "       HORM_TRTM_DTRN_DCNT  HORM_TRTM_PRPS_CD  MENO_YN  MENO_AGE  \\\n",
            "0                      0.0                0.0      1.0      12.0   \n",
            "1                     47.0               99.0      0.0       0.0   \n",
            "2                     91.0               99.0      0.0       0.0   \n",
            "3                      0.0                0.0      1.0      93.0   \n",
            "4                      0.0                0.0      0.0       0.0   \n",
            "...                    ...                ...      ...       ...   \n",
            "23802                  0.0                0.0      0.0       0.0   \n",
            "23803                  0.0                0.0      0.0       0.0   \n",
            "23804                  0.0                0.0      0.0       0.0   \n",
            "23805                  0.0                0.0      0.0       0.0   \n",
            "23806                  0.0                0.0      0.0       0.0   \n",
            "\n",
            "       UCLN_PRGN_YN  ...  SHIS_YN  UCLN_OPN_ETC_SITE_CRCN_YN  CUR_SMOK_YN  \\\n",
            "0               0.0  ...      1.0                        0.0          1.0   \n",
            "1               1.0  ...      1.0                        0.0          1.0   \n",
            "2               0.0  ...      1.0                        1.0          1.0   \n",
            "3               1.0  ...      0.0                        1.0          0.0   \n",
            "4               0.0  ...      0.0                        1.0          0.0   \n",
            "...             ...  ...      ...                        ...          ...   \n",
            "23802           0.5  ...      1.0                        0.0          1.0   \n",
            "23803           0.5  ...      1.0                        0.0          1.0   \n",
            "23804           0.0  ...      1.0                        0.0          1.0   \n",
            "23805           0.5  ...      1.0                        0.0          1.0   \n",
            "23806           0.5  ...      1.0                        0.0          1.0   \n",
            "\n",
            "       RDT_DTRN_YN  FDLV_AGE  HORM_TRTM_INGR_NM  MHIS_BRST_OPRT_YN  \\\n",
            "0              0.0      91.0                0.0                1.0   \n",
            "1              0.0      38.0                5.0                1.0   \n",
            "2              1.0      63.0                5.0                1.0   \n",
            "3              1.0       0.0                0.0                1.0   \n",
            "4              0.0      20.0                0.0                1.0   \n",
            "...            ...       ...                ...                ...   \n",
            "23802          0.5       0.0                0.0                0.5   \n",
            "23803          1.0       0.0                0.0                0.0   \n",
            "23804          0.0      39.6                0.0                0.5   \n",
            "23805          0.5       0.0                0.0                0.5   \n",
            "23806          0.5       0.0                0.0                0.5   \n",
            "\n",
            "       HRT_USE_YN  HRT_DTRN_MCNT  Risk_Percentile  \n",
            "0             1.0            4.0       100.000000  \n",
            "1             0.0            0.0       100.000000  \n",
            "2             0.0            0.0       100.000000  \n",
            "3             0.0            0.0       100.000000  \n",
            "4             1.0            6.0        99.999992  \n",
            "...           ...            ...              ...  \n",
            "23802         1.0            0.0         3.138331  \n",
            "23803         1.0            0.0         0.001119  \n",
            "23804         0.0            0.0         0.000641  \n",
            "23805         1.0            0.0         0.000001  \n",
            "23806         1.0            0.0         0.145988  \n",
            "\n",
            "[23807 rows x 21 columns]\n"
          ]
        }
      ]
    },
    {
      "cell_type": "code",
      "source": [
        "\n",
        "df['Risk_Percentile_ann'] = risk_percentiles_ann"
      ],
      "metadata": {
        "colab": {
          "base_uri": "https://localhost:8080/"
        },
        "id": "8lAOGSEhDaG5",
        "outputId": "29488c97-6db7-458b-fc1b-08f561780d7a"
      },
      "execution_count": null,
      "outputs": [
        {
          "output_type": "stream",
          "name": "stderr",
          "text": [
            "<ipython-input-32-61d79e60e43e>:1: SettingWithCopyWarning: \n",
            "A value is trying to be set on a copy of a slice from a DataFrame.\n",
            "Try using .loc[row_indexer,col_indexer] = value instead\n",
            "\n",
            "See the caveats in the documentation: https://pandas.pydata.org/pandas-docs/stable/user_guide/indexing.html#returning-a-view-versus-a-copy\n",
            "  df['Risk_Percentile_ann'] = risk_percentiles_ann\n"
          ]
        }
      ]
    },
    {
      "cell_type": "code",
      "source": [
        "# 'target'이 1인 데이터 필터링\n",
        "target_1_df = df[df['target'] == 1]\n",
        "\n",
        "# 'Risk_Percentile_ann'의 최대값과 최소값 계산\n",
        "max_risk_score_diag_yn_1_ann = target_1_df['Risk_Percentile_ann'].max()\n",
        "min_risk_score_diag_yn_1_ann = target_1_df['Risk_Percentile_ann'].min()\n",
        "\n",
        "print(f\"Max Risk Score 환자군 ann: {max_risk_score_diag_yn_1_ann}\")\n",
        "print(f\"Min Risk Score 환자군 ann: {min_risk_score_diag_yn_1_ann}\")\n"
      ],
      "metadata": {
        "colab": {
          "base_uri": "https://localhost:8080/"
        },
        "id": "9UyLcWbvDexq",
        "outputId": "0d158ae0-7f12-484c-e282-39ebda60ddb0"
      },
      "execution_count": null,
      "outputs": [
        {
          "output_type": "stream",
          "name": "stdout",
          "text": [
            "Max Risk Score 환자군 ann: 100.0\n",
            "Min Risk Score 환자군 ann: 0.011671962216496468\n"
          ]
        }
      ]
    },
    {
      "cell_type": "markdown",
      "source": [
        "##그래디언트 부스팅"
      ],
      "metadata": {
        "id": "HjWyJiAuB0Nq"
      }
    },
    {
      "cell_type": "code",
      "source": [
        "import pandas as pd\n",
        "import numpy as np\n",
        "\n",
        "from sklearn.ensemble import GradientBoostingClassifier\n",
        "from sklearn.model_selection import train_test_split\n",
        "from sklearn.preprocessing import StandardScaler\n"
      ],
      "metadata": {
        "id": "Bh4yX-KUB4eW"
      },
      "execution_count": null,
      "outputs": []
    },
    {
      "cell_type": "markdown",
      "source": [
        "###모델학습"
      ],
      "metadata": {
        "id": "M20i_utuFO1W"
      }
    },
    {
      "cell_type": "code",
      "source": [
        "\n",
        "# 데이터 프레임 복사\n",
        "df_Odds = pd.DataFrame(df)\n",
        "\n",
        "\n",
        "# 데이터 스케일링\n",
        "scaler = StandardScaler()\n",
        "X_scaled = scaler.fit_transform(X)\n",
        "\n",
        "# 데이터 분할\n",
        "X_train, X_test, y_train, y_test = train_test_split(X_scaled, y, test_size=0.2, random_state=42)\n",
        "\n",
        "# 그래디언트 부스팅 분류기 초기화 및 학습\n",
        "gb_model = GradientBoostingClassifier(n_estimators=100, learning_rate=0.1, random_state=42)\n",
        "gb_model.fit(X_train, y_train)\n",
        "\n",
        "# 테스트 데이터로 예측\n",
        "y_pred_gbm = gb_model.predict(X_test)\n",
        "\n",
        "# 정확도 계산\n",
        "accuracy_gbm = (y_pred_gbm == y_test).mean()\n",
        "print(\"정확도:\", accuracy_gbm)"
      ],
      "metadata": {
        "colab": {
          "base_uri": "https://localhost:8080/"
        },
        "id": "xJ7JrjcAFRE3",
        "outputId": "5fba93cb-b254-458d-a473-1bf4ea4646c4"
      },
      "execution_count": null,
      "outputs": [
        {
          "output_type": "stream",
          "name": "stdout",
          "text": [
            "정확도: 0.99895002099958\n"
          ]
        }
      ]
    },
    {
      "cell_type": "code",
      "source": [
        "# 모델에서 특성 중요도 확인\n",
        "feature_importances = gb_model.feature_importances_\n",
        "\n",
        "# 특성 중요도 출력\n",
        "print(\"특성 중요도:\")\n",
        "for feature, importance in zip(X.columns, feature_importances):\n",
        "    print(f\"{feature}: {importance}\")\n"
      ],
      "metadata": {
        "colab": {
          "base_uri": "https://localhost:8080/"
        },
        "id": "scwh0JbwFV-P",
        "outputId": "fbb626c0-c583-4b0a-fc8a-e428674d6929"
      },
      "execution_count": null,
      "outputs": [
        {
          "output_type": "stream",
          "name": "stdout",
          "text": [
            "특성 중요도:\n",
            "const: 0.0\n",
            "SMOK_QTY: 0.15833439256870824\n",
            "SMOK_STRT_AGE: 0.05525787122437685\n",
            "SMOK_DTRN_YCNT: 0.3983455840562308\n",
            "HORM_TRTM_YN: 0.022894195250592567\n",
            "HORM_TRTM_DTRN_DCNT: 0.026254237565139716\n",
            "HORM_TRTM_PRPS_CD: 0.03867446558885897\n",
            "MENO_YN: 0.06035792107049396\n",
            "MENO_AGE: 0.06130679645885325\n",
            "UCLN_PRGN_YN: 0.055625951396932584\n",
            "MENA_AGE: 0.0399172616319707\n",
            "SHIS_YN: 0.0\n",
            "UCLN_OPN_ETC_SITE_CRCN_YN: 0.034283642371616664\n",
            "CUR_SMOK_YN: 0.0\n",
            "RDT_DTRN_YN: 0.003223439528031502\n",
            "FDLV_AGE: 0.008505497717957512\n",
            "HORM_TRTM_INGR_NM: 0.00013448651706084316\n",
            "MHIS_BRST_OPRT_YN: 0.012002256837185022\n",
            "HRT_USE_YN: 0.010106158651281286\n",
            "HRT_DTRN_MCNT: 0.014775841564709645\n"
          ]
        }
      ]
    },
    {
      "cell_type": "markdown",
      "source": [
        "###점수구하기"
      ],
      "metadata": {
        "id": "fT5yvB6yFeaf"
      }
    },
    {
      "cell_type": "code",
      "source": [
        "from sklearn.ensemble import GradientBoostingClassifier\n",
        "\n",
        "# 그래디언트 부스팅 모델 학습\n",
        "gbm = GradientBoostingClassifier(n_estimators=100, random_state=42)\n",
        "gbm.fit(X_scaled, y)\n",
        "\n",
        "# 각 행에 대한 예측 확률 계산\n",
        "predicted_probabilities = gbm.predict_proba(X_scaled)[:, 1]\n",
        "\n",
        "# 위험 점수를 Series로 변환\n",
        "risk_scores_gbm = pd.Series(predicted_probabilities, index=X.index)\n",
        "\n",
        "# 'target'이 1인 행들 필터링\n",
        "high_risk_patients_gbm = risk_scores_gbm[y == 1]\n",
        "\n",
        "# 최대 위험 점수를 갖는 행 찾기\n",
        "max_risk_index_diag_gbm_1 = high_risk_patients_gbm.idxmax()\n",
        "max_risk_row_diag_gbm_1 = X.loc[max_risk_index_diag_gbm_1]\n",
        "\n",
        "# 최대 위험 점수를 갖는 행의 위험 점수\n",
        "max_risk_score_diag_gbm_1 = high_risk_patients_gbm.loc[max_risk_index_diag_gbm_1]\n",
        "print(\"DIAG_YN=1인 행들 중 최대 위험 점수를 갖는 행의 점수:\", max_risk_score_diag_gbm_1)\n",
        "print(\"DIAG_YN=1인 행들 중 최대 위험 점수를 갖는 행:\", max_risk_row_diag_gbm_1)\n"
      ],
      "metadata": {
        "colab": {
          "base_uri": "https://localhost:8080/"
        },
        "id": "_G97-KfbFi1A",
        "outputId": "a2c014b0-95ad-48c3-934f-d3c4796f29a1"
      },
      "execution_count": null,
      "outputs": [
        {
          "output_type": "stream",
          "name": "stdout",
          "text": [
            "DIAG_YN=1인 행들 중 최대 위험 점수를 갖는 행의 점수: 0.9999702468245476\n",
            "DIAG_YN=1인 행들 중 최대 위험 점수를 갖는 행: const                         1.0\n",
            "SMOK_QTY                     15.0\n",
            "SMOK_STRT_AGE                79.0\n",
            "SMOK_DTRN_YCNT                5.0\n",
            "HORM_TRTM_YN                  1.0\n",
            "HORM_TRTM_DTRN_DCNT          39.0\n",
            "HORM_TRTM_PRPS_CD             4.0\n",
            "MENO_YN                       1.0\n",
            "MENO_AGE                     78.0\n",
            "UCLN_PRGN_YN                  1.0\n",
            "MENA_AGE                      8.0\n",
            "SHIS_YN                       0.0\n",
            "UCLN_OPN_ETC_SITE_CRCN_YN     1.0\n",
            "CUR_SMOK_YN                   1.0\n",
            "RDT_DTRN_YN                   1.0\n",
            "FDLV_AGE                     23.0\n",
            "HORM_TRTM_INGR_NM             2.0\n",
            "MHIS_BRST_OPRT_YN             1.0\n",
            "HRT_USE_YN                    1.0\n",
            "HRT_DTRN_MCNT                 1.0\n",
            "Name: 1137, dtype: float64\n"
          ]
        }
      ]
    },
    {
      "cell_type": "code",
      "source": [
        "\n",
        "# 최소 위험 점수를 갖는 행 찾기\n",
        "min_risk_index_diag_gbm_1 = high_risk_patients_gbm.idxmin()\n",
        "min_risk_row_diag_gbm_1 = X.loc[min_risk_index_diag_gbm_1]\n",
        "\n",
        "# 최소 위험 점수를 갖는 행의 위험 점수\n",
        "min_risk_score_diag_gbm_1 = high_risk_patients_gbm.loc[min_risk_index_diag_gbm_1]\n",
        "print(\"DIAG_YN=1인 행들 중 최소 위험 점수를 갖는 행의 점수:\", min_risk_score_diag_gbm_1)\n",
        "print(\"DIAG_YN=1인 행들 중 최소 위험 점수를 갖는 행:\", min_risk_row_diag_gbm_1)"
      ],
      "metadata": {
        "colab": {
          "base_uri": "https://localhost:8080/"
        },
        "id": "p68mXZJUF3S0",
        "outputId": "8aa524a5-1052-45a1-b8fd-ad10e43aa086"
      },
      "execution_count": null,
      "outputs": [
        {
          "output_type": "stream",
          "name": "stdout",
          "text": [
            "DIAG_YN=1인 행들 중 최소 위험 점수를 갖는 행의 점수: 0.05684146574261508\n",
            "DIAG_YN=1인 행들 중 최소 위험 점수를 갖는 행: const                         1.0\n",
            "SMOK_QTY                      0.0\n",
            "SMOK_STRT_AGE                 0.0\n",
            "SMOK_DTRN_YCNT                0.0\n",
            "HORM_TRTM_YN                  0.0\n",
            "HORM_TRTM_DTRN_DCNT           0.0\n",
            "HORM_TRTM_PRPS_CD             0.0\n",
            "MENO_YN                       0.0\n",
            "MENO_AGE                      0.0\n",
            "UCLN_PRGN_YN                  0.0\n",
            "MENA_AGE                     11.0\n",
            "SHIS_YN                       0.0\n",
            "UCLN_OPN_ETC_SITE_CRCN_YN     0.0\n",
            "CUR_SMOK_YN                   0.0\n",
            "RDT_DTRN_YN                   0.0\n",
            "FDLV_AGE                      0.0\n",
            "HORM_TRTM_INGR_NM             0.0\n",
            "MHIS_BRST_OPRT_YN             1.0\n",
            "HRT_USE_YN                    1.0\n",
            "HRT_DTRN_MCNT                 0.0\n",
            "Name: 5367, dtype: float64\n"
          ]
        }
      ]
    },
    {
      "cell_type": "markdown",
      "source": [
        "###위험확률"
      ],
      "metadata": {
        "id": "-_kUdk12F-h2"
      }
    },
    {
      "cell_type": "code",
      "source": [
        "from sklearn.ensemble import GradientBoostingClassifier\n",
        "\n",
        "# 그래디언트 부스팅 모델 학습\n",
        "gbm = GradientBoostingClassifier(n_estimators=100, random_state=42)\n",
        "gbm.fit(X_scaled, y)\n",
        "\n",
        "# 각 행에 대한 예측 확률 계산\n",
        "predicted_probabilities = gbm.predict_proba(X_scaled)[:, 1]\n",
        "\n",
        "# 위험 점수 계산 (예측 확률을 위험 점수로 사용)\n",
        "risk_scores_gbm = pd.Series(predicted_probabilities, index=X.index)\n",
        "\n",
        "# 최대 위험 점수\n",
        "max_risk_score_gbm = risk_scores_gbm.max()\n",
        "\n",
        "# 위험 점수를 100점 기준으로 변환하여 위험 백분위 계산\n",
        "risk_percentiles_gbm = (risk_scores_gbm / max_risk_score_gbm) * 100\n",
        "\n",
        "# 데이터프레임에 위험 백분위 열 추가\n",
        "X_with_risk_percentiles_gbm = X.copy()\n",
        "X_with_risk_percentiles_gbm['Risk_Percentile_gbm'] = risk_percentiles_gbm\n",
        "\n",
        "# 결과 출력\n",
        "print(X_with_risk_percentiles_gbm)\n"
      ],
      "metadata": {
        "colab": {
          "base_uri": "https://localhost:8080/"
        },
        "id": "MgMXWYrpGRXN",
        "outputId": "0da04943-31c9-4783-95dd-ea79ab6e9bfc"
      },
      "execution_count": null,
      "outputs": [
        {
          "output_type": "stream",
          "name": "stdout",
          "text": [
            "       const  SMOK_QTY  SMOK_STRT_AGE  SMOK_DTRN_YCNT  HORM_TRTM_YN  \\\n",
            "0        1.0      79.0           36.0             8.0           0.0   \n",
            "1        1.0      79.0           36.0             8.0           1.0   \n",
            "2        1.0      68.0           35.0            13.0           1.0   \n",
            "3        1.0       0.0            0.0             0.0           0.0   \n",
            "4        1.0       0.0            0.0             0.0           0.0   \n",
            "...      ...       ...            ...             ...           ...   \n",
            "23802    1.0       0.0            0.0             0.0           0.0   \n",
            "23803    1.0       0.0            0.0             0.0           0.0   \n",
            "23804    1.0       0.0            0.0             0.0           0.0   \n",
            "23805    1.0       0.0            0.0             0.0           0.0   \n",
            "23806    1.0       0.0            0.0             0.0           0.0   \n",
            "\n",
            "       HORM_TRTM_DTRN_DCNT  HORM_TRTM_PRPS_CD  MENO_YN  MENO_AGE  \\\n",
            "0                      0.0                0.0      1.0      12.0   \n",
            "1                     47.0               99.0      0.0       0.0   \n",
            "2                     91.0               99.0      0.0       0.0   \n",
            "3                      0.0                0.0      1.0      93.0   \n",
            "4                      0.0                0.0      0.0       0.0   \n",
            "...                    ...                ...      ...       ...   \n",
            "23802                  0.0                0.0      0.0       0.0   \n",
            "23803                  0.0                0.0      0.0       0.0   \n",
            "23804                  0.0                0.0      0.0       0.0   \n",
            "23805                  0.0                0.0      0.0       0.0   \n",
            "23806                  0.0                0.0      0.0       0.0   \n",
            "\n",
            "       UCLN_PRGN_YN  ...  SHIS_YN  UCLN_OPN_ETC_SITE_CRCN_YN  CUR_SMOK_YN  \\\n",
            "0               0.0  ...      1.0                        0.0          1.0   \n",
            "1               1.0  ...      1.0                        0.0          1.0   \n",
            "2               0.0  ...      1.0                        1.0          1.0   \n",
            "3               1.0  ...      0.0                        1.0          0.0   \n",
            "4               0.0  ...      0.0                        1.0          0.0   \n",
            "...             ...  ...      ...                        ...          ...   \n",
            "23802           0.5  ...      1.0                        0.0          1.0   \n",
            "23803           0.5  ...      1.0                        0.0          1.0   \n",
            "23804           0.0  ...      1.0                        0.0          1.0   \n",
            "23805           0.5  ...      1.0                        0.0          1.0   \n",
            "23806           0.5  ...      1.0                        0.0          1.0   \n",
            "\n",
            "       RDT_DTRN_YN  FDLV_AGE  HORM_TRTM_INGR_NM  MHIS_BRST_OPRT_YN  \\\n",
            "0              0.0      91.0                0.0                1.0   \n",
            "1              0.0      38.0                5.0                1.0   \n",
            "2              1.0      63.0                5.0                1.0   \n",
            "3              1.0       0.0                0.0                1.0   \n",
            "4              0.0      20.0                0.0                1.0   \n",
            "...            ...       ...                ...                ...   \n",
            "23802          0.5       0.0                0.0                0.5   \n",
            "23803          1.0       0.0                0.0                0.0   \n",
            "23804          0.0      39.6                0.0                0.5   \n",
            "23805          0.5       0.0                0.0                0.5   \n",
            "23806          0.5       0.0                0.0                0.5   \n",
            "\n",
            "       HRT_USE_YN  HRT_DTRN_MCNT  Risk_Percentile_gbm  \n",
            "0             1.0            4.0            99.967986  \n",
            "1             0.0            0.0            99.968080  \n",
            "2             0.0            0.0            99.987912  \n",
            "3             0.0            0.0            99.953940  \n",
            "4             1.0            6.0            98.765043  \n",
            "...           ...            ...                  ...  \n",
            "23802         1.0            0.0             0.032025  \n",
            "23803         1.0            0.0             0.249047  \n",
            "23804         0.0            0.0             0.213467  \n",
            "23805         1.0            0.0             0.041188  \n",
            "23806         1.0            0.0             0.089879  \n",
            "\n",
            "[23807 rows x 21 columns]\n"
          ]
        }
      ]
    },
    {
      "cell_type": "code",
      "source": [
        "\n",
        "df['Risk_Percentile_gbm'] = risk_percentiles_gbm"
      ],
      "metadata": {
        "colab": {
          "base_uri": "https://localhost:8080/"
        },
        "id": "4znPwCKhGQoW",
        "outputId": "87a76ce6-8c5d-4472-d20f-752175b35622"
      },
      "execution_count": null,
      "outputs": [
        {
          "output_type": "stream",
          "name": "stderr",
          "text": [
            "<ipython-input-40-d7be046541c7>:1: SettingWithCopyWarning: \n",
            "A value is trying to be set on a copy of a slice from a DataFrame.\n",
            "Try using .loc[row_indexer,col_indexer] = value instead\n",
            "\n",
            "See the caveats in the documentation: https://pandas.pydata.org/pandas-docs/stable/user_guide/indexing.html#returning-a-view-versus-a-copy\n",
            "  df['Risk_Percentile_gbm'] = risk_percentiles_gbm\n"
          ]
        }
      ]
    },
    {
      "cell_type": "code",
      "source": [
        "# 'target'이 1인 데이터 필터링\n",
        "target_1_df = df[df['target'] == 1]\n",
        "\n",
        "# 그래디언트 부스팅 모델을 사용하여 계산된 'Risk_Percentile'의 최대값과 최저값 계산\n",
        "max_risk_score_diag_yn_1_gbm = target_1_df['Risk_Percentile_gbm'].max()\n",
        "min_risk_score_diag_yn_1_gbm = target_1_df['Risk_Percentile_gbm'].min()\n",
        "\n",
        "print(f\"Max Risk Score 환자군 gbm: {max_risk_score_diag_yn_1_gbm}\")\n",
        "print(f\"Min Risk Score 환자군 gbm: {min_risk_score_diag_yn_1_gbm}\")\n"
      ],
      "metadata": {
        "colab": {
          "base_uri": "https://localhost:8080/"
        },
        "id": "0t1cDqe6Gdbu",
        "outputId": "96483374-8be4-4f62-c87d-6daf51e86983"
      },
      "execution_count": null,
      "outputs": [
        {
          "output_type": "stream",
          "name": "stdout",
          "text": [
            "Max Risk Score 환자군 gbm: 100.0\n",
            "Min Risk Score 환자군 gbm: 5.684315700703878\n"
          ]
        }
      ]
    },
    {
      "cell_type": "code",
      "source": [
        "# 'target'이 0인 데이터 필터링\n",
        "target_0_df = df[df['target'] == 0]\n",
        "\n",
        "# 그래디언트 부스팅 모델을 사용하여 계산된 'Risk_Percentile'의 최대값과 최저값 계산\n",
        "max_risk_score_diag_yn_0_gbm = target_0_df['Risk_Percentile_gbm'].max()\n",
        "min_risk_score_diag_yn_0_gbm = target_0_df['Risk_Percentile_gbm'].min()\n",
        "\n",
        "print(f\"Max Risk Score 일반인 gbm: {max_risk_score_diag_yn_0_gbm}\")\n",
        "print(f\"Min Risk Score 일반인 gbm: {min_risk_score_diag_yn_0_gbm}\")\n"
      ],
      "metadata": {
        "colab": {
          "base_uri": "https://localhost:8080/"
        },
        "id": "tGnarnTs44uB",
        "outputId": "2ded26ca-e01c-4e3c-a016-37751e0cb66e"
      },
      "execution_count": null,
      "outputs": [
        {
          "output_type": "stream",
          "name": "stdout",
          "text": [
            "Max Risk Score 일반인 gbm: 68.17364662848574\n",
            "Min Risk Score 일반인 gbm: 0.029291918919414548\n"
          ]
        }
      ]
    },
    {
      "cell_type": "markdown",
      "metadata": {
        "id": "0hzAVyJXSCQN"
      },
      "source": [
        "#모델 정확도 비교"
      ]
    },
    {
      "cell_type": "code",
      "source": [
        "y_pred_lr = result.predict(X_test)\n",
        "y_pred_lr = (y_pred_lr > 0.5).astype(int)  # 0.5를 기준으로 이진 분류 수행\n"
      ],
      "metadata": {
        "id": "JNVVYpAbJXK8"
      },
      "execution_count": null,
      "outputs": []
    },
    {
      "cell_type": "code",
      "source": [
        "# 정확도 계산\n",
        "accuracy_gbm = accuracy_score(y_test, y_pred_gbm)\n",
        "accuracy_rf = accuracy_score(y_test, y_pred_rf)\n",
        "accuracy_ann = accuracy_score(y_test, y_pred_ann)\n",
        "accuracy_log_reg = accuracy_score(y_test, y_pred_lr)\n",
        "\n",
        "print(\"Accuracy of Gradient Boosting:\", accuracy_gbm)\n",
        "print(\"Accuracy of Random Forest:\", accuracy_rf)\n",
        "print(\"Accuracy of ANN:\", accuracy_ann)\n",
        "print(\"Accuracy of Logistic Regression:\", accuracy_log_reg)"
      ],
      "metadata": {
        "colab": {
          "base_uri": "https://localhost:8080/"
        },
        "id": "YBZK-jBNI-pZ",
        "outputId": "7056c77f-07c7-42dc-f7d5-5582c13ad968"
      },
      "execution_count": null,
      "outputs": [
        {
          "output_type": "stream",
          "name": "stdout",
          "text": [
            "Accuracy of Gradient Boosting: 0.99895002099958\n",
            "Accuracy of Random Forest: 0.998530029399412\n",
            "Accuracy of ANN: 0.99685006299874\n",
            "Accuracy of Logistic Regression: 0.9334313313733725\n"
          ]
        }
      ]
    },
    {
      "cell_type": "code",
      "source": [
        "import matplotlib.pyplot as plt\n",
        "import seaborn as sns\n"
      ],
      "metadata": {
        "id": "1jlfVYMdJxsp"
      },
      "execution_count": null,
      "outputs": []
    },
    {
      "cell_type": "code",
      "source": [
        "accuracies = {\n",
        "    'Gradient Boosting': accuracy_gbm,\n",
        "    'Random Forest': accuracy_rf,\n",
        "    'ANN': accuracy_ann,\n",
        "    'Logistic Regression': accuracy_log_reg\n",
        "}\n",
        "# 데이터를 시각화하기 좋게 DataFrame으로 변환\n",
        "accuracy_df = pd.DataFrame(list(accuracies.items()), columns=['Model', 'Accuracy'])\n",
        "\n",
        "# 바 차트 생성\n",
        "plt.figure(figsize=(10, 6))\n",
        "sns.barplot(x='Model', y='Accuracy', data=accuracy_df)\n",
        "plt.title('Comparison of Model Accuracies')\n",
        "plt.ylim(0.5, 1)  # Y축의 범위를 조정하여 차트의 차이를 더 잘 보이게 할 수 있습니다.\n",
        "plt.ylabel('Accuracy')\n",
        "plt.xlabel('Model')\n",
        "plt.xticks(rotation=45)  # 모델 이름이 긴 경우 기울기 조정\n",
        "plt.show()\n"
      ],
      "metadata": {
        "colab": {
          "base_uri": "https://localhost:8080/",
          "height": 654
        },
        "id": "qAIFwIzvJz_Q",
        "outputId": "c184c878-423f-46e9-a759-c4b6411fd13f"
      },
      "execution_count": null,
      "outputs": [
        {
          "output_type": "display_data",
          "data": {
            "text/plain": [
              "<Figure size 1000x600 with 1 Axes>"
            ],
            "image/png": "[encoded data removed]"
          },
          "metadata": {}
        }
      ]
    },
    {
      "cell_type": "code",
      "source": [
        "from sklearn.metrics import precision_score, recall_score, f1_score, roc_auc_score, roc_curve\n",
        "\n",
        "# 각 모델의 예측 결과\n",
        "y_preds = {\n",
        "    'Gradient Boosting': y_pred_gbm,\n",
        "    'Random Forest': y_pred_rf,\n",
        "    'ANN': y_pred_ann,\n",
        "    'Logistic Regression': y_pred_lr\n",
        "}\n",
        "\n",
        "# 비교할 성능 지표를 계산할 함수\n",
        "def calculate_performance_metrics(y_true, y_pred):\n",
        "    accuracy = accuracy_score(y_true, y_pred)\n",
        "    precision = precision_score(y_true, y_pred)\n",
        "    recall = recall_score(y_true, y_pred)\n",
        "    f1 = f1_score(y_true, y_pred)\n",
        "    roc_auc = roc_auc_score(y_true, y_pred)\n",
        "    return accuracy, precision, recall, f1, roc_auc\n",
        "\n",
        "# 성능 지표 계산\n",
        "performance_metrics = {}\n",
        "for model_name, y_pred in y_preds.items():\n",
        "    accuracy, precision, recall, f1, roc_auc = calculate_performance_metrics(y_test, y_pred)\n",
        "    performance_metrics[model_name] = {\n",
        "        'Accuracy': accuracy,\n",
        "        'Precision': precision,\n",
        "        'Recall': recall,\n",
        "        'F1 Score': f1,\n",
        "        'ROC AUC': roc_auc\n",
        "    }\n",
        "\n",
        "# 결과 출력\n",
        "performance_df = pd.DataFrame(performance_metrics).T\n",
        "print(performance_df)\n",
        "\n",
        "# 결과 시각화\n",
        "plt.figure(figsize=(12, 8))\n",
        "sns.barplot(data=performance_df, palette='viridis')\n",
        "plt.title('Comparison of Model Performance Metrics')\n",
        "plt.ylabel('Score')\n",
        "plt.xlabel('Metrics')\n",
        "plt.xticks(rotation=45)\n",
        "plt.legend(performance_df.columns)\n",
        "plt.show()\n"
      ],
      "metadata": {
        "colab": {
          "base_uri": "https://localhost:8080/",
          "height": 852
        },
        "id": "k8tg4UA0KCkD",
        "outputId": "4b8f0873-ae07-4889-b0c9-e62c89265435"
      },
      "execution_count": null,
      "outputs": [
        {
          "output_type": "stream",
          "name": "stdout",
          "text": [
            "                     Accuracy  Precision    Recall  F1 Score   ROC AUC\n",
            "Gradient Boosting    0.998950   1.000000  0.998015  0.999007  0.999008\n",
            "Random Forest        0.998530   0.998809  0.998412  0.998610  0.998537\n",
            "ANN                  0.996850   0.998805  0.995236  0.997017  0.996949\n",
            "Logistic Regression  0.933431   1.000000  0.874156  0.932853  0.937078\n"
          ]
        },
        {
          "output_type": "display_data",
          "data": {
            "text/plain": [
              "<Figure size 1200x800 with 1 Axes>"
            ],
            "image/png": "[encoded data removed]"
          },
          "metadata": {}
        }
      ]
    },
    {
      "cell_type": "markdown",
      "source": [
        "#표본 입력 예시"
      ],
      "metadata": {
        "id": "JrCJ2joJLCDj"
      }
    },
    {
      "cell_type": "code",
      "execution_count": null,
      "metadata": {
        "colab": {
          "base_uri": "https://localhost:8080/"
        },
        "id": "Y3Ju1vi6eqUC",
        "outputId": "48d3814e-39cd-4420-ccf0-1667f79b2eb1"
      },
      "outputs": [
        {
          "output_type": "stream",
          "name": "stdout",
          "text": [
            "100번째 행의 값들:\n",
            "SMOK_QTY                      25.000000\n",
            "SMOK_STRT_AGE                 98.000000\n",
            "SMOK_DTRN_YCNT                 1.000000\n",
            "HORM_TRTM_YN                   1.000000\n",
            "HORM_TRTM_DTRN_DCNT           50.000000\n",
            "HORM_TRTM_PRPS_CD              6.000000\n",
            "MENO_YN                        1.000000\n",
            "MENO_AGE                       8.000000\n",
            "UCLN_PRGN_YN                   1.000000\n",
            "MENA_AGE                      12.000000\n",
            "SHIS_YN                        1.000000\n",
            "UCLN_OPN_ETC_SITE_CRCN_YN      1.000000\n",
            "CUR_SMOK_YN                    1.000000\n",
            "RDT_DTRN_YN                    1.000000\n",
            "FDLV_AGE                      97.000000\n",
            "HORM_TRTM_INGR_NM              3.000000\n",
            "MHIS_BRST_OPRT_YN              1.000000\n",
            "HRT_USE_YN                     1.000000\n",
            "HRT_DTRN_MCNT                  6.000000\n",
            "target                         1.000000\n",
            "Risk_Percentile_lr            72.660765\n",
            "Risk_Percentile_rf           100.000000\n",
            "Risk_Percentile_ann          100.000000\n",
            "Risk_Percentile_gbm           99.992235\n",
            "Name: 99, dtype: float64\n"
          ]
        }
      ],
      "source": [
        "# 100번째 행을 선택합니다.\n",
        "row_100 = df.iloc[99]  # 인덱스는 0부터 시작하므로 99는 100번째 행을 의미합니다.\n",
        "\n",
        "# 선택된 행을 출력합니다.\n",
        "print(\"100번째 행의 값들:\")\n",
        "print(row_100)\n"
      ]
    },
    {
      "cell_type": "code",
      "source": [
        "# 18346번째 행을 선택합니다.\n",
        "row_18346 = df.iloc[18345]  # 인덱스는 0부터 시작하므로 99는 100번째 행을 의미합니다.\n",
        "\n",
        "# 선택된 행을 출력합니다.\n",
        "print(\"18346번째 행의 값들:\")\n",
        "print(row_18346)\n"
      ],
      "metadata": {
        "colab": {
          "base_uri": "https://localhost:8080/"
        },
        "id": "0wXr0PUCV5dj",
        "outputId": "99c7f73e-2281-4d5e-8b7f-53dc8981a5f2"
      },
      "execution_count": null,
      "outputs": [
        {
          "output_type": "stream",
          "name": "stdout",
          "text": [
            "18346번째 행의 값들:\n",
            "SMOK_QTY                      0.000000\n",
            "SMOK_STRT_AGE                 0.000000\n",
            "SMOK_DTRN_YCNT                0.000000\n",
            "HORM_TRTM_YN                  0.000000\n",
            "HORM_TRTM_DTRN_DCNT           0.000000\n",
            "HORM_TRTM_PRPS_CD             0.000000\n",
            "MENO_YN                       0.000000\n",
            "MENO_AGE                      0.000000\n",
            "UCLN_PRGN_YN                  0.000000\n",
            "MENA_AGE                     13.100000\n",
            "SHIS_YN                       0.000000\n",
            "UCLN_OPN_ETC_SITE_CRCN_YN     0.000000\n",
            "CUR_SMOK_YN                   0.000000\n",
            "RDT_DTRN_YN                   0.500000\n",
            "FDLV_AGE                      0.000000\n",
            "HORM_TRTM_INGR_NM             0.000000\n",
            "MHIS_BRST_OPRT_YN             0.500000\n",
            "HRT_USE_YN                    1.000000\n",
            "HRT_DTRN_MCNT                 1.000000\n",
            "target                        0.000000\n",
            "Risk_Percentile_lr           -2.556514\n",
            "Risk_Percentile_rf            0.000000\n",
            "Risk_Percentile_ann           0.001334\n",
            "Risk_Percentile_gbm           0.045454\n",
            "Name: 18345, dtype: float64\n"
          ]
        }
      ]
    },
    {
      "cell_type": "code",
      "execution_count": null,
      "metadata": {
        "colab": {
          "base_uri": "https://localhost:8080/"
        },
        "id": "Vpu9G0EuhL3g",
        "outputId": "cf578a28-28ce-41c5-a4de-1e2b24515c01"
      },
      "outputs": [
        {
          "output_type": "stream",
          "name": "stdout",
          "text": [
            "입력 데이터:\n",
            "    SMOK_QTY  SMOK_STRT_AGE  SMOK_DTRN_YCNT  HORM_TRTM_YN  \\\n",
            "99      25.0           98.0             1.0           1.0   \n",
            "\n",
            "    HORM_TRTM_DTRN_DCNT  HORM_TRTM_PRPS_CD  MENO_YN  MENO_AGE  UCLN_PRGN_YN  \\\n",
            "99                 50.0                6.0      1.0       8.0           1.0   \n",
            "\n",
            "    MENA_AGE  SHIS_YN  UCLN_OPN_ETC_SITE_CRCN_YN  CUR_SMOK_YN  RDT_DTRN_YN  \\\n",
            "99      12.0      1.0                        1.0          1.0          1.0   \n",
            "\n",
            "    FDLV_AGE  HORM_TRTM_INGR_NM  MHIS_BRST_OPRT_YN  HRT_USE_YN  HRT_DTRN_MCNT  \\\n",
            "99      97.0                3.0                1.0         1.0            6.0   \n",
            "\n",
            "    target  \n",
            "99     1.0  \n",
            "새로운 데이터셋에 대한 예측 결과: [1.]\n"
          ]
        },
        {
          "output_type": "stream",
          "name": "stderr",
          "text": [
            "/usr/local/lib/python3.10/dist-packages/sklearn/base.py:432: UserWarning: X has feature names, but GradientBoostingClassifier was fitted without feature names\n",
            "  warnings.warn(\n"
          ]
        }
      ],
      "source": [
        "import pandas as pd\n",
        "\n",
        "\n",
        "# 100번째 행을 선택합니다.\n",
        "row_100 = df.iloc[[99]]\n",
        "# 'DIAG_YN', 'Risk_score', 'Risk_Percentile'을 제외한 열을 사용하여 예측을 수행합니다.\n",
        "input_data = row_100.drop(['Risk_Percentile_lr','Risk_Percentile_rf',\n",
        "                           'Risk_Percentile_ann','Risk_Percentile_gbm'], axis=1)\n",
        "new_predictions = gb_model.predict(input_data)\n",
        "\n",
        "# 입력 데이터와 예측 결과를 함께 출력합니다.\n",
        "print(\"입력 데이터:\")\n",
        "print(input_data)\n",
        "\n",
        "# 예측 결과를 출력합니다.\n",
        "print(\"새로운 데이터셋에 대한 예측 결과:\", new_predictions)\n"
      ]
    },
    {
      "cell_type": "code",
      "source": [
        "import pandas as pd\n",
        "\n",
        "\n",
        "# 100번째 행을 선택합니다.\n",
        "row_18346 = df.iloc[[18345]]\n",
        "# 'DIAG_YN', 'Risk_score', 'Risk_Percentile'을 제외한 열을 사용하여 예측을 수행합니다.\n",
        "input_data2 = row_18346.drop(['Risk_Percentile_lr','Risk_Percentile_rf',\n",
        "                           'Risk_Percentile_ann','Risk_Percentile_gbm'], axis=1)\n",
        "new_predictions2 = gb_model.predict(input_data)\n",
        "\n",
        "# 입력 데이터와 예측 결과를 함께 출력합니다.\n",
        "print(\"입력 데이터:\")\n",
        "print(input_data2)\n",
        "\n",
        "# 예측 결과를 출력합니다.\n",
        "print(\"새로운 데이터셋에 대한 예측 결과:\", new_predictions2)\n"
      ],
      "metadata": {
        "colab": {
          "base_uri": "https://localhost:8080/"
        },
        "id": "YcWx7nOmYAz4",
        "outputId": "44a5c118-4024-493d-8c9c-6752968925a5"
      },
      "execution_count": null,
      "outputs": [
        {
          "output_type": "stream",
          "name": "stdout",
          "text": [
            "입력 데이터:\n",
            "       SMOK_QTY  SMOK_STRT_AGE  SMOK_DTRN_YCNT  HORM_TRTM_YN  \\\n",
            "18345       0.0            0.0             0.0           0.0   \n",
            "\n",
            "       HORM_TRTM_DTRN_DCNT  HORM_TRTM_PRPS_CD  MENO_YN  MENO_AGE  \\\n",
            "18345                  0.0                0.0      0.0       0.0   \n",
            "\n",
            "       UCLN_PRGN_YN  MENA_AGE  SHIS_YN  UCLN_OPN_ETC_SITE_CRCN_YN  \\\n",
            "18345           0.0      13.1      0.0                        0.0   \n",
            "\n",
            "       CUR_SMOK_YN  RDT_DTRN_YN  FDLV_AGE  HORM_TRTM_INGR_NM  \\\n",
            "18345          0.0          0.5       0.0                0.0   \n",
            "\n",
            "       MHIS_BRST_OPRT_YN  HRT_USE_YN  HRT_DTRN_MCNT  target  \n",
            "18345                0.5         1.0            1.0     0.0  \n",
            "새로운 데이터셋에 대한 예측 결과: [1.]\n"
          ]
        },
        {
          "output_type": "stream",
          "name": "stderr",
          "text": [
            "/usr/local/lib/python3.10/dist-packages/sklearn/base.py:432: UserWarning: X has feature names, but GradientBoostingClassifier was fitted without feature names\n",
            "  warnings.warn(\n"
          ]
        }
      ]
    },
    {
      "cell_type": "markdown",
      "source": [
        "#점수 분포도"
      ],
      "metadata": {
        "id": "bmkBvMgPn5yC"
      }
    },
    {
      "cell_type": "code",
      "source": [
        "import seaborn as sns\n",
        "\n",
        "sns.displot(data=df, x='Risk_Percentile_gbm', kind='kde')\n"
      ],
      "metadata": {
        "colab": {
          "base_uri": "https://localhost:8080/",
          "height": 525
        },
        "id": "fgtbjUX_n8aM",
        "outputId": "a0055b5b-d23f-45c0-b333-f688e67ba8e0"
      },
      "execution_count": null,
      "outputs": [
        {
          "output_type": "execute_result",
          "data": {
            "text/plain": [
              "<seaborn.axisgrid.FacetGrid at 0x7c45465afe20>"
            ]
          },
          "metadata": {},
          "execution_count": 52
        },
        {
          "output_type": "display_data",
          "data": {
            "text/plain": [
              "<Figure size 500x500 with 1 Axes>"
            ],
            "image/png": "[encoded data removed]"
          },
          "metadata": {}
        }
      ]
    },
    {
      "cell_type": "code",
      "source": [
        "sns.distplot(x=df['Risk_Percentile_gbm'], kde=True, rug=True)\n",
        "plt.title(\"gbm 점수 분포\")\n",
        "plt.show()"
      ],
      "metadata": {
        "colab": {
          "base_uri": "https://localhost:8080/",
          "height": 807
        },
        "id": "0SddsDB7o0kf",
        "outputId": "098473c7-a985-4d7c-b80f-31c137403963"
      },
      "execution_count": null,
      "outputs": [
        {
          "output_type": "stream",
          "name": "stderr",
          "text": [
            "<ipython-input-53-2b746fc5fd04>:1: UserWarning: \n",
            "\n",
            "`distplot` is a deprecated function and will be removed in seaborn v0.14.0.\n",
            "\n",
            "Please adapt your code to use either `displot` (a figure-level function with\n",
            "similar flexibility) or `histplot` (an axes-level function for histograms).\n",
            "\n",
            "For a guide to updating your code to use the new functions, please see\n",
            "https://gist.github.com/mwaskom/de44147ed2974457ad6372750bbe5751\n",
            "\n",
            "  sns.distplot(x=df['Risk_Percentile_gbm'], kde=True, rug=True)\n",
            "/usr/local/lib/python3.10/dist-packages/IPython/core/pylabtools.py:151: UserWarning: Glyph 51216 (\\N{HANGUL SYLLABLE JEOM}) missing from current font.\n",
            "  fig.canvas.print_figure(bytes_io, **kw)\n",
            "/usr/local/lib/python3.10/dist-packages/IPython/core/pylabtools.py:151: UserWarning: Glyph 49688 (\\N{HANGUL SYLLABLE SU}) missing from current font.\n",
            "  fig.canvas.print_figure(bytes_io, **kw)\n",
            "/usr/local/lib/python3.10/dist-packages/IPython/core/pylabtools.py:151: UserWarning: Glyph 48516 (\\N{HANGUL SYLLABLE BUN}) missing from current font.\n",
            "  fig.canvas.print_figure(bytes_io, **kw)\n",
            "/usr/local/lib/python3.10/dist-packages/IPython/core/pylabtools.py:151: UserWarning: Glyph 54252 (\\N{HANGUL SYLLABLE PO}) missing from current font.\n",
            "  fig.canvas.print_figure(bytes_io, **kw)\n"
          ]
        },
        {
          "output_type": "display_data",
          "data": {
            "text/plain": [
              "<Figure size 640x480 with 1 Axes>"
            ],
            "image/png": "[encoded data removed]"
          },
          "metadata": {}
        }
      ]
    },
    {
      "cell_type": "markdown",
      "source": [
        "##점수 정확도 분석"
      ],
      "metadata": {
        "id": "vaZecJJdLXu9"
      }
    },
    {
      "cell_type": "code",
      "source": [
        "sns.distplot(x=df['Risk_Percentile_ann'], kde=True, rug=True)\n",
        "plt.title(\"ann 점수 분포\")\n",
        "plt.show()"
      ],
      "metadata": {
        "colab": {
          "base_uri": "https://localhost:8080/",
          "height": 807
        },
        "id": "P6cC7Xv2JtDc",
        "outputId": "84f693d3-a5d4-4708-df7f-8e6e53172870"
      },
      "execution_count": null,
      "outputs": [
        {
          "output_type": "stream",
          "name": "stderr",
          "text": [
            "<ipython-input-59-3b43b4e57bfb>:1: UserWarning: \n",
            "\n",
            "`distplot` is a deprecated function and will be removed in seaborn v0.14.0.\n",
            "\n",
            "Please adapt your code to use either `displot` (a figure-level function with\n",
            "similar flexibility) or `histplot` (an axes-level function for histograms).\n",
            "\n",
            "For a guide to updating your code to use the new functions, please see\n",
            "https://gist.github.com/mwaskom/de44147ed2974457ad6372750bbe5751\n",
            "\n",
            "  sns.distplot(x=df['Risk_Percentile_ann'], kde=True, rug=True)\n",
            "/usr/local/lib/python3.10/dist-packages/IPython/core/pylabtools.py:151: UserWarning: Glyph 51216 (\\N{HANGUL SYLLABLE JEOM}) missing from current font.\n",
            "  fig.canvas.print_figure(bytes_io, **kw)\n",
            "/usr/local/lib/python3.10/dist-packages/IPython/core/pylabtools.py:151: UserWarning: Glyph 49688 (\\N{HANGUL SYLLABLE SU}) missing from current font.\n",
            "  fig.canvas.print_figure(bytes_io, **kw)\n",
            "/usr/local/lib/python3.10/dist-packages/IPython/core/pylabtools.py:151: UserWarning: Glyph 48516 (\\N{HANGUL SYLLABLE BUN}) missing from current font.\n",
            "  fig.canvas.print_figure(bytes_io, **kw)\n",
            "/usr/local/lib/python3.10/dist-packages/IPython/core/pylabtools.py:151: UserWarning: Glyph 54252 (\\N{HANGUL SYLLABLE PO}) missing from current font.\n",
            "  fig.canvas.print_figure(bytes_io, **kw)\n"
          ]
        },
        {
          "output_type": "display_data",
          "data": {
            "text/plain": [
              "<Figure size 640x480 with 1 Axes>"
            ],
            "image/png": "[encoded data removed]"
          },
          "metadata": {}
        }
      ]
    },
    {
      "cell_type": "code",
      "source": [
        "sns.distplot(x=df['Risk_Percentile_rf'], kde=True, rug=True)\n",
        "plt.title(\"rf 점수 분포\")\n",
        "plt.show()"
      ],
      "metadata": {
        "colab": {
          "base_uri": "https://localhost:8080/",
          "height": 807
        },
        "id": "PBIeCIBOJto2",
        "outputId": "4e753669-df8f-47fd-c184-51a13b2d0145"
      },
      "execution_count": null,
      "outputs": [
        {
          "output_type": "stream",
          "name": "stderr",
          "text": [
            "<ipython-input-60-e960e20dfd8a>:1: UserWarning: \n",
            "\n",
            "`distplot` is a deprecated function and will be removed in seaborn v0.14.0.\n",
            "\n",
            "Please adapt your code to use either `displot` (a figure-level function with\n",
            "similar flexibility) or `histplot` (an axes-level function for histograms).\n",
            "\n",
            "For a guide to updating your code to use the new functions, please see\n",
            "https://gist.github.com/mwaskom/de44147ed2974457ad6372750bbe5751\n",
            "\n",
            "  sns.distplot(x=df['Risk_Percentile_rf'], kde=True, rug=True)\n",
            "/usr/local/lib/python3.10/dist-packages/IPython/core/pylabtools.py:151: UserWarning: Glyph 51216 (\\N{HANGUL SYLLABLE JEOM}) missing from current font.\n",
            "  fig.canvas.print_figure(bytes_io, **kw)\n",
            "/usr/local/lib/python3.10/dist-packages/IPython/core/pylabtools.py:151: UserWarning: Glyph 49688 (\\N{HANGUL SYLLABLE SU}) missing from current font.\n",
            "  fig.canvas.print_figure(bytes_io, **kw)\n",
            "/usr/local/lib/python3.10/dist-packages/IPython/core/pylabtools.py:151: UserWarning: Glyph 48516 (\\N{HANGUL SYLLABLE BUN}) missing from current font.\n",
            "  fig.canvas.print_figure(bytes_io, **kw)\n",
            "/usr/local/lib/python3.10/dist-packages/IPython/core/pylabtools.py:151: UserWarning: Glyph 54252 (\\N{HANGUL SYLLABLE PO}) missing from current font.\n",
            "  fig.canvas.print_figure(bytes_io, **kw)\n"
          ]
        },
        {
          "output_type": "display_data",
          "data": {
            "text/plain": [
              "<Figure size 640x480 with 1 Axes>"
            ],
            "image/png": "[encoded data removed]"
          },
          "metadata": {}
        }
      ]
    },
    {
      "cell_type": "code",
      "source": [
        "sns.distplot(x=df['Risk_Percentile_lr'], kde=True, rug=True)\n",
        "plt.title(\"lr 점수 분포\")\n",
        "plt.show()"
      ],
      "metadata": {
        "colab": {
          "base_uri": "https://localhost:8080/",
          "height": 807
        },
        "id": "SftWJKH8JuJW",
        "outputId": "5beea8c1-2005-4583-db09-6fe168db4b6b"
      },
      "execution_count": null,
      "outputs": [
        {
          "output_type": "stream",
          "name": "stderr",
          "text": [
            "<ipython-input-61-ad8729ee3e73>:1: UserWarning: \n",
            "\n",
            "`distplot` is a deprecated function and will be removed in seaborn v0.14.0.\n",
            "\n",
            "Please adapt your code to use either `displot` (a figure-level function with\n",
            "similar flexibility) or `histplot` (an axes-level function for histograms).\n",
            "\n",
            "For a guide to updating your code to use the new functions, please see\n",
            "https://gist.github.com/mwaskom/de44147ed2974457ad6372750bbe5751\n",
            "\n",
            "  sns.distplot(x=df['Risk_Percentile_lr'], kde=True, rug=True)\n",
            "/usr/local/lib/python3.10/dist-packages/IPython/core/pylabtools.py:151: UserWarning: Glyph 51216 (\\N{HANGUL SYLLABLE JEOM}) missing from current font.\n",
            "  fig.canvas.print_figure(bytes_io, **kw)\n",
            "/usr/local/lib/python3.10/dist-packages/IPython/core/pylabtools.py:151: UserWarning: Glyph 49688 (\\N{HANGUL SYLLABLE SU}) missing from current font.\n",
            "  fig.canvas.print_figure(bytes_io, **kw)\n",
            "/usr/local/lib/python3.10/dist-packages/IPython/core/pylabtools.py:151: UserWarning: Glyph 48516 (\\N{HANGUL SYLLABLE BUN}) missing from current font.\n",
            "  fig.canvas.print_figure(bytes_io, **kw)\n",
            "/usr/local/lib/python3.10/dist-packages/IPython/core/pylabtools.py:151: UserWarning: Glyph 54252 (\\N{HANGUL SYLLABLE PO}) missing from current font.\n",
            "  fig.canvas.print_figure(bytes_io, **kw)\n"
          ]
        },
        {
          "output_type": "display_data",
          "data": {
            "text/plain": [
              "<Figure size 640x480 with 1 Axes>"
            ],
            "image/png": "[encoded data removed]"
          },
          "metadata": {}
        }
      ]
    },
    {
      "cell_type": "code",
      "source": [
        "# 'Risk_Percentile_gbm' 칼럼의 값과 'target' 칼럼의 값을 가져옴\n",
        "risk_percentile = df['Risk_Percentile_gbm']\n",
        "target = df['target']\n"
      ],
      "metadata": {
        "id": "NSANbZxCeTO0"
      },
      "execution_count": null,
      "outputs": []
    },
    {
      "cell_type": "code",
      "source": [
        "from sklearn.metrics import precision_recall_curve, f1_score\n",
        "\n",
        "# 정밀도, 재현율, 임계값 계산\n",
        "precision, recall, thresholds = precision_recall_curve(target, risk_percentile)\n",
        "\n",
        "# F1-score 계산\n",
        "f1_scores = [f1_score(target, (risk_percentile >= threshold).astype(int)) for threshold in thresholds]\n",
        "\n",
        "# F1-score와 thresholds 간 관계 시각화\n",
        "plt.plot(thresholds, f1_scores, label='F1-score')\n",
        "plt.xlabel('Threshold')\n",
        "plt.ylabel('F1-score')\n",
        "plt.title('F1-score vs. Threshold')\n",
        "plt.legend()\n",
        "plt.show()\n",
        "\n",
        "# 최적의 임계값 선택\n",
        "best_threshold_index = np.argmax(f1_scores)\n",
        "best_threshold = thresholds[best_threshold_index]\n",
        "best_f1_score = f1_scores[best_threshold_index]\n",
        "best_precision = precision[best_threshold_index]\n",
        "best_recall = recall[best_threshold_index]\n",
        "\n",
        "print(\"Best Threshold:\", best_threshold)\n",
        "print(\"Best F1-score:\", best_f1_score)\n",
        "print(\"Corresponding Precision:\", best_precision)\n",
        "print(\"Corresponding Recall:\", best_recall)"
      ],
      "metadata": {
        "colab": {
          "base_uri": "https://localhost:8080/",
          "height": 547
        },
        "id": "8yHO7--peE8Y",
        "outputId": "20c888b9-def0-458e-f628-ed66e2a4df06"
      },
      "execution_count": null,
      "outputs": [
        {
          "output_type": "display_data",
          "data": {
            "text/plain": [
              "<Figure size 640x480 with 1 Axes>"
            ],
            "image/png": "[encoded data removed]"
          },
          "metadata": {}
        },
        {
          "output_type": "stream",
          "name": "stdout",
          "text": [
            "Best Threshold: 40.13314220343852\n",
            "Best F1-score: 0.9992389345083117\n",
            "Corresponding Precision: 0.9990388466159391\n",
            "Corresponding Recall: 0.9994391025641025\n"
          ]
        }
      ]
    },
    {
      "cell_type": "code",
      "source": [
        "# 주어진 임계값\n",
        "threshold = 40.13314220343852\n",
        "\n",
        "# 임계값을 기준으로 이진 분류 수행\n",
        "predicted = (risk_percentile >= threshold).astype(int)\n",
        "\n",
        "# 혼동 행렬 계산\n",
        "tn, fp, fn, tp = confusion_matrix(target, predicted).ravel()\n",
        "\n",
        "# 혼동 행렬 시각화\n",
        "conf_matrix = np.array([[tn, fp], [fn, tp]])\n",
        "plt.imshow(conf_matrix, interpolation='nearest', cmap=plt.cm.Blues)\n",
        "plt.title('Confusion Matrix')\n",
        "plt.colorbar()\n",
        "plt.xticks([0, 1], ['Predicted Negative', 'Predicted Positive'])\n",
        "plt.yticks([0, 1], ['Actual Negative', 'Actual Positive'])\n",
        "plt.xlabel('Predicted Label')\n",
        "plt.ylabel('True Label')\n",
        "\n",
        "for i in range(2):\n",
        "    for j in range(2):\n",
        "        plt.text(j, i, str(conf_matrix[i, j]), horizontalalignment='center', color='white' if conf_matrix[i, j] > (conf_matrix.max() / 2) else 'black')\n",
        "\n",
        "plt.show()"
      ],
      "metadata": {
        "colab": {
          "base_uri": "https://localhost:8080/",
          "height": 472
        },
        "id": "Ra11gANi7tCi",
        "outputId": "c32add3b-c71e-4b7d-c28c-0006cd3ab6c6"
      },
      "execution_count": null,
      "outputs": [
        {
          "output_type": "display_data",
          "data": {
            "text/plain": [
              "<Figure size 640x480 with 2 Axes>"
            ],
            "image/png": "[encoded data removed]"
          },
          "metadata": {}
        }
      ]
    },
    {
      "cell_type": "code",
      "source": [
        "# 재현율과 정밀도 계산\n",
        "recall = recall_score(target, predicted)\n",
        "precision = precision_score(target, predicted)\n",
        "\n",
        "print(\"Recall:\", recall)\n",
        "print(\"Precision:\", precision)"
      ],
      "metadata": {
        "colab": {
          "base_uri": "https://localhost:8080/"
        },
        "id": "ZW43QCb7ffLs",
        "outputId": "6b603efa-d233-46d9-dda5-23abfda7a0eb"
      },
      "execution_count": null,
      "outputs": [
        {
          "output_type": "stream",
          "name": "stdout",
          "text": [
            "Recall: 0.9994391025641025\n",
            "Precision: 0.9990388466159391\n"
          ]
        }
      ]
    },
    {
      "cell_type": "code",
      "source": [
        "# 'target'이 0인 표본과 1인 표본을 나누기\n",
        "target_0 = df[df['target'] == 0]['Risk_Percentile_gbm']\n",
        "target_1 = df[df['target'] == 1]['Risk_Percentile_gbm']\n",
        "\n",
        "# 히스토그램을 통해 시각화\n",
        "plt.hist(target_0, bins=50, color='blue', alpha=0.5, label='Target 0')\n",
        "plt.hist(target_1, bins=50, color='red', alpha=0.5, label='Target 1')\n",
        "plt.axvline(x=threshold, color='black', linestyle='--', label='Threshold')\n",
        "plt.xlabel('Risk Percentile')\n",
        "plt.ylabel('Frequency')\n",
        "plt.title('Distribution of Risk_Percentile_gbm with Threshold')\n",
        "plt.legend()\n",
        "plt.show()"
      ],
      "metadata": {
        "colab": {
          "base_uri": "https://localhost:8080/",
          "height": 472
        },
        "id": "bB5mtCu2gyP7",
        "outputId": "ddf41bea-ee85-4bf0-c58b-c7e3b991c7a4"
      },
      "execution_count": null,
      "outputs": [
        {
          "output_type": "display_data",
          "data": {
            "text/plain": [
              "<Figure size 640x480 with 1 Axes>"
            ],
            "image/png": "[encoded data removed]"
          },
          "metadata": {}
        }
      ]
    }
  ],
  "metadata": {
    "colab": {
      "collapsed_sections": [
        "WJB47vJcOrGx",
        "sfD-pFFHRxDS",
        "o87bvuwS251L",
        "iAcXNafAFCaU",
        "abjOD4Dd3xn0",
        "x_aoPfoP3vMJ",
        "fz4cou123DM4",
        "CL-4IwJVCbdT",
        "Cjwe6r5fErpK",
        "BKb8jRcoDIgD",
        "RwbqlJXZDM2l",
        "HjWyJiAuB0Nq",
        "M20i_utuFO1W",
        "fT5yvB6yFeaf",
        "-_kUdk12F-h2",
        "0hzAVyJXSCQN",
        "JrCJ2joJLCDj",
        "bmkBvMgPn5yC"
      ],
      "provenance": []
    },
    "kernelspec": {
      "display_name": "Python 3",
      "name": "python3"
    },
    "language_info": {
      "name": "python"
    }
  },
  "nbformat": 4,
  "nbformat_minor": 0
}