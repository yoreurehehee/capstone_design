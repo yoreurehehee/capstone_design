{
  "cells": [
    {
      "cell_type": "code",
      "execution_count": null,
      "metadata": {
        "colab": {
          "base_uri": "https://localhost:8080/"
        },
        "id": "uE282GxKN4Fc",
        "outputId": "9630f7a4-3c3f-464c-b9f8-92e9b913e425"
      },
      "outputs": [
        {
          "output_type": "stream",
          "name": "stdout",
          "text": [
            "Mounted at /content/drive\n"
          ]
        }
      ],
      "source": [
        "from google.colab import drive\n",
        "drive.mount('/content/drive')"
      ]
    },
    {
      "cell_type": "markdown",
      "metadata": {
        "id": "WJB47vJcOrGx"
      },
      "source": [
        "#라이브러리 다운"
      ]
    },
    {
      "cell_type": "code",
      "execution_count": null,
      "metadata": {
        "id": "VPdIh9A2OtrY"
      },
      "outputs": [],
      "source": [
        "import os\n",
        "import numpy as np\n",
        "import pandas as pd\n",
        "import seaborn as sns\n",
        "import datetime as dt\n",
        "import matplotlib.pyplot as plt\n",
        "%matplotlib inline\n",
        "from sklearn import preprocessing\n",
        "from sklearn.model_selection import train_test_split\n",
        "from sklearn.metrics import confusion_matrix\n",
        "\n",
        "\n",
        "# for coloring maps\n",
        "from matplotlib import colormaps\n",
        "\n",
        "# for data visualizations\n",
        "\n",
        "import plotly.express as px\n",
        "\n",
        "# for preprocessing\n",
        "from sklearn.preprocessing import StandardScaler\n",
        "\n",
        "# for label encoding\n",
        "from sklearn.preprocessing import LabelEncoder\n",
        "\n",
        "# for data split\n",
        "from sklearn.model_selection import train_test_split"
      ]
    },
    {
      "cell_type": "code",
      "source": [
        "df_start=pd.read_csv('/content/drive/MyDrive/캡디/최종 보고서용 모델 코드/융합캡스톤디자인_최종데이터.csv')"
      ],
      "metadata": {
        "id": "-St5ABHq-f-m"
      },
      "execution_count": null,
      "outputs": []
    },
    {
      "cell_type": "code",
      "execution_count": null,
      "metadata": {
        "id": "0bpwimEtN7SI",
        "colab": {
          "base_uri": "https://localhost:8080/",
          "height": 443
        },
        "outputId": "fb80e595-6da1-4f8e-ef7b-a0e8def508cd"
      },
      "outputs": [
        {
          "output_type": "execute_result",
          "data": {
            "text/plain": [
              "       UCLN_OPN_ETC_SITE_CRCN_YN  UCLN_PRGN_YN  RDT_DTRN_YN  RDT_RT_NO  \\\n",
              "0                            0.0           0.0          0.0        0.0   \n",
              "1                            0.0           1.0          0.0        0.0   \n",
              "2                            1.0           0.0          1.0       18.0   \n",
              "3                            1.0           1.0          1.0       35.0   \n",
              "4                            1.0           0.0          0.0        0.0   \n",
              "...                          ...           ...          ...        ...   \n",
              "23802                        0.0           0.5          0.5      141.0   \n",
              "23803                        0.0           0.5          1.0      321.5   \n",
              "23804                        0.0           0.0          0.0        0.0   \n",
              "23805                        0.0           0.5          0.5      141.0   \n",
              "23806                        0.0           0.5          0.5      141.0   \n",
              "\n",
              "       RDT_DTRN_DCNT  RDT_SITE_KIND_CD  RDT_SITE_CD  RDT_TM1_CGY  \\\n",
              "0                0.0               0.0          0.0          0.0   \n",
              "1                0.0               0.0          0.0          0.0   \n",
              "2               63.0              99.0         10.0       9922.0   \n",
              "3                7.0              99.0         22.0       3740.0   \n",
              "4                0.0               0.0          0.0          0.0   \n",
              "...              ...               ...          ...          ...   \n",
              "23802           18.0               4.0          5.0       1148.5   \n",
              "23803           46.5              53.5         55.0       3041.5   \n",
              "23804            0.0               0.0          0.0          0.0   \n",
              "23805           18.0               4.0          5.0       1148.5   \n",
              "23806           18.0               4.0          5.0       1148.5   \n",
              "\n",
              "       RDT_TOTL_TRTM_NT  RDT_TOTL_CGY  ...  HRT_USE_YN  HRT_DTRN_MCNT  HT_VL  \\\n",
              "0                   0.0           0.0  ...         1.0            4.0  156.0   \n",
              "1                   0.0           0.0  ...         0.0            0.0  152.0   \n",
              "2                8876.0        1073.0  ...         0.0            0.0  153.0   \n",
              "3                5905.0         999.0  ...         0.0            0.0  153.0   \n",
              "4                   0.0           0.0  ...         1.0            6.0  156.9   \n",
              "...                 ...           ...  ...         ...            ...    ...   \n",
              "23802             216.5        1891.0  ...         1.0            0.0  174.8   \n",
              "23803            2870.0        2564.5  ...         1.0            0.0  145.2   \n",
              "23804               0.0           0.0  ...         0.0            0.0  175.0   \n",
              "23805             216.5        1891.0  ...         1.0            0.0  175.0   \n",
              "23806             216.5        1891.0  ...         1.0            0.0  175.0   \n",
              "\n",
              "       WT_MSRM_VL  BMI_VL  BRCA1_PAVR_DTCT_CLSF_CD  \\\n",
              "0            70.0   28.76                      0.0   \n",
              "1            61.0   26.40                      0.0   \n",
              "2            60.0   25.63                      0.0   \n",
              "3            64.0   27.34                      0.0   \n",
              "4            69.2   28.11                      0.0   \n",
              "...           ...     ...                      ...   \n",
              "23802        40.7   13.30                      1.0   \n",
              "23803        40.0   19.00                      1.0   \n",
              "23804        42.4   13.80                      1.0   \n",
              "23805        40.5   13.20                      1.0   \n",
              "23806        41.8   13.60                      1.0   \n",
              "\n",
              "       BRCA1_UNCL_VARN_DTCT_CLSF_CD  BRCA2_PAVR_DTCT_CLSF_CD  \\\n",
              "0                               0.0                      0.0   \n",
              "1                               0.0                      0.0   \n",
              "2                               0.0                      0.0   \n",
              "3                               0.0                      0.0   \n",
              "4                               0.0                      0.0   \n",
              "...                             ...                      ...   \n",
              "23802                           1.0                      1.0   \n",
              "23803                           1.0                      1.0   \n",
              "23804                           1.0                      1.0   \n",
              "23805                           1.0                      1.0   \n",
              "23806                           1.0                      1.0   \n",
              "\n",
              "       BRCA2_UNCL_VARN_DTCT_CLSF_CD  target  \n",
              "0                               0.0     1.0  \n",
              "1                               0.0     1.0  \n",
              "2                               0.0     1.0  \n",
              "3                               0.0     1.0  \n",
              "4                               0.0     1.0  \n",
              "...                             ...     ...  \n",
              "23802                           1.0     0.0  \n",
              "23803                           1.0     0.0  \n",
              "23804                           1.0     0.0  \n",
              "23805                           1.0     0.0  \n",
              "23806                           1.0     0.0  \n",
              "\n",
              "[23807 rows x 66 columns]"
            ],
            "text/html": [
              "\n",
              "  <div id=\"df-2ec54805-4a2c-4ba6-9f32-25a0a96fdaf6\" class=\"colab-df-container\">\n",
              "    <div>\n",
              "<style scoped>\n",
              "    .dataframe tbody tr th:only-of-type {\n",
              "        vertical-align: middle;\n",
              "    }\n",
              "\n",
              "    .dataframe tbody tr th {\n",
              "        vertical-align: top;\n",
              "    }\n",
              "\n",
              "    .dataframe thead th {\n",
              "        text-align: right;\n",
              "    }\n",
              "</style>\n",
              "<table border=\"1\" class=\"dataframe\">\n",
              "  <thead>\n",
              "    <tr style=\"text-align: right;\">\n",
              "      <th></th>\n",
              "      <th>UCLN_OPN_ETC_SITE_CRCN_YN</th>\n",
              "      <th>UCLN_PRGN_YN</th>\n",
              "      <th>RDT_DTRN_YN</th>\n",
              "      <th>RDT_RT_NO</th>\n",
              "      <th>RDT_DTRN_DCNT</th>\n",
              "      <th>RDT_SITE_KIND_CD</th>\n",
              "      <th>RDT_SITE_CD</th>\n",
              "      <th>RDT_TM1_CGY</th>\n",
              "      <th>RDT_TOTL_TRTM_NT</th>\n",
              "      <th>RDT_TOTL_CGY</th>\n",
              "      <th>...</th>\n",
              "      <th>HRT_USE_YN</th>\n",
              "      <th>HRT_DTRN_MCNT</th>\n",
              "      <th>HT_VL</th>\n",
              "      <th>WT_MSRM_VL</th>\n",
              "      <th>BMI_VL</th>\n",
              "      <th>BRCA1_PAVR_DTCT_CLSF_CD</th>\n",
              "      <th>BRCA1_UNCL_VARN_DTCT_CLSF_CD</th>\n",
              "      <th>BRCA2_PAVR_DTCT_CLSF_CD</th>\n",
              "      <th>BRCA2_UNCL_VARN_DTCT_CLSF_CD</th>\n",
              "      <th>target</th>\n",
              "    </tr>\n",
              "  </thead>\n",
              "  <tbody>\n",
              "    <tr>\n",
              "      <th>0</th>\n",
              "      <td>0.0</td>\n",
              "      <td>0.0</td>\n",
              "      <td>0.0</td>\n",
              "      <td>0.0</td>\n",
              "      <td>0.0</td>\n",
              "      <td>0.0</td>\n",
              "      <td>0.0</td>\n",
              "      <td>0.0</td>\n",
              "      <td>0.0</td>\n",
              "      <td>0.0</td>\n",
              "      <td>...</td>\n",
              "      <td>1.0</td>\n",
              "      <td>4.0</td>\n",
              "      <td>156.0</td>\n",
              "      <td>70.0</td>\n",
              "      <td>28.76</td>\n",
              "      <td>0.0</td>\n",
              "      <td>0.0</td>\n",
              "      <td>0.0</td>\n",
              "      <td>0.0</td>\n",
              "      <td>1.0</td>\n",
              "    </tr>\n",
              "    <tr>\n",
              "      <th>1</th>\n",
              "      <td>0.0</td>\n",
              "      <td>1.0</td>\n",
              "      <td>0.0</td>\n",
              "      <td>0.0</td>\n",
              "      <td>0.0</td>\n",
              "      <td>0.0</td>\n",
              "      <td>0.0</td>\n",
              "      <td>0.0</td>\n",
              "      <td>0.0</td>\n",
              "      <td>0.0</td>\n",
              "      <td>...</td>\n",
              "      <td>0.0</td>\n",
              "      <td>0.0</td>\n",
              "      <td>152.0</td>\n",
              "      <td>61.0</td>\n",
              "      <td>26.40</td>\n",
              "      <td>0.0</td>\n",
              "      <td>0.0</td>\n",
              "      <td>0.0</td>\n",
              "      <td>0.0</td>\n",
              "      <td>1.0</td>\n",
              "    </tr>\n",
              "    <tr>\n",
              "      <th>2</th>\n",
              "      <td>1.0</td>\n",
              "      <td>0.0</td>\n",
              "      <td>1.0</td>\n",
              "      <td>18.0</td>\n",
              "      <td>63.0</td>\n",
              "      <td>99.0</td>\n",
              "      <td>10.0</td>\n",
              "      <td>9922.0</td>\n",
              "      <td>8876.0</td>\n",
              "      <td>1073.0</td>\n",
              "      <td>...</td>\n",
              "      <td>0.0</td>\n",
              "      <td>0.0</td>\n",
              "      <td>153.0</td>\n",
              "      <td>60.0</td>\n",
              "      <td>25.63</td>\n",
              "      <td>0.0</td>\n",
              "      <td>0.0</td>\n",
              "      <td>0.0</td>\n",
              "      <td>0.0</td>\n",
              "      <td>1.0</td>\n",
              "    </tr>\n",
              "    <tr>\n",
              "      <th>3</th>\n",
              "      <td>1.0</td>\n",
              "      <td>1.0</td>\n",
              "      <td>1.0</td>\n",
              "      <td>35.0</td>\n",
              "      <td>7.0</td>\n",
              "      <td>99.0</td>\n",
              "      <td>22.0</td>\n",
              "      <td>3740.0</td>\n",
              "      <td>5905.0</td>\n",
              "      <td>999.0</td>\n",
              "      <td>...</td>\n",
              "      <td>0.0</td>\n",
              "      <td>0.0</td>\n",
              "      <td>153.0</td>\n",
              "      <td>64.0</td>\n",
              "      <td>27.34</td>\n",
              "      <td>0.0</td>\n",
              "      <td>0.0</td>\n",
              "      <td>0.0</td>\n",
              "      <td>0.0</td>\n",
              "      <td>1.0</td>\n",
              "    </tr>\n",
              "    <tr>\n",
              "      <th>4</th>\n",
              "      <td>1.0</td>\n",
              "      <td>0.0</td>\n",
              "      <td>0.0</td>\n",
              "      <td>0.0</td>\n",
              "      <td>0.0</td>\n",
              "      <td>0.0</td>\n",
              "      <td>0.0</td>\n",
              "      <td>0.0</td>\n",
              "      <td>0.0</td>\n",
              "      <td>0.0</td>\n",
              "      <td>...</td>\n",
              "      <td>1.0</td>\n",
              "      <td>6.0</td>\n",
              "      <td>156.9</td>\n",
              "      <td>69.2</td>\n",
              "      <td>28.11</td>\n",
              "      <td>0.0</td>\n",
              "      <td>0.0</td>\n",
              "      <td>0.0</td>\n",
              "      <td>0.0</td>\n",
              "      <td>1.0</td>\n",
              "    </tr>\n",
              "    <tr>\n",
              "      <th>...</th>\n",
              "      <td>...</td>\n",
              "      <td>...</td>\n",
              "      <td>...</td>\n",
              "      <td>...</td>\n",
              "      <td>...</td>\n",
              "      <td>...</td>\n",
              "      <td>...</td>\n",
              "      <td>...</td>\n",
              "      <td>...</td>\n",
              "      <td>...</td>\n",
              "      <td>...</td>\n",
              "      <td>...</td>\n",
              "      <td>...</td>\n",
              "      <td>...</td>\n",
              "      <td>...</td>\n",
              "      <td>...</td>\n",
              "      <td>...</td>\n",
              "      <td>...</td>\n",
              "      <td>...</td>\n",
              "      <td>...</td>\n",
              "      <td>...</td>\n",
              "    </tr>\n",
              "    <tr>\n",
              "      <th>23802</th>\n",
              "      <td>0.0</td>\n",
              "      <td>0.5</td>\n",
              "      <td>0.5</td>\n",
              "      <td>141.0</td>\n",
              "      <td>18.0</td>\n",
              "      <td>4.0</td>\n",
              "      <td>5.0</td>\n",
              "      <td>1148.5</td>\n",
              "      <td>216.5</td>\n",
              "      <td>1891.0</td>\n",
              "      <td>...</td>\n",
              "      <td>1.0</td>\n",
              "      <td>0.0</td>\n",
              "      <td>174.8</td>\n",
              "      <td>40.7</td>\n",
              "      <td>13.30</td>\n",
              "      <td>1.0</td>\n",
              "      <td>1.0</td>\n",
              "      <td>1.0</td>\n",
              "      <td>1.0</td>\n",
              "      <td>0.0</td>\n",
              "    </tr>\n",
              "    <tr>\n",
              "      <th>23803</th>\n",
              "      <td>0.0</td>\n",
              "      <td>0.5</td>\n",
              "      <td>1.0</td>\n",
              "      <td>321.5</td>\n",
              "      <td>46.5</td>\n",
              "      <td>53.5</td>\n",
              "      <td>55.0</td>\n",
              "      <td>3041.5</td>\n",
              "      <td>2870.0</td>\n",
              "      <td>2564.5</td>\n",
              "      <td>...</td>\n",
              "      <td>1.0</td>\n",
              "      <td>0.0</td>\n",
              "      <td>145.2</td>\n",
              "      <td>40.0</td>\n",
              "      <td>19.00</td>\n",
              "      <td>1.0</td>\n",
              "      <td>1.0</td>\n",
              "      <td>1.0</td>\n",
              "      <td>1.0</td>\n",
              "      <td>0.0</td>\n",
              "    </tr>\n",
              "    <tr>\n",
              "      <th>23804</th>\n",
              "      <td>0.0</td>\n",
              "      <td>0.0</td>\n",
              "      <td>0.0</td>\n",
              "      <td>0.0</td>\n",
              "      <td>0.0</td>\n",
              "      <td>0.0</td>\n",
              "      <td>0.0</td>\n",
              "      <td>0.0</td>\n",
              "      <td>0.0</td>\n",
              "      <td>0.0</td>\n",
              "      <td>...</td>\n",
              "      <td>0.0</td>\n",
              "      <td>0.0</td>\n",
              "      <td>175.0</td>\n",
              "      <td>42.4</td>\n",
              "      <td>13.80</td>\n",
              "      <td>1.0</td>\n",
              "      <td>1.0</td>\n",
              "      <td>1.0</td>\n",
              "      <td>1.0</td>\n",
              "      <td>0.0</td>\n",
              "    </tr>\n",
              "    <tr>\n",
              "      <th>23805</th>\n",
              "      <td>0.0</td>\n",
              "      <td>0.5</td>\n",
              "      <td>0.5</td>\n",
              "      <td>141.0</td>\n",
              "      <td>18.0</td>\n",
              "      <td>4.0</td>\n",
              "      <td>5.0</td>\n",
              "      <td>1148.5</td>\n",
              "      <td>216.5</td>\n",
              "      <td>1891.0</td>\n",
              "      <td>...</td>\n",
              "      <td>1.0</td>\n",
              "      <td>0.0</td>\n",
              "      <td>175.0</td>\n",
              "      <td>40.5</td>\n",
              "      <td>13.20</td>\n",
              "      <td>1.0</td>\n",
              "      <td>1.0</td>\n",
              "      <td>1.0</td>\n",
              "      <td>1.0</td>\n",
              "      <td>0.0</td>\n",
              "    </tr>\n",
              "    <tr>\n",
              "      <th>23806</th>\n",
              "      <td>0.0</td>\n",
              "      <td>0.5</td>\n",
              "      <td>0.5</td>\n",
              "      <td>141.0</td>\n",
              "      <td>18.0</td>\n",
              "      <td>4.0</td>\n",
              "      <td>5.0</td>\n",
              "      <td>1148.5</td>\n",
              "      <td>216.5</td>\n",
              "      <td>1891.0</td>\n",
              "      <td>...</td>\n",
              "      <td>1.0</td>\n",
              "      <td>0.0</td>\n",
              "      <td>175.0</td>\n",
              "      <td>41.8</td>\n",
              "      <td>13.60</td>\n",
              "      <td>1.0</td>\n",
              "      <td>1.0</td>\n",
              "      <td>1.0</td>\n",
              "      <td>1.0</td>\n",
              "      <td>0.0</td>\n",
              "    </tr>\n",
              "  </tbody>\n",
              "</table>\n",
              "<p>23807 rows × 66 columns</p>\n",
              "</div>\n",
              "    <div class=\"colab-df-buttons\">\n",
              "\n",
              "  <div class=\"colab-df-container\">\n",
              "    <button class=\"colab-df-convert\" onclick=\"convertToInteractive('df-2ec54805-4a2c-4ba6-9f32-25a0a96fdaf6')\"\n",
              "            title=\"Convert this dataframe to an interactive table.\"\n",
              "            style=\"display:none;\">\n",
              "\n",
              "  <svg xmlns=\"http://www.w3.org/2000/svg\" height=\"24px\" viewBox=\"0 -960 960 960\">\n",
              "    <path d=\"M120-120v-720h720v720H120Zm60-500h600v-160H180v160Zm220 220h160v-160H400v160Zm0 220h160v-160H400v160ZM180-400h160v-160H180v160Zm440 0h160v-160H620v160ZM180-180h160v-160H180v160Zm440 0h160v-160H620v160Z\"/>\n",
              "  </svg>\n",
              "    </button>\n",
              "\n",
              "  <style>\n",
              "    .colab-df-container {\n",
              "      display:flex;\n",
              "      gap: 12px;\n",
              "    }\n",
              "\n",
              "    .colab-df-convert {\n",
              "      background-color: #E8F0FE;\n",
              "      border: none;\n",
              "      border-radius: 50%;\n",
              "      cursor: pointer;\n",
              "      display: none;\n",
              "      fill: #1967D2;\n",
              "      height: 32px;\n",
              "      padding: 0 0 0 0;\n",
              "      width: 32px;\n",
              "    }\n",
              "\n",
              "    .colab-df-convert:hover {\n",
              "      background-color: #E2EBFA;\n",
              "      box-shadow: 0px 1px 2px rgba(60, 64, 67, 0.3), 0px 1px 3px 1px rgba(60, 64, 67, 0.15);\n",
              "      fill: #174EA6;\n",
              "    }\n",
              "\n",
              "    .colab-df-buttons div {\n",
              "      margin-bottom: 4px;\n",
              "    }\n",
              "\n",
              "    [theme=dark] .colab-df-convert {\n",
              "      background-color: #3B4455;\n",
              "      fill: #D2E3FC;\n",
              "    }\n",
              "\n",
              "    [theme=dark] .colab-df-convert:hover {\n",
              "      background-color: #434B5C;\n",
              "      box-shadow: 0px 1px 3px 1px rgba(0, 0, 0, 0.15);\n",
              "      filter: drop-shadow(0px 1px 2px rgba(0, 0, 0, 0.3));\n",
              "      fill: #FFFFFF;\n",
              "    }\n",
              "  </style>\n",
              "\n",
              "    <script>\n",
              "      const buttonEl =\n",
              "        document.querySelector('#df-2ec54805-4a2c-4ba6-9f32-25a0a96fdaf6 button.colab-df-convert');\n",
              "      buttonEl.style.display =\n",
              "        google.colab.kernel.accessAllowed ? 'block' : 'none';\n",
              "\n",
              "      async function convertToInteractive(key) {\n",
              "        const element = document.querySelector('#df-2ec54805-4a2c-4ba6-9f32-25a0a96fdaf6');\n",
              "        const dataTable =\n",
              "          await google.colab.kernel.invokeFunction('convertToInteractive',\n",
              "                                                    [key], {});\n",
              "        if (!dataTable) return;\n",
              "\n",
              "        const docLinkHtml = 'Like what you see? Visit the ' +\n",
              "          '<a target=\"_blank\" href=https://colab.research.google.com/notebooks/data_table.ipynb>data table notebook</a>'\n",
              "          + ' to learn more about interactive tables.';\n",
              "        element.innerHTML = '';\n",
              "        dataTable['output_type'] = 'display_data';\n",
              "        await google.colab.output.renderOutput(dataTable, element);\n",
              "        const docLink = document.createElement('div');\n",
              "        docLink.innerHTML = docLinkHtml;\n",
              "        element.appendChild(docLink);\n",
              "      }\n",
              "    </script>\n",
              "  </div>\n",
              "\n",
              "\n",
              "<div id=\"df-a8ea5551-baca-44a5-8b0f-65cefa3e96e9\">\n",
              "  <button class=\"colab-df-quickchart\" onclick=\"quickchart('df-a8ea5551-baca-44a5-8b0f-65cefa3e96e9')\"\n",
              "            title=\"Suggest charts\"\n",
              "            style=\"display:none;\">\n",
              "\n",
              "<svg xmlns=\"http://www.w3.org/2000/svg\" height=\"24px\"viewBox=\"0 0 24 24\"\n",
              "     width=\"24px\">\n",
              "    <g>\n",
              "        <path d=\"M19 3H5c-1.1 0-2 .9-2 2v14c0 1.1.9 2 2 2h14c1.1 0 2-.9 2-2V5c0-1.1-.9-2-2-2zM9 17H7v-7h2v7zm4 0h-2V7h2v10zm4 0h-2v-4h2v4z\"/>\n",
              "    </g>\n",
              "</svg>\n",
              "  </button>\n",
              "\n",
              "<style>\n",
              "  .colab-df-quickchart {\n",
              "      --bg-color: #E8F0FE;\n",
              "      --fill-color: #1967D2;\n",
              "      --hover-bg-color: #E2EBFA;\n",
              "      --hover-fill-color: #174EA6;\n",
              "      --disabled-fill-color: #AAA;\n",
              "      --disabled-bg-color: #DDD;\n",
              "  }\n",
              "\n",
              "  [theme=dark] .colab-df-quickchart {\n",
              "      --bg-color: #3B4455;\n",
              "      --fill-color: #D2E3FC;\n",
              "      --hover-bg-color: #434B5C;\n",
              "      --hover-fill-color: #FFFFFF;\n",
              "      --disabled-bg-color: #3B4455;\n",
              "      --disabled-fill-color: #666;\n",
              "  }\n",
              "\n",
              "  .colab-df-quickchart {\n",
              "    background-color: var(--bg-color);\n",
              "    border: none;\n",
              "    border-radius: 50%;\n",
              "    cursor: pointer;\n",
              "    display: none;\n",
              "    fill: var(--fill-color);\n",
              "    height: 32px;\n",
              "    padding: 0;\n",
              "    width: 32px;\n",
              "  }\n",
              "\n",
              "  .colab-df-quickchart:hover {\n",
              "    background-color: var(--hover-bg-color);\n",
              "    box-shadow: 0 1px 2px rgba(60, 64, 67, 0.3), 0 1px 3px 1px rgba(60, 64, 67, 0.15);\n",
              "    fill: var(--button-hover-fill-color);\n",
              "  }\n",
              "\n",
              "  .colab-df-quickchart-complete:disabled,\n",
              "  .colab-df-quickchart-complete:disabled:hover {\n",
              "    background-color: var(--disabled-bg-color);\n",
              "    fill: var(--disabled-fill-color);\n",
              "    box-shadow: none;\n",
              "  }\n",
              "\n",
              "  .colab-df-spinner {\n",
              "    border: 2px solid var(--fill-color);\n",
              "    border-color: transparent;\n",
              "    border-bottom-color: var(--fill-color);\n",
              "    animation:\n",
              "      spin 1s steps(1) infinite;\n",
              "  }\n",
              "\n",
              "  @keyframes spin {\n",
              "    0% {\n",
              "      border-color: transparent;\n",
              "      border-bottom-color: var(--fill-color);\n",
              "      border-left-color: var(--fill-color);\n",
              "    }\n",
              "    20% {\n",
              "      border-color: transparent;\n",
              "      border-left-color: var(--fill-color);\n",
              "      border-top-color: var(--fill-color);\n",
              "    }\n",
              "    30% {\n",
              "      border-color: transparent;\n",
              "      border-left-color: var(--fill-color);\n",
              "      border-top-color: var(--fill-color);\n",
              "      border-right-color: var(--fill-color);\n",
              "    }\n",
              "    40% {\n",
              "      border-color: transparent;\n",
              "      border-right-color: var(--fill-color);\n",
              "      border-top-color: var(--fill-color);\n",
              "    }\n",
              "    60% {\n",
              "      border-color: transparent;\n",
              "      border-right-color: var(--fill-color);\n",
              "    }\n",
              "    80% {\n",
              "      border-color: transparent;\n",
              "      border-right-color: var(--fill-color);\n",
              "      border-bottom-color: var(--fill-color);\n",
              "    }\n",
              "    90% {\n",
              "      border-color: transparent;\n",
              "      border-bottom-color: var(--fill-color);\n",
              "    }\n",
              "  }\n",
              "</style>\n",
              "\n",
              "  <script>\n",
              "    async function quickchart(key) {\n",
              "      const quickchartButtonEl =\n",
              "        document.querySelector('#' + key + ' button');\n",
              "      quickchartButtonEl.disabled = true;  // To prevent multiple clicks.\n",
              "      quickchartButtonEl.classList.add('colab-df-spinner');\n",
              "      try {\n",
              "        const charts = await google.colab.kernel.invokeFunction(\n",
              "            'suggestCharts', [key], {});\n",
              "      } catch (error) {\n",
              "        console.error('Error during call to suggestCharts:', error);\n",
              "      }\n",
              "      quickchartButtonEl.classList.remove('colab-df-spinner');\n",
              "      quickchartButtonEl.classList.add('colab-df-quickchart-complete');\n",
              "    }\n",
              "    (() => {\n",
              "      let quickchartButtonEl =\n",
              "        document.querySelector('#df-a8ea5551-baca-44a5-8b0f-65cefa3e96e9 button');\n",
              "      quickchartButtonEl.style.display =\n",
              "        google.colab.kernel.accessAllowed ? 'block' : 'none';\n",
              "    })();\n",
              "  </script>\n",
              "</div>\n",
              "\n",
              "  <div id=\"id_2634a2bd-f960-4c1f-9c2e-283af0cd88b3\">\n",
              "    <style>\n",
              "      .colab-df-generate {\n",
              "        background-color: #E8F0FE;\n",
              "        border: none;\n",
              "        border-radius: 50%;\n",
              "        cursor: pointer;\n",
              "        display: none;\n",
              "        fill: #1967D2;\n",
              "        height: 32px;\n",
              "        padding: 0 0 0 0;\n",
              "        width: 32px;\n",
              "      }\n",
              "\n",
              "      .colab-df-generate:hover {\n",
              "        background-color: #E2EBFA;\n",
              "        box-shadow: 0px 1px 2px rgba(60, 64, 67, 0.3), 0px 1px 3px 1px rgba(60, 64, 67, 0.15);\n",
              "        fill: #174EA6;\n",
              "      }\n",
              "\n",
              "      [theme=dark] .colab-df-generate {\n",
              "        background-color: #3B4455;\n",
              "        fill: #D2E3FC;\n",
              "      }\n",
              "\n",
              "      [theme=dark] .colab-df-generate:hover {\n",
              "        background-color: #434B5C;\n",
              "        box-shadow: 0px 1px 3px 1px rgba(0, 0, 0, 0.15);\n",
              "        filter: drop-shadow(0px 1px 2px rgba(0, 0, 0, 0.3));\n",
              "        fill: #FFFFFF;\n",
              "      }\n",
              "    </style>\n",
              "    <button class=\"colab-df-generate\" onclick=\"generateWithVariable('df_start')\"\n",
              "            title=\"Generate code using this dataframe.\"\n",
              "            style=\"display:none;\">\n",
              "\n",
              "  <svg xmlns=\"http://www.w3.org/2000/svg\" height=\"24px\"viewBox=\"0 0 24 24\"\n",
              "       width=\"24px\">\n",
              "    <path d=\"M7,19H8.4L18.45,9,17,7.55,7,17.6ZM5,21V16.75L18.45,3.32a2,2,0,0,1,2.83,0l1.4,1.43a1.91,1.91,0,0,1,.58,1.4,1.91,1.91,0,0,1-.58,1.4L9.25,21ZM18.45,9,17,7.55Zm-12,3A5.31,5.31,0,0,0,4.9,8.1,5.31,5.31,0,0,0,1,6.5,5.31,5.31,0,0,0,4.9,4.9,5.31,5.31,0,0,0,6.5,1,5.31,5.31,0,0,0,8.1,4.9,5.31,5.31,0,0,0,12,6.5,5.46,5.46,0,0,0,6.5,12Z\"/>\n",
              "  </svg>\n",
              "    </button>\n",
              "    <script>\n",
              "      (() => {\n",
              "      const buttonEl =\n",
              "        document.querySelector('#id_2634a2bd-f960-4c1f-9c2e-283af0cd88b3 button.colab-df-generate');\n",
              "      buttonEl.style.display =\n",
              "        google.colab.kernel.accessAllowed ? 'block' : 'none';\n",
              "\n",
              "      buttonEl.onclick = () => {\n",
              "        google.colab.notebook.generateWithVariable('df_start');\n",
              "      }\n",
              "      })();\n",
              "    </script>\n",
              "  </div>\n",
              "\n",
              "    </div>\n",
              "  </div>\n"
            ],
            "application/vnd.google.colaboratory.intrinsic+json": {
              "type": "dataframe",
              "variable_name": "df_start"
            }
          },
          "metadata": {},
          "execution_count": 5
        }
      ],
      "source": [
        "df_start"
      ]
    },
    {
      "cell_type": "code",
      "execution_count": null,
      "metadata": {
        "id": "jD5wmoyNK5xH",
        "colab": {
          "base_uri": "https://localhost:8080/"
        },
        "outputId": "7b7db159-3900-4ddf-c4ab-bdb320b01021"
      },
      "outputs": [
        {
          "output_type": "stream",
          "name": "stdout",
          "text": [
            "<class 'pandas.core.frame.DataFrame'>\n",
            "RangeIndex: 23807 entries, 0 to 23806\n",
            "Data columns (total 66 columns):\n",
            " #   Column                        Non-Null Count  Dtype  \n",
            "---  ------                        --------------  -----  \n",
            " 0   UCLN_OPN_ETC_SITE_CRCN_YN     23807 non-null  float64\n",
            " 1   UCLN_PRGN_YN                  23807 non-null  float64\n",
            " 2   RDT_DTRN_YN                   23807 non-null  float64\n",
            " 3   RDT_RT_NO                     23807 non-null  float64\n",
            " 4   RDT_DTRN_DCNT                 23807 non-null  float64\n",
            " 5   RDT_SITE_KIND_CD              23807 non-null  float64\n",
            " 6   RDT_SITE_CD                   23807 non-null  float64\n",
            " 7   RDT_TM1_CGY                   23807 non-null  float64\n",
            " 8   RDT_TOTL_TRTM_NT              23807 non-null  float64\n",
            " 9   RDT_TOTL_CGY                  23807 non-null  float64\n",
            " 10  HORM_TRTM_YN                  23807 non-null  float64\n",
            " 11  HORM_TRTM_PRPS_CD             23807 non-null  float64\n",
            " 12  HORM_TRTM_INGR_NM             23807 non-null  float64\n",
            " 13  HORM_TRTM_DTRN_DCNT           23807 non-null  float64\n",
            " 14  IMPT_ER_EXAM_RSLT_CD          23807 non-null  float64\n",
            " 15  IMPT_PR_EXAM_RSLT_CD          23807 non-null  float64\n",
            " 16  IMPT_AR_EXAM_RSLT_CD          23807 non-null  float64\n",
            " 17  IDGN_AGE                      23807 non-null  float64\n",
            " 18  PT_SEX_CD                     23807 non-null  float64\n",
            " 19  DRNK_YN                       23807 non-null  float64\n",
            " 20  DRNK_STRT_AGE                 23807 non-null  float64\n",
            " 21  DRNK_KIND_CD                  23807 non-null  float64\n",
            " 22  DRNK_QTY                      23807 non-null  float64\n",
            " 23  DRNK_NT                       23807 non-null  float64\n",
            " 24  DRNK_DTRN_YCNT                23807 non-null  float64\n",
            " 25  CUR_SMOK_YN                   23807 non-null  float64\n",
            " 26  SHIS_YN                       23807 non-null  float64\n",
            " 27  SMOK_STRT_AGE                 23807 non-null  float64\n",
            " 28  SMOK_QTY                      23807 non-null  float64\n",
            " 29  SMOK_DTRN_YCNT                23807 non-null  float64\n",
            " 30  NSMK_PERD_YCNT                23807 non-null  float64\n",
            " 31  MHIS_YN                       23807 non-null  float64\n",
            " 32  MHIS_HTN_YN                   23807 non-null  float64\n",
            " 33  MHIS_DBT_YN                   23807 non-null  float64\n",
            " 34  MHIS_TB_YN                    23807 non-null  float64\n",
            " 35  MHIS_LVDS_YN                  23807 non-null  float64\n",
            " 36  MHIS_CNCR_YN                  23807 non-null  float64\n",
            " 37  MHIS_DEPR_YN                  23807 non-null  float64\n",
            " 38  MHIS_INSM_YN                  23807 non-null  float64\n",
            " 39  MHIS_CADS_YN                  23807 non-null  float64\n",
            " 40  ETC_MHIS_YN                   23807 non-null  float64\n",
            " 41  LATST_MDCT_YN                 23807 non-null  float64\n",
            " 42  MDCA_YN                       23807 non-null  float64\n",
            " 43  MENA_AGE                      23807 non-null  float64\n",
            " 44  MENO_YN                       23807 non-null  float64\n",
            " 45  MENO_AGE                      23807 non-null  float64\n",
            " 46  MENS_CYCL_DCNT                23807 non-null  float64\n",
            " 47  MARG_YN                       23807 non-null  float64\n",
            " 48  DELV_YN                       23807 non-null  float64\n",
            " 49  FDLV_AGE                      23807 non-null  float64\n",
            " 50  DELV_CHLD_CNT                 23807 non-null  float64\n",
            " 51  BRFD_EXPR_YN                  23807 non-null  float64\n",
            " 52  FEED_DTRN_MCNT                23807 non-null  float64\n",
            " 53  MHIS_BRST_OPRT_YN             23807 non-null  float64\n",
            " 54  OC_USE_YN                     23807 non-null  float64\n",
            " 55  OC_USE_DTRN_MCNT              23807 non-null  float64\n",
            " 56  HRT_USE_YN                    23807 non-null  float64\n",
            " 57  HRT_DTRN_MCNT                 23807 non-null  float64\n",
            " 58  HT_VL                         23807 non-null  float64\n",
            " 59  WT_MSRM_VL                    23807 non-null  float64\n",
            " 60  BMI_VL                        23807 non-null  float64\n",
            " 61  BRCA1_PAVR_DTCT_CLSF_CD       23807 non-null  float64\n",
            " 62  BRCA1_UNCL_VARN_DTCT_CLSF_CD  23807 non-null  float64\n",
            " 63  BRCA2_PAVR_DTCT_CLSF_CD       23807 non-null  float64\n",
            " 64  BRCA2_UNCL_VARN_DTCT_CLSF_CD  23807 non-null  float64\n",
            " 65  target                        23807 non-null  float64\n",
            "dtypes: float64(66)\n",
            "memory usage: 12.0 MB\n"
          ]
        }
      ],
      "source": [
        "df_start.info()"
      ]
    },
    {
      "cell_type": "markdown",
      "metadata": {
        "id": "sfD-pFFHRxDS"
      },
      "source": [
        "#위험도 점수 분석"
      ]
    },
    {
      "cell_type": "code",
      "source": [
        "df = df_start[['SMOK_QTY','SMOK_STRT_AGE','SMOK_DTRN_YCNT','HORM_TRTM_YN',\n",
        "                'HORM_TRTM_DTRN_DCNT','HORM_TRTM_PRPS_CD','MENO_YN','MENO_AGE',\n",
        "                'UCLN_PRGN_YN','MENA_AGE','target']]"
      ],
      "metadata": {
        "id": "MJE4YGPs0vix"
      },
      "execution_count": null,
      "outputs": []
    },
    {
      "cell_type": "code",
      "source": [
        "df.columns"
      ],
      "metadata": {
        "id": "iiOdyUCg_kuO",
        "colab": {
          "base_uri": "https://localhost:8080/"
        },
        "outputId": "bb7c953c-5ec0-4ce9-c890-30eb6e266871"
      },
      "execution_count": null,
      "outputs": [
        {
          "output_type": "execute_result",
          "data": {
            "text/plain": [
              "Index(['SMOK_QTY', 'SMOK_STRT_AGE', 'SMOK_DTRN_YCNT', 'HORM_TRTM_YN',\n",
              "       'HORM_TRTM_DTRN_DCNT', 'HORM_TRTM_PRPS_CD', 'MENO_YN', 'MENO_AGE',\n",
              "       'UCLN_PRGN_YN', 'MENA_AGE', 'target'],\n",
              "      dtype='object')"
            ]
          },
          "metadata": {},
          "execution_count": 8
        }
      ]
    },
    {
      "cell_type": "code",
      "source": [
        "df.info()"
      ],
      "metadata": {
        "id": "593Wht_jeRH1",
        "colab": {
          "base_uri": "https://localhost:8080/"
        },
        "outputId": "88f99f75-09c0-410b-c57e-9b9429647ca8"
      },
      "execution_count": null,
      "outputs": [
        {
          "output_type": "stream",
          "name": "stdout",
          "text": [
            "<class 'pandas.core.frame.DataFrame'>\n",
            "RangeIndex: 23807 entries, 0 to 23806\n",
            "Data columns (total 11 columns):\n",
            " #   Column               Non-Null Count  Dtype  \n",
            "---  ------               --------------  -----  \n",
            " 0   SMOK_QTY             23807 non-null  float64\n",
            " 1   SMOK_STRT_AGE        23807 non-null  float64\n",
            " 2   SMOK_DTRN_YCNT       23807 non-null  float64\n",
            " 3   HORM_TRTM_YN         23807 non-null  float64\n",
            " 4   HORM_TRTM_DTRN_DCNT  23807 non-null  float64\n",
            " 5   HORM_TRTM_PRPS_CD    23807 non-null  float64\n",
            " 6   MENO_YN              23807 non-null  float64\n",
            " 7   MENO_AGE             23807 non-null  float64\n",
            " 8   UCLN_PRGN_YN         23807 non-null  float64\n",
            " 9   MENA_AGE             23807 non-null  float64\n",
            " 10  target               23807 non-null  float64\n",
            "dtypes: float64(11)\n",
            "memory usage: 2.0 MB\n"
          ]
        }
      ]
    },
    {
      "cell_type": "code",
      "execution_count": null,
      "metadata": {
        "id": "-MJu123r1jSt"
      },
      "outputs": [],
      "source": [
        "import pandas as pd\n",
        "import numpy as np\n",
        "\n",
        "import statsmodels.api as sm\n",
        "from sklearn.impute import SimpleImputer\n",
        "\n",
        "from statsmodels.stats.outliers_influence import variance_inflation_factor\n",
        "\n",
        "df_Odds = pd.DataFrame(df)\n",
        "\n",
        "# 독립 변수와 종속 변수 설정\n",
        "y = df['target']\n",
        "X = df[['SMOK_QTY','SMOK_STRT_AGE','SMOK_DTRN_YCNT','HORM_TRTM_YN',\n",
        "                'HORM_TRTM_DTRN_DCNT','HORM_TRTM_PRPS_CD','MENO_YN','MENO_AGE',\n",
        "                'UCLN_PRGN_YN','MENA_AGE']] #여기에 위험요인 칼럼 삽입 #여기에 위험요인 칼럼 삽입\n"
      ]
    },
    {
      "cell_type": "markdown",
      "source": [
        "##로지스틱 회귀분석"
      ],
      "metadata": {
        "id": "o87bvuwS251L"
      }
    },
    {
      "cell_type": "markdown",
      "source": [
        "###모델학습"
      ],
      "metadata": {
        "id": "iAcXNafAFCaU"
      }
    },
    {
      "cell_type": "code",
      "source": [
        "\n",
        "# 상수 추가\n",
        "X = sm.add_constant(X)\n",
        "\n",
        "# VIF 계산\n",
        "vif = pd.DataFrame()\n",
        "vif[\"VIF Factor\"] = [variance_inflation_factor(X.values, i) for i in range(X.shape[1])]\n",
        "vif[\"features\"] = X.columns\n",
        "print(vif)\n",
        "\n",
        "# # 다중 공선성 높은 변수 제거 (예: 'INOP_AGE', 'IADM_AGE', 'HT_VL', 'IDGN_AGE', 'MENA_AGE' 제거)\n",
        "# high_vif_columns = ['INOP_AGE', 'IADM_AGE', 'HT_VL', 'IDGN_AGE', 'MENA_AGE']\n",
        "# X = X.drop(columns=high_vif_columns)\n",
        "\n",
        "# 스케일링을 위해 상수열 제거\n",
        "X_no_const = X.drop(columns=['const'])\n",
        "\n",
        "# 데이터 스케일링\n",
        "scaler = StandardScaler()\n",
        "X_scaled = scaler.fit_transform(X_no_const)\n",
        "\n",
        "# 상수 열 추가\n",
        "X_scaled = sm.add_constant(X_scaled)\n",
        "\n",
        "# 로지스틱 회귀 모델 적합\n",
        "logit_model = sm.Logit(y, X_scaled)\n",
        "\n",
        "# 최대 반복 횟수 및 수렴 조건 설정\n",
        "result = logit_model.fit(maxiter=100, method='lbfgs')\n",
        "\n",
        "# 결과 요약 출력\n",
        "print(result.summary())"
      ],
      "metadata": {
        "colab": {
          "base_uri": "https://localhost:8080/"
        },
        "id": "p2DjL4-n2n-5",
        "outputId": "7b479cfb-528d-4aa6-ac56-801171224cae"
      },
      "execution_count": null,
      "outputs": [
        {
          "output_type": "stream",
          "name": "stdout",
          "text": [
            "    VIF Factor             features\n",
            "0    29.157831                const\n",
            "1     1.996379             SMOK_QTY\n",
            "2     2.068262        SMOK_STRT_AGE\n",
            "3     2.254562       SMOK_DTRN_YCNT\n",
            "4     3.732207         HORM_TRTM_YN\n",
            "5     3.155356  HORM_TRTM_DTRN_DCNT\n",
            "6     1.198903    HORM_TRTM_PRPS_CD\n",
            "7     3.595955              MENO_YN\n",
            "8     3.234848             MENO_AGE\n",
            "9     1.316473         UCLN_PRGN_YN\n",
            "10    1.325301             MENA_AGE\n",
            "                           Logit Regression Results                           \n",
            "==============================================================================\n",
            "Dep. Variable:                 target   No. Observations:                23807\n",
            "Model:                          Logit   Df Residuals:                    23796\n",
            "Method:                           MLE   Df Model:                           10\n",
            "Date:                Mon, 10 Jun 2024   Pseudo R-squ.:                  0.9234\n",
            "Time:                        17:22:18   Log-Likelihood:                -1262.0\n",
            "converged:                       True   LL-Null:                       -16474.\n",
            "Covariance Type:            nonrobust   LLR p-value:                     0.000\n",
            "==============================================================================\n",
            "                 coef    std err          z      P>|z|      [0.025      0.975]\n",
            "------------------------------------------------------------------------------\n",
            "const         38.5820    889.688      0.043      0.965   -1705.175    1782.339\n",
            "x1            13.3509    246.658      0.054      0.957    -470.089     496.791\n",
            "x2            14.4562    161.088      0.090      0.928    -301.271     330.183\n",
            "x3            12.9953    379.549      0.034      0.973    -730.906     756.897\n",
            "x4            11.2544   2031.153      0.006      0.996   -3969.732    3992.241\n",
            "x5            -0.3689   1862.188     -0.000      1.000   -3650.190    3649.452\n",
            "x6            -0.2054    735.762     -0.000      1.000   -1442.273    1441.863\n",
            "x7            11.1113   2261.079      0.005      0.996   -4420.522    4442.744\n",
            "x8            -0.0297   2208.849  -1.34e-05      1.000   -4329.294    4329.235\n",
            "x9             2.3888      0.082     29.201      0.000       2.228       2.549\n",
            "x10           -1.8240      0.102    -17.933      0.000      -2.023      -1.625\n",
            "==============================================================================\n",
            "\n",
            "Possibly complete quasi-separation: A fraction 0.50 of observations can be\n",
            "perfectly predicted. This might indicate that there is complete\n",
            "quasi-separation. In this case some parameters will not be identified.\n"
          ]
        }
      ]
    },
    {
      "cell_type": "code",
      "execution_count": null,
      "metadata": {
        "colab": {
          "base_uri": "https://localhost:8080/"
        },
        "id": "tMA49_XjNRfA",
        "outputId": "7eb63f4d-97db-4fc3-e027-27d7580bdcd4"
      },
      "outputs": [
        {
          "output_type": "stream",
          "name": "stdout",
          "text": [
            "                           Logit Regression Results                           \n",
            "==============================================================================\n",
            "Dep. Variable:                 target   No. Observations:                23807\n",
            "Model:                          Logit   Df Residuals:                    23796\n",
            "Method:                           MLE   Df Model:                           10\n",
            "Date:                Mon, 10 Jun 2024   Pseudo R-squ.:                  0.9234\n",
            "Time:                        17:22:18   Log-Likelihood:                -1262.0\n",
            "converged:                       True   LL-Null:                       -16474.\n",
            "Covariance Type:            nonrobust   LLR p-value:                     0.000\n",
            "==============================================================================\n",
            "                 coef    std err          z      P>|z|      [0.025      0.975]\n",
            "------------------------------------------------------------------------------\n",
            "const         38.5820    889.688      0.043      0.965   -1705.175    1782.339\n",
            "x1            13.3509    246.658      0.054      0.957    -470.089     496.791\n",
            "x2            14.4562    161.088      0.090      0.928    -301.271     330.183\n",
            "x3            12.9953    379.549      0.034      0.973    -730.906     756.897\n",
            "x4            11.2544   2031.153      0.006      0.996   -3969.732    3992.241\n",
            "x5            -0.3689   1862.188     -0.000      1.000   -3650.190    3649.452\n",
            "x6            -0.2054    735.762     -0.000      1.000   -1442.273    1441.863\n",
            "x7            11.1113   2261.079      0.005      0.996   -4420.522    4442.744\n",
            "x8            -0.0297   2208.849  -1.34e-05      1.000   -4329.294    4329.235\n",
            "x9             2.3888      0.082     29.201      0.000       2.228       2.549\n",
            "x10           -1.8240      0.102    -17.933      0.000      -2.023      -1.625\n",
            "==============================================================================\n",
            "\n",
            "Possibly complete quasi-separation: A fraction 0.50 of observations can be\n",
            "perfectly predicted. This might indicate that there is complete\n",
            "quasi-separation. In this case some parameters will not be identified.\n",
            "오즈비:\n",
            "const    5.700986e+16\n",
            "x1       6.283845e+05\n",
            "x2       1.897734e+06\n",
            "x3       4.403591e+05\n",
            "x4       7.721644e+04\n",
            "x5       6.914842e-01\n",
            "x6       8.143437e-01\n",
            "x7       6.691999e+04\n",
            "x8       9.707365e-01\n",
            "x9       1.089988e+01\n",
            "x10      1.613728e-01\n",
            "dtype: float64\n"
          ]
        }
      ],
      "source": [
        "# 결과 요약 출력\n",
        "print(result.summary())\n",
        "\n",
        "# 오즈비 계산\n",
        "odds_ratios = np.exp(result.params)\n",
        "print(\"오즈비:\")\n",
        "print(odds_ratios)\n",
        "\n"
      ]
    },
    {
      "cell_type": "markdown",
      "metadata": {
        "id": "abjOD4Dd3xn0"
      },
      "source": [
        "###점수 구하기"
      ]
    },
    {
      "cell_type": "code",
      "execution_count": null,
      "metadata": {
        "colab": {
          "base_uri": "https://localhost:8080/"
        },
        "id": "4sFK4d5RAoqv",
        "outputId": "9814bb1f-48b8-40be-a0a1-790ef305a977"
      },
      "outputs": [
        {
          "output_type": "stream",
          "name": "stdout",
          "text": [
            "DIAG_YN=1인 행들 중 최대 위험 점수를 갖는 행의 점수: 175.83122338241026\n",
            "DIAG_YN=1인 행들 중 최대 위험 점수를 갖는 행: const                   1.0\n",
            "SMOK_QTY               97.0\n",
            "SMOK_STRT_AGE          86.0\n",
            "SMOK_DTRN_YCNT         19.0\n",
            "HORM_TRTM_YN            1.0\n",
            "HORM_TRTM_DTRN_DCNT    73.0\n",
            "HORM_TRTM_PRPS_CD       5.0\n",
            "MENO_YN                 1.0\n",
            "MENO_AGE               95.0\n",
            "UCLN_PRGN_YN            1.0\n",
            "MENA_AGE                8.0\n",
            "Name: 3877, dtype: float64\n"
          ]
        }
      ],
      "source": [
        "# 각 행에 대한 위험 점수 계산\n",
        "# 회귀 계수를 Series로 변환\n",
        "coefficients_series = pd.Series(result.params)\n",
        "\n",
        "# 위험 점수 계산\n",
        "risk_scores_lr = X_scaled.dot(coefficients_series)\n",
        "# 'DIAG_YN'이 1인 행들 필터링\n",
        "high_risk_patients_lr = risk_scores_lr[y == 1]\n",
        "\n",
        "# 'high_risk_patients'를 pandas Series로 변환\n",
        "high_risk_patients_series_lr = pd.Series(high_risk_patients_lr)\n",
        "\n",
        "# 최대 위험 점수를 갖는 행 찾기\n",
        "max_risk_index_diag_lr_1 = high_risk_patients_series_lr.idxmax()\n",
        "max_risk_row_diag_lr_1 = X.loc[max_risk_index_diag_lr_1]\n",
        "\n",
        "# 최대 위험 점수를 갖는 행의 위험 점수\n",
        "max_risk_score_diag_lr_1 = high_risk_patients_series_lr.loc[max_risk_index_diag_lr_1]\n",
        "print(\"DIAG_YN=1인 행들 중 최대 위험 점수를 갖는 행의 점수:\", max_risk_score_diag_lr_1)\n",
        "print(\"DIAG_YN=1인 행들 중 최대 위험 점수를 갖는 행:\", max_risk_row_diag_lr_1)\n",
        "\n"
      ]
    },
    {
      "cell_type": "code",
      "execution_count": null,
      "metadata": {
        "colab": {
          "base_uri": "https://localhost:8080/"
        },
        "id": "Vph3D3ZbIte-",
        "outputId": "f16a75d5-1a31-4530-af40-e91f0cd87d77"
      },
      "outputs": [
        {
          "output_type": "stream",
          "name": "stdout",
          "text": [
            "DIAG_YN=1인 행들 중 최소 위험 점수를 갖는 행의 점수: -4.517874992161233\n",
            "DIAG_YN=1인 행들 중 최소 위험 점수를 갖는 행: const                   1.0\n",
            "SMOK_QTY                0.0\n",
            "SMOK_STRT_AGE           0.0\n",
            "SMOK_DTRN_YCNT          0.0\n",
            "HORM_TRTM_YN            0.0\n",
            "HORM_TRTM_DTRN_DCNT     0.0\n",
            "HORM_TRTM_PRPS_CD       0.0\n",
            "MENO_YN                 0.0\n",
            "MENO_AGE                0.0\n",
            "UCLN_PRGN_YN            0.0\n",
            "MENA_AGE               13.0\n",
            "Name: 462, dtype: float64\n"
          ]
        }
      ],
      "source": [
        "# 최소 위험 점수를 갖는 행 찾기\n",
        "min_risk_index_diag_1 = high_risk_patients_series_lr.idxmin()\n",
        "min_risk_row_diag_1 = X.loc[min_risk_index_diag_1]\n",
        "\n",
        "# 최소 위험 점수를 갖는 행의 위험 점수\n",
        "min_risk_score_diag_1 = high_risk_patients_series_lr.loc[min_risk_index_diag_1]\n",
        "print(\"DIAG_YN=1인 행들 중 최소 위험 점수를 갖는 행의 점수:\", min_risk_score_diag_1)\n",
        "print(\"DIAG_YN=1인 행들 중 최소 위험 점수를 갖는 행:\", min_risk_row_diag_1)\n"
      ]
    },
    {
      "cell_type": "markdown",
      "metadata": {
        "id": "x_aoPfoP3vMJ"
      },
      "source": [
        "###위험확률"
      ]
    },
    {
      "cell_type": "code",
      "execution_count": null,
      "metadata": {
        "colab": {
          "base_uri": "https://localhost:8080/"
        },
        "id": "HQra1yBk8ai4",
        "outputId": "2519b15c-b166-4c23-f85b-42c5f5325865"
      },
      "outputs": [
        {
          "output_type": "stream",
          "name": "stdout",
          "text": [
            "Index(['const', 'SMOK_QTY', 'SMOK_STRT_AGE', 'SMOK_DTRN_YCNT', 'HORM_TRTM_YN',\n",
            "       'HORM_TRTM_DTRN_DCNT', 'HORM_TRTM_PRPS_CD', 'MENO_YN', 'MENO_AGE',\n",
            "       'UCLN_PRGN_YN', 'MENA_AGE'],\n",
            "      dtype='object')\n"
          ]
        }
      ],
      "source": [
        "print(X.columns)"
      ]
    },
    {
      "cell_type": "code",
      "execution_count": null,
      "metadata": {
        "colab": {
          "base_uri": "https://localhost:8080/"
        },
        "id": "j0kiiVTY5egd",
        "outputId": "41039e54-2b0d-4061-8587-bff926decd04"
      },
      "outputs": [
        {
          "output_type": "stream",
          "name": "stdout",
          "text": [
            "       const  SMOK_QTY  SMOK_STRT_AGE  SMOK_DTRN_YCNT  HORM_TRTM_YN  \\\n",
            "0        1.0      79.0           36.0             8.0           0.0   \n",
            "1        1.0      79.0           36.0             8.0           1.0   \n",
            "2        1.0      68.0           35.0            13.0           1.0   \n",
            "3        1.0       0.0            0.0             0.0           0.0   \n",
            "4        1.0       0.0            0.0             0.0           0.0   \n",
            "...      ...       ...            ...             ...           ...   \n",
            "23802    1.0       0.0            0.0             0.0           0.0   \n",
            "23803    1.0       0.0            0.0             0.0           0.0   \n",
            "23804    1.0       0.0            0.0             0.0           0.0   \n",
            "23805    1.0       0.0            0.0             0.0           0.0   \n",
            "23806    1.0       0.0            0.0             0.0           0.0   \n",
            "\n",
            "       HORM_TRTM_DTRN_DCNT  HORM_TRTM_PRPS_CD  MENO_YN  MENO_AGE  \\\n",
            "0                      0.0                0.0      1.0      12.0   \n",
            "1                     47.0               99.0      0.0       0.0   \n",
            "2                     91.0               99.0      0.0       0.0   \n",
            "3                      0.0                0.0      1.0      93.0   \n",
            "4                      0.0                0.0      0.0       0.0   \n",
            "...                    ...                ...      ...       ...   \n",
            "23802                  0.0                0.0      0.0       0.0   \n",
            "23803                  0.0                0.0      0.0       0.0   \n",
            "23804                  0.0                0.0      0.0       0.0   \n",
            "23805                  0.0                0.0      0.0       0.0   \n",
            "23806                  0.0                0.0      0.0       0.0   \n",
            "\n",
            "       UCLN_PRGN_YN  MENA_AGE  Risk_Percentile  \n",
            "0               0.0      13.0        50.616313  \n",
            "1               1.0       9.0        54.236814  \n",
            "2               0.0      10.0        53.362199  \n",
            "3               1.0      10.0        15.621564  \n",
            "4               0.0      11.0        -1.850397  \n",
            "...             ...       ...              ...  \n",
            "23802           0.5       9.6         0.183122  \n",
            "23803           0.5      14.4        -1.542577  \n",
            "23804           0.0      17.9        -4.331090  \n",
            "23805           0.5      16.3        -2.225667  \n",
            "23806           0.5      11.0        -0.320207  \n",
            "\n",
            "[23807 rows x 12 columns]\n"
          ]
        }
      ],
      "source": [
        "# 요인별 오즈비와 해당 요인의 사용자 입력 값을 곱하여 위험 점수 계산\n",
        "risk_scores_per_row_lr = X_scaled.dot(coefficients_series)\n",
        "\n",
        "# 최대 위험 점수\n",
        "max_risk_score_lr = risk_scores_per_row_lr.max()\n",
        "\n",
        "# 위험 점수를 100점 기준으로 변환하여 위험 백분위 계산\n",
        "risk_percentiles_lr = (risk_scores_per_row_lr / max_risk_score_lr) * 100\n",
        "\n",
        "# 데이터프레임에 위험 백분위 열 추가\n",
        "X_with_risk_percentiles_lr = X.copy()\n",
        "X_with_risk_percentiles_lr['Risk_Percentile'] = risk_percentiles_lr\n",
        "\n",
        "# 결과 출력\n",
        "print(X_with_risk_percentiles_lr)\n"
      ]
    },
    {
      "cell_type": "code",
      "execution_count": null,
      "metadata": {
        "id": "0m9IeBafUP4z",
        "colab": {
          "base_uri": "https://localhost:8080/"
        },
        "outputId": "e4f873ba-f485-4a85-ce0e-2ffe7f473847"
      },
      "outputs": [
        {
          "output_type": "stream",
          "name": "stderr",
          "text": [
            "<ipython-input-17-fa953bd22db4>:1: SettingWithCopyWarning: \n",
            "A value is trying to be set on a copy of a slice from a DataFrame.\n",
            "Try using .loc[row_indexer,col_indexer] = value instead\n",
            "\n",
            "See the caveats in the documentation: https://pandas.pydata.org/pandas-docs/stable/user_guide/indexing.html#returning-a-view-versus-a-copy\n",
            "  df['Risk_Percentile_lr'] = risk_percentiles_lr\n"
          ]
        }
      ],
      "source": [
        "\n",
        "df['Risk_Percentile_lr'] = risk_percentiles_lr"
      ]
    },
    {
      "cell_type": "code",
      "execution_count": null,
      "metadata": {
        "colab": {
          "base_uri": "https://localhost:8080/"
        },
        "id": "mqNm9MhzUvzN",
        "outputId": "604cd61b-d9d7-42ab-ca70-63e03f99940d"
      },
      "outputs": [
        {
          "output_type": "execute_result",
          "data": {
            "text/plain": [
              "       SMOK_QTY  SMOK_STRT_AGE  SMOK_DTRN_YCNT  HORM_TRTM_YN  \\\n",
              "0          79.0           36.0             8.0           0.0   \n",
              "1          79.0           36.0             8.0           1.0   \n",
              "2          68.0           35.0            13.0           1.0   \n",
              "3           0.0            0.0             0.0           0.0   \n",
              "4           0.0            0.0             0.0           0.0   \n",
              "...         ...            ...             ...           ...   \n",
              "23802       0.0            0.0             0.0           0.0   \n",
              "23803       0.0            0.0             0.0           0.0   \n",
              "23804       0.0            0.0             0.0           0.0   \n",
              "23805       0.0            0.0             0.0           0.0   \n",
              "23806       0.0            0.0             0.0           0.0   \n",
              "\n",
              "       HORM_TRTM_DTRN_DCNT  HORM_TRTM_PRPS_CD  MENO_YN  MENO_AGE  \\\n",
              "0                      0.0                0.0      1.0      12.0   \n",
              "1                     47.0               99.0      0.0       0.0   \n",
              "2                     91.0               99.0      0.0       0.0   \n",
              "3                      0.0                0.0      1.0      93.0   \n",
              "4                      0.0                0.0      0.0       0.0   \n",
              "...                    ...                ...      ...       ...   \n",
              "23802                  0.0                0.0      0.0       0.0   \n",
              "23803                  0.0                0.0      0.0       0.0   \n",
              "23804                  0.0                0.0      0.0       0.0   \n",
              "23805                  0.0                0.0      0.0       0.0   \n",
              "23806                  0.0                0.0      0.0       0.0   \n",
              "\n",
              "       UCLN_PRGN_YN  MENA_AGE  target  Risk_Percentile_lr  \n",
              "0               0.0      13.0     1.0           50.616313  \n",
              "1               1.0       9.0     1.0           54.236814  \n",
              "2               0.0      10.0     1.0           53.362199  \n",
              "3               1.0      10.0     1.0           15.621564  \n",
              "4               0.0      11.0     1.0           -1.850397  \n",
              "...             ...       ...     ...                 ...  \n",
              "23802           0.5       9.6     0.0            0.183122  \n",
              "23803           0.5      14.4     0.0           -1.542577  \n",
              "23804           0.0      17.9     0.0           -4.331090  \n",
              "23805           0.5      16.3     0.0           -2.225667  \n",
              "23806           0.5      11.0     0.0           -0.320207  \n",
              "\n",
              "[23807 rows x 12 columns]"
            ],
            "text/html": [
              "\n",
              "  <div id=\"df-3bd43545-a46f-4e83-9c17-ab06ab9f18a7\" class=\"colab-df-container\">\n",
              "    <div>\n",
              "<style scoped>\n",
              "    .dataframe tbody tr th:only-of-type {\n",
              "        vertical-align: middle;\n",
              "    }\n",
              "\n",
              "    .dataframe tbody tr th {\n",
              "        vertical-align: top;\n",
              "    }\n",
              "\n",
              "    .dataframe thead th {\n",
              "        text-align: right;\n",
              "    }\n",
              "</style>\n",
              "<table border=\"1\" class=\"dataframe\">\n",
              "  <thead>\n",
              "    <tr style=\"text-align: right;\">\n",
              "      <th></th>\n",
              "      <th>SMOK_QTY</th>\n",
              "      <th>SMOK_STRT_AGE</th>\n",
              "      <th>SMOK_DTRN_YCNT</th>\n",
              "      <th>HORM_TRTM_YN</th>\n",
              "      <th>HORM_TRTM_DTRN_DCNT</th>\n",
              "      <th>HORM_TRTM_PRPS_CD</th>\n",
              "      <th>MENO_YN</th>\n",
              "      <th>MENO_AGE</th>\n",
              "      <th>UCLN_PRGN_YN</th>\n",
              "      <th>MENA_AGE</th>\n",
              "      <th>target</th>\n",
              "      <th>Risk_Percentile_lr</th>\n",
              "    </tr>\n",
              "  </thead>\n",
              "  <tbody>\n",
              "    <tr>\n",
              "      <th>0</th>\n",
              "      <td>79.0</td>\n",
              "      <td>36.0</td>\n",
              "      <td>8.0</td>\n",
              "      <td>0.0</td>\n",
              "      <td>0.0</td>\n",
              "      <td>0.0</td>\n",
              "      <td>1.0</td>\n",
              "      <td>12.0</td>\n",
              "      <td>0.0</td>\n",
              "      <td>13.0</td>\n",
              "      <td>1.0</td>\n",
              "      <td>50.616313</td>\n",
              "    </tr>\n",
              "    <tr>\n",
              "      <th>1</th>\n",
              "      <td>79.0</td>\n",
              "      <td>36.0</td>\n",
              "      <td>8.0</td>\n",
              "      <td>1.0</td>\n",
              "      <td>47.0</td>\n",
              "      <td>99.0</td>\n",
              "      <td>0.0</td>\n",
              "      <td>0.0</td>\n",
              "      <td>1.0</td>\n",
              "      <td>9.0</td>\n",
              "      <td>1.0</td>\n",
              "      <td>54.236814</td>\n",
              "    </tr>\n",
              "    <tr>\n",
              "      <th>2</th>\n",
              "      <td>68.0</td>\n",
              "      <td>35.0</td>\n",
              "      <td>13.0</td>\n",
              "      <td>1.0</td>\n",
              "      <td>91.0</td>\n",
              "      <td>99.0</td>\n",
              "      <td>0.0</td>\n",
              "      <td>0.0</td>\n",
              "      <td>0.0</td>\n",
              "      <td>10.0</td>\n",
              "      <td>1.0</td>\n",
              "      <td>53.362199</td>\n",
              "    </tr>\n",
              "    <tr>\n",
              "      <th>3</th>\n",
              "      <td>0.0</td>\n",
              "      <td>0.0</td>\n",
              "      <td>0.0</td>\n",
              "      <td>0.0</td>\n",
              "      <td>0.0</td>\n",
              "      <td>0.0</td>\n",
              "      <td>1.0</td>\n",
              "      <td>93.0</td>\n",
              "      <td>1.0</td>\n",
              "      <td>10.0</td>\n",
              "      <td>1.0</td>\n",
              "      <td>15.621564</td>\n",
              "    </tr>\n",
              "    <tr>\n",
              "      <th>4</th>\n",
              "      <td>0.0</td>\n",
              "      <td>0.0</td>\n",
              "      <td>0.0</td>\n",
              "      <td>0.0</td>\n",
              "      <td>0.0</td>\n",
              "      <td>0.0</td>\n",
              "      <td>0.0</td>\n",
              "      <td>0.0</td>\n",
              "      <td>0.0</td>\n",
              "      <td>11.0</td>\n",
              "      <td>1.0</td>\n",
              "      <td>-1.850397</td>\n",
              "    </tr>\n",
              "    <tr>\n",
              "      <th>...</th>\n",
              "      <td>...</td>\n",
              "      <td>...</td>\n",
              "      <td>...</td>\n",
              "      <td>...</td>\n",
              "      <td>...</td>\n",
              "      <td>...</td>\n",
              "      <td>...</td>\n",
              "      <td>...</td>\n",
              "      <td>...</td>\n",
              "      <td>...</td>\n",
              "      <td>...</td>\n",
              "      <td>...</td>\n",
              "    </tr>\n",
              "    <tr>\n",
              "      <th>23802</th>\n",
              "      <td>0.0</td>\n",
              "      <td>0.0</td>\n",
              "      <td>0.0</td>\n",
              "      <td>0.0</td>\n",
              "      <td>0.0</td>\n",
              "      <td>0.0</td>\n",
              "      <td>0.0</td>\n",
              "      <td>0.0</td>\n",
              "      <td>0.5</td>\n",
              "      <td>9.6</td>\n",
              "      <td>0.0</td>\n",
              "      <td>0.183122</td>\n",
              "    </tr>\n",
              "    <tr>\n",
              "      <th>23803</th>\n",
              "      <td>0.0</td>\n",
              "      <td>0.0</td>\n",
              "      <td>0.0</td>\n",
              "      <td>0.0</td>\n",
              "      <td>0.0</td>\n",
              "      <td>0.0</td>\n",
              "      <td>0.0</td>\n",
              "      <td>0.0</td>\n",
              "      <td>0.5</td>\n",
              "      <td>14.4</td>\n",
              "      <td>0.0</td>\n",
              "      <td>-1.542577</td>\n",
              "    </tr>\n",
              "    <tr>\n",
              "      <th>23804</th>\n",
              "      <td>0.0</td>\n",
              "      <td>0.0</td>\n",
              "      <td>0.0</td>\n",
              "      <td>0.0</td>\n",
              "      <td>0.0</td>\n",
              "      <td>0.0</td>\n",
              "      <td>0.0</td>\n",
              "      <td>0.0</td>\n",
              "      <td>0.0</td>\n",
              "      <td>17.9</td>\n",
              "      <td>0.0</td>\n",
              "      <td>-4.331090</td>\n",
              "    </tr>\n",
              "    <tr>\n",
              "      <th>23805</th>\n",
              "      <td>0.0</td>\n",
              "      <td>0.0</td>\n",
              "      <td>0.0</td>\n",
              "      <td>0.0</td>\n",
              "      <td>0.0</td>\n",
              "      <td>0.0</td>\n",
              "      <td>0.0</td>\n",
              "      <td>0.0</td>\n",
              "      <td>0.5</td>\n",
              "      <td>16.3</td>\n",
              "      <td>0.0</td>\n",
              "      <td>-2.225667</td>\n",
              "    </tr>\n",
              "    <tr>\n",
              "      <th>23806</th>\n",
              "      <td>0.0</td>\n",
              "      <td>0.0</td>\n",
              "      <td>0.0</td>\n",
              "      <td>0.0</td>\n",
              "      <td>0.0</td>\n",
              "      <td>0.0</td>\n",
              "      <td>0.0</td>\n",
              "      <td>0.0</td>\n",
              "      <td>0.5</td>\n",
              "      <td>11.0</td>\n",
              "      <td>0.0</td>\n",
              "      <td>-0.320207</td>\n",
              "    </tr>\n",
              "  </tbody>\n",
              "</table>\n",
              "<p>23807 rows × 12 columns</p>\n",
              "</div>\n",
              "    <div class=\"colab-df-buttons\">\n",
              "\n",
              "  <div class=\"colab-df-container\">\n",
              "    <button class=\"colab-df-convert\" onclick=\"convertToInteractive('df-3bd43545-a46f-4e83-9c17-ab06ab9f18a7')\"\n",
              "            title=\"Convert this dataframe to an interactive table.\"\n",
              "            style=\"display:none;\">\n",
              "\n",
              "  <svg xmlns=\"http://www.w3.org/2000/svg\" height=\"24px\" viewBox=\"0 -960 960 960\">\n",
              "    <path d=\"M120-120v-720h720v720H120Zm60-500h600v-160H180v160Zm220 220h160v-160H400v160Zm0 220h160v-160H400v160ZM180-400h160v-160H180v160Zm440 0h160v-160H620v160ZM180-180h160v-160H180v160Zm440 0h160v-160H620v160Z\"/>\n",
              "  </svg>\n",
              "    </button>\n",
              "\n",
              "  <style>\n",
              "    .colab-df-container {\n",
              "      display:flex;\n",
              "      gap: 12px;\n",
              "    }\n",
              "\n",
              "    .colab-df-convert {\n",
              "      background-color: #E8F0FE;\n",
              "      border: none;\n",
              "      border-radius: 50%;\n",
              "      cursor: pointer;\n",
              "      display: none;\n",
              "      fill: #1967D2;\n",
              "      height: 32px;\n",
              "      padding: 0 0 0 0;\n",
              "      width: 32px;\n",
              "    }\n",
              "\n",
              "    .colab-df-convert:hover {\n",
              "      background-color: #E2EBFA;\n",
              "      box-shadow: 0px 1px 2px rgba(60, 64, 67, 0.3), 0px 1px 3px 1px rgba(60, 64, 67, 0.15);\n",
              "      fill: #174EA6;\n",
              "    }\n",
              "\n",
              "    .colab-df-buttons div {\n",
              "      margin-bottom: 4px;\n",
              "    }\n",
              "\n",
              "    [theme=dark] .colab-df-convert {\n",
              "      background-color: #3B4455;\n",
              "      fill: #D2E3FC;\n",
              "    }\n",
              "\n",
              "    [theme=dark] .colab-df-convert:hover {\n",
              "      background-color: #434B5C;\n",
              "      box-shadow: 0px 1px 3px 1px rgba(0, 0, 0, 0.15);\n",
              "      filter: drop-shadow(0px 1px 2px rgba(0, 0, 0, 0.3));\n",
              "      fill: #FFFFFF;\n",
              "    }\n",
              "  </style>\n",
              "\n",
              "    <script>\n",
              "      const buttonEl =\n",
              "        document.querySelector('#df-3bd43545-a46f-4e83-9c17-ab06ab9f18a7 button.colab-df-convert');\n",
              "      buttonEl.style.display =\n",
              "        google.colab.kernel.accessAllowed ? 'block' : 'none';\n",
              "\n",
              "      async function convertToInteractive(key) {\n",
              "        const element = document.querySelector('#df-3bd43545-a46f-4e83-9c17-ab06ab9f18a7');\n",
              "        const dataTable =\n",
              "          await google.colab.kernel.invokeFunction('convertToInteractive',\n",
              "                                                    [key], {});\n",
              "        if (!dataTable) return;\n",
              "\n",
              "        const docLinkHtml = 'Like what you see? Visit the ' +\n",
              "          '<a target=\"_blank\" href=https://colab.research.google.com/notebooks/data_table.ipynb>data table notebook</a>'\n",
              "          + ' to learn more about interactive tables.';\n",
              "        element.innerHTML = '';\n",
              "        dataTable['output_type'] = 'display_data';\n",
              "        await google.colab.output.renderOutput(dataTable, element);\n",
              "        const docLink = document.createElement('div');\n",
              "        docLink.innerHTML = docLinkHtml;\n",
              "        element.appendChild(docLink);\n",
              "      }\n",
              "    </script>\n",
              "  </div>\n",
              "\n",
              "\n",
              "<div id=\"df-74f9b55a-509d-4fd1-a1bd-2580bd1e064b\">\n",
              "  <button class=\"colab-df-quickchart\" onclick=\"quickchart('df-74f9b55a-509d-4fd1-a1bd-2580bd1e064b')\"\n",
              "            title=\"Suggest charts\"\n",
              "            style=\"display:none;\">\n",
              "\n",
              "<svg xmlns=\"http://www.w3.org/2000/svg\" height=\"24px\"viewBox=\"0 0 24 24\"\n",
              "     width=\"24px\">\n",
              "    <g>\n",
              "        <path d=\"M19 3H5c-1.1 0-2 .9-2 2v14c0 1.1.9 2 2 2h14c1.1 0 2-.9 2-2V5c0-1.1-.9-2-2-2zM9 17H7v-7h2v7zm4 0h-2V7h2v10zm4 0h-2v-4h2v4z\"/>\n",
              "    </g>\n",
              "</svg>\n",
              "  </button>\n",
              "\n",
              "<style>\n",
              "  .colab-df-quickchart {\n",
              "      --bg-color: #E8F0FE;\n",
              "      --fill-color: #1967D2;\n",
              "      --hover-bg-color: #E2EBFA;\n",
              "      --hover-fill-color: #174EA6;\n",
              "      --disabled-fill-color: #AAA;\n",
              "      --disabled-bg-color: #DDD;\n",
              "  }\n",
              "\n",
              "  [theme=dark] .colab-df-quickchart {\n",
              "      --bg-color: #3B4455;\n",
              "      --fill-color: #D2E3FC;\n",
              "      --hover-bg-color: #434B5C;\n",
              "      --hover-fill-color: #FFFFFF;\n",
              "      --disabled-bg-color: #3B4455;\n",
              "      --disabled-fill-color: #666;\n",
              "  }\n",
              "\n",
              "  .colab-df-quickchart {\n",
              "    background-color: var(--bg-color);\n",
              "    border: none;\n",
              "    border-radius: 50%;\n",
              "    cursor: pointer;\n",
              "    display: none;\n",
              "    fill: var(--fill-color);\n",
              "    height: 32px;\n",
              "    padding: 0;\n",
              "    width: 32px;\n",
              "  }\n",
              "\n",
              "  .colab-df-quickchart:hover {\n",
              "    background-color: var(--hover-bg-color);\n",
              "    box-shadow: 0 1px 2px rgba(60, 64, 67, 0.3), 0 1px 3px 1px rgba(60, 64, 67, 0.15);\n",
              "    fill: var(--button-hover-fill-color);\n",
              "  }\n",
              "\n",
              "  .colab-df-quickchart-complete:disabled,\n",
              "  .colab-df-quickchart-complete:disabled:hover {\n",
              "    background-color: var(--disabled-bg-color);\n",
              "    fill: var(--disabled-fill-color);\n",
              "    box-shadow: none;\n",
              "  }\n",
              "\n",
              "  .colab-df-spinner {\n",
              "    border: 2px solid var(--fill-color);\n",
              "    border-color: transparent;\n",
              "    border-bottom-color: var(--fill-color);\n",
              "    animation:\n",
              "      spin 1s steps(1) infinite;\n",
              "  }\n",
              "\n",
              "  @keyframes spin {\n",
              "    0% {\n",
              "      border-color: transparent;\n",
              "      border-bottom-color: var(--fill-color);\n",
              "      border-left-color: var(--fill-color);\n",
              "    }\n",
              "    20% {\n",
              "      border-color: transparent;\n",
              "      border-left-color: var(--fill-color);\n",
              "      border-top-color: var(--fill-color);\n",
              "    }\n",
              "    30% {\n",
              "      border-color: transparent;\n",
              "      border-left-color: var(--fill-color);\n",
              "      border-top-color: var(--fill-color);\n",
              "      border-right-color: var(--fill-color);\n",
              "    }\n",
              "    40% {\n",
              "      border-color: transparent;\n",
              "      border-right-color: var(--fill-color);\n",
              "      border-top-color: var(--fill-color);\n",
              "    }\n",
              "    60% {\n",
              "      border-color: transparent;\n",
              "      border-right-color: var(--fill-color);\n",
              "    }\n",
              "    80% {\n",
              "      border-color: transparent;\n",
              "      border-right-color: var(--fill-color);\n",
              "      border-bottom-color: var(--fill-color);\n",
              "    }\n",
              "    90% {\n",
              "      border-color: transparent;\n",
              "      border-bottom-color: var(--fill-color);\n",
              "    }\n",
              "  }\n",
              "</style>\n",
              "\n",
              "  <script>\n",
              "    async function quickchart(key) {\n",
              "      const quickchartButtonEl =\n",
              "        document.querySelector('#' + key + ' button');\n",
              "      quickchartButtonEl.disabled = true;  // To prevent multiple clicks.\n",
              "      quickchartButtonEl.classList.add('colab-df-spinner');\n",
              "      try {\n",
              "        const charts = await google.colab.kernel.invokeFunction(\n",
              "            'suggestCharts', [key], {});\n",
              "      } catch (error) {\n",
              "        console.error('Error during call to suggestCharts:', error);\n",
              "      }\n",
              "      quickchartButtonEl.classList.remove('colab-df-spinner');\n",
              "      quickchartButtonEl.classList.add('colab-df-quickchart-complete');\n",
              "    }\n",
              "    (() => {\n",
              "      let quickchartButtonEl =\n",
              "        document.querySelector('#df-74f9b55a-509d-4fd1-a1bd-2580bd1e064b button');\n",
              "      quickchartButtonEl.style.display =\n",
              "        google.colab.kernel.accessAllowed ? 'block' : 'none';\n",
              "    })();\n",
              "  </script>\n",
              "</div>\n",
              "\n",
              "  <div id=\"id_5d6a34ad-fcb6-4159-ac8b-a683ed913cab\">\n",
              "    <style>\n",
              "      .colab-df-generate {\n",
              "        background-color: #E8F0FE;\n",
              "        border: none;\n",
              "        border-radius: 50%;\n",
              "        cursor: pointer;\n",
              "        display: none;\n",
              "        fill: #1967D2;\n",
              "        height: 32px;\n",
              "        padding: 0 0 0 0;\n",
              "        width: 32px;\n",
              "      }\n",
              "\n",
              "      .colab-df-generate:hover {\n",
              "        background-color: #E2EBFA;\n",
              "        box-shadow: 0px 1px 2px rgba(60, 64, 67, 0.3), 0px 1px 3px 1px rgba(60, 64, 67, 0.15);\n",
              "        fill: #174EA6;\n",
              "      }\n",
              "\n",
              "      [theme=dark] .colab-df-generate {\n",
              "        background-color: #3B4455;\n",
              "        fill: #D2E3FC;\n",
              "      }\n",
              "\n",
              "      [theme=dark] .colab-df-generate:hover {\n",
              "        background-color: #434B5C;\n",
              "        box-shadow: 0px 1px 3px 1px rgba(0, 0, 0, 0.15);\n",
              "        filter: drop-shadow(0px 1px 2px rgba(0, 0, 0, 0.3));\n",
              "        fill: #FFFFFF;\n",
              "      }\n",
              "    </style>\n",
              "    <button class=\"colab-df-generate\" onclick=\"generateWithVariable('df')\"\n",
              "            title=\"Generate code using this dataframe.\"\n",
              "            style=\"display:none;\">\n",
              "\n",
              "  <svg xmlns=\"http://www.w3.org/2000/svg\" height=\"24px\"viewBox=\"0 0 24 24\"\n",
              "       width=\"24px\">\n",
              "    <path d=\"M7,19H8.4L18.45,9,17,7.55,7,17.6ZM5,21V16.75L18.45,3.32a2,2,0,0,1,2.83,0l1.4,1.43a1.91,1.91,0,0,1,.58,1.4,1.91,1.91,0,0,1-.58,1.4L9.25,21ZM18.45,9,17,7.55Zm-12,3A5.31,5.31,0,0,0,4.9,8.1,5.31,5.31,0,0,0,1,6.5,5.31,5.31,0,0,0,4.9,4.9,5.31,5.31,0,0,0,6.5,1,5.31,5.31,0,0,0,8.1,4.9,5.31,5.31,0,0,0,12,6.5,5.46,5.46,0,0,0,6.5,12Z\"/>\n",
              "  </svg>\n",
              "    </button>\n",
              "    <script>\n",
              "      (() => {\n",
              "      const buttonEl =\n",
              "        document.querySelector('#id_5d6a34ad-fcb6-4159-ac8b-a683ed913cab button.colab-df-generate');\n",
              "      buttonEl.style.display =\n",
              "        google.colab.kernel.accessAllowed ? 'block' : 'none';\n",
              "\n",
              "      buttonEl.onclick = () => {\n",
              "        google.colab.notebook.generateWithVariable('df');\n",
              "      }\n",
              "      })();\n",
              "    </script>\n",
              "  </div>\n",
              "\n",
              "    </div>\n",
              "  </div>\n"
            ],
            "application/vnd.google.colaboratory.intrinsic+json": {
              "type": "dataframe",
              "variable_name": "df",
              "summary": "{\n  \"name\": \"df\",\n  \"rows\": 23807,\n  \"fields\": [\n    {\n      \"column\": \"SMOK_QTY\",\n      \"properties\": {\n        \"dtype\": \"number\",\n        \"std\": 30.0191967000148,\n        \"min\": 0.0,\n        \"max\": 100.0,\n        \"num_unique_values\": 101,\n        \"samples\": [\n          71.0,\n          87.0,\n          43.0\n        ],\n        \"semantic_type\": \"\",\n        \"description\": \"\"\n      }\n    },\n    {\n      \"column\": \"SMOK_STRT_AGE\",\n      \"properties\": {\n        \"dtype\": \"number\",\n        \"std\": 30.80513900046091,\n        \"min\": 0.0,\n        \"max\": 100.0,\n        \"num_unique_values\": 101,\n        \"samples\": [\n          6.0,\n          1.0,\n          16.0\n        ],\n        \"semantic_type\": \"\",\n        \"description\": \"\"\n      }\n    },\n    {\n      \"column\": \"SMOK_DTRN_YCNT\",\n      \"properties\": {\n        \"dtype\": \"number\",\n        \"std\": 6.2285611632432545,\n        \"min\": 0.0,\n        \"max\": 20.0,\n        \"num_unique_values\": 21,\n        \"samples\": [\n          8.0,\n          18.0,\n          12.0\n        ],\n        \"semantic_type\": \"\",\n        \"description\": \"\"\n      }\n    },\n    {\n      \"column\": \"HORM_TRTM_YN\",\n      \"properties\": {\n        \"dtype\": \"number\",\n        \"std\": 0.4501337723279497,\n        \"min\": 0.0,\n        \"max\": 1.0,\n        \"num_unique_values\": 2,\n        \"samples\": [\n          1.0,\n          0.0\n        ],\n        \"semantic_type\": \"\",\n        \"description\": \"\"\n      }\n    },\n    {\n      \"column\": \"HORM_TRTM_DTRN_DCNT\",\n      \"properties\": {\n        \"dtype\": \"number\",\n        \"std\": 27.268853163249233,\n        \"min\": 0.0,\n        \"max\": 100.0,\n        \"num_unique_values\": 101,\n        \"samples\": [\n          32.0,\n          76.0\n        ],\n        \"semantic_type\": \"\",\n        \"description\": \"\"\n      }\n    },\n    {\n      \"column\": \"HORM_TRTM_PRPS_CD\",\n      \"properties\": {\n        \"dtype\": \"number\",\n        \"std\": 18.232709171571855,\n        \"min\": 0.0,\n        \"max\": 99.0,\n        \"num_unique_values\": 10,\n        \"samples\": [\n          3.0,\n          99.0\n        ],\n        \"semantic_type\": \"\",\n        \"description\": \"\"\n      }\n    },\n    {\n      \"column\": \"MENO_YN\",\n      \"properties\": {\n        \"dtype\": \"number\",\n        \"std\": 0.44789061447806383,\n        \"min\": 0.0,\n        \"max\": 1.0,\n        \"num_unique_values\": 2,\n        \"samples\": [\n          0.0,\n          1.0\n        ],\n        \"semantic_type\": \"\",\n        \"description\": \"\"\n      }\n    },\n    {\n      \"column\": \"MENO_AGE\",\n      \"properties\": {\n        \"dtype\": \"number\",\n        \"std\": 27.464608001559835,\n        \"min\": 0.0,\n        \"max\": 100.0,\n        \"num_unique_values\": 101,\n        \"samples\": [\n          18.0,\n          79.0\n        ],\n        \"semantic_type\": \"\",\n        \"description\": \"\"\n      }\n    },\n    {\n      \"column\": \"UCLN_PRGN_YN\",\n      \"properties\": {\n        \"dtype\": \"number\",\n        \"std\": 0.44392419975593705,\n        \"min\": 0.0,\n        \"max\": 1.0,\n        \"num_unique_values\": 3,\n        \"samples\": [\n          0.0,\n          1.0\n        ],\n        \"semantic_type\": \"\",\n        \"description\": \"\"\n      }\n    },\n    {\n      \"column\": \"MENA_AGE\",\n      \"properties\": {\n        \"dtype\": \"number\",\n        \"std\": 2.88551411731842,\n        \"min\": 1.0,\n        \"max\": 18.0,\n        \"num_unique_values\": 99,\n        \"samples\": [\n          17.5,\n          13.9\n        ],\n        \"semantic_type\": \"\",\n        \"description\": \"\"\n      }\n    },\n    {\n      \"column\": \"target\",\n      \"properties\": {\n        \"dtype\": \"number\",\n        \"std\": 0.49942375118147825,\n        \"min\": 0.0,\n        \"max\": 1.0,\n        \"num_unique_values\": 2,\n        \"samples\": [\n          0.0,\n          1.0\n        ],\n        \"semantic_type\": \"\",\n        \"description\": \"\"\n      }\n    },\n    {\n      \"column\": \"Risk_Percentile_lr\",\n      \"properties\": {\n        \"dtype\": \"number\",\n        \"std\": 28.24853367713504,\n        \"min\": -4.367041701875847,\n        \"max\": 100.0,\n        \"num_unique_values\": 9677,\n        \"samples\": [\n          12.218884543660502,\n          51.365173511914584\n        ],\n        \"semantic_type\": \"\",\n        \"description\": \"\"\n      }\n    }\n  ]\n}"
            }
          },
          "metadata": {},
          "execution_count": 18
        }
      ],
      "source": [
        "df"
      ]
    },
    {
      "cell_type": "code",
      "execution_count": null,
      "metadata": {
        "colab": {
          "base_uri": "https://localhost:8080/"
        },
        "id": "FylVffN6_SHm",
        "outputId": "2a80955f-feba-4a99-b42f-c6d6dca147a4"
      },
      "outputs": [
        {
          "output_type": "stream",
          "name": "stdout",
          "text": [
            "Max Risk Score 환자군 lr: 100.0\n",
            "Min Risk Score 환자군 lr: -2.5694384110240973\n"
          ]
        }
      ],
      "source": [
        "# 'target'이 1인 데이터 필터링\n",
        "target_1_df = df[df['target'] == 1]\n",
        "\n",
        "# 'Risk_score'의 최대값과 최저값 계산\n",
        "max_risk_score_diag_yn_1_lr = target_1_df['Risk_Percentile_lr'].max()\n",
        "min_risk_score_diag_yn_1_lr = target_1_df['Risk_Percentile_lr'].min()\n",
        "\n",
        "print(f\"Max Risk Score 환자군 lr: {max_risk_score_diag_yn_1_lr}\")\n",
        "print(f\"Min Risk Score 환자군 lr: {min_risk_score_diag_yn_1_lr}\")\n"
      ]
    },
    {
      "cell_type": "code",
      "execution_count": null,
      "metadata": {
        "id": "xaInk63ZRtCo"
      },
      "outputs": [],
      "source": [
        "\n",
        "# # CSV 파일로 저장\n",
        "# df.to_csv('/content/drive/MyDrive/캡디/df_Risk_score_included_0530_변수들추출후.csv', index=False)"
      ]
    },
    {
      "cell_type": "markdown",
      "source": [
        "##random forest"
      ],
      "metadata": {
        "id": "fz4cou123DM4"
      }
    },
    {
      "cell_type": "code",
      "source": [
        "import pandas as pd\n",
        "import numpy as np\n",
        "from sklearn.impute import SimpleImputer\n",
        "from sklearn.ensemble import RandomForestClassifier\n",
        "from sklearn.preprocessing import StandardScaler\n",
        "from sklearn.metrics import accuracy_score, confusion_matrix, classification_report\n",
        "from sklearn.model_selection import train_test_split\n",
        "from statsmodels.stats.outliers_influence import variance_inflation_factor\n"
      ],
      "metadata": {
        "id": "UM-3jXiS3nb5"
      },
      "execution_count": null,
      "outputs": []
    },
    {
      "cell_type": "markdown",
      "source": [
        "###모델학습"
      ],
      "metadata": {
        "id": "96LIlYbHEzNu"
      }
    },
    {
      "cell_type": "code",
      "source": [
        "# 결측치 처리\n",
        "imputer = SimpleImputer(strategy='mean')\n",
        "X_imputed = imputer.fit_transform(X)\n",
        "\n",
        "# VIF 계산을 위한 상수 추가\n",
        "X_const = sm.add_constant(X_imputed)\n",
        "\n",
        "# VIF 계산\n",
        "vif = pd.DataFrame()\n",
        "vif[\"VIF Factor\"] = [variance_inflation_factor(X_const, i) for i in range(X_const.shape[1])]\n",
        "vif[\"features\"] = X.columns\n",
        "print(vif)\n",
        "\n",
        "# 데이터 스케일링\n",
        "scaler = StandardScaler()\n",
        "X_scaled = scaler.fit_transform(X_imputed)\n",
        "\n",
        "# 학습 데이터와 테스트 데이터 분할\n",
        "X_train, X_test, y_train, y_test = train_test_split(X_scaled, y, test_size=0.2, random_state=42)\n",
        "\n",
        "# Random Forest 모델 적합\n",
        "rf = RandomForestClassifier(n_estimators=100, random_state=42)\n",
        "rf.fit(X_train, y_train)\n",
        "\n",
        "# 예측\n",
        "y_pred_rf = rf.predict(X_test)\n",
        "\n",
        "# 결과 출력\n",
        "print(f'Random Forest 정확도: {accuracy_score(y_test, y_pred_rf)}')\n",
        "print(f'혼동 행렬:\\n{confusion_matrix(y_test, y_pred_rf)}')\n",
        "print(f'분류 보고서:\\n{classification_report(y_test, y_pred_rf)}')\n",
        "\n",
        "# 변수 중요도 출력\n",
        "feature_importances = rf.feature_importances_\n",
        "features = X.columns\n",
        "\n",
        "importance_df = pd.DataFrame({\n",
        "    'Feature': features,\n",
        "    'Importance': feature_importances\n",
        "})\n",
        "\n",
        "importance_df = importance_df.sort_values(by='Importance', ascending=False)\n",
        "print(\"변수 중요도:\")\n",
        "print(importance_df)"
      ],
      "metadata": {
        "colab": {
          "base_uri": "https://localhost:8080/"
        },
        "id": "VnFKtaWQ3HWF",
        "outputId": "1d7ba4ed-ce92-4a22-f35a-d890111d8cc7"
      },
      "execution_count": null,
      "outputs": [
        {
          "output_type": "stream",
          "name": "stdout",
          "text": [
            "    VIF Factor             features\n",
            "0    29.157831                const\n",
            "1     1.996379             SMOK_QTY\n",
            "2     2.068262        SMOK_STRT_AGE\n",
            "3     2.254562       SMOK_DTRN_YCNT\n",
            "4     3.732207         HORM_TRTM_YN\n",
            "5     3.155356  HORM_TRTM_DTRN_DCNT\n",
            "6     1.198903    HORM_TRTM_PRPS_CD\n",
            "7     3.595955              MENO_YN\n",
            "8     3.234848             MENO_AGE\n",
            "9     1.316473         UCLN_PRGN_YN\n",
            "10    1.325301             MENA_AGE\n",
            "Random Forest 정확도: 0.9928601427971441\n",
            "혼동 행렬:\n",
            "[[2237    6]\n",
            " [  28 2491]]\n",
            "분류 보고서:\n",
            "              precision    recall  f1-score   support\n",
            "\n",
            "         0.0       0.99      1.00      0.99      2243\n",
            "         1.0       1.00      0.99      0.99      2519\n",
            "\n",
            "    accuracy                           0.99      4762\n",
            "   macro avg       0.99      0.99      0.99      4762\n",
            "weighted avg       0.99      0.99      0.99      4762\n",
            "\n",
            "변수 중요도:\n",
            "                Feature  Importance\n",
            "3        SMOK_DTRN_YCNT    0.205823\n",
            "2         SMOK_STRT_AGE    0.177794\n",
            "1              SMOK_QTY    0.162952\n",
            "10             MENA_AGE    0.092219\n",
            "7               MENO_YN    0.083014\n",
            "8              MENO_AGE    0.061812\n",
            "9          UCLN_PRGN_YN    0.061107\n",
            "6     HORM_TRTM_PRPS_CD    0.053311\n",
            "4          HORM_TRTM_YN    0.051610\n",
            "5   HORM_TRTM_DTRN_DCNT    0.050358\n",
            "0                 const    0.000000\n"
          ]
        }
      ]
    },
    {
      "cell_type": "markdown",
      "source": [
        "###점수구하기"
      ],
      "metadata": {
        "id": "PLU6JqQI9WnM"
      }
    },
    {
      "cell_type": "code",
      "source": [
        "# 각 행에 대한 위험 점수 계산\n",
        "# 클래스 1의 예측 확률을 위험 점수로 사용합니다.\n",
        "risk_scores_rf = rf.predict_proba(X_scaled)[:, 1]\n",
        "\n",
        "# 'target'이 1인 행들 필터링\n",
        "high_risk_patients_rf = risk_scores_rf[y == 1]\n",
        "\n",
        "# 'high_risk_patients'를 pandas Series로 변환\n",
        "high_risk_patients_series_rf = pd.Series(high_risk_patients_rf)\n",
        "\n",
        "# 최대 위험 점수를 갖는 행 찾기\n",
        "max_risk_index_diag_rf_1 = high_risk_patients_series_rf.idxmax()\n",
        "max_risk_row_diag_rf_1 = X.loc[max_risk_index_diag_rf_1]\n",
        "\n",
        "# 최대 위험 점수를 갖는 행의 위험 점수\n",
        "max_risk_score_diag_rf_1 = high_risk_patients_series_rf.loc[max_risk_index_diag_rf_1]\n",
        "print(\"DIAG_YN=1인 행들 중 최대 위험 점수를 갖는 행의 점수:\", max_risk_score_diag_rf_1)\n",
        "print(\"DIAG_YN=1인 행들 중 최대 위험 점수를 갖는 행:\", max_risk_row_diag_rf_1)\n"
      ],
      "metadata": {
        "colab": {
          "base_uri": "https://localhost:8080/"
        },
        "id": "outhxyfS9YZT",
        "outputId": "b3984bad-337a-4e09-c329-09ed7b3a24d7"
      },
      "execution_count": null,
      "outputs": [
        {
          "output_type": "stream",
          "name": "stdout",
          "text": [
            "DIAG_YN=1인 행들 중 최대 위험 점수를 갖는 행의 점수: 1.0\n",
            "DIAG_YN=1인 행들 중 최대 위험 점수를 갖는 행: const                   1.0\n",
            "SMOK_QTY               79.0\n",
            "SMOK_STRT_AGE          36.0\n",
            "SMOK_DTRN_YCNT          8.0\n",
            "HORM_TRTM_YN            0.0\n",
            "HORM_TRTM_DTRN_DCNT     0.0\n",
            "HORM_TRTM_PRPS_CD       0.0\n",
            "MENO_YN                 1.0\n",
            "MENO_AGE               12.0\n",
            "UCLN_PRGN_YN            0.0\n",
            "MENA_AGE               13.0\n",
            "Name: 0, dtype: float64\n"
          ]
        }
      ]
    },
    {
      "cell_type": "code",
      "source": [
        "# 최소 위험 점수를 갖는 행 찾기\n",
        "min_risk_index_diag_rf_1 = high_risk_patients_series_rf.idxmin()\n",
        "min_risk_row_diag_rf_1 = X.loc[min_risk_index_diag_rf_1]\n",
        "\n",
        "# 최소 위험 점수를 갖는 행의 위험 점수\n",
        "min_risk_score_diag_rf_1 = high_risk_patients_series_rf.loc[min_risk_index_diag_rf_1]\n",
        "print(\"DIAG_YN=1인 행들 중 최소 위험 점수를 갖는 행의 점수:\", min_risk_score_diag_rf_1)\n",
        "print(\"DIAG_YN=1인 행들 중 최소 위험 점수를 갖는 행:\", min_risk_row_diag_rf_1)\n"
      ],
      "metadata": {
        "colab": {
          "base_uri": "https://localhost:8080/"
        },
        "id": "n4v87mr_Aiyd",
        "outputId": "20819d63-7a0f-4e02-c3de-5ed04b6e843a"
      },
      "execution_count": null,
      "outputs": [
        {
          "output_type": "stream",
          "name": "stdout",
          "text": [
            "DIAG_YN=1인 행들 중 최소 위험 점수를 갖는 행의 점수: 0.05\n",
            "DIAG_YN=1인 행들 중 최소 위험 점수를 갖는 행: const                   1.0\n",
            "SMOK_QTY                0.0\n",
            "SMOK_STRT_AGE           0.0\n",
            "SMOK_DTRN_YCNT          0.0\n",
            "HORM_TRTM_YN            0.0\n",
            "HORM_TRTM_DTRN_DCNT     0.0\n",
            "HORM_TRTM_PRPS_CD       0.0\n",
            "MENO_YN                 0.0\n",
            "MENO_AGE                0.0\n",
            "UCLN_PRGN_YN            1.0\n",
            "MENA_AGE               14.0\n",
            "Name: 10290, dtype: float64\n"
          ]
        }
      ]
    },
    {
      "cell_type": "markdown",
      "source": [
        "###위험확률"
      ],
      "metadata": {
        "id": "akzYeiPwBKv7"
      }
    },
    {
      "cell_type": "code",
      "source": [
        "# 각 행에 대한 위험 점수 계산\n",
        "risk_scores_per_row_rf = rf.predict_proba(X_scaled)[:, 1]\n",
        "\n",
        "# 최대 위험 점수\n",
        "max_risk_score_rf = risk_scores_per_row_rf.max()\n",
        "\n",
        "# 위험 점수를 100점 기준으로 변환하여 위험 백분위 계산\n",
        "risk_percentiles_rf = (risk_scores_per_row_rf / max_risk_score_rf) * 100\n",
        "\n",
        "# 데이터프레임에 위험 백분위 열 추가\n",
        "X_with_risk_percentiles_rf = X.copy()\n",
        "X_with_risk_percentiles_rf['Risk_Percentile'] = risk_percentiles_rf\n",
        "\n",
        "# 결과 출력\n",
        "print(X_with_risk_percentiles_rf)\n"
      ],
      "metadata": {
        "colab": {
          "base_uri": "https://localhost:8080/"
        },
        "id": "hfvCX1bnBNLC",
        "outputId": "6bb2de96-483a-40d6-bd25-f4ab194eba9a"
      },
      "execution_count": null,
      "outputs": [
        {
          "output_type": "stream",
          "name": "stdout",
          "text": [
            "       const  SMOK_QTY  SMOK_STRT_AGE  SMOK_DTRN_YCNT  HORM_TRTM_YN  \\\n",
            "0        1.0      79.0           36.0             8.0           0.0   \n",
            "1        1.0      79.0           36.0             8.0           1.0   \n",
            "2        1.0      68.0           35.0            13.0           1.0   \n",
            "3        1.0       0.0            0.0             0.0           0.0   \n",
            "4        1.0       0.0            0.0             0.0           0.0   \n",
            "...      ...       ...            ...             ...           ...   \n",
            "23802    1.0       0.0            0.0             0.0           0.0   \n",
            "23803    1.0       0.0            0.0             0.0           0.0   \n",
            "23804    1.0       0.0            0.0             0.0           0.0   \n",
            "23805    1.0       0.0            0.0             0.0           0.0   \n",
            "23806    1.0       0.0            0.0             0.0           0.0   \n",
            "\n",
            "       HORM_TRTM_DTRN_DCNT  HORM_TRTM_PRPS_CD  MENO_YN  MENO_AGE  \\\n",
            "0                      0.0                0.0      1.0      12.0   \n",
            "1                     47.0               99.0      0.0       0.0   \n",
            "2                     91.0               99.0      0.0       0.0   \n",
            "3                      0.0                0.0      1.0      93.0   \n",
            "4                      0.0                0.0      0.0       0.0   \n",
            "...                    ...                ...      ...       ...   \n",
            "23802                  0.0                0.0      0.0       0.0   \n",
            "23803                  0.0                0.0      0.0       0.0   \n",
            "23804                  0.0                0.0      0.0       0.0   \n",
            "23805                  0.0                0.0      0.0       0.0   \n",
            "23806                  0.0                0.0      0.0       0.0   \n",
            "\n",
            "       UCLN_PRGN_YN  MENA_AGE  Risk_Percentile  \n",
            "0               0.0      13.0       100.000000  \n",
            "1               1.0       9.0       100.000000  \n",
            "2               0.0      10.0       100.000000  \n",
            "3               1.0      10.0       100.000000  \n",
            "4               0.0      11.0        39.519647  \n",
            "...             ...       ...              ...  \n",
            "23802           0.5       9.6         0.000000  \n",
            "23803           0.5      14.4         0.000000  \n",
            "23804           0.0      17.9         0.000000  \n",
            "23805           0.5      16.3         0.000000  \n",
            "23806           0.5      11.0         0.392000  \n",
            "\n",
            "[23807 rows x 12 columns]\n"
          ]
        }
      ]
    },
    {
      "cell_type": "code",
      "source": [
        "\n",
        "df['Risk_Percentile_rf'] = risk_percentiles_rf"
      ],
      "metadata": {
        "colab": {
          "base_uri": "https://localhost:8080/"
        },
        "id": "EBl5kW3jBW88",
        "outputId": "379da9f8-5bf1-43bc-d4cf-0a5c0edd1fe4"
      },
      "execution_count": null,
      "outputs": [
        {
          "output_type": "stream",
          "name": "stderr",
          "text": [
            "<ipython-input-26-cefa4b9237de>:1: SettingWithCopyWarning: \n",
            "A value is trying to be set on a copy of a slice from a DataFrame.\n",
            "Try using .loc[row_indexer,col_indexer] = value instead\n",
            "\n",
            "See the caveats in the documentation: https://pandas.pydata.org/pandas-docs/stable/user_guide/indexing.html#returning-a-view-versus-a-copy\n",
            "  df['Risk_Percentile_rf'] = risk_percentiles_rf\n"
          ]
        }
      ]
    },
    {
      "cell_type": "code",
      "source": [
        "# 'target'이 1인 데이터 필터링\n",
        "target_1_df = df[df['target'] == 1]\n",
        "\n",
        "# 'Risk_score'의 최대값과 최저값 계산\n",
        "max_risk_score_diag_yn_1_rf = target_1_df['Risk_Percentile_rf'].max()\n",
        "min_risk_score_diag_yn_1_rf = target_1_df['Risk_Percentile_rf'].min()\n",
        "\n",
        "print(f\"Max Risk Score 환자군: {max_risk_score_diag_yn_1_rf}\")\n",
        "print(f\"Min Risk Score 환자군: {min_risk_score_diag_yn_1_rf}\")\n"
      ],
      "metadata": {
        "colab": {
          "base_uri": "https://localhost:8080/"
        },
        "id": "YOjAo0THBahb",
        "outputId": "2c7eea18-a88c-44bb-f7cf-c34e7ed7e557"
      },
      "execution_count": null,
      "outputs": [
        {
          "output_type": "stream",
          "name": "stdout",
          "text": [
            "Max Risk Score 환자군: 100.0\n",
            "Min Risk Score 환자군: 5.0\n"
          ]
        }
      ]
    },
    {
      "cell_type": "markdown",
      "source": [
        "##ANN"
      ],
      "metadata": {
        "id": "CL-4IwJVCbdT"
      }
    },
    {
      "cell_type": "code",
      "source": [
        "import pandas as pd\n",
        "import numpy as np\n",
        "\n",
        "from sklearn.impute import SimpleImputer\n",
        "from sklearn.preprocessing import StandardScaler\n",
        "from sklearn.model_selection import train_test_split\n",
        "from sklearn.metrics import accuracy_score\n",
        "\n",
        "import tensorflow as tf\n",
        "from tensorflow.keras.models import Sequential\n",
        "from tensorflow.keras.layers import Dense, Dropout\n"
      ],
      "metadata": {
        "id": "hVdYPKTHCdp-"
      },
      "execution_count": null,
      "outputs": []
    },
    {
      "cell_type": "markdown",
      "source": [
        "###모델학습"
      ],
      "metadata": {
        "id": "Cjwe6r5fErpK"
      }
    },
    {
      "cell_type": "code",
      "source": [
        "\n",
        "# 데이터 스케일링\n",
        "scaler = StandardScaler()\n",
        "X_scaled = scaler.fit_transform(X)\n",
        "\n",
        "# 학습 데이터와 테스트 데이터로 분할\n",
        "X_train, X_test, y_train, y_test = train_test_split(X_scaled, y, test_size=0.2, random_state=42)\n",
        "\n",
        "# ANN 모델 정의\n",
        "model = Sequential()\n",
        "model.add(Dense(64, input_dim=X_train.shape[1], activation='relu'))\n",
        "model.add(Dropout(0.5))\n",
        "model.add(Dense(32, activation='relu'))\n",
        "model.add(Dropout(0.5))\n",
        "model.add(Dense(1, activation='sigmoid'))\n",
        "\n",
        "# 모델 컴파일\n",
        "model.compile(optimizer='adam', loss='binary_crossentropy', metrics=['accuracy'])\n",
        "\n",
        "# 모델 학습\n",
        "history = model.fit(X_train, y_train, epochs=10, batch_size=10, validation_data=(X_test, y_test))\n",
        "\n",
        "# 모델 평가\n",
        "y_pred_ann = (model.predict(X_test) > 0.5).astype(\"int32\")\n",
        "accuracy_ann = accuracy_score(y_test, y_pred_ann)\n",
        "\n",
        "print(f'Test Accuracy ann: {accuracy_ann}')\n",
        "\n",
        "# 모델 요약 출력\n",
        "model.summary()\n",
        "\n",
        "# 가중치 확인\n",
        "weights = model.get_weights()\n",
        "\n",
        "for layer_num, layer_weights in enumerate(weights):\n",
        "    print(f\"Layer {layer_num + 1} weights shape: {layer_weights.shape}\")\n",
        "    print(layer_weights)"
      ],
      "metadata": {
        "colab": {
          "base_uri": "https://localhost:8080/"
        },
        "id": "DBfdMXzUCgjN",
        "outputId": "f5def686-a9fc-4a25-ce4e-d0e1b59b06fa"
      },
      "execution_count": null,
      "outputs": [
        {
          "output_type": "stream",
          "name": "stdout",
          "text": [
            "Epoch 1/10\n",
            "1905/1905 [==============================] - 14s 6ms/step - loss: 0.0991 - accuracy: 0.9734 - val_loss: 0.0405 - val_accuracy: 0.9916\n",
            "Epoch 2/10\n",
            "1905/1905 [==============================] - 11s 6ms/step - loss: 0.0607 - accuracy: 0.9863 - val_loss: 0.0381 - val_accuracy: 0.9916\n",
            "Epoch 3/10\n",
            "1905/1905 [==============================] - 7s 4ms/step - loss: 0.0556 - accuracy: 0.9875 - val_loss: 0.0375 - val_accuracy: 0.9920\n",
            "Epoch 4/10\n",
            "1905/1905 [==============================] - 6s 3ms/step - loss: 0.0551 - accuracy: 0.9874 - val_loss: 0.0351 - val_accuracy: 0.9916\n",
            "Epoch 5/10\n",
            "1905/1905 [==============================] - 4s 2ms/step - loss: 0.0536 - accuracy: 0.9876 - val_loss: 0.0350 - val_accuracy: 0.9920\n",
            "Epoch 6/10\n",
            "1905/1905 [==============================] - 4s 2ms/step - loss: 0.0509 - accuracy: 0.9877 - val_loss: 0.0345 - val_accuracy: 0.9920\n",
            "Epoch 7/10\n",
            "1905/1905 [==============================] - 6s 3ms/step - loss: 0.0509 - accuracy: 0.9875 - val_loss: 0.0350 - val_accuracy: 0.9922\n",
            "Epoch 8/10\n",
            "1905/1905 [==============================] - 4s 2ms/step - loss: 0.0496 - accuracy: 0.9880 - val_loss: 0.0341 - val_accuracy: 0.9922\n",
            "Epoch 9/10\n",
            "1905/1905 [==============================] - 4s 2ms/step - loss: 0.0491 - accuracy: 0.9879 - val_loss: 0.0353 - val_accuracy: 0.9920\n",
            "Epoch 10/10\n",
            "1905/1905 [==============================] - 6s 3ms/step - loss: 0.0488 - accuracy: 0.9882 - val_loss: 0.0334 - val_accuracy: 0.9922\n",
            "149/149 [==============================] - 0s 1ms/step\n",
            "Test Accuracy ann: 0.9922301553968921\n",
            "Model: \"sequential\"\n",
            "_________________________________________________________________\n",
            " Layer (type)                Output Shape              Param #   \n",
            "=================================================================\n",
            " dense (Dense)               (None, 64)                768       \n",
            "                                                                 \n",
            " dropout (Dropout)           (None, 64)                0         \n",
            "                                                                 \n",
            " dense_1 (Dense)             (None, 32)                2080      \n",
            "                                                                 \n",
            " dropout_1 (Dropout)         (None, 32)                0         \n",
            "                                                                 \n",
            " dense_2 (Dense)             (None, 1)                 33        \n",
            "                                                                 \n",
            "=================================================================\n",
            "Total params: 2881 (11.25 KB)\n",
            "Trainable params: 2881 (11.25 KB)\n",
            "Non-trainable params: 0 (0.00 Byte)\n",
            "_________________________________________________________________\n",
            "Layer 1 weights shape: (11, 64)\n",
            "[[ 4.38456833e-02 -2.16771632e-01 -1.57761529e-01 -1.77751780e-02\n",
            "  -2.75001109e-01 -2.56601483e-01 -1.24109119e-01  5.93680441e-02\n",
            "   1.36680067e-01  2.77542859e-01  2.06505954e-02  4.13748622e-03\n",
            "   1.90738499e-01  2.62432367e-01 -7.38404691e-02  1.03943646e-02\n",
            "  -1.61515236e-01 -1.48269832e-02  1.58342004e-01  1.69475526e-01\n",
            "  -2.53571242e-01  8.43822956e-04  5.49779832e-02 -2.42694512e-01\n",
            "   4.49905694e-02 -1.95834026e-01 -1.62265301e-01  3.19864154e-02\n",
            "  -1.46018133e-01  2.30867654e-01 -9.36181992e-02  7.28350878e-03\n",
            "  -2.48220563e-02  1.86247259e-01 -1.93933308e-01  2.33471960e-01\n",
            "   6.01121187e-02  2.38449901e-01 -1.92626625e-01  3.57016325e-02\n",
            "   2.47328848e-01 -2.35879809e-01  2.62850732e-01  1.18448496e-01\n",
            "  -2.09400803e-01 -1.58692002e-02  1.31001711e-01 -1.92378864e-01\n",
            "  -7.17002898e-02  7.23316073e-02  2.04480290e-02 -2.76985586e-01\n",
            "  -7.50466138e-02  4.35082316e-02  7.91099072e-02 -2.13289291e-01\n",
            "   9.98622179e-02 -2.14475691e-02  7.44838119e-02  2.30632395e-01\n",
            "   1.90118581e-01  2.76407987e-01 -1.24808699e-01  2.68923432e-01]\n",
            " [ 3.34443659e-01  3.17282051e-01  1.56593993e-01 -1.14543714e-01\n",
            "  -1.27267502e-02  3.87695223e-01  1.09638050e-01  2.94192404e-01\n",
            "  -4.24961140e-03 -1.81154147e-01  2.58870006e-01  1.26738548e-01\n",
            "   2.32429504e-02 -3.12606245e-01  2.10656777e-01  1.94506735e-01\n",
            "   1.32632405e-01  2.44660154e-02  2.70645656e-02  1.70533985e-01\n",
            "   5.26040643e-02  2.13483647e-01 -2.30728656e-01 -5.34246303e-02\n",
            "   2.42020160e-01 -2.14603215e-01  8.06394126e-03  3.95076089e-02\n",
            "   1.66346580e-01  2.91509241e-01  1.59555629e-01  3.59788805e-01\n",
            "   3.37137938e-01  3.60889822e-01  4.35955785e-02  9.49908718e-02\n",
            "  -8.45417753e-02  2.19874829e-01  3.04884017e-01  1.56232223e-01\n",
            "   3.92878383e-01  8.36868212e-02  2.09076315e-01 -1.02136113e-01\n",
            "   1.59258604e-01  1.60708636e-01 -1.82546631e-01  3.39289516e-01\n",
            "  -1.69533774e-01  1.74966484e-01 -6.53740689e-02  4.37209159e-01\n",
            "   3.47350299e-01 -1.33978888e-01 -1.09374210e-01 -7.01428391e-03\n",
            "  -3.51220369e-01 -8.52285549e-02  4.07173261e-02  4.03216600e-01\n",
            "  -1.18351273e-01 -1.38420522e-01 -2.55397148e-03 -7.07158148e-02]\n",
            " [ 4.04232889e-02  4.12085503e-01  2.78122425e-01 -1.60390437e-01\n",
            "   2.48228297e-01 -9.21864584e-02  3.45548540e-01  2.13453308e-01\n",
            "  -1.03435338e-01  3.41346860e-03 -1.45043075e-01 -2.11694568e-01\n",
            "   2.59834021e-01 -1.54400209e-03 -3.19550931e-01  2.49853805e-01\n",
            "   6.70769513e-02 -1.78563535e-01  1.41381249e-01  3.76186579e-01\n",
            "   2.69307971e-01 -9.05967578e-02  6.03805855e-02 -1.30867049e-01\n",
            "   3.89000833e-01 -1.46569863e-01 -4.81662713e-02 -3.68620716e-02\n",
            "  -1.44867286e-01  4.00781512e-01  3.17517906e-01 -4.23954874e-02\n",
            "   1.06665999e-01 -7.12716728e-02 -1.98546618e-01 -1.50404841e-01\n",
            "   2.65139956e-02 -9.47540402e-02  4.29486752e-01  2.18956426e-01\n",
            "   2.11286515e-01 -1.66985124e-01 -2.42416099e-01 -9.30167213e-02\n",
            "  -2.34572172e-01 -4.42657620e-01  8.91172141e-02  3.18749964e-01\n",
            "  -1.39872938e-01  1.00907147e-01 -1.10047556e-01  2.50358015e-01\n",
            "  -1.14677288e-01  4.29274946e-01 -1.43595532e-01  2.72760183e-01\n",
            "   2.58007377e-01  4.75391671e-02  1.93835497e-01  3.43662173e-01\n",
            "   7.69373104e-02  1.05431996e-01  9.76071358e-02  1.69810042e-01]\n",
            " [ 3.69044363e-01  1.04314066e-04 -2.06387401e-01 -2.64003962e-01\n",
            "   3.43276560e-01  6.00151066e-03  3.66524726e-01  3.14953208e-01\n",
            "   3.31349581e-01 -1.62669346e-01  9.78960320e-02 -5.99037893e-02\n",
            "   7.04113692e-02 -1.44114748e-01 -2.53306746e-01  2.90892392e-01\n",
            "   2.77736902e-01  1.12296693e-01 -1.77601241e-02  5.03564298e-01\n",
            "   3.15635115e-01  2.11580796e-03  1.02071583e-01  2.45516412e-02\n",
            "   2.13909790e-01  1.79448605e-01  2.04093710e-01  2.56427824e-01\n",
            "  -3.02727800e-02  4.12622601e-01  1.25730872e-01 -1.37133569e-01\n",
            "   1.06401548e-01  4.04511362e-01 -3.75793964e-01 -1.97559372e-01\n",
            "   6.37644976e-02  2.42311507e-01  1.57944560e-01  2.33863108e-02\n",
            "   1.86061561e-01  6.82293475e-02 -3.06499321e-02  3.67670804e-02\n",
            "   1.02432303e-01  1.67891294e-01  2.78174162e-01  3.45479220e-01\n",
            "   2.52217323e-01 -1.22092269e-01  1.04566805e-01  1.44726261e-01\n",
            "   2.25891188e-01  3.74291480e-01  1.53920889e-01  3.27590495e-01\n",
            "  -6.42968193e-02  2.85372615e-01 -1.81722239e-01  3.25793087e-01\n",
            "  -5.02184108e-02 -5.75515553e-02 -1.69432893e-01  5.09305969e-02]\n",
            " [ 1.26264736e-01  9.59030613e-02  2.93896496e-01 -1.45691440e-01\n",
            "   5.16065061e-01 -1.18586011e-01 -4.26463723e-01 -9.17158946e-02\n",
            "   3.65324914e-01  2.15101242e-01  2.87217498e-01  5.12691820e-03\n",
            "   8.40901658e-02  3.08825582e-01  4.53462631e-01 -1.58398420e-01\n",
            "   2.62089431e-01 -6.88841715e-02  3.53871822e-01 -2.16970518e-01\n",
            "  -4.46106344e-02  4.10630971e-01 -9.65857357e-02  2.27085147e-02\n",
            "  -2.03280345e-01 -5.90721481e-02 -2.00092550e-02  2.94136435e-01\n",
            "   4.59661931e-01 -5.11769839e-02  1.70592256e-02 -1.42650967e-02\n",
            "   5.05372547e-02  8.74246564e-03  4.87563163e-01 -4.52016629e-02\n",
            "   2.25222200e-01 -4.27861977e-03  1.65216342e-01  2.17955932e-01\n",
            "   1.82609831e-03  2.16140300e-02 -7.45144710e-02 -3.38050276e-02\n",
            "  -6.44913763e-02  4.54151958e-01 -1.34157732e-01 -1.38088062e-01\n",
            "   3.00085604e-01  1.58693761e-01 -2.02002767e-02  1.34334013e-01\n",
            "   2.25491017e-01  2.47578472e-01 -1.82156816e-01 -1.56795338e-01\n",
            "   3.68823022e-01  1.52871028e-01  1.76453054e-01 -2.53397673e-01\n",
            "  -7.46954009e-02  8.01967271e-03 -1.26663640e-01 -1.00730024e-01]\n",
            " [ 1.68945476e-01  1.32012978e-01  7.75047243e-02  1.54218897e-01\n",
            "   9.98343825e-02  4.25846688e-02 -1.26906633e-01 -1.11485042e-01\n",
            "   2.95432091e-01  3.60652745e-01  1.99391842e-01  7.96647593e-02\n",
            "   3.25446166e-02  7.66645670e-02  7.04566464e-02 -3.73054206e-01\n",
            "   1.29886836e-01 -8.37282240e-02  2.12927595e-01 -2.42577761e-01\n",
            "   2.66873706e-02  1.67752877e-02  1.24999613e-01  1.10148750e-01\n",
            "   2.10637197e-01  1.35165572e-01  1.06332615e-01  1.04123831e-01\n",
            "   3.17756742e-01 -8.62657577e-02 -1.83194831e-01  1.57430381e-01\n",
            "   3.14766586e-01  4.76620952e-03  2.24373981e-01  2.04025984e-01\n",
            "   2.62132108e-01  3.75822902e-01  3.73016484e-02 -1.71367154e-01\n",
            "  -8.43698904e-02  9.75228613e-04  5.39066605e-02  2.75301009e-01\n",
            "  -8.48799720e-02 -8.02151337e-02  1.00331657e-01 -1.49679810e-01\n",
            "  -1.34953596e-02  3.41596827e-02  1.64567336e-01  1.45354584e-01\n",
            "   1.53162137e-01  6.92343935e-02  2.46824533e-01 -2.66731113e-01\n",
            "  -6.18373007e-02 -2.21394300e-01  1.88103557e-01 -1.18964434e-01\n",
            "   1.73466429e-01  1.57606691e-01  9.95292962e-02  1.77478239e-01]\n",
            " [ 7.90148079e-02 -4.03442681e-01 -4.68480922e-02  7.39907613e-03\n",
            "  -3.85715246e-01 -1.80351496e-01  1.17532440e-01 -1.46212861e-01\n",
            "   1.78462893e-01  2.19009072e-01  2.98671782e-01 -5.77626340e-02\n",
            "   1.05625596e-02 -1.82406887e-01  2.13979304e-01 -1.65727839e-01\n",
            "   4.92391326e-02  2.68386215e-01  2.25547910e-01 -9.56502110e-02\n",
            "  -2.24514548e-02 -8.29594955e-03 -1.31907677e-02  2.76447535e-01\n",
            "   5.29670669e-03  9.35367793e-02  1.10260606e-01 -7.31073543e-02\n",
            "   9.33216661e-02  1.15106463e-01  1.77816257e-01  9.85373333e-02\n",
            "  -1.52552038e-01  3.46739173e-01  2.67249256e-01 -5.51520512e-02\n",
            "   2.16943577e-01 -1.72404528e-01  7.68406317e-02  1.06514178e-01\n",
            "  -2.16434449e-01 -4.99866419e-02  2.57492393e-01  1.61191463e-01\n",
            "   2.60284632e-01  3.06438029e-01  6.32377341e-02 -2.95343906e-01\n",
            "  -1.26541257e-01  3.16203564e-01  1.51038125e-01  1.12414286e-01\n",
            "  -2.85585314e-01  8.64849091e-02  1.55090511e-01  1.43972188e-01\n",
            "  -5.87390140e-02  5.31394146e-02 -5.33566214e-02 -3.01430613e-01\n",
            "   7.58300051e-02 -4.94032502e-02 -5.46087399e-02  1.23013165e-02]\n",
            " [ 4.87070568e-02 -1.54088289e-01  1.62698463e-01 -1.11602694e-01\n",
            "   7.48301297e-02  2.08360299e-01  1.50939256e-01 -9.43873916e-03\n",
            "   1.09992974e-01 -5.32825440e-02 -1.25504434e-01  3.44374120e-01\n",
            "  -1.09592736e-01  4.82312560e-01  4.70788807e-01  3.58211339e-01\n",
            "   2.98367232e-01  4.00074750e-01  3.89760315e-01 -2.27623567e-01\n",
            "   2.67618280e-02 -4.87332419e-02 -4.76884134e-02  9.38900486e-02\n",
            "   7.58076236e-02  1.06096633e-01 -8.76751691e-02 -2.01787844e-01\n",
            "   1.06748730e-01  1.40743600e-02 -1.68645665e-01  3.78897369e-01\n",
            "  -1.69967622e-01  8.51685777e-02  2.96200275e-01 -8.64713937e-02\n",
            "   1.39357150e-02 -5.30820414e-02 -2.95212716e-01 -1.13352211e-02\n",
            "   3.53906929e-01  4.24962752e-02  1.89569473e-01  3.69041353e-01\n",
            "  -9.47739854e-02  4.33270812e-01 -8.86174515e-02 -1.58497646e-01\n",
            "  -6.22778982e-02 -1.59495920e-02 -4.28948589e-02 -2.33071327e-01\n",
            "  -3.04194480e-01 -3.08442533e-01 -5.00348248e-02  2.96498954e-01\n",
            "   2.22129062e-01  1.18604951e-01 -7.42756352e-02  1.95183128e-01\n",
            "   1.83053613e-02  2.68471271e-01 -1.66399747e-01 -1.09083168e-01]\n",
            " [-3.22848886e-01 -3.28865707e-01 -2.99717546e-01  1.77437961e-01\n",
            "  -9.63849854e-03  9.65607688e-02  5.83389252e-02 -2.53263444e-01\n",
            "  -2.82468617e-01  3.39195728e-01 -4.44628932e-02  1.57113925e-01\n",
            "  -1.95924923e-01 -1.02966793e-01  3.96185629e-02  1.56544194e-01\n",
            "  -4.35470492e-02  2.88806707e-01  2.66969293e-01 -7.69042447e-02\n",
            "  -1.08144797e-01 -9.74265337e-02  1.12256072e-01 -1.08515620e-01\n",
            "  -1.25961125e-01 -3.30284685e-02  1.41513245e-02  5.44183366e-02\n",
            "   2.64772654e-01 -2.15625316e-01  3.44701350e-01  3.50266486e-01\n",
            "  -2.11810306e-01 -2.44584411e-01  4.26896781e-01  1.88095361e-01\n",
            "  -1.88922852e-01  1.54890642e-01 -6.64041787e-02  2.78288633e-01\n",
            "   1.22016057e-01 -1.01688802e-01 -2.28958860e-01  8.34115520e-02\n",
            "   5.15159480e-02 -2.54040975e-02 -1.07732803e-01 -2.40349263e-01\n",
            "   1.81959614e-01 -1.05848536e-01  8.84801671e-02 -2.01222152e-01\n",
            "   1.82664916e-01 -3.03685337e-01 -7.02082589e-02 -3.16564254e-02\n",
            "   2.95360208e-01 -7.09495842e-02 -7.48206489e-03  3.50186467e-01\n",
            "   1.86834335e-02  1.74528807e-01  1.41333759e-01  1.95969328e-01]\n",
            " [-3.82505983e-01 -2.82201841e-02  3.85720581e-02 -8.53918195e-02\n",
            "   1.42688319e-01  6.66676089e-02 -1.37806296e-01  3.52696218e-02\n",
            "  -1.24993846e-01  3.18557680e-01  1.74741969e-01  4.27039474e-01\n",
            "   6.19762354e-02  2.82106131e-01  1.16075367e-01 -2.36832909e-02\n",
            "  -1.75521001e-01  3.49101633e-01 -2.96577603e-01  6.34406656e-02\n",
            "  -2.13381901e-01  3.37282956e-01 -3.27677615e-02 -1.30927777e-02\n",
            "  -2.75216907e-01 -9.45142210e-02  4.38001961e-01  3.55293691e-01\n",
            "   3.59215885e-01 -2.57400215e-01 -2.37457320e-01  3.81814778e-01\n",
            "   2.97585547e-01  1.30369827e-01 -3.97201292e-02 -7.11859316e-02\n",
            "  -4.40767631e-02  4.37265515e-01 -8.23050290e-02  3.98263097e-01\n",
            "  -2.17566267e-01 -5.10099679e-02 -1.28118008e-01  2.63115410e-02\n",
            "   9.35291220e-03 -1.04022644e-01 -3.27292271e-02  1.76399007e-01\n",
            "  -3.43336388e-02 -1.39691578e-02 -2.33399495e-02 -2.38667056e-01\n",
            "  -3.21058810e-01  7.66612031e-03 -5.79648949e-02 -1.88738480e-01\n",
            "  -4.59184907e-02  3.40291113e-02  1.71752262e-03  2.78427720e-01\n",
            "   1.47022959e-02  8.90717804e-02 -1.03792123e-01  1.63259003e-02]\n",
            " [ 3.12590748e-02  5.28523736e-02 -4.42309350e-01  1.21822625e-01\n",
            "  -1.00277379e-01 -3.83321911e-01  9.25734937e-02  1.03007235e-01\n",
            "  -3.48620623e-01  1.06122471e-01 -2.89467663e-01 -3.59188840e-02\n",
            "  -8.20387304e-02  1.20397255e-01 -1.56458747e-02  6.83405027e-02\n",
            "  -4.70550865e-01 -2.70693540e-03 -5.42226136e-01  7.99138695e-02\n",
            "  -2.84596533e-01 -7.04618618e-02  2.95071125e-01  3.89578223e-01\n",
            "  -3.86898220e-01  2.17728436e-01  1.20428801e-02 -7.16599077e-02\n",
            "  -1.13448175e-02 -3.85456830e-01 -2.66814351e-01  1.72462650e-02\n",
            "  -6.94565326e-02  2.91599911e-02  4.79300097e-02  2.13527694e-01\n",
            "  -2.00125858e-01 -1.31091952e-01 -3.14539701e-01 -2.05948558e-02\n",
            "  -4.85165983e-01  4.09280688e-01  2.49619424e-01 -3.91294539e-01\n",
            "   6.17784083e-01  4.11916636e-02  3.38883877e-01  1.45576552e-01\n",
            "   7.21318603e-01  8.50982308e-01  5.50300658e-01  8.72448310e-02\n",
            "   5.46655357e-02  5.35273291e-02  1.08002797e-01 -3.69433820e-01\n",
            "   4.12983522e-02 -4.17889774e-01  7.24143386e-01  2.36169416e-02\n",
            "   4.66380179e-01 -3.95894885e-01  1.71832800e-01  6.16512120e-01]]\n",
            "Layer 2 weights shape: (64,)\n",
            "[ 2.48535156e-01  2.41523445e-01 -2.52433829e-02 -7.97896311e-02\n",
            "  2.04837278e-01 -9.70807001e-02  2.42978245e-01  1.91611886e-01\n",
            "  9.16907638e-02 -3.99463053e-04 -1.14605606e-01  1.38625083e-02\n",
            " -8.24870244e-02  6.32349476e-02  2.16589496e-01  4.48938012e-01\n",
            "  1.47786409e-01  2.69359089e-02  2.30620429e-01 -2.87686344e-02\n",
            "  4.38363329e-02 -3.08587812e-02 -2.11882144e-01 -1.64507002e-01\n",
            "  1.01149760e-01 -1.62453562e-01 -9.99124572e-02  3.04696821e-02\n",
            "  1.61501139e-01  1.01975508e-01  4.74672299e-03  1.24148376e-01\n",
            "  7.28359297e-02  1.00137234e-01  3.82893503e-01 -2.02200010e-01\n",
            " -6.90911412e-02  1.38128158e-02  1.24454260e-01  1.44705459e-01\n",
            "  1.03934653e-01 -2.31474280e-01 -1.35763749e-01 -4.03684415e-02\n",
            " -1.55054435e-01  3.56382757e-01 -1.74679041e-01  1.36335999e-01\n",
            " -1.11800037e-01 -1.54683590e-01 -2.17874959e-01  3.05663526e-01\n",
            "  9.93913859e-02  2.07913294e-01 -1.98226944e-01  6.61956146e-03\n",
            "  2.52535701e-01 -4.52366844e-02 -1.77223608e-01  1.98484883e-01\n",
            " -2.33531728e-01  9.40143317e-03 -1.38754845e-01 -1.50068372e-01]\n",
            "Layer 3 weights shape: (64, 32)\n",
            "[[-0.21352974  0.25267363 -0.2684543  ...  0.0024147   0.1114026\n",
            "   0.2571352 ]\n",
            " [-0.18497439  0.2549731  -0.14162229 ... -0.10246152  0.27064887\n",
            "   0.5882505 ]\n",
            " [-0.15482426  0.26260924 -0.09629495 ... -0.27419963  0.05932643\n",
            "   0.36145514]\n",
            " ...\n",
            " [-0.15461463  0.36178792  0.12129822 ... -0.16914114 -0.009526\n",
            "   0.29854894]\n",
            " [ 0.03258186 -0.0940094   0.19754681 ... -0.12998773  0.01058649\n",
            "  -0.05965872]\n",
            " [ 0.13721181  0.01447032  0.43378827 ...  0.54304767 -0.05490675\n",
            "  -0.13246074]]\n",
            "Layer 4 weights shape: (32,)\n",
            "[ 0.26316795 -0.05836893  0.24963364 -0.13971189 -0.08350747  0.2800084\n",
            " -0.02767079  0.2640164  -0.05388826 -0.03451382 -0.11566573  0.2779428\n",
            "  0.33080485 -0.02994891  0.3256723   0.25104192 -0.05542179  0.29215592\n",
            " -0.05296046  0.29609138 -0.05509221 -0.03846049 -0.05013702 -0.07529604\n",
            " -0.04385086  0.4267991   0.26797852  0.33875933  0.3595105   0.3294107\n",
            " -0.04647092 -0.04964315]\n",
            "Layer 5 weights shape: (32, 1)\n",
            "[[-0.41627258]\n",
            " [ 0.50754625]\n",
            " [-0.45316288]\n",
            " [ 0.42473984]\n",
            " [ 0.50527763]\n",
            " [-0.4298937 ]\n",
            " [ 0.48750454]\n",
            " [-0.42356575]\n",
            " [ 0.48183265]\n",
            " [ 0.7698399 ]\n",
            " [ 0.49292552]\n",
            " [-0.41840506]\n",
            " [-0.42046872]\n",
            " [ 0.6295497 ]\n",
            " [-0.28731656]\n",
            " [-0.5255062 ]\n",
            " [ 0.5607012 ]\n",
            " [-0.3857494 ]\n",
            " [ 0.39399943]\n",
            " [-0.44369254]\n",
            " [ 0.47456434]\n",
            " [ 0.46113056]\n",
            " [ 0.3097765 ]\n",
            " [ 0.68223345]\n",
            " [ 0.60524565]\n",
            " [-0.27334657]\n",
            " [-0.46550617]\n",
            " [-0.28395608]\n",
            " [-0.31421682]\n",
            " [-0.32439467]\n",
            " [ 0.5034301 ]\n",
            " [ 0.33774036]]\n",
            "Layer 6 weights shape: (1,)\n",
            "[-1.2480061]\n"
          ]
        }
      ]
    },
    {
      "cell_type": "markdown",
      "source": [
        "###점수구하기"
      ],
      "metadata": {
        "id": "BKb8jRcoDIgD"
      }
    },
    {
      "cell_type": "code",
      "source": [
        "# 각 행에 대한 위험 점수 계산\n",
        "risk_scores_ann = model.predict(X_scaled)\n",
        "\n",
        "# 'DIAG_YN'이 1인 행들 필터링\n",
        "high_risk_patients_ann = risk_scores_ann[y == 1]\n",
        "\n",
        "# 'high_risk_patients'를 pandas Series로 변환\n",
        "high_risk_patients_series_ann = pd.Series(np.squeeze(high_risk_patients_ann))\n",
        "\n",
        "# 최대 위험 점수를 갖는 행 찾기\n",
        "max_risk_index_diag_ann_1 = high_risk_patients_series_ann.idxmax()\n",
        "max_risk_row_diag_ann_1 = X.loc[max_risk_index_diag_ann_1]\n",
        "\n",
        "# 최대 위험 점수를 갖는 행의 위험 점수\n",
        "max_risk_score_diag_ann_1 = high_risk_patients_series_ann.loc[max_risk_index_diag_ann_1]\n",
        "print(\"DIAG_YN=1인 행들 중 최대 위험 점수를 갖는 행의 점수:\", max_risk_score_diag_ann_1)\n",
        "print(\"DIAG_YN=1인 행들 중 최대 위험 점수를 갖는 행:\", max_risk_row_diag_ann_1)\n"
      ],
      "metadata": {
        "colab": {
          "base_uri": "https://localhost:8080/"
        },
        "id": "q5WZFMVOCkEw",
        "outputId": "585f05b2-8b00-4aff-9f9d-563b3216737f"
      },
      "execution_count": null,
      "outputs": [
        {
          "output_type": "stream",
          "name": "stdout",
          "text": [
            "744/744 [==============================] - 1s 1ms/step\n",
            "DIAG_YN=1인 행들 중 최대 위험 점수를 갖는 행의 점수: 1.0\n",
            "DIAG_YN=1인 행들 중 최대 위험 점수를 갖는 행: const                   1.0\n",
            "SMOK_QTY               79.0\n",
            "SMOK_STRT_AGE          36.0\n",
            "SMOK_DTRN_YCNT          8.0\n",
            "HORM_TRTM_YN            0.0\n",
            "HORM_TRTM_DTRN_DCNT     0.0\n",
            "HORM_TRTM_PRPS_CD       0.0\n",
            "MENO_YN                 1.0\n",
            "MENO_AGE               12.0\n",
            "UCLN_PRGN_YN            0.0\n",
            "MENA_AGE               13.0\n",
            "Name: 0, dtype: float64\n"
          ]
        }
      ]
    },
    {
      "cell_type": "code",
      "source": [
        "# 최소 위험 점수를 갖는 행 찾기\n",
        "min_risk_index_diag_ann_1 = high_risk_patients_series_ann.idxmin()\n",
        "min_risk_row_diag_ann_1 = X.loc[min_risk_index_diag_ann_1]\n",
        "\n",
        "# 최소 위험 점수를 갖는 행의 위험 점수\n",
        "min_risk_score_diag_ann_1 = high_risk_patients_series_ann.loc[min_risk_index_diag_ann_1]\n",
        "print(\"DIAG_YN=1인 행들 중 최소 위험 점수를 갖는 행의 점수:\", min_risk_score_diag_ann_1)\n",
        "print(\"DIAG_YN=1인 행들 중 최소 위험 점수를 갖는 행:\", min_risk_row_diag_ann_1)\n"
      ],
      "metadata": {
        "colab": {
          "base_uri": "https://localhost:8080/"
        },
        "id": "ILhoQ_x2DLMQ",
        "outputId": "d957ba92-2ea1-4c23-bfd3-5852ea431514"
      },
      "execution_count": null,
      "outputs": [
        {
          "output_type": "stream",
          "name": "stdout",
          "text": [
            "DIAG_YN=1인 행들 중 최소 위험 점수를 갖는 행의 점수: 0.036609605\n",
            "DIAG_YN=1인 행들 중 최소 위험 점수를 갖는 행: const                   1.0\n",
            "SMOK_QTY                0.0\n",
            "SMOK_STRT_AGE           0.0\n",
            "SMOK_DTRN_YCNT          0.0\n",
            "HORM_TRTM_YN            0.0\n",
            "HORM_TRTM_DTRN_DCNT     0.0\n",
            "HORM_TRTM_PRPS_CD       0.0\n",
            "MENO_YN                 0.0\n",
            "MENO_AGE                0.0\n",
            "UCLN_PRGN_YN            0.0\n",
            "MENA_AGE               13.0\n",
            "Name: 462, dtype: float64\n"
          ]
        }
      ]
    },
    {
      "cell_type": "markdown",
      "source": [
        "###위험확률"
      ],
      "metadata": {
        "id": "RwbqlJXZDM2l"
      }
    },
    {
      "cell_type": "code",
      "source": [
        "# 각 행에 대한 위험 점수 계산\n",
        "risk_scores_per_row_ann = model.predict(X_scaled)\n",
        "\n",
        "# 최대 위험 점수\n",
        "max_risk_score_ann = risk_scores_per_row_ann.max()\n",
        "\n",
        "# 위험 점수를 100점 기준으로 변환하여 위험 백분위 계산\n",
        "risk_percentiles_ann = (risk_scores_per_row_ann / max_risk_score_ann) * 100\n",
        "\n",
        "# 데이터프레임에 위험 백분위 열 추가\n",
        "X_with_risk_percentiles_ann = X.copy()\n",
        "X_with_risk_percentiles_ann['Risk_Percentile'] = risk_percentiles_ann\n",
        "\n",
        "# 결과 출력\n",
        "print(X_with_risk_percentiles_ann)\n"
      ],
      "metadata": {
        "colab": {
          "base_uri": "https://localhost:8080/"
        },
        "id": "xHeEmXSnDQX5",
        "outputId": "cf050460-6c78-481e-8b1a-02cb873d278a"
      },
      "execution_count": null,
      "outputs": [
        {
          "output_type": "stream",
          "name": "stdout",
          "text": [
            "744/744 [==============================] - 1s 1ms/step\n",
            "       const  SMOK_QTY  SMOK_STRT_AGE  SMOK_DTRN_YCNT  HORM_TRTM_YN  \\\n",
            "0        1.0      79.0           36.0             8.0           0.0   \n",
            "1        1.0      79.0           36.0             8.0           1.0   \n",
            "2        1.0      68.0           35.0            13.0           1.0   \n",
            "3        1.0       0.0            0.0             0.0           0.0   \n",
            "4        1.0       0.0            0.0             0.0           0.0   \n",
            "...      ...       ...            ...             ...           ...   \n",
            "23802    1.0       0.0            0.0             0.0           0.0   \n",
            "23803    1.0       0.0            0.0             0.0           0.0   \n",
            "23804    1.0       0.0            0.0             0.0           0.0   \n",
            "23805    1.0       0.0            0.0             0.0           0.0   \n",
            "23806    1.0       0.0            0.0             0.0           0.0   \n",
            "\n",
            "       HORM_TRTM_DTRN_DCNT  HORM_TRTM_PRPS_CD  MENO_YN  MENO_AGE  \\\n",
            "0                      0.0                0.0      1.0      12.0   \n",
            "1                     47.0               99.0      0.0       0.0   \n",
            "2                     91.0               99.0      0.0       0.0   \n",
            "3                      0.0                0.0      1.0      93.0   \n",
            "4                      0.0                0.0      0.0       0.0   \n",
            "...                    ...                ...      ...       ...   \n",
            "23802                  0.0                0.0      0.0       0.0   \n",
            "23803                  0.0                0.0      0.0       0.0   \n",
            "23804                  0.0                0.0      0.0       0.0   \n",
            "23805                  0.0                0.0      0.0       0.0   \n",
            "23806                  0.0                0.0      0.0       0.0   \n",
            "\n",
            "       UCLN_PRGN_YN  MENA_AGE  Risk_Percentile  \n",
            "0               0.0      13.0     1.000000e+02  \n",
            "1               1.0       9.0     1.000000e+02  \n",
            "2               0.0      10.0     1.000000e+02  \n",
            "3               1.0      10.0     1.000000e+02  \n",
            "4               0.0      11.0     4.886339e+00  \n",
            "...             ...       ...              ...  \n",
            "23802           0.5       9.6     6.498103e+00  \n",
            "23803           0.5      14.4     3.504482e-02  \n",
            "23804           0.0      17.9     6.155798e-09  \n",
            "23805           0.5      16.3     1.114420e-05  \n",
            "23806           0.5      11.0     5.050976e+00  \n",
            "\n",
            "[23807 rows x 12 columns]\n"
          ]
        }
      ]
    },
    {
      "cell_type": "code",
      "source": [
        "\n",
        "df['Risk_Percentile_ann'] = risk_percentiles_ann"
      ],
      "metadata": {
        "colab": {
          "base_uri": "https://localhost:8080/"
        },
        "id": "8lAOGSEhDaG5",
        "outputId": "b04b5d90-47b1-45d2-ee6b-b36e07028fb6"
      },
      "execution_count": null,
      "outputs": [
        {
          "output_type": "stream",
          "name": "stderr",
          "text": [
            "<ipython-input-33-61d79e60e43e>:1: SettingWithCopyWarning: \n",
            "A value is trying to be set on a copy of a slice from a DataFrame.\n",
            "Try using .loc[row_indexer,col_indexer] = value instead\n",
            "\n",
            "See the caveats in the documentation: https://pandas.pydata.org/pandas-docs/stable/user_guide/indexing.html#returning-a-view-versus-a-copy\n",
            "  df['Risk_Percentile_ann'] = risk_percentiles_ann\n"
          ]
        }
      ]
    },
    {
      "cell_type": "code",
      "source": [
        "# 'target'이 1인 데이터 필터링\n",
        "target_1_df = df[df['target'] == 1]\n",
        "\n",
        "# 'Risk_Percentile_ann'의 최대값과 최소값 계산\n",
        "max_risk_score_diag_yn_1_ann = target_1_df['Risk_Percentile_ann'].max()\n",
        "min_risk_score_diag_yn_1_ann = target_1_df['Risk_Percentile_ann'].min()\n",
        "\n",
        "print(f\"Max Risk Score 환자군 ann: {max_risk_score_diag_yn_1_ann}\")\n",
        "print(f\"Min Risk Score 환자군 ann: {min_risk_score_diag_yn_1_ann}\")\n"
      ],
      "metadata": {
        "colab": {
          "base_uri": "https://localhost:8080/"
        },
        "id": "9UyLcWbvDexq",
        "outputId": "cdc3180d-8295-4224-f825-299346cb9939"
      },
      "execution_count": null,
      "outputs": [
        {
          "output_type": "stream",
          "name": "stdout",
          "text": [
            "Max Risk Score 환자군 ann: 100.0\n",
            "Min Risk Score 환자군 ann: 3.6609604358673096\n"
          ]
        }
      ]
    },
    {
      "cell_type": "markdown",
      "source": [
        "##그래디언트 부스팅"
      ],
      "metadata": {
        "id": "HjWyJiAuB0Nq"
      }
    },
    {
      "cell_type": "code",
      "source": [
        "import pandas as pd\n",
        "import numpy as np\n",
        "\n",
        "from sklearn.ensemble import GradientBoostingClassifier\n",
        "from sklearn.model_selection import train_test_split\n",
        "from sklearn.preprocessing import StandardScaler\n"
      ],
      "metadata": {
        "id": "Bh4yX-KUB4eW"
      },
      "execution_count": null,
      "outputs": []
    },
    {
      "cell_type": "markdown",
      "source": [
        "###모델학습"
      ],
      "metadata": {
        "id": "M20i_utuFO1W"
      }
    },
    {
      "cell_type": "code",
      "source": [
        "\n",
        "# 데이터 프레임 복사\n",
        "df_Odds = pd.DataFrame(df)\n",
        "\n",
        "\n",
        "# 데이터 스케일링\n",
        "scaler = StandardScaler()\n",
        "X_scaled = scaler.fit_transform(X)\n",
        "\n",
        "# 데이터 분할\n",
        "X_train, X_test, y_train, y_test = train_test_split(X_scaled, y, test_size=0.2, random_state=42)\n",
        "\n",
        "# 그래디언트 부스팅 분류기 초기화 및 학습\n",
        "gb_model = GradientBoostingClassifier(learning_rate = 0.07,    # 기존 모델 0.1\n",
        "                                     max_depth = 1,           # 기존 모델 3\n",
        "                                     min_samples_leaf = 3,    # 기존 모델 1\n",
        "                                     min_samples_split = 3,   # 기존 모델 2\n",
        "                                     n_estimators = 300)\n",
        "gb_model.fit(X_train, y_train)\n",
        "\n",
        "# 테스트 데이터로 예측\n",
        "y_pred_gbm = gb_model.predict(X_test)\n",
        "\n",
        "# 정확도 계산\n",
        "accuracy_gbm = (y_pred_gbm == y_test).mean()\n",
        "print(\"정확도:\", accuracy_gbm)"
      ],
      "metadata": {
        "colab": {
          "base_uri": "https://localhost:8080/"
        },
        "id": "xJ7JrjcAFRE3",
        "outputId": "8649ad0b-0fb3-48cd-8955-6f189cd081c5"
      },
      "execution_count": null,
      "outputs": [
        {
          "output_type": "stream",
          "name": "stdout",
          "text": [
            "정확도: 0.9922301553968921\n"
          ]
        }
      ]
    },
    {
      "cell_type": "code",
      "source": [
        "# 모델에서 특성 중요도 확인\n",
        "feature_importances = gb_model.feature_importances_\n",
        "\n",
        "# 특성 중요도 출력\n",
        "print(\"특성 중요도:\")\n",
        "for feature, importance in zip(X.columns, feature_importances):\n",
        "    print(f\"{feature}: {importance}\")\n"
      ],
      "metadata": {
        "colab": {
          "base_uri": "https://localhost:8080/"
        },
        "id": "scwh0JbwFV-P",
        "outputId": "fba8aac6-cf11-470a-bf72-0694cba07785"
      },
      "execution_count": null,
      "outputs": [
        {
          "output_type": "stream",
          "name": "stdout",
          "text": [
            "특성 중요도:\n",
            "const: 0.0\n",
            "SMOK_QTY: 0.146239906928044\n",
            "SMOK_STRT_AGE: 0.3425764652527135\n",
            "SMOK_DTRN_YCNT: 0.09872901901031833\n",
            "HORM_TRTM_YN: 0.05295892743943876\n",
            "HORM_TRTM_DTRN_DCNT: 0.002610999255874005\n",
            "HORM_TRTM_PRPS_CD: 0.036659828898375636\n",
            "MENO_YN: 0.04014030750531757\n",
            "MENO_AGE: 0.057237774553643164\n",
            "UCLN_PRGN_YN: 0.07651649722446888\n",
            "MENA_AGE: 0.14633027393180623\n"
          ]
        }
      ]
    },
    {
      "cell_type": "markdown",
      "source": [
        "###점수구하기"
      ],
      "metadata": {
        "id": "fT5yvB6yFeaf"
      }
    },
    {
      "cell_type": "code",
      "source": [
        "from sklearn.ensemble import GradientBoostingClassifier\n",
        "\n",
        "# 그래디언트 부스팅 모델 학습\n",
        "gbm = GradientBoostingClassifier(n_estimators=100, random_state=42)\n",
        "gbm.fit(X_scaled, y)\n",
        "\n",
        "# 각 행에 대한 예측 확률 계산\n",
        "predicted_probabilities = gbm.predict_proba(X_scaled)[:, 1]\n",
        "\n",
        "# 위험 점수를 Series로 변환\n",
        "risk_scores_gbm = pd.Series(predicted_probabilities, index=X.index)\n",
        "\n",
        "# 'target'이 1인 행들 필터링\n",
        "high_risk_patients_gbm = risk_scores_gbm[y == 1]\n",
        "\n",
        "# 최대 위험 점수를 갖는 행 찾기\n",
        "max_risk_index_diag_gbm_1 = high_risk_patients_gbm.idxmax()\n",
        "max_risk_row_diag_gbm_1 = X.loc[max_risk_index_diag_gbm_1]\n",
        "\n",
        "# 최대 위험 점수를 갖는 행의 위험 점수\n",
        "max_risk_score_diag_gbm_1 = high_risk_patients_gbm.loc[max_risk_index_diag_gbm_1]\n",
        "print(\"DIAG_YN=1인 행들 중 최대 위험 점수를 갖는 행의 점수:\", max_risk_score_diag_gbm_1)\n",
        "print(\"DIAG_YN=1인 행들 중 최대 위험 점수를 갖는 행:\", max_risk_row_diag_gbm_1)\n"
      ],
      "metadata": {
        "colab": {
          "base_uri": "https://localhost:8080/"
        },
        "id": "_G97-KfbFi1A",
        "outputId": "81ec5075-a2df-44f3-ce53-8bba02356608"
      },
      "execution_count": null,
      "outputs": [
        {
          "output_type": "stream",
          "name": "stdout",
          "text": [
            "DIAG_YN=1인 행들 중 최대 위험 점수를 갖는 행의 점수: 0.9997407352330651\n",
            "DIAG_YN=1인 행들 중 최대 위험 점수를 갖는 행: const                   1.0\n",
            "SMOK_QTY               60.0\n",
            "SMOK_STRT_AGE          86.0\n",
            "SMOK_DTRN_YCNT         11.0\n",
            "HORM_TRTM_YN            1.0\n",
            "HORM_TRTM_DTRN_DCNT    79.0\n",
            "HORM_TRTM_PRPS_CD       1.0\n",
            "MENO_YN                 1.0\n",
            "MENO_AGE               59.0\n",
            "UCLN_PRGN_YN            1.0\n",
            "MENA_AGE               14.0\n",
            "Name: 926, dtype: float64\n"
          ]
        }
      ]
    },
    {
      "cell_type": "code",
      "source": [
        "\n",
        "# 최소 위험 점수를 갖는 행 찾기\n",
        "min_risk_index_diag_gbm_1 = high_risk_patients_gbm.idxmin()\n",
        "min_risk_row_diag_gbm_1 = X.loc[min_risk_index_diag_gbm_1]\n",
        "\n",
        "# 최소 위험 점수를 갖는 행의 위험 점수\n",
        "min_risk_score_diag_gbm_1 = high_risk_patients_gbm.loc[min_risk_index_diag_gbm_1]\n",
        "print(\"DIAG_YN=1인 행들 중 최소 위험 점수를 갖는 행의 점수:\", min_risk_score_diag_gbm_1)\n",
        "print(\"DIAG_YN=1인 행들 중 최소 위험 점수를 갖는 행:\", min_risk_row_diag_gbm_1)"
      ],
      "metadata": {
        "colab": {
          "base_uri": "https://localhost:8080/"
        },
        "id": "p68mXZJUF3S0",
        "outputId": "5a20192d-de0c-45e8-fcd4-01e4fac41b48"
      },
      "execution_count": null,
      "outputs": [
        {
          "output_type": "stream",
          "name": "stdout",
          "text": [
            "DIAG_YN=1인 행들 중 최소 위험 점수를 갖는 행의 점수: 0.183125987016403\n",
            "DIAG_YN=1인 행들 중 최소 위험 점수를 갖는 행: const                   1.0\n",
            "SMOK_QTY                0.0\n",
            "SMOK_STRT_AGE           0.0\n",
            "SMOK_DTRN_YCNT          0.0\n",
            "HORM_TRTM_YN            0.0\n",
            "HORM_TRTM_DTRN_DCNT     0.0\n",
            "HORM_TRTM_PRPS_CD       0.0\n",
            "MENO_YN                 0.0\n",
            "MENO_AGE                0.0\n",
            "UCLN_PRGN_YN            1.0\n",
            "MENA_AGE               14.0\n",
            "Name: 10290, dtype: float64\n"
          ]
        }
      ]
    },
    {
      "cell_type": "markdown",
      "source": [
        "###위험확률"
      ],
      "metadata": {
        "id": "-_kUdk12F-h2"
      }
    },
    {
      "cell_type": "code",
      "source": [
        "from sklearn.ensemble import GradientBoostingClassifier\n",
        "\n",
        "# 그래디언트 부스팅 모델 학습\n",
        "gbm = GradientBoostingClassifier(n_estimators=100, random_state=42)\n",
        "gbm.fit(X_scaled, y)\n",
        "\n",
        "# 각 행에 대한 예측 확률 계산\n",
        "predicted_probabilities = gbm.predict_proba(X_scaled)[:, 1]\n",
        "\n",
        "# 위험 점수 계산 (예측 확률을 위험 점수로 사용)\n",
        "risk_scores_gbm = pd.Series(predicted_probabilities, index=X.index)\n",
        "\n",
        "# 최대 위험 점수\n",
        "max_risk_score_gbm = risk_scores_gbm.max()\n",
        "\n",
        "# 위험 점수를 100점 기준으로 변환하여 위험 백분위 계산\n",
        "risk_percentiles_gbm = (risk_scores_gbm / max_risk_score_gbm) * 100\n",
        "\n",
        "# 데이터프레임에 위험 백분위 열 추가\n",
        "X_with_risk_percentiles_gbm = X.copy()\n",
        "X_with_risk_percentiles_gbm['Risk_Percentile_gbm'] = risk_percentiles_gbm\n",
        "\n",
        "# 결과 출력\n",
        "print(X_with_risk_percentiles_gbm)\n"
      ],
      "metadata": {
        "colab": {
          "base_uri": "https://localhost:8080/"
        },
        "id": "MgMXWYrpGRXN",
        "outputId": "b16857b5-a8e7-44c7-a58a-9b1bdc7cd4d1"
      },
      "execution_count": null,
      "outputs": [
        {
          "output_type": "stream",
          "name": "stdout",
          "text": [
            "       const  SMOK_QTY  SMOK_STRT_AGE  SMOK_DTRN_YCNT  HORM_TRTM_YN  \\\n",
            "0        1.0      79.0           36.0             8.0           0.0   \n",
            "1        1.0      79.0           36.0             8.0           1.0   \n",
            "2        1.0      68.0           35.0            13.0           1.0   \n",
            "3        1.0       0.0            0.0             0.0           0.0   \n",
            "4        1.0       0.0            0.0             0.0           0.0   \n",
            "...      ...       ...            ...             ...           ...   \n",
            "23802    1.0       0.0            0.0             0.0           0.0   \n",
            "23803    1.0       0.0            0.0             0.0           0.0   \n",
            "23804    1.0       0.0            0.0             0.0           0.0   \n",
            "23805    1.0       0.0            0.0             0.0           0.0   \n",
            "23806    1.0       0.0            0.0             0.0           0.0   \n",
            "\n",
            "       HORM_TRTM_DTRN_DCNT  HORM_TRTM_PRPS_CD  MENO_YN  MENO_AGE  \\\n",
            "0                      0.0                0.0      1.0      12.0   \n",
            "1                     47.0               99.0      0.0       0.0   \n",
            "2                     91.0               99.0      0.0       0.0   \n",
            "3                      0.0                0.0      1.0      93.0   \n",
            "4                      0.0                0.0      0.0       0.0   \n",
            "...                    ...                ...      ...       ...   \n",
            "23802                  0.0                0.0      0.0       0.0   \n",
            "23803                  0.0                0.0      0.0       0.0   \n",
            "23804                  0.0                0.0      0.0       0.0   \n",
            "23805                  0.0                0.0      0.0       0.0   \n",
            "23806                  0.0                0.0      0.0       0.0   \n",
            "\n",
            "       UCLN_PRGN_YN  MENA_AGE  Risk_Percentile_gbm  \n",
            "0               0.0      13.0            99.907749  \n",
            "1               1.0       9.0            99.962489  \n",
            "2               0.0      10.0            99.911454  \n",
            "3               1.0      10.0            99.852891  \n",
            "4               0.0      11.0            31.903590  \n",
            "...             ...       ...                  ...  \n",
            "23802           0.5       9.6             0.830264  \n",
            "23803           0.5      14.4             0.168826  \n",
            "23804           0.0      17.9             0.168826  \n",
            "23805           0.5      16.3             0.168826  \n",
            "23806           0.5      11.0            31.903590  \n",
            "\n",
            "[23807 rows x 12 columns]\n"
          ]
        }
      ]
    },
    {
      "cell_type": "code",
      "source": [
        "\n",
        "df['Risk_Percentile_gbm'] = risk_percentiles_gbm"
      ],
      "metadata": {
        "colab": {
          "base_uri": "https://localhost:8080/"
        },
        "id": "4znPwCKhGQoW",
        "outputId": "da3e4b29-6b4f-4f77-c98a-55486f5f793b"
      },
      "execution_count": null,
      "outputs": [
        {
          "output_type": "stream",
          "name": "stderr",
          "text": [
            "<ipython-input-41-d7be046541c7>:1: SettingWithCopyWarning: \n",
            "A value is trying to be set on a copy of a slice from a DataFrame.\n",
            "Try using .loc[row_indexer,col_indexer] = value instead\n",
            "\n",
            "See the caveats in the documentation: https://pandas.pydata.org/pandas-docs/stable/user_guide/indexing.html#returning-a-view-versus-a-copy\n",
            "  df['Risk_Percentile_gbm'] = risk_percentiles_gbm\n"
          ]
        }
      ]
    },
    {
      "cell_type": "code",
      "source": [
        "# 'target'이 1인 데이터 필터링\n",
        "target_1_df = df[df['target'] == 1]\n",
        "\n",
        "# 그래디언트 부스팅 모델을 사용하여 계산된 'Risk_Percentile'의 최대값과 최저값 계산\n",
        "max_risk_score_diag_yn_1_gbm = target_1_df['Risk_Percentile_gbm'].max()\n",
        "min_risk_score_diag_yn_1_gbm = target_1_df['Risk_Percentile_gbm'].min()\n",
        "\n",
        "print(f\"Max Risk Score 환자군 gbm: {max_risk_score_diag_yn_1_gbm}\")\n",
        "print(f\"Min Risk Score 환자군 gbm: {min_risk_score_diag_yn_1_gbm}\")\n"
      ],
      "metadata": {
        "colab": {
          "base_uri": "https://localhost:8080/"
        },
        "id": "0t1cDqe6Gdbu",
        "outputId": "b3be159d-8fa5-4675-e2c1-b6e180c24dcd"
      },
      "execution_count": null,
      "outputs": [
        {
          "output_type": "stream",
          "name": "stdout",
          "text": [
            "Max Risk Score 환자군 gbm: 100.0\n",
            "Min Risk Score 환자군 gbm: 18.317347744534153\n"
          ]
        }
      ]
    },
    {
      "cell_type": "code",
      "source": [
        "# 'target'이 0인 데이터 필터링\n",
        "target_0_df = df[df['target'] == 0]\n",
        "\n",
        "# 그래디언트 부스팅 모델을 사용하여 계산된 'Risk_Percentile'의 최대값과 최저값 계산\n",
        "max_risk_score_diag_yn_0_gbm = target_0_df['Risk_Percentile_gbm'].max()\n",
        "min_risk_score_diag_yn_0_gbm = target_0_df['Risk_Percentile_gbm'].min()\n",
        "\n",
        "print(f\"Max Risk Score 일반인 gbm: {max_risk_score_diag_yn_0_gbm}\")\n",
        "print(f\"Min Risk Score 일반인 gbm: {min_risk_score_diag_yn_0_gbm}\")\n"
      ],
      "metadata": {
        "colab": {
          "base_uri": "https://localhost:8080/"
        },
        "id": "tGnarnTs44uB",
        "outputId": "e8222e75-3b93-4529-a064-a761908560ae"
      },
      "execution_count": null,
      "outputs": [
        {
          "output_type": "stream",
          "name": "stdout",
          "text": [
            "Max Risk Score 일반인 gbm: 96.91158520778328\n",
            "Min Risk Score 일반인 gbm: 0.16882629705607413\n"
          ]
        }
      ]
    },
    {
      "cell_type": "markdown",
      "metadata": {
        "id": "0hzAVyJXSCQN"
      },
      "source": [
        "#모델 정확도 비교"
      ]
    },
    {
      "cell_type": "code",
      "source": [
        "y_pred_lr = result.predict(X_test)\n",
        "y_pred_lr = (y_pred_lr > 0.5).astype(int)  # 0.5를 기준으로 이진 분류 수행\n"
      ],
      "metadata": {
        "id": "JNVVYpAbJXK8"
      },
      "execution_count": null,
      "outputs": []
    },
    {
      "cell_type": "code",
      "source": [
        "# 정확도 계산\n",
        "accuracy_gbm = accuracy_score(y_test, y_pred_gbm)\n",
        "accuracy_rf = accuracy_score(y_test, y_pred_rf)\n",
        "accuracy_ann = accuracy_score(y_test, y_pred_ann)\n",
        "accuracy_log_reg = accuracy_score(y_test, y_pred_lr)\n",
        "\n",
        "print(\"Accuracy of Gradient Boosting:\", accuracy_gbm)\n",
        "print(\"Accuracy of Random Forest:\", accuracy_rf)\n",
        "print(\"Accuracy of ANN:\", accuracy_ann)\n",
        "print(\"Accuracy of Logistic Regression:\", accuracy_log_reg)"
      ],
      "metadata": {
        "colab": {
          "base_uri": "https://localhost:8080/"
        },
        "id": "YBZK-jBNI-pZ",
        "outputId": "7ffa393e-1ecc-4fd4-e967-6a0138363416"
      },
      "execution_count": null,
      "outputs": [
        {
          "output_type": "stream",
          "name": "stdout",
          "text": [
            "Accuracy of Gradient Boosting: 0.9922301553968921\n",
            "Accuracy of Random Forest: 0.9928601427971441\n",
            "Accuracy of ANN: 0.9922301553968921\n",
            "Accuracy of Logistic Regression: 0.9113817723645528\n"
          ]
        }
      ]
    },
    {
      "cell_type": "code",
      "source": [
        "import matplotlib.pyplot as plt\n",
        "import seaborn as sns\n"
      ],
      "metadata": {
        "id": "1jlfVYMdJxsp"
      },
      "execution_count": null,
      "outputs": []
    },
    {
      "cell_type": "code",
      "source": [
        "accuracies = {\n",
        "    'Gradient Boosting': accuracy_gbm,\n",
        "    'Random Forest': accuracy_rf,\n",
        "    'ANN': accuracy_ann,\n",
        "    'Logistic Regression': accuracy_log_reg\n",
        "}\n",
        "# 데이터를 시각화하기 좋게 DataFrame으로 변환\n",
        "accuracy_df = pd.DataFrame(list(accuracies.items()), columns=['Model', 'Accuracy'])\n",
        "\n",
        "# 바 차트 생성\n",
        "plt.figure(figsize=(10, 6))\n",
        "sns.barplot(x='Model', y='Accuracy', data=accuracy_df)\n",
        "plt.title('Comparison of Model Accuracies')\n",
        "plt.ylim(0.5, 1)  # Y축의 범위를 조정하여 차트의 차이를 더 잘 보이게 할 수 있습니다.\n",
        "plt.ylabel('Accuracy')\n",
        "plt.xlabel('Model')\n",
        "plt.xticks(rotation=45)  # 모델 이름이 긴 경우 기울기 조정\n",
        "plt.show()\n"
      ],
      "metadata": {
        "colab": {
          "base_uri": "https://localhost:8080/",
          "height": 654
        },
        "id": "qAIFwIzvJz_Q",
        "outputId": "4550f925-5f50-426c-9808-0cf73c6b02f5"
      },
      "execution_count": null,
      "outputs": [
        {
          "output_type": "display_data",
          "data": {
            "text/plain": [
              "<Figure size 1000x600 with 1 Axes>"
            ],
            "image/png": "[encoded data removed]"
          },
          "metadata": {}
        }
      ]
    },
    {
      "cell_type": "code",
      "source": [
        "from sklearn.metrics import precision_score, recall_score, f1_score, roc_auc_score, roc_curve\n",
        "\n",
        "# 각 모델의 예측 결과\n",
        "y_preds = {\n",
        "    'Gradient Boosting': y_pred_gbm,\n",
        "    'Random Forest': y_pred_rf,\n",
        "    'ANN': y_pred_ann,\n",
        "    'Logistic Regression': y_pred_lr\n",
        "}\n",
        "\n",
        "# 비교할 성능 지표를 계산할 함수\n",
        "def calculate_performance_metrics(y_true, y_pred):\n",
        "    accuracy = accuracy_score(y_true, y_pred)\n",
        "    precision = precision_score(y_true, y_pred)\n",
        "    recall = recall_score(y_true, y_pred)\n",
        "    f1 = f1_score(y_true, y_pred)\n",
        "    roc_auc = roc_auc_score(y_true, y_pred)\n",
        "    return accuracy, precision, recall, f1, roc_auc\n",
        "\n",
        "# 성능 지표 계산\n",
        "performance_metrics = {}\n",
        "for model_name, y_pred in y_preds.items():\n",
        "    accuracy, precision, recall, f1, roc_auc = calculate_performance_metrics(y_test, y_pred)\n",
        "    performance_metrics[model_name] = {\n",
        "        'Accuracy': accuracy,\n",
        "        'Precision': precision,\n",
        "        'Recall': recall,\n",
        "        'F1 Score': f1,\n",
        "        'ROC AUC': roc_auc\n",
        "    }\n",
        "\n",
        "# 결과 출력\n",
        "performance_df = pd.DataFrame(performance_metrics).T\n",
        "print(performance_df)\n",
        "\n",
        "# 결과 시각화\n",
        "plt.figure(figsize=(12, 8))\n",
        "sns.barplot(data=performance_df, palette='viridis')\n",
        "plt.title('Comparison of Model Performance Metrics')\n",
        "plt.ylabel('Score')\n",
        "plt.xlabel('Metrics')\n",
        "plt.xticks(rotation=45)\n",
        "plt.legend(performance_df.columns)\n",
        "plt.show()\n"
      ],
      "metadata": {
        "colab": {
          "base_uri": "https://localhost:8080/",
          "height": 852
        },
        "id": "k8tg4UA0KCkD",
        "outputId": "fb67df42-0a4f-4cc1-e142-f3bc10dd1f13"
      },
      "execution_count": null,
      "outputs": [
        {
          "output_type": "stream",
          "name": "stdout",
          "text": [
            "                     Accuracy  Precision    Recall  F1 Score   ROC AUC\n",
            "Gradient Boosting    0.992230   1.000000  0.985312  0.992601  0.992656\n",
            "Random Forest        0.992860   0.997597  0.988884  0.993222  0.993105\n",
            "ANN                  0.992230   1.000000  0.985312  0.992601  0.992656\n",
            "Logistic Regression  0.911382   1.000000  0.832473  0.908579  0.916237\n"
          ]
        },
        {
          "output_type": "display_data",
          "data": {
            "text/plain": [
              "<Figure size 1200x800 with 1 Axes>"
            ],
            "image/png": "[encoded data removed]"
          },
          "metadata": {}
        }
      ]
    },
    {
      "cell_type": "markdown",
      "source": [
        "#표본 입력 예시"
      ],
      "metadata": {
        "id": "JrCJ2joJLCDj"
      }
    },
    {
      "cell_type": "code",
      "execution_count": null,
      "metadata": {
        "colab": {
          "base_uri": "https://localhost:8080/"
        },
        "id": "Y3Ju1vi6eqUC",
        "outputId": "78c72c10-f955-4001-a418-65629a65e43e"
      },
      "outputs": [
        {
          "output_type": "stream",
          "name": "stdout",
          "text": [
            "100번째 행의 값들:\n",
            "SMOK_QTY                25.000000\n",
            "SMOK_STRT_AGE           98.000000\n",
            "SMOK_DTRN_YCNT           1.000000\n",
            "HORM_TRTM_YN             1.000000\n",
            "HORM_TRTM_DTRN_DCNT     50.000000\n",
            "HORM_TRTM_PRPS_CD        6.000000\n",
            "MENO_YN                  1.000000\n",
            "MENO_AGE                 8.000000\n",
            "UCLN_PRGN_YN             1.000000\n",
            "MENA_AGE                12.000000\n",
            "target                   1.000000\n",
            "Risk_Percentile_lr      62.417526\n",
            "Risk_Percentile_rf     100.000000\n",
            "Risk_Percentile_ann    100.000000\n",
            "Risk_Percentile_gbm     99.981029\n",
            "Name: 99, dtype: float64\n"
          ]
        }
      ],
      "source": [
        "# 100번째 행을 선택합니다.\n",
        "row_100 = df.iloc[99]  # 인덱스는 0부터 시작하므로 99는 100번째 행을 의미합니다.\n",
        "\n",
        "# 선택된 행을 출력합니다.\n",
        "print(\"100번째 행의 값들:\")\n",
        "print(row_100)\n"
      ]
    },
    {
      "cell_type": "code",
      "source": [
        "# 18346번째 행을 선택합니다.\n",
        "row_18346 = df.iloc[18345]  # 인덱스는 0부터 시작하므로 99는 100번째 행을 의미합니다.\n",
        "\n",
        "# 선택된 행을 출력합니다.\n",
        "print(\"18346번째 행의 값들:\")\n",
        "print(row_18346)\n"
      ],
      "metadata": {
        "colab": {
          "base_uri": "https://localhost:8080/"
        },
        "id": "0wXr0PUCV5dj",
        "outputId": "8b1aff11-7fbb-435b-a677-f85822262698"
      },
      "execution_count": null,
      "outputs": [
        {
          "output_type": "stream",
          "name": "stdout",
          "text": [
            "18346번째 행의 값들:\n",
            "SMOK_QTY                0.000000\n",
            "SMOK_STRT_AGE           0.000000\n",
            "SMOK_DTRN_YCNT          0.000000\n",
            "HORM_TRTM_YN            0.000000\n",
            "HORM_TRTM_DTRN_DCNT     0.000000\n",
            "HORM_TRTM_PRPS_CD       0.000000\n",
            "MENO_YN                 0.000000\n",
            "MENO_AGE                0.000000\n",
            "UCLN_PRGN_YN            0.000000\n",
            "MENA_AGE               13.100000\n",
            "target                  0.000000\n",
            "Risk_Percentile_lr     -2.605390\n",
            "Risk_Percentile_rf      0.000000\n",
            "Risk_Percentile_ann     3.238875\n",
            "Risk_Percentile_gbm     0.168826\n",
            "Name: 18345, dtype: float64\n"
          ]
        }
      ]
    },
    {
      "cell_type": "code",
      "execution_count": null,
      "metadata": {
        "colab": {
          "base_uri": "https://localhost:8080/"
        },
        "id": "Vpu9G0EuhL3g",
        "outputId": "27550b89-e57d-4d3a-d9e2-5391033d2594"
      },
      "outputs": [
        {
          "output_type": "stream",
          "name": "stdout",
          "text": [
            "입력 데이터:\n",
            "    SMOK_QTY  SMOK_STRT_AGE  SMOK_DTRN_YCNT  HORM_TRTM_YN  \\\n",
            "99      25.0           98.0             1.0           1.0   \n",
            "\n",
            "    HORM_TRTM_DTRN_DCNT  HORM_TRTM_PRPS_CD  MENO_YN  MENO_AGE  UCLN_PRGN_YN  \\\n",
            "99                 50.0                6.0      1.0       8.0           1.0   \n",
            "\n",
            "    MENA_AGE  target  \n",
            "99      12.0     1.0  \n",
            "새로운 데이터셋에 대한 예측 결과: [1.]\n"
          ]
        },
        {
          "output_type": "stream",
          "name": "stderr",
          "text": [
            "/usr/local/lib/python3.10/dist-packages/sklearn/base.py:432: UserWarning: X has feature names, but RandomForestClassifier was fitted without feature names\n",
            "  warnings.warn(\n"
          ]
        }
      ],
      "source": [
        "import pandas as pd\n",
        "\n",
        "\n",
        "# 100번째 행을 선택합니다.\n",
        "row_100 = df.iloc[[99]]\n",
        "# 'DIAG_YN', 'Risk_score', 'Risk_Percentile'을 제외한 열을 사용하여 예측을 수행합니다.\n",
        "input_data = row_100.drop(['Risk_Percentile_lr','Risk_Percentile_rf',\n",
        "                           'Risk_Percentile_ann','Risk_Percentile_gbm'], axis=1)\n",
        "new_predictions = rf.predict(input_data)\n",
        "\n",
        "# 입력 데이터와 예측 결과를 함께 출력합니다.\n",
        "print(\"입력 데이터:\")\n",
        "print(input_data)\n",
        "\n",
        "# 예측 결과를 출력합니다.\n",
        "print(\"새로운 데이터셋에 대한 예측 결과:\", new_predictions)\n"
      ]
    },
    {
      "cell_type": "code",
      "source": [
        "import pandas as pd\n",
        "\n",
        "\n",
        "# 100번째 행을 선택합니다.\n",
        "row_18346 = df.iloc[[18345]]\n",
        "# 'DIAG_YN', 'Risk_score', 'Risk_Percentile'을 제외한 열을 사용하여 예측을 수행합니다.\n",
        "input_data2 = row_18346.drop(['Risk_Percentile_lr','Risk_Percentile_rf',\n",
        "                           'Risk_Percentile_ann','Risk_Percentile_gbm'], axis=1)\n",
        "new_predictions2 = rf.predict(input_data)\n",
        "\n",
        "# 입력 데이터와 예측 결과를 함께 출력합니다.\n",
        "print(\"입력 데이터:\")\n",
        "print(input_data2)\n",
        "\n",
        "# 예측 결과를 출력합니다.\n",
        "print(\"새로운 데이터셋에 대한 예측 결과:\", new_predictions2)\n"
      ],
      "metadata": {
        "colab": {
          "base_uri": "https://localhost:8080/"
        },
        "id": "YcWx7nOmYAz4",
        "outputId": "5371d687-5591-4250-d71c-73feafbae532"
      },
      "execution_count": null,
      "outputs": [
        {
          "output_type": "stream",
          "name": "stdout",
          "text": [
            "입력 데이터:\n",
            "       SMOK_QTY  SMOK_STRT_AGE  SMOK_DTRN_YCNT  HORM_TRTM_YN  \\\n",
            "18345       0.0            0.0             0.0           0.0   \n",
            "\n",
            "       HORM_TRTM_DTRN_DCNT  HORM_TRTM_PRPS_CD  MENO_YN  MENO_AGE  \\\n",
            "18345                  0.0                0.0      0.0       0.0   \n",
            "\n",
            "       UCLN_PRGN_YN  MENA_AGE  target  \n",
            "18345           0.0      13.1     0.0  \n",
            "새로운 데이터셋에 대한 예측 결과: [1.]\n"
          ]
        },
        {
          "output_type": "stream",
          "name": "stderr",
          "text": [
            "/usr/local/lib/python3.10/dist-packages/sklearn/base.py:432: UserWarning: X has feature names, but RandomForestClassifier was fitted without feature names\n",
            "  warnings.warn(\n"
          ]
        }
      ]
    },
    {
      "cell_type": "markdown",
      "source": [
        "#점수 분포도"
      ],
      "metadata": {
        "id": "bmkBvMgPn5yC"
      }
    },
    {
      "cell_type": "code",
      "source": [
        "import seaborn as sns\n",
        "\n",
        "sns.displot(data=df, x='Risk_Percentile_rf', kind='kde')\n"
      ],
      "metadata": {
        "colab": {
          "base_uri": "https://localhost:8080/",
          "height": 525
        },
        "id": "fgtbjUX_n8aM",
        "outputId": "18643815-9783-44c4-cc0e-8e91e9624899"
      },
      "execution_count": null,
      "outputs": [
        {
          "output_type": "execute_result",
          "data": {
            "text/plain": [
              "<seaborn.axisgrid.FacetGrid at 0x786810b09150>"
            ]
          },
          "metadata": {},
          "execution_count": 53
        },
        {
          "output_type": "display_data",
          "data": {
            "text/plain": [
              "<Figure size 500x500 with 1 Axes>"
            ],
            "image/png": "[encoded data removed]"
          },
          "metadata": {}
        }
      ]
    },
    {
      "cell_type": "code",
      "source": [
        "sns.distplot(x=df['Risk_Percentile_rf'], kde=True, rug=True)\n",
        "plt.title(\"rf 점수 분포\")\n",
        "plt.show()"
      ],
      "metadata": {
        "colab": {
          "base_uri": "https://localhost:8080/",
          "height": 807
        },
        "id": "0SddsDB7o0kf",
        "outputId": "c484ef0a-2266-4a6c-b481-196afb970da3"
      },
      "execution_count": null,
      "outputs": [
        {
          "output_type": "stream",
          "name": "stderr",
          "text": [
            "<ipython-input-54-e960e20dfd8a>:1: UserWarning: \n",
            "\n",
            "`distplot` is a deprecated function and will be removed in seaborn v0.14.0.\n",
            "\n",
            "Please adapt your code to use either `displot` (a figure-level function with\n",
            "similar flexibility) or `histplot` (an axes-level function for histograms).\n",
            "\n",
            "For a guide to updating your code to use the new functions, please see\n",
            "https://gist.github.com/mwaskom/de44147ed2974457ad6372750bbe5751\n",
            "\n",
            "  sns.distplot(x=df['Risk_Percentile_rf'], kde=True, rug=True)\n",
            "/usr/local/lib/python3.10/dist-packages/IPython/core/pylabtools.py:151: UserWarning: Glyph 51216 (\\N{HANGUL SYLLABLE JEOM}) missing from current font.\n",
            "  fig.canvas.print_figure(bytes_io, **kw)\n",
            "/usr/local/lib/python3.10/dist-packages/IPython/core/pylabtools.py:151: UserWarning: Glyph 49688 (\\N{HANGUL SYLLABLE SU}) missing from current font.\n",
            "  fig.canvas.print_figure(bytes_io, **kw)\n",
            "/usr/local/lib/python3.10/dist-packages/IPython/core/pylabtools.py:151: UserWarning: Glyph 48516 (\\N{HANGUL SYLLABLE BUN}) missing from current font.\n",
            "  fig.canvas.print_figure(bytes_io, **kw)\n",
            "/usr/local/lib/python3.10/dist-packages/IPython/core/pylabtools.py:151: UserWarning: Glyph 54252 (\\N{HANGUL SYLLABLE PO}) missing from current font.\n",
            "  fig.canvas.print_figure(bytes_io, **kw)\n"
          ]
        },
        {
          "output_type": "display_data",
          "data": {
            "text/plain": [
              "<Figure size 640x480 with 1 Axes>"
            ],
            "image/png": "[encoded data removed]"
          },
          "metadata": {}
        }
      ]
    },
    {
      "cell_type": "code",
      "source": [
        "sns.distplot(x=df['Risk_Percentile_ann'], kde=True, rug=True)\n",
        "plt.title(\"ann 점수 분포\")\n",
        "plt.show()"
      ],
      "metadata": {
        "colab": {
          "base_uri": "https://localhost:8080/",
          "height": 807
        },
        "id": "qJS-3ZbtL2pu",
        "outputId": "e6e6551d-ad94-4275-f6c8-e84befa2c745"
      },
      "execution_count": null,
      "outputs": [
        {
          "output_type": "stream",
          "name": "stderr",
          "text": [
            "<ipython-input-63-3b43b4e57bfb>:1: UserWarning: \n",
            "\n",
            "`distplot` is a deprecated function and will be removed in seaborn v0.14.0.\n",
            "\n",
            "Please adapt your code to use either `displot` (a figure-level function with\n",
            "similar flexibility) or `histplot` (an axes-level function for histograms).\n",
            "\n",
            "For a guide to updating your code to use the new functions, please see\n",
            "https://gist.github.com/mwaskom/de44147ed2974457ad6372750bbe5751\n",
            "\n",
            "  sns.distplot(x=df['Risk_Percentile_ann'], kde=True, rug=True)\n",
            "/usr/local/lib/python3.10/dist-packages/IPython/core/pylabtools.py:151: UserWarning: Glyph 51216 (\\N{HANGUL SYLLABLE JEOM}) missing from current font.\n",
            "  fig.canvas.print_figure(bytes_io, **kw)\n",
            "/usr/local/lib/python3.10/dist-packages/IPython/core/pylabtools.py:151: UserWarning: Glyph 49688 (\\N{HANGUL SYLLABLE SU}) missing from current font.\n",
            "  fig.canvas.print_figure(bytes_io, **kw)\n",
            "/usr/local/lib/python3.10/dist-packages/IPython/core/pylabtools.py:151: UserWarning: Glyph 48516 (\\N{HANGUL SYLLABLE BUN}) missing from current font.\n",
            "  fig.canvas.print_figure(bytes_io, **kw)\n",
            "/usr/local/lib/python3.10/dist-packages/IPython/core/pylabtools.py:151: UserWarning: Glyph 54252 (\\N{HANGUL SYLLABLE PO}) missing from current font.\n",
            "  fig.canvas.print_figure(bytes_io, **kw)\n"
          ]
        },
        {
          "output_type": "display_data",
          "data": {
            "text/plain": [
              "<Figure size 640x480 with 1 Axes>"
            ],
            "image/png": "[encoded data removed]"
          },
          "metadata": {}
        }
      ]
    },
    {
      "cell_type": "code",
      "source": [
        "sns.distplot(x=df['Risk_Percentile_rf'], kde=True, rug=True)\n",
        "plt.title(\"rf 점수 분포\")\n",
        "plt.show()"
      ],
      "metadata": {
        "colab": {
          "base_uri": "https://localhost:8080/",
          "height": 807
        },
        "id": "ix9ZxGF8L3Of",
        "outputId": "f93876d3-70c8-4252-addb-7aea84b9efa1"
      },
      "execution_count": null,
      "outputs": [
        {
          "output_type": "stream",
          "name": "stderr",
          "text": [
            "<ipython-input-64-e960e20dfd8a>:1: UserWarning: \n",
            "\n",
            "`distplot` is a deprecated function and will be removed in seaborn v0.14.0.\n",
            "\n",
            "Please adapt your code to use either `displot` (a figure-level function with\n",
            "similar flexibility) or `histplot` (an axes-level function for histograms).\n",
            "\n",
            "For a guide to updating your code to use the new functions, please see\n",
            "https://gist.github.com/mwaskom/de44147ed2974457ad6372750bbe5751\n",
            "\n",
            "  sns.distplot(x=df['Risk_Percentile_rf'], kde=True, rug=True)\n",
            "/usr/local/lib/python3.10/dist-packages/IPython/core/pylabtools.py:151: UserWarning: Glyph 51216 (\\N{HANGUL SYLLABLE JEOM}) missing from current font.\n",
            "  fig.canvas.print_figure(bytes_io, **kw)\n",
            "/usr/local/lib/python3.10/dist-packages/IPython/core/pylabtools.py:151: UserWarning: Glyph 49688 (\\N{HANGUL SYLLABLE SU}) missing from current font.\n",
            "  fig.canvas.print_figure(bytes_io, **kw)\n",
            "/usr/local/lib/python3.10/dist-packages/IPython/core/pylabtools.py:151: UserWarning: Glyph 48516 (\\N{HANGUL SYLLABLE BUN}) missing from current font.\n",
            "  fig.canvas.print_figure(bytes_io, **kw)\n",
            "/usr/local/lib/python3.10/dist-packages/IPython/core/pylabtools.py:151: UserWarning: Glyph 54252 (\\N{HANGUL SYLLABLE PO}) missing from current font.\n",
            "  fig.canvas.print_figure(bytes_io, **kw)\n"
          ]
        },
        {
          "output_type": "display_data",
          "data": {
            "text/plain": [
              "<Figure size 640x480 with 1 Axes>"
            ],
            "image/png": "[encoded data removed]"
          },
          "metadata": {}
        }
      ]
    },
    {
      "cell_type": "code",
      "source": [
        "sns.distplot(x=df['Risk_Percentile_lr'], kde=True, rug=True)\n",
        "plt.title(\"lr 점수 분포\")\n",
        "plt.show()"
      ],
      "metadata": {
        "colab": {
          "base_uri": "https://localhost:8080/",
          "height": 807
        },
        "id": "7duxDbu3L5kH",
        "outputId": "9fa44389-5462-45d3-ad15-f72f699aee04"
      },
      "execution_count": null,
      "outputs": [
        {
          "output_type": "stream",
          "name": "stderr",
          "text": [
            "<ipython-input-65-ad8729ee3e73>:1: UserWarning: \n",
            "\n",
            "`distplot` is a deprecated function and will be removed in seaborn v0.14.0.\n",
            "\n",
            "Please adapt your code to use either `displot` (a figure-level function with\n",
            "similar flexibility) or `histplot` (an axes-level function for histograms).\n",
            "\n",
            "For a guide to updating your code to use the new functions, please see\n",
            "https://gist.github.com/mwaskom/de44147ed2974457ad6372750bbe5751\n",
            "\n",
            "  sns.distplot(x=df['Risk_Percentile_lr'], kde=True, rug=True)\n",
            "/usr/local/lib/python3.10/dist-packages/IPython/core/pylabtools.py:151: UserWarning: Glyph 51216 (\\N{HANGUL SYLLABLE JEOM}) missing from current font.\n",
            "  fig.canvas.print_figure(bytes_io, **kw)\n",
            "/usr/local/lib/python3.10/dist-packages/IPython/core/pylabtools.py:151: UserWarning: Glyph 49688 (\\N{HANGUL SYLLABLE SU}) missing from current font.\n",
            "  fig.canvas.print_figure(bytes_io, **kw)\n",
            "/usr/local/lib/python3.10/dist-packages/IPython/core/pylabtools.py:151: UserWarning: Glyph 48516 (\\N{HANGUL SYLLABLE BUN}) missing from current font.\n",
            "  fig.canvas.print_figure(bytes_io, **kw)\n",
            "/usr/local/lib/python3.10/dist-packages/IPython/core/pylabtools.py:151: UserWarning: Glyph 54252 (\\N{HANGUL SYLLABLE PO}) missing from current font.\n",
            "  fig.canvas.print_figure(bytes_io, **kw)\n"
          ]
        },
        {
          "output_type": "display_data",
          "data": {
            "text/plain": [
              "<Figure size 640x480 with 1 Axes>"
            ],
            "image/png": "[encoded data removed]"
          },
          "metadata": {}
        }
      ]
    },
    {
      "cell_type": "markdown",
      "source": [
        "#위험군 분류"
      ],
      "metadata": {
        "id": "6c6YPAubLNzd"
      }
    },
    {
      "cell_type": "markdown",
      "source": [
        "##범위 계산"
      ],
      "metadata": {
        "id": "bGsAs6nvLQY_"
      }
    },
    {
      "cell_type": "code",
      "source": [
        "# # 'Risk_Percentile'의 중앙값 계산\n",
        "# median_risk_score_diag_yn_1_gbm = target_1_df['Risk_Percentile_gbm'].median()\n",
        "\n",
        "# print(f\"Median Risk Score 환자군 gbm: {median_risk_score_diag_yn_1_gbm}\")"
      ],
      "metadata": {
        "id": "QJh7vHcsJ6H3"
      },
      "execution_count": null,
      "outputs": []
    },
    {
      "cell_type": "markdown",
      "source": [
        "##분류"
      ],
      "metadata": {
        "id": "udJtcl2WLUlf"
      }
    },
    {
      "cell_type": "code",
      "source": [
        "# risk_percentile_gbm_18346 = df.loc[18345, 'Risk_Percentile_gbm']\n",
        "# print(\"18346번째 행의 'Risk_Percentile_gbm':\", risk_percentile_gbm_18346)\n"
      ],
      "metadata": {
        "id": "xOOr9Po6RTt5"
      },
      "execution_count": null,
      "outputs": []
    },
    {
      "cell_type": "code",
      "source": [
        "\n",
        "# # 고위험군과 위험군을 판단하는 함수\n",
        "# def risk_group(score):\n",
        "#     if min_risk_score_diag_yn_1_gbm <= score < median_risk_score_diag_yn_1_gbm:\n",
        "#         return '위험군입니다.'\n",
        "#     elif median_risk_score_diag_yn_1_gbm <= score <= max_risk_score_diag_yn_1_gbm:\n",
        "#         return '고위험군입니다.'\n",
        "#     else:\n",
        "#         return '저위험군입니다.'\n",
        "\n",
        "\n",
        "# # 고위험군 또는 위험군을 판단합니다.\n",
        "# result2 = risk_group(risk_percentile_gbm_18346)\n",
        "\n",
        "# # 결과 출력\n",
        "# print(\"예측된 점수:\", risk_percentile_gbm_18346)\n",
        "# print(result2)"
      ],
      "metadata": {
        "id": "vs3NJ2claQa-"
      },
      "execution_count": null,
      "outputs": []
    },
    {
      "cell_type": "markdown",
      "source": [
        "##점수 정확도 분석"
      ],
      "metadata": {
        "id": "vaZecJJdLXu9"
      }
    },
    {
      "cell_type": "code",
      "source": [
        "# 'Risk_Percentile_rf' 칼럼의 값과 'target' 칼럼의 값을 가져옴\n",
        "risk_percentile = df['Risk_Percentile_rf']\n",
        "target = df['target']\n"
      ],
      "metadata": {
        "id": "NSANbZxCeTO0"
      },
      "execution_count": null,
      "outputs": []
    },
    {
      "cell_type": "code",
      "source": [
        "from sklearn.metrics import precision_recall_curve, f1_score\n",
        "\n",
        "# 정밀도, 재현율, 임계값 계산\n",
        "precision, recall, thresholds = precision_recall_curve(target, risk_percentile)\n",
        "\n",
        "# F1-score 계산\n",
        "f1_scores = [f1_score(target, (risk_percentile >= threshold).astype(int)) for threshold in thresholds]\n",
        "\n",
        "# F1-score와 thresholds 간 관계 시각화\n",
        "plt.plot(thresholds, f1_scores, label='F1-score')\n",
        "plt.xlabel('Threshold')\n",
        "plt.ylabel('F1-score')\n",
        "plt.title('F1-score vs. Threshold')\n",
        "plt.legend()\n",
        "plt.show()\n",
        "\n",
        "# 최적의 임계값 선택\n",
        "best_threshold_index = np.argmax(f1_scores)\n",
        "best_threshold = thresholds[best_threshold_index]\n",
        "best_f1_score = f1_scores[best_threshold_index]\n",
        "best_precision = precision[best_threshold_index]\n",
        "best_recall = recall[best_threshold_index]\n",
        "\n",
        "print(\"Best Threshold:\", best_threshold)\n",
        "print(\"Best F1-score:\", best_f1_score)\n",
        "print(\"Corresponding Precision:\", best_precision)\n",
        "print(\"Corresponding Recall:\", best_recall)"
      ],
      "metadata": {
        "colab": {
          "base_uri": "https://localhost:8080/",
          "height": 547
        },
        "id": "8yHO7--peE8Y",
        "outputId": "f8af74d2-e2de-4222-a05c-728021e1b9af"
      },
      "execution_count": null,
      "outputs": [
        {
          "output_type": "display_data",
          "data": {
            "text/plain": [
              "<Figure size 640x480 with 1 Axes>"
            ],
            "image/png": "[encoded data removed]"
          },
          "metadata": {}
        },
        {
          "output_type": "stream",
          "name": "stdout",
          "text": [
            "Best Threshold: 53.90634523517397\n",
            "Best F1-score: 0.9906511927788524\n",
            "Corresponding Precision: 0.9964332036316472\n",
            "Corresponding Recall: 0.9849358974358975\n"
          ]
        }
      ]
    },
    {
      "cell_type": "code",
      "source": [
        "# 주어진 임계값\n",
        "threshold = 40.13314220343852\n",
        "\n",
        "# 임계값을 기준으로 이진 분류 수행\n",
        "predicted = (risk_percentile >= threshold).astype(int)\n",
        "\n",
        "# 혼동 행렬 계산\n",
        "tn, fp, fn, tp = confusion_matrix(target, predicted).ravel()\n",
        "\n",
        "# 혼동 행렬 시각화\n",
        "conf_matrix = np.array([[tn, fp], [fn, tp]])\n",
        "plt.imshow(conf_matrix, interpolation='nearest', cmap=plt.cm.Blues)\n",
        "plt.title('Confusion Matrix')\n",
        "plt.colorbar()\n",
        "plt.xticks([0, 1], ['Predicted Negative', 'Predicted Positive'])\n",
        "plt.yticks([0, 1], ['Actual Negative', 'Actual Positive'])\n",
        "plt.xlabel('Predicted Label')\n",
        "plt.ylabel('True Label')\n",
        "\n",
        "for i in range(2):\n",
        "    for j in range(2):\n",
        "        plt.text(j, i, str(conf_matrix[i, j]), horizontalalignment='center', color='white' if conf_matrix[i, j] > (conf_matrix.max() / 2) else 'black')\n",
        "\n",
        "plt.show()"
      ],
      "metadata": {
        "colab": {
          "base_uri": "https://localhost:8080/",
          "height": 472
        },
        "id": "Ra11gANi7tCi",
        "outputId": "deedb56e-353b-43dc-f10c-490d0023aae3"
      },
      "execution_count": null,
      "outputs": [
        {
          "output_type": "display_data",
          "data": {
            "text/plain": [
              "<Figure size 640x480 with 2 Axes>"
            ],
            "image/png": "[encoded data removed]"
          },
          "metadata": {}
        }
      ]
    },
    {
      "cell_type": "code",
      "source": [
        "# 재현율과 정밀도 계산\n",
        "recall = recall_score(target, predicted)\n",
        "precision = precision_score(target, predicted)\n",
        "\n",
        "print(\"Recall:\", recall)\n",
        "print(\"Precision:\", precision)"
      ],
      "metadata": {
        "colab": {
          "base_uri": "https://localhost:8080/"
        },
        "id": "ZW43QCb7ffLs",
        "outputId": "ce2fc3f4-6167-4317-994f-f44762c68b17"
      },
      "execution_count": null,
      "outputs": [
        {
          "output_type": "stream",
          "name": "stdout",
          "text": [
            "Recall: 0.9849358974358975\n",
            "Precision: 0.9962716809855731\n"
          ]
        }
      ]
    },
    {
      "cell_type": "code",
      "source": [
        "# 'target'이 0인 표본과 1인 표본을 나누기\n",
        "target_0 = df[df['target'] == 0]['Risk_Percentile_rf']\n",
        "target_1 = df[df['target'] == 1]['Risk_Percentile_rf']\n",
        "\n",
        "# 히스토그램을 통해 시각화\n",
        "plt.hist(target_0, bins=50, color='blue', alpha=0.5, label='Target 0')\n",
        "plt.hist(target_1, bins=50, color='red', alpha=0.5, label='Target 1')\n",
        "plt.axvline(x=threshold, color='black', linestyle='--', label='Threshold')\n",
        "plt.xlabel('Risk Percentile')\n",
        "plt.ylabel('Frequency')\n",
        "plt.title('Distribution of Risk_Percentile_rf with Threshold')\n",
        "plt.legend()\n",
        "plt.show()"
      ],
      "metadata": {
        "colab": {
          "base_uri": "https://localhost:8080/",
          "height": 472
        },
        "id": "bB5mtCu2gyP7",
        "outputId": "bf6e38eb-01b1-43fe-f270-7f78ac635ac7"
      },
      "execution_count": null,
      "outputs": [
        {
          "output_type": "display_data",
          "data": {
            "text/plain": [
              "<Figure size 640x480 with 1 Axes>"
            ],
            "image/png": "[encoded data removed]"
          },
          "metadata": {}
        }
      ]
    }
  ],
  "metadata": {
    "colab": {
      "collapsed_sections": [
        "WJB47vJcOrGx",
        "o87bvuwS251L",
        "iAcXNafAFCaU",
        "abjOD4Dd3xn0",
        "x_aoPfoP3vMJ",
        "fz4cou123DM4",
        "CL-4IwJVCbdT",
        "Cjwe6r5fErpK",
        "BKb8jRcoDIgD",
        "RwbqlJXZDM2l",
        "JrCJ2joJLCDj",
        "bmkBvMgPn5yC",
        "udJtcl2WLUlf"
      ],
      "provenance": []
    },
    "kernelspec": {
      "display_name": "Python 3",
      "name": "python3"
    },
    "language_info": {
      "name": "python"
    }
  },
  "nbformat": 4,
  "nbformat_minor": 0
}