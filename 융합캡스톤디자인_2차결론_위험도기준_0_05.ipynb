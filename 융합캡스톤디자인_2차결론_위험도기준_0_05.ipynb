{
  "cells": [
    {
      "cell_type": "code",
      "execution_count": 2,
      "metadata": {
        "colab": {
          "base_uri": "https://localhost:8080/"
        },
        "id": "uE282GxKN4Fc",
        "outputId": "830c31b9-e043-43bf-8ce9-89b8b8e337bb"
      },
      "outputs": [
        {
          "output_type": "stream",
          "name": "stdout",
          "text": [
            "Drive already mounted at /content/drive; to attempt to forcibly remount, call drive.mount(\"/content/drive\", force_remount=True).\n"
          ]
        }
      ],
      "source": [
        "from google.colab import drive\n",
        "drive.mount('/content/drive')"
      ]
    },
    {
      "cell_type": "markdown",
      "metadata": {
        "id": "WJB47vJcOrGx"
      },
      "source": [
        "#라이브러리 다운"
      ]
    },
    {
      "cell_type": "code",
      "execution_count": 3,
      "metadata": {
        "id": "VPdIh9A2OtrY"
      },
      "outputs": [],
      "source": [
        "import os\n",
        "import numpy as np\n",
        "import pandas as pd\n",
        "import seaborn as sns\n",
        "import datetime as dt\n",
        "import matplotlib.pyplot as plt\n",
        "%matplotlib inline\n",
        "from sklearn import preprocessing\n",
        "from sklearn.model_selection import train_test_split\n",
        "from sklearn.metrics import confusion_matrix\n",
        "\n",
        "\n",
        "# for coloring maps\n",
        "from matplotlib import colormaps\n",
        "\n",
        "# for data visualizations\n",
        "\n",
        "import plotly.express as px\n",
        "\n",
        "# for preprocessing\n",
        "from sklearn.preprocessing import StandardScaler\n",
        "\n",
        "# for label encoding\n",
        "from sklearn.preprocessing import LabelEncoder\n",
        "\n",
        "# for data split\n",
        "from sklearn.model_selection import train_test_split"
      ]
    },
    {
      "cell_type": "code",
      "source": [
        "df_start=pd.read_csv('/content/drive/MyDrive/Colab Notebooks/Cap/융합캡스톤디자인_최종데이터.csv')"
      ],
      "metadata": {
        "id": "-St5ABHq-f-m"
      },
      "execution_count": 4,
      "outputs": []
    },
    {
      "cell_type": "code",
      "execution_count": 5,
      "metadata": {
        "colab": {
          "base_uri": "https://localhost:8080/",
          "height": 443
        },
        "id": "0bpwimEtN7SI",
        "outputId": "8d66cdd4-698b-4e2d-bc8c-ba39b95b7174"
      },
      "outputs": [
        {
          "output_type": "execute_result",
          "data": {
            "text/plain": [
              "       UCLN_OPN_ETC_SITE_CRCN_YN  UCLN_PRGN_YN  RDT_DTRN_YN  RDT_RT_NO  \\\n",
              "0                            0.0           0.0          0.0        0.0   \n",
              "1                            0.0           1.0          0.0        0.0   \n",
              "2                            1.0           0.0          1.0       18.0   \n",
              "3                            1.0           1.0          1.0       35.0   \n",
              "4                            1.0           0.0          0.0        0.0   \n",
              "...                          ...           ...          ...        ...   \n",
              "23802                        0.0           0.5          0.5      141.0   \n",
              "23803                        0.0           0.5          1.0      321.5   \n",
              "23804                        0.0           0.0          0.0        0.0   \n",
              "23805                        0.0           0.5          0.5      141.0   \n",
              "23806                        0.0           0.5          0.5      141.0   \n",
              "\n",
              "       RDT_DTRN_DCNT  RDT_SITE_KIND_CD  RDT_SITE_CD  RDT_TM1_CGY  \\\n",
              "0                0.0               0.0          0.0          0.0   \n",
              "1                0.0               0.0          0.0          0.0   \n",
              "2               63.0              99.0         10.0       9922.0   \n",
              "3                7.0              99.0         22.0       3740.0   \n",
              "4                0.0               0.0          0.0          0.0   \n",
              "...              ...               ...          ...          ...   \n",
              "23802           18.0               4.0          5.0       1148.5   \n",
              "23803           46.5              53.5         55.0       3041.5   \n",
              "23804            0.0               0.0          0.0          0.0   \n",
              "23805           18.0               4.0          5.0       1148.5   \n",
              "23806           18.0               4.0          5.0       1148.5   \n",
              "\n",
              "       RDT_TOTL_TRTM_NT  RDT_TOTL_CGY  ...  HRT_USE_YN  HRT_DTRN_MCNT  HT_VL  \\\n",
              "0                   0.0           0.0  ...         1.0            4.0  156.0   \n",
              "1                   0.0           0.0  ...         0.0            0.0  152.0   \n",
              "2                8876.0        1073.0  ...         0.0            0.0  153.0   \n",
              "3                5905.0         999.0  ...         0.0            0.0  153.0   \n",
              "4                   0.0           0.0  ...         1.0            6.0  156.9   \n",
              "...                 ...           ...  ...         ...            ...    ...   \n",
              "23802             216.5        1891.0  ...         1.0            0.0  174.8   \n",
              "23803            2870.0        2564.5  ...         1.0            0.0  145.2   \n",
              "23804               0.0           0.0  ...         0.0            0.0  175.0   \n",
              "23805             216.5        1891.0  ...         1.0            0.0  175.0   \n",
              "23806             216.5        1891.0  ...         1.0            0.0  175.0   \n",
              "\n",
              "       WT_MSRM_VL  BMI_VL  BRCA1_PAVR_DTCT_CLSF_CD  \\\n",
              "0            70.0   28.76                      0.0   \n",
              "1            61.0   26.40                      0.0   \n",
              "2            60.0   25.63                      0.0   \n",
              "3            64.0   27.34                      0.0   \n",
              "4            69.2   28.11                      0.0   \n",
              "...           ...     ...                      ...   \n",
              "23802        40.7   13.30                      1.0   \n",
              "23803        40.0   19.00                      1.0   \n",
              "23804        42.4   13.80                      1.0   \n",
              "23805        40.5   13.20                      1.0   \n",
              "23806        41.8   13.60                      1.0   \n",
              "\n",
              "       BRCA1_UNCL_VARN_DTCT_CLSF_CD  BRCA2_PAVR_DTCT_CLSF_CD  \\\n",
              "0                               0.0                      0.0   \n",
              "1                               0.0                      0.0   \n",
              "2                               0.0                      0.0   \n",
              "3                               0.0                      0.0   \n",
              "4                               0.0                      0.0   \n",
              "...                             ...                      ...   \n",
              "23802                           1.0                      1.0   \n",
              "23803                           1.0                      1.0   \n",
              "23804                           1.0                      1.0   \n",
              "23805                           1.0                      1.0   \n",
              "23806                           1.0                      1.0   \n",
              "\n",
              "       BRCA2_UNCL_VARN_DTCT_CLSF_CD  target  \n",
              "0                               0.0     1.0  \n",
              "1                               0.0     1.0  \n",
              "2                               0.0     1.0  \n",
              "3                               0.0     1.0  \n",
              "4                               0.0     1.0  \n",
              "...                             ...     ...  \n",
              "23802                           1.0     0.0  \n",
              "23803                           1.0     0.0  \n",
              "23804                           1.0     0.0  \n",
              "23805                           1.0     0.0  \n",
              "23806                           1.0     0.0  \n",
              "\n",
              "[23807 rows x 66 columns]"
            ],
            "text/html": [
              "\n",
              "  <div id=\"df-b2ed3048-f165-41d2-8ca7-bee316877de8\" class=\"colab-df-container\">\n",
              "    <div>\n",
              "<style scoped>\n",
              "    .dataframe tbody tr th:only-of-type {\n",
              "        vertical-align: middle;\n",
              "    }\n",
              "\n",
              "    .dataframe tbody tr th {\n",
              "        vertical-align: top;\n",
              "    }\n",
              "\n",
              "    .dataframe thead th {\n",
              "        text-align: right;\n",
              "    }\n",
              "</style>\n",
              "<table border=\"1\" class=\"dataframe\">\n",
              "  <thead>\n",
              "    <tr style=\"text-align: right;\">\n",
              "      <th></th>\n",
              "      <th>UCLN_OPN_ETC_SITE_CRCN_YN</th>\n",
              "      <th>UCLN_PRGN_YN</th>\n",
              "      <th>RDT_DTRN_YN</th>\n",
              "      <th>RDT_RT_NO</th>\n",
              "      <th>RDT_DTRN_DCNT</th>\n",
              "      <th>RDT_SITE_KIND_CD</th>\n",
              "      <th>RDT_SITE_CD</th>\n",
              "      <th>RDT_TM1_CGY</th>\n",
              "      <th>RDT_TOTL_TRTM_NT</th>\n",
              "      <th>RDT_TOTL_CGY</th>\n",
              "      <th>...</th>\n",
              "      <th>HRT_USE_YN</th>\n",
              "      <th>HRT_DTRN_MCNT</th>\n",
              "      <th>HT_VL</th>\n",
              "      <th>WT_MSRM_VL</th>\n",
              "      <th>BMI_VL</th>\n",
              "      <th>BRCA1_PAVR_DTCT_CLSF_CD</th>\n",
              "      <th>BRCA1_UNCL_VARN_DTCT_CLSF_CD</th>\n",
              "      <th>BRCA2_PAVR_DTCT_CLSF_CD</th>\n",
              "      <th>BRCA2_UNCL_VARN_DTCT_CLSF_CD</th>\n",
              "      <th>target</th>\n",
              "    </tr>\n",
              "  </thead>\n",
              "  <tbody>\n",
              "    <tr>\n",
              "      <th>0</th>\n",
              "      <td>0.0</td>\n",
              "      <td>0.0</td>\n",
              "      <td>0.0</td>\n",
              "      <td>0.0</td>\n",
              "      <td>0.0</td>\n",
              "      <td>0.0</td>\n",
              "      <td>0.0</td>\n",
              "      <td>0.0</td>\n",
              "      <td>0.0</td>\n",
              "      <td>0.0</td>\n",
              "      <td>...</td>\n",
              "      <td>1.0</td>\n",
              "      <td>4.0</td>\n",
              "      <td>156.0</td>\n",
              "      <td>70.0</td>\n",
              "      <td>28.76</td>\n",
              "      <td>0.0</td>\n",
              "      <td>0.0</td>\n",
              "      <td>0.0</td>\n",
              "      <td>0.0</td>\n",
              "      <td>1.0</td>\n",
              "    </tr>\n",
              "    <tr>\n",
              "      <th>1</th>\n",
              "      <td>0.0</td>\n",
              "      <td>1.0</td>\n",
              "      <td>0.0</td>\n",
              "      <td>0.0</td>\n",
              "      <td>0.0</td>\n",
              "      <td>0.0</td>\n",
              "      <td>0.0</td>\n",
              "      <td>0.0</td>\n",
              "      <td>0.0</td>\n",
              "      <td>0.0</td>\n",
              "      <td>...</td>\n",
              "      <td>0.0</td>\n",
              "      <td>0.0</td>\n",
              "      <td>152.0</td>\n",
              "      <td>61.0</td>\n",
              "      <td>26.40</td>\n",
              "      <td>0.0</td>\n",
              "      <td>0.0</td>\n",
              "      <td>0.0</td>\n",
              "      <td>0.0</td>\n",
              "      <td>1.0</td>\n",
              "    </tr>\n",
              "    <tr>\n",
              "      <th>2</th>\n",
              "      <td>1.0</td>\n",
              "      <td>0.0</td>\n",
              "      <td>1.0</td>\n",
              "      <td>18.0</td>\n",
              "      <td>63.0</td>\n",
              "      <td>99.0</td>\n",
              "      <td>10.0</td>\n",
              "      <td>9922.0</td>\n",
              "      <td>8876.0</td>\n",
              "      <td>1073.0</td>\n",
              "      <td>...</td>\n",
              "      <td>0.0</td>\n",
              "      <td>0.0</td>\n",
              "      <td>153.0</td>\n",
              "      <td>60.0</td>\n",
              "      <td>25.63</td>\n",
              "      <td>0.0</td>\n",
              "      <td>0.0</td>\n",
              "      <td>0.0</td>\n",
              "      <td>0.0</td>\n",
              "      <td>1.0</td>\n",
              "    </tr>\n",
              "    <tr>\n",
              "      <th>3</th>\n",
              "      <td>1.0</td>\n",
              "      <td>1.0</td>\n",
              "      <td>1.0</td>\n",
              "      <td>35.0</td>\n",
              "      <td>7.0</td>\n",
              "      <td>99.0</td>\n",
              "      <td>22.0</td>\n",
              "      <td>3740.0</td>\n",
              "      <td>5905.0</td>\n",
              "      <td>999.0</td>\n",
              "      <td>...</td>\n",
              "      <td>0.0</td>\n",
              "      <td>0.0</td>\n",
              "      <td>153.0</td>\n",
              "      <td>64.0</td>\n",
              "      <td>27.34</td>\n",
              "      <td>0.0</td>\n",
              "      <td>0.0</td>\n",
              "      <td>0.0</td>\n",
              "      <td>0.0</td>\n",
              "      <td>1.0</td>\n",
              "    </tr>\n",
              "    <tr>\n",
              "      <th>4</th>\n",
              "      <td>1.0</td>\n",
              "      <td>0.0</td>\n",
              "      <td>0.0</td>\n",
              "      <td>0.0</td>\n",
              "      <td>0.0</td>\n",
              "      <td>0.0</td>\n",
              "      <td>0.0</td>\n",
              "      <td>0.0</td>\n",
              "      <td>0.0</td>\n",
              "      <td>0.0</td>\n",
              "      <td>...</td>\n",
              "      <td>1.0</td>\n",
              "      <td>6.0</td>\n",
              "      <td>156.9</td>\n",
              "      <td>69.2</td>\n",
              "      <td>28.11</td>\n",
              "      <td>0.0</td>\n",
              "      <td>0.0</td>\n",
              "      <td>0.0</td>\n",
              "      <td>0.0</td>\n",
              "      <td>1.0</td>\n",
              "    </tr>\n",
              "    <tr>\n",
              "      <th>...</th>\n",
              "      <td>...</td>\n",
              "      <td>...</td>\n",
              "      <td>...</td>\n",
              "      <td>...</td>\n",
              "      <td>...</td>\n",
              "      <td>...</td>\n",
              "      <td>...</td>\n",
              "      <td>...</td>\n",
              "      <td>...</td>\n",
              "      <td>...</td>\n",
              "      <td>...</td>\n",
              "      <td>...</td>\n",
              "      <td>...</td>\n",
              "      <td>...</td>\n",
              "      <td>...</td>\n",
              "      <td>...</td>\n",
              "      <td>...</td>\n",
              "      <td>...</td>\n",
              "      <td>...</td>\n",
              "      <td>...</td>\n",
              "      <td>...</td>\n",
              "    </tr>\n",
              "    <tr>\n",
              "      <th>23802</th>\n",
              "      <td>0.0</td>\n",
              "      <td>0.5</td>\n",
              "      <td>0.5</td>\n",
              "      <td>141.0</td>\n",
              "      <td>18.0</td>\n",
              "      <td>4.0</td>\n",
              "      <td>5.0</td>\n",
              "      <td>1148.5</td>\n",
              "      <td>216.5</td>\n",
              "      <td>1891.0</td>\n",
              "      <td>...</td>\n",
              "      <td>1.0</td>\n",
              "      <td>0.0</td>\n",
              "      <td>174.8</td>\n",
              "      <td>40.7</td>\n",
              "      <td>13.30</td>\n",
              "      <td>1.0</td>\n",
              "      <td>1.0</td>\n",
              "      <td>1.0</td>\n",
              "      <td>1.0</td>\n",
              "      <td>0.0</td>\n",
              "    </tr>\n",
              "    <tr>\n",
              "      <th>23803</th>\n",
              "      <td>0.0</td>\n",
              "      <td>0.5</td>\n",
              "      <td>1.0</td>\n",
              "      <td>321.5</td>\n",
              "      <td>46.5</td>\n",
              "      <td>53.5</td>\n",
              "      <td>55.0</td>\n",
              "      <td>3041.5</td>\n",
              "      <td>2870.0</td>\n",
              "      <td>2564.5</td>\n",
              "      <td>...</td>\n",
              "      <td>1.0</td>\n",
              "      <td>0.0</td>\n",
              "      <td>145.2</td>\n",
              "      <td>40.0</td>\n",
              "      <td>19.00</td>\n",
              "      <td>1.0</td>\n",
              "      <td>1.0</td>\n",
              "      <td>1.0</td>\n",
              "      <td>1.0</td>\n",
              "      <td>0.0</td>\n",
              "    </tr>\n",
              "    <tr>\n",
              "      <th>23804</th>\n",
              "      <td>0.0</td>\n",
              "      <td>0.0</td>\n",
              "      <td>0.0</td>\n",
              "      <td>0.0</td>\n",
              "      <td>0.0</td>\n",
              "      <td>0.0</td>\n",
              "      <td>0.0</td>\n",
              "      <td>0.0</td>\n",
              "      <td>0.0</td>\n",
              "      <td>0.0</td>\n",
              "      <td>...</td>\n",
              "      <td>0.0</td>\n",
              "      <td>0.0</td>\n",
              "      <td>175.0</td>\n",
              "      <td>42.4</td>\n",
              "      <td>13.80</td>\n",
              "      <td>1.0</td>\n",
              "      <td>1.0</td>\n",
              "      <td>1.0</td>\n",
              "      <td>1.0</td>\n",
              "      <td>0.0</td>\n",
              "    </tr>\n",
              "    <tr>\n",
              "      <th>23805</th>\n",
              "      <td>0.0</td>\n",
              "      <td>0.5</td>\n",
              "      <td>0.5</td>\n",
              "      <td>141.0</td>\n",
              "      <td>18.0</td>\n",
              "      <td>4.0</td>\n",
              "      <td>5.0</td>\n",
              "      <td>1148.5</td>\n",
              "      <td>216.5</td>\n",
              "      <td>1891.0</td>\n",
              "      <td>...</td>\n",
              "      <td>1.0</td>\n",
              "      <td>0.0</td>\n",
              "      <td>175.0</td>\n",
              "      <td>40.5</td>\n",
              "      <td>13.20</td>\n",
              "      <td>1.0</td>\n",
              "      <td>1.0</td>\n",
              "      <td>1.0</td>\n",
              "      <td>1.0</td>\n",
              "      <td>0.0</td>\n",
              "    </tr>\n",
              "    <tr>\n",
              "      <th>23806</th>\n",
              "      <td>0.0</td>\n",
              "      <td>0.5</td>\n",
              "      <td>0.5</td>\n",
              "      <td>141.0</td>\n",
              "      <td>18.0</td>\n",
              "      <td>4.0</td>\n",
              "      <td>5.0</td>\n",
              "      <td>1148.5</td>\n",
              "      <td>216.5</td>\n",
              "      <td>1891.0</td>\n",
              "      <td>...</td>\n",
              "      <td>1.0</td>\n",
              "      <td>0.0</td>\n",
              "      <td>175.0</td>\n",
              "      <td>41.8</td>\n",
              "      <td>13.60</td>\n",
              "      <td>1.0</td>\n",
              "      <td>1.0</td>\n",
              "      <td>1.0</td>\n",
              "      <td>1.0</td>\n",
              "      <td>0.0</td>\n",
              "    </tr>\n",
              "  </tbody>\n",
              "</table>\n",
              "<p>23807 rows × 66 columns</p>\n",
              "</div>\n",
              "    <div class=\"colab-df-buttons\">\n",
              "\n",
              "  <div class=\"colab-df-container\">\n",
              "    <button class=\"colab-df-convert\" onclick=\"convertToInteractive('df-b2ed3048-f165-41d2-8ca7-bee316877de8')\"\n",
              "            title=\"Convert this dataframe to an interactive table.\"\n",
              "            style=\"display:none;\">\n",
              "\n",
              "  <svg xmlns=\"http://www.w3.org/2000/svg\" height=\"24px\" viewBox=\"0 -960 960 960\">\n",
              "    <path d=\"M120-120v-720h720v720H120Zm60-500h600v-160H180v160Zm220 220h160v-160H400v160Zm0 220h160v-160H400v160ZM180-400h160v-160H180v160Zm440 0h160v-160H620v160ZM180-180h160v-160H180v160Zm440 0h160v-160H620v160Z\"/>\n",
              "  </svg>\n",
              "    </button>\n",
              "\n",
              "  <style>\n",
              "    .colab-df-container {\n",
              "      display:flex;\n",
              "      gap: 12px;\n",
              "    }\n",
              "\n",
              "    .colab-df-convert {\n",
              "      background-color: #E8F0FE;\n",
              "      border: none;\n",
              "      border-radius: 50%;\n",
              "      cursor: pointer;\n",
              "      display: none;\n",
              "      fill: #1967D2;\n",
              "      height: 32px;\n",
              "      padding: 0 0 0 0;\n",
              "      width: 32px;\n",
              "    }\n",
              "\n",
              "    .colab-df-convert:hover {\n",
              "      background-color: #E2EBFA;\n",
              "      box-shadow: 0px 1px 2px rgba(60, 64, 67, 0.3), 0px 1px 3px 1px rgba(60, 64, 67, 0.15);\n",
              "      fill: #174EA6;\n",
              "    }\n",
              "\n",
              "    .colab-df-buttons div {\n",
              "      margin-bottom: 4px;\n",
              "    }\n",
              "\n",
              "    [theme=dark] .colab-df-convert {\n",
              "      background-color: #3B4455;\n",
              "      fill: #D2E3FC;\n",
              "    }\n",
              "\n",
              "    [theme=dark] .colab-df-convert:hover {\n",
              "      background-color: #434B5C;\n",
              "      box-shadow: 0px 1px 3px 1px rgba(0, 0, 0, 0.15);\n",
              "      filter: drop-shadow(0px 1px 2px rgba(0, 0, 0, 0.3));\n",
              "      fill: #FFFFFF;\n",
              "    }\n",
              "  </style>\n",
              "\n",
              "    <script>\n",
              "      const buttonEl =\n",
              "        document.querySelector('#df-b2ed3048-f165-41d2-8ca7-bee316877de8 button.colab-df-convert');\n",
              "      buttonEl.style.display =\n",
              "        google.colab.kernel.accessAllowed ? 'block' : 'none';\n",
              "\n",
              "      async function convertToInteractive(key) {\n",
              "        const element = document.querySelector('#df-b2ed3048-f165-41d2-8ca7-bee316877de8');\n",
              "        const dataTable =\n",
              "          await google.colab.kernel.invokeFunction('convertToInteractive',\n",
              "                                                    [key], {});\n",
              "        if (!dataTable) return;\n",
              "\n",
              "        const docLinkHtml = 'Like what you see? Visit the ' +\n",
              "          '<a target=\"_blank\" href=https://colab.research.google.com/notebooks/data_table.ipynb>data table notebook</a>'\n",
              "          + ' to learn more about interactive tables.';\n",
              "        element.innerHTML = '';\n",
              "        dataTable['output_type'] = 'display_data';\n",
              "        await google.colab.output.renderOutput(dataTable, element);\n",
              "        const docLink = document.createElement('div');\n",
              "        docLink.innerHTML = docLinkHtml;\n",
              "        element.appendChild(docLink);\n",
              "      }\n",
              "    </script>\n",
              "  </div>\n",
              "\n",
              "\n",
              "<div id=\"df-47a852dd-77de-4037-8b0a-6738a10fd058\">\n",
              "  <button class=\"colab-df-quickchart\" onclick=\"quickchart('df-47a852dd-77de-4037-8b0a-6738a10fd058')\"\n",
              "            title=\"Suggest charts\"\n",
              "            style=\"display:none;\">\n",
              "\n",
              "<svg xmlns=\"http://www.w3.org/2000/svg\" height=\"24px\"viewBox=\"0 0 24 24\"\n",
              "     width=\"24px\">\n",
              "    <g>\n",
              "        <path d=\"M19 3H5c-1.1 0-2 .9-2 2v14c0 1.1.9 2 2 2h14c1.1 0 2-.9 2-2V5c0-1.1-.9-2-2-2zM9 17H7v-7h2v7zm4 0h-2V7h2v10zm4 0h-2v-4h2v4z\"/>\n",
              "    </g>\n",
              "</svg>\n",
              "  </button>\n",
              "\n",
              "<style>\n",
              "  .colab-df-quickchart {\n",
              "      --bg-color: #E8F0FE;\n",
              "      --fill-color: #1967D2;\n",
              "      --hover-bg-color: #E2EBFA;\n",
              "      --hover-fill-color: #174EA6;\n",
              "      --disabled-fill-color: #AAA;\n",
              "      --disabled-bg-color: #DDD;\n",
              "  }\n",
              "\n",
              "  [theme=dark] .colab-df-quickchart {\n",
              "      --bg-color: #3B4455;\n",
              "      --fill-color: #D2E3FC;\n",
              "      --hover-bg-color: #434B5C;\n",
              "      --hover-fill-color: #FFFFFF;\n",
              "      --disabled-bg-color: #3B4455;\n",
              "      --disabled-fill-color: #666;\n",
              "  }\n",
              "\n",
              "  .colab-df-quickchart {\n",
              "    background-color: var(--bg-color);\n",
              "    border: none;\n",
              "    border-radius: 50%;\n",
              "    cursor: pointer;\n",
              "    display: none;\n",
              "    fill: var(--fill-color);\n",
              "    height: 32px;\n",
              "    padding: 0;\n",
              "    width: 32px;\n",
              "  }\n",
              "\n",
              "  .colab-df-quickchart:hover {\n",
              "    background-color: var(--hover-bg-color);\n",
              "    box-shadow: 0 1px 2px rgba(60, 64, 67, 0.3), 0 1px 3px 1px rgba(60, 64, 67, 0.15);\n",
              "    fill: var(--button-hover-fill-color);\n",
              "  }\n",
              "\n",
              "  .colab-df-quickchart-complete:disabled,\n",
              "  .colab-df-quickchart-complete:disabled:hover {\n",
              "    background-color: var(--disabled-bg-color);\n",
              "    fill: var(--disabled-fill-color);\n",
              "    box-shadow: none;\n",
              "  }\n",
              "\n",
              "  .colab-df-spinner {\n",
              "    border: 2px solid var(--fill-color);\n",
              "    border-color: transparent;\n",
              "    border-bottom-color: var(--fill-color);\n",
              "    animation:\n",
              "      spin 1s steps(1) infinite;\n",
              "  }\n",
              "\n",
              "  @keyframes spin {\n",
              "    0% {\n",
              "      border-color: transparent;\n",
              "      border-bottom-color: var(--fill-color);\n",
              "      border-left-color: var(--fill-color);\n",
              "    }\n",
              "    20% {\n",
              "      border-color: transparent;\n",
              "      border-left-color: var(--fill-color);\n",
              "      border-top-color: var(--fill-color);\n",
              "    }\n",
              "    30% {\n",
              "      border-color: transparent;\n",
              "      border-left-color: var(--fill-color);\n",
              "      border-top-color: var(--fill-color);\n",
              "      border-right-color: var(--fill-color);\n",
              "    }\n",
              "    40% {\n",
              "      border-color: transparent;\n",
              "      border-right-color: var(--fill-color);\n",
              "      border-top-color: var(--fill-color);\n",
              "    }\n",
              "    60% {\n",
              "      border-color: transparent;\n",
              "      border-right-color: var(--fill-color);\n",
              "    }\n",
              "    80% {\n",
              "      border-color: transparent;\n",
              "      border-right-color: var(--fill-color);\n",
              "      border-bottom-color: var(--fill-color);\n",
              "    }\n",
              "    90% {\n",
              "      border-color: transparent;\n",
              "      border-bottom-color: var(--fill-color);\n",
              "    }\n",
              "  }\n",
              "</style>\n",
              "\n",
              "  <script>\n",
              "    async function quickchart(key) {\n",
              "      const quickchartButtonEl =\n",
              "        document.querySelector('#' + key + ' button');\n",
              "      quickchartButtonEl.disabled = true;  // To prevent multiple clicks.\n",
              "      quickchartButtonEl.classList.add('colab-df-spinner');\n",
              "      try {\n",
              "        const charts = await google.colab.kernel.invokeFunction(\n",
              "            'suggestCharts', [key], {});\n",
              "      } catch (error) {\n",
              "        console.error('Error during call to suggestCharts:', error);\n",
              "      }\n",
              "      quickchartButtonEl.classList.remove('colab-df-spinner');\n",
              "      quickchartButtonEl.classList.add('colab-df-quickchart-complete');\n",
              "    }\n",
              "    (() => {\n",
              "      let quickchartButtonEl =\n",
              "        document.querySelector('#df-47a852dd-77de-4037-8b0a-6738a10fd058 button');\n",
              "      quickchartButtonEl.style.display =\n",
              "        google.colab.kernel.accessAllowed ? 'block' : 'none';\n",
              "    })();\n",
              "  </script>\n",
              "</div>\n",
              "    </div>\n",
              "  </div>\n"
            ],
            "application/vnd.google.colaboratory.intrinsic+json": {
              "type": "dataframe",
              "variable_name": "df_start"
            }
          },
          "metadata": {},
          "execution_count": 5
        }
      ],
      "source": [
        "df_start"
      ]
    },
    {
      "cell_type": "code",
      "execution_count": 6,
      "metadata": {
        "colab": {
          "base_uri": "https://localhost:8080/"
        },
        "id": "jD5wmoyNK5xH",
        "outputId": "d7f78f39-c019-4135-db9d-ef7b794da5b3"
      },
      "outputs": [
        {
          "output_type": "stream",
          "name": "stdout",
          "text": [
            "<class 'pandas.core.frame.DataFrame'>\n",
            "RangeIndex: 23807 entries, 0 to 23806\n",
            "Data columns (total 66 columns):\n",
            " #   Column                        Non-Null Count  Dtype  \n",
            "---  ------                        --------------  -----  \n",
            " 0   UCLN_OPN_ETC_SITE_CRCN_YN     23807 non-null  float64\n",
            " 1   UCLN_PRGN_YN                  23807 non-null  float64\n",
            " 2   RDT_DTRN_YN                   23807 non-null  float64\n",
            " 3   RDT_RT_NO                     23807 non-null  float64\n",
            " 4   RDT_DTRN_DCNT                 23807 non-null  float64\n",
            " 5   RDT_SITE_KIND_CD              23807 non-null  float64\n",
            " 6   RDT_SITE_CD                   23807 non-null  float64\n",
            " 7   RDT_TM1_CGY                   23807 non-null  float64\n",
            " 8   RDT_TOTL_TRTM_NT              23807 non-null  float64\n",
            " 9   RDT_TOTL_CGY                  23807 non-null  float64\n",
            " 10  HORM_TRTM_YN                  23807 non-null  float64\n",
            " 11  HORM_TRTM_PRPS_CD             23807 non-null  float64\n",
            " 12  HORM_TRTM_INGR_NM             23807 non-null  float64\n",
            " 13  HORM_TRTM_DTRN_DCNT           23807 non-null  float64\n",
            " 14  IMPT_ER_EXAM_RSLT_CD          23807 non-null  float64\n",
            " 15  IMPT_PR_EXAM_RSLT_CD          23807 non-null  float64\n",
            " 16  IMPT_AR_EXAM_RSLT_CD          23807 non-null  float64\n",
            " 17  IDGN_AGE                      23807 non-null  float64\n",
            " 18  PT_SEX_CD                     23807 non-null  float64\n",
            " 19  DRNK_YN                       23807 non-null  float64\n",
            " 20  DRNK_STRT_AGE                 23807 non-null  float64\n",
            " 21  DRNK_KIND_CD                  23807 non-null  float64\n",
            " 22  DRNK_QTY                      23807 non-null  float64\n",
            " 23  DRNK_NT                       23807 non-null  float64\n",
            " 24  DRNK_DTRN_YCNT                23807 non-null  float64\n",
            " 25  CUR_SMOK_YN                   23807 non-null  float64\n",
            " 26  SHIS_YN                       23807 non-null  float64\n",
            " 27  SMOK_STRT_AGE                 23807 non-null  float64\n",
            " 28  SMOK_QTY                      23807 non-null  float64\n",
            " 29  SMOK_DTRN_YCNT                23807 non-null  float64\n",
            " 30  NSMK_PERD_YCNT                23807 non-null  float64\n",
            " 31  MHIS_YN                       23807 non-null  float64\n",
            " 32  MHIS_HTN_YN                   23807 non-null  float64\n",
            " 33  MHIS_DBT_YN                   23807 non-null  float64\n",
            " 34  MHIS_TB_YN                    23807 non-null  float64\n",
            " 35  MHIS_LVDS_YN                  23807 non-null  float64\n",
            " 36  MHIS_CNCR_YN                  23807 non-null  float64\n",
            " 37  MHIS_DEPR_YN                  23807 non-null  float64\n",
            " 38  MHIS_INSM_YN                  23807 non-null  float64\n",
            " 39  MHIS_CADS_YN                  23807 non-null  float64\n",
            " 40  ETC_MHIS_YN                   23807 non-null  float64\n",
            " 41  LATST_MDCT_YN                 23807 non-null  float64\n",
            " 42  MDCA_YN                       23807 non-null  float64\n",
            " 43  MENA_AGE                      23807 non-null  float64\n",
            " 44  MENO_YN                       23807 non-null  float64\n",
            " 45  MENO_AGE                      23807 non-null  float64\n",
            " 46  MENS_CYCL_DCNT                23807 non-null  float64\n",
            " 47  MARG_YN                       23807 non-null  float64\n",
            " 48  DELV_YN                       23807 non-null  float64\n",
            " 49  FDLV_AGE                      23807 non-null  float64\n",
            " 50  DELV_CHLD_CNT                 23807 non-null  float64\n",
            " 51  BRFD_EXPR_YN                  23807 non-null  float64\n",
            " 52  FEED_DTRN_MCNT                23807 non-null  float64\n",
            " 53  MHIS_BRST_OPRT_YN             23807 non-null  float64\n",
            " 54  OC_USE_YN                     23807 non-null  float64\n",
            " 55  OC_USE_DTRN_MCNT              23807 non-null  float64\n",
            " 56  HRT_USE_YN                    23807 non-null  float64\n",
            " 57  HRT_DTRN_MCNT                 23807 non-null  float64\n",
            " 58  HT_VL                         23807 non-null  float64\n",
            " 59  WT_MSRM_VL                    23807 non-null  float64\n",
            " 60  BMI_VL                        23807 non-null  float64\n",
            " 61  BRCA1_PAVR_DTCT_CLSF_CD       23807 non-null  float64\n",
            " 62  BRCA1_UNCL_VARN_DTCT_CLSF_CD  23807 non-null  float64\n",
            " 63  BRCA2_PAVR_DTCT_CLSF_CD       23807 non-null  float64\n",
            " 64  BRCA2_UNCL_VARN_DTCT_CLSF_CD  23807 non-null  float64\n",
            " 65  target                        23807 non-null  float64\n",
            "dtypes: float64(66)\n",
            "memory usage: 12.0 MB\n"
          ]
        }
      ],
      "source": [
        "df_start.info()"
      ]
    },
    {
      "cell_type": "markdown",
      "metadata": {
        "id": "sfD-pFFHRxDS"
      },
      "source": [
        "#위험도 점수 분석"
      ]
    },
    {
      "cell_type": "code",
      "source": [
        "df = df_start[['SMOK_QTY','SMOK_STRT_AGE','SMOK_DTRN_YCNT','HORM_TRTM_YN',\n",
        "                'HORM_TRTM_DTRN_DCNT','HORM_TRTM_PRPS_CD','MENO_YN','MENO_AGE',\n",
        "                'UCLN_PRGN_YN','MENA_AGE','target']]"
      ],
      "metadata": {
        "id": "MJE4YGPs0vix"
      },
      "execution_count": 10,
      "outputs": []
    },
    {
      "cell_type": "code",
      "source": [
        "df.columns"
      ],
      "metadata": {
        "colab": {
          "base_uri": "https://localhost:8080/"
        },
        "id": "iiOdyUCg_kuO",
        "outputId": "104f4554-1d41-4c69-a835-00f9d30b7a9e"
      },
      "execution_count": 11,
      "outputs": [
        {
          "output_type": "execute_result",
          "data": {
            "text/plain": [
              "Index(['SMOK_QTY', 'SMOK_STRT_AGE', 'SMOK_DTRN_YCNT', 'HORM_TRTM_YN',\n",
              "       'HORM_TRTM_DTRN_DCNT', 'HORM_TRTM_PRPS_CD', 'MENO_YN', 'MENO_AGE',\n",
              "       'UCLN_PRGN_YN', 'MENA_AGE', 'target'],\n",
              "      dtype='object')"
            ]
          },
          "metadata": {},
          "execution_count": 11
        }
      ]
    },
    {
      "cell_type": "code",
      "execution_count": 12,
      "metadata": {
        "id": "-MJu123r1jSt"
      },
      "outputs": [],
      "source": [
        "import pandas as pd\n",
        "import numpy as np\n",
        "\n",
        "import statsmodels.api as sm\n",
        "from sklearn.impute import SimpleImputer\n",
        "\n",
        "from statsmodels.stats.outliers_influence import variance_inflation_factor\n",
        "\n",
        "df_Odds = pd.DataFrame(df)\n",
        "\n",
        "# 독립 변수와 종속 변수 설정\n",
        "y = df['target']\n",
        "X = df[['SMOK_QTY','SMOK_STRT_AGE','SMOK_DTRN_YCNT','HORM_TRTM_YN',\n",
        "                'HORM_TRTM_DTRN_DCNT','HORM_TRTM_PRPS_CD','MENO_YN','MENO_AGE',\n",
        "                'UCLN_PRGN_YN','MENA_AGE']] #여기에 위험요인 칼럼 삽입 #여기에 위험요인 칼럼 삽입\n"
      ]
    },
    {
      "cell_type": "markdown",
      "source": [
        "##로지스틱 회귀분석"
      ],
      "metadata": {
        "id": "o87bvuwS251L"
      }
    },
    {
      "cell_type": "markdown",
      "source": [
        "###모델학습"
      ],
      "metadata": {
        "id": "iAcXNafAFCaU"
      }
    },
    {
      "cell_type": "code",
      "source": [
        "\n",
        "# 상수 추가\n",
        "X = sm.add_constant(X)\n",
        "\n",
        "# VIF 계산\n",
        "vif = pd.DataFrame()\n",
        "vif[\"VIF Factor\"] = [variance_inflation_factor(X.values, i) for i in range(X.shape[1])]\n",
        "vif[\"features\"] = X.columns\n",
        "print(vif)\n",
        "\n",
        "# # 다중 공선성 높은 변수 제거 (예: 'INOP_AGE', 'IADM_AGE', 'HT_VL', 'IDGN_AGE', 'MENA_AGE' 제거)\n",
        "# high_vif_columns = ['INOP_AGE', 'IADM_AGE', 'HT_VL', 'IDGN_AGE', 'MENA_AGE']\n",
        "# X = X.drop(columns=high_vif_columns)\n",
        "\n",
        "# 스케일링을 위해 상수열 제거\n",
        "X_no_const = X.drop(columns=['const'])\n",
        "\n",
        "# 데이터 스케일링\n",
        "scaler = StandardScaler()\n",
        "X_scaled = scaler.fit_transform(X_no_const)\n",
        "\n",
        "# 상수 열 추가\n",
        "X_scaled = sm.add_constant(X_scaled)\n",
        "\n",
        "# 로지스틱 회귀 모델 적합\n",
        "logit_model = sm.Logit(y, X_scaled)\n",
        "\n",
        "# 최대 반복 횟수 및 수렴 조건 설정\n",
        "result = logit_model.fit(maxiter=100, method='lbfgs')\n",
        "\n",
        "# 결과 요약 출력\n",
        "print(result.summary())"
      ],
      "metadata": {
        "colab": {
          "base_uri": "https://localhost:8080/"
        },
        "id": "p2DjL4-n2n-5",
        "outputId": "9fef4356-04ed-4886-9970-9837e1775cfc"
      },
      "execution_count": 13,
      "outputs": [
        {
          "output_type": "stream",
          "name": "stdout",
          "text": [
            "    VIF Factor             features\n",
            "0    29.157831                const\n",
            "1     1.996379             SMOK_QTY\n",
            "2     2.068262        SMOK_STRT_AGE\n",
            "3     2.254562       SMOK_DTRN_YCNT\n",
            "4     3.732207         HORM_TRTM_YN\n",
            "5     3.155356  HORM_TRTM_DTRN_DCNT\n",
            "6     1.198903    HORM_TRTM_PRPS_CD\n",
            "7     3.595955              MENO_YN\n",
            "8     3.234848             MENO_AGE\n",
            "9     1.316473         UCLN_PRGN_YN\n",
            "10    1.325301             MENA_AGE\n",
            "                           Logit Regression Results                           \n",
            "==============================================================================\n",
            "Dep. Variable:                 target   No. Observations:                23807\n",
            "Model:                          Logit   Df Residuals:                    23796\n",
            "Method:                           MLE   Df Model:                           10\n",
            "Date:                Sat, 08 Jun 2024   Pseudo R-squ.:                  0.9234\n",
            "Time:                        02:09:51   Log-Likelihood:                -1262.0\n",
            "converged:                       True   LL-Null:                       -16474.\n",
            "Covariance Type:            nonrobust   LLR p-value:                     0.000\n",
            "==============================================================================\n",
            "                 coef    std err          z      P>|z|      [0.025      0.975]\n",
            "------------------------------------------------------------------------------\n",
            "const         38.5820    889.688      0.043      0.965   -1705.175    1782.339\n",
            "x1            13.3509    246.658      0.054      0.957    -470.089     496.791\n",
            "x2            14.4562    161.088      0.090      0.928    -301.271     330.183\n",
            "x3            12.9953    379.549      0.034      0.973    -730.906     756.897\n",
            "x4            11.2544   2031.153      0.006      0.996   -3969.732    3992.241\n",
            "x5            -0.3689   1862.188     -0.000      1.000   -3650.190    3649.452\n",
            "x6            -0.2054    735.762     -0.000      1.000   -1442.273    1441.863\n",
            "x7            11.1113   2261.079      0.005      0.996   -4420.522    4442.744\n",
            "x8            -0.0297   2208.849  -1.34e-05      1.000   -4329.294    4329.235\n",
            "x9             2.3888      0.082     29.201      0.000       2.228       2.549\n",
            "x10           -1.8240      0.102    -17.933      0.000      -2.023      -1.625\n",
            "==============================================================================\n",
            "\n",
            "Possibly complete quasi-separation: A fraction 0.50 of observations can be\n",
            "perfectly predicted. This might indicate that there is complete\n",
            "quasi-separation. In this case some parameters will not be identified.\n"
          ]
        }
      ]
    },
    {
      "cell_type": "code",
      "execution_count": 14,
      "metadata": {
        "colab": {
          "base_uri": "https://localhost:8080/"
        },
        "id": "tMA49_XjNRfA",
        "outputId": "92a78e3e-2cf6-4fa5-e283-af6c52c710ed"
      },
      "outputs": [
        {
          "output_type": "stream",
          "name": "stdout",
          "text": [
            "                           Logit Regression Results                           \n",
            "==============================================================================\n",
            "Dep. Variable:                 target   No. Observations:                23807\n",
            "Model:                          Logit   Df Residuals:                    23796\n",
            "Method:                           MLE   Df Model:                           10\n",
            "Date:                Sat, 08 Jun 2024   Pseudo R-squ.:                  0.9234\n",
            "Time:                        02:09:51   Log-Likelihood:                -1262.0\n",
            "converged:                       True   LL-Null:                       -16474.\n",
            "Covariance Type:            nonrobust   LLR p-value:                     0.000\n",
            "==============================================================================\n",
            "                 coef    std err          z      P>|z|      [0.025      0.975]\n",
            "------------------------------------------------------------------------------\n",
            "const         38.5820    889.688      0.043      0.965   -1705.175    1782.339\n",
            "x1            13.3509    246.658      0.054      0.957    -470.089     496.791\n",
            "x2            14.4562    161.088      0.090      0.928    -301.271     330.183\n",
            "x3            12.9953    379.549      0.034      0.973    -730.906     756.897\n",
            "x4            11.2544   2031.153      0.006      0.996   -3969.732    3992.241\n",
            "x5            -0.3689   1862.188     -0.000      1.000   -3650.190    3649.452\n",
            "x6            -0.2054    735.762     -0.000      1.000   -1442.273    1441.863\n",
            "x7            11.1113   2261.079      0.005      0.996   -4420.522    4442.744\n",
            "x8            -0.0297   2208.849  -1.34e-05      1.000   -4329.294    4329.235\n",
            "x9             2.3888      0.082     29.201      0.000       2.228       2.549\n",
            "x10           -1.8240      0.102    -17.933      0.000      -2.023      -1.625\n",
            "==============================================================================\n",
            "\n",
            "Possibly complete quasi-separation: A fraction 0.50 of observations can be\n",
            "perfectly predicted. This might indicate that there is complete\n",
            "quasi-separation. In this case some parameters will not be identified.\n",
            "오즈비:\n",
            "const    5.700986e+16\n",
            "x1       6.283845e+05\n",
            "x2       1.897734e+06\n",
            "x3       4.403591e+05\n",
            "x4       7.721644e+04\n",
            "x5       6.914842e-01\n",
            "x6       8.143437e-01\n",
            "x7       6.691999e+04\n",
            "x8       9.707365e-01\n",
            "x9       1.089988e+01\n",
            "x10      1.613728e-01\n",
            "dtype: float64\n"
          ]
        }
      ],
      "source": [
        "# 결과 요약 출력\n",
        "print(result.summary())\n",
        "\n",
        "# 오즈비 계산\n",
        "odds_ratios = np.exp(result.params)\n",
        "print(\"오즈비:\")\n",
        "print(odds_ratios)\n",
        "\n"
      ]
    },
    {
      "cell_type": "markdown",
      "metadata": {
        "id": "abjOD4Dd3xn0"
      },
      "source": [
        "###점수 구하기"
      ]
    },
    {
      "cell_type": "code",
      "execution_count": 15,
      "metadata": {
        "colab": {
          "base_uri": "https://localhost:8080/"
        },
        "id": "4sFK4d5RAoqv",
        "outputId": "f367fffc-8efa-40aa-e26d-d97ee5e4b61a"
      },
      "outputs": [
        {
          "output_type": "stream",
          "name": "stdout",
          "text": [
            "DIAG_YN=1인 행들 중 최대 위험 점수를 갖는 행의 점수: 175.83122338241026\n",
            "DIAG_YN=1인 행들 중 최대 위험 점수를 갖는 행: const                   1.0\n",
            "SMOK_QTY               97.0\n",
            "SMOK_STRT_AGE          86.0\n",
            "SMOK_DTRN_YCNT         19.0\n",
            "HORM_TRTM_YN            1.0\n",
            "HORM_TRTM_DTRN_DCNT    73.0\n",
            "HORM_TRTM_PRPS_CD       5.0\n",
            "MENO_YN                 1.0\n",
            "MENO_AGE               95.0\n",
            "UCLN_PRGN_YN            1.0\n",
            "MENA_AGE                8.0\n",
            "Name: 3877, dtype: float64\n"
          ]
        }
      ],
      "source": [
        "# 각 행에 대한 위험 점수 계산\n",
        "# 회귀 계수를 Series로 변환\n",
        "coefficients_series = pd.Series(result.params)\n",
        "\n",
        "# 위험 점수 계산\n",
        "risk_scores_lr = X_scaled.dot(coefficients_series)\n",
        "# 'DIAG_YN'이 1인 행들 필터링\n",
        "high_risk_patients_lr = risk_scores_lr[y == 1]\n",
        "\n",
        "# 'high_risk_patients'를 pandas Series로 변환\n",
        "high_risk_patients_series_lr = pd.Series(high_risk_patients_lr)\n",
        "\n",
        "# 최대 위험 점수를 갖는 행 찾기\n",
        "max_risk_index_diag_lr_1 = high_risk_patients_series_lr.idxmax()\n",
        "max_risk_row_diag_lr_1 = X.loc[max_risk_index_diag_lr_1]\n",
        "\n",
        "# 최대 위험 점수를 갖는 행의 위험 점수\n",
        "max_risk_score_diag_lr_1 = high_risk_patients_series_lr.loc[max_risk_index_diag_lr_1]\n",
        "print(\"DIAG_YN=1인 행들 중 최대 위험 점수를 갖는 행의 점수:\", max_risk_score_diag_lr_1)\n",
        "print(\"DIAG_YN=1인 행들 중 최대 위험 점수를 갖는 행:\", max_risk_row_diag_lr_1)\n",
        "\n"
      ]
    },
    {
      "cell_type": "code",
      "execution_count": 16,
      "metadata": {
        "colab": {
          "base_uri": "https://localhost:8080/"
        },
        "id": "Vph3D3ZbIte-",
        "outputId": "749cf2db-d7a8-4b73-93bb-ab7e1c178731"
      },
      "outputs": [
        {
          "output_type": "stream",
          "name": "stdout",
          "text": [
            "DIAG_YN=1인 행들 중 최소 위험 점수를 갖는 행의 점수: -4.517874992161233\n",
            "DIAG_YN=1인 행들 중 최소 위험 점수를 갖는 행: const                   1.0\n",
            "SMOK_QTY                0.0\n",
            "SMOK_STRT_AGE           0.0\n",
            "SMOK_DTRN_YCNT          0.0\n",
            "HORM_TRTM_YN            0.0\n",
            "HORM_TRTM_DTRN_DCNT     0.0\n",
            "HORM_TRTM_PRPS_CD       0.0\n",
            "MENO_YN                 0.0\n",
            "MENO_AGE                0.0\n",
            "UCLN_PRGN_YN            0.0\n",
            "MENA_AGE               13.0\n",
            "Name: 462, dtype: float64\n"
          ]
        }
      ],
      "source": [
        "# 최소 위험 점수를 갖는 행 찾기\n",
        "min_risk_index_diag_1 = high_risk_patients_series_lr.idxmin()\n",
        "min_risk_row_diag_1 = X.loc[min_risk_index_diag_1]\n",
        "\n",
        "# 최소 위험 점수를 갖는 행의 위험 점수\n",
        "min_risk_score_diag_1 = high_risk_patients_series_lr.loc[min_risk_index_diag_1]\n",
        "print(\"DIAG_YN=1인 행들 중 최소 위험 점수를 갖는 행의 점수:\", min_risk_score_diag_1)\n",
        "print(\"DIAG_YN=1인 행들 중 최소 위험 점수를 갖는 행:\", min_risk_row_diag_1)\n"
      ]
    },
    {
      "cell_type": "markdown",
      "metadata": {
        "id": "x_aoPfoP3vMJ"
      },
      "source": [
        "###위험확률"
      ]
    },
    {
      "cell_type": "code",
      "execution_count": 17,
      "metadata": {
        "colab": {
          "base_uri": "https://localhost:8080/"
        },
        "id": "HQra1yBk8ai4",
        "outputId": "b87ea012-7f0a-4c13-df40-ece2eb55064f"
      },
      "outputs": [
        {
          "output_type": "stream",
          "name": "stdout",
          "text": [
            "Index(['const', 'SMOK_QTY', 'SMOK_STRT_AGE', 'SMOK_DTRN_YCNT', 'HORM_TRTM_YN',\n",
            "       'HORM_TRTM_DTRN_DCNT', 'HORM_TRTM_PRPS_CD', 'MENO_YN', 'MENO_AGE',\n",
            "       'UCLN_PRGN_YN', 'MENA_AGE'],\n",
            "      dtype='object')\n"
          ]
        }
      ],
      "source": [
        "print(X.columns)"
      ]
    },
    {
      "cell_type": "code",
      "execution_count": 18,
      "metadata": {
        "colab": {
          "base_uri": "https://localhost:8080/"
        },
        "id": "j0kiiVTY5egd",
        "outputId": "c175e0c7-47bb-4b15-9ab9-9f90c244e4bd"
      },
      "outputs": [
        {
          "output_type": "stream",
          "name": "stdout",
          "text": [
            "       const  SMOK_QTY  SMOK_STRT_AGE  SMOK_DTRN_YCNT  HORM_TRTM_YN  \\\n",
            "0        1.0      79.0           36.0             8.0           0.0   \n",
            "1        1.0      79.0           36.0             8.0           1.0   \n",
            "2        1.0      68.0           35.0            13.0           1.0   \n",
            "3        1.0       0.0            0.0             0.0           0.0   \n",
            "4        1.0       0.0            0.0             0.0           0.0   \n",
            "...      ...       ...            ...             ...           ...   \n",
            "23802    1.0       0.0            0.0             0.0           0.0   \n",
            "23803    1.0       0.0            0.0             0.0           0.0   \n",
            "23804    1.0       0.0            0.0             0.0           0.0   \n",
            "23805    1.0       0.0            0.0             0.0           0.0   \n",
            "23806    1.0       0.0            0.0             0.0           0.0   \n",
            "\n",
            "       HORM_TRTM_DTRN_DCNT  HORM_TRTM_PRPS_CD  MENO_YN  MENO_AGE  \\\n",
            "0                      0.0                0.0      1.0      12.0   \n",
            "1                     47.0               99.0      0.0       0.0   \n",
            "2                     91.0               99.0      0.0       0.0   \n",
            "3                      0.0                0.0      1.0      93.0   \n",
            "4                      0.0                0.0      0.0       0.0   \n",
            "...                    ...                ...      ...       ...   \n",
            "23802                  0.0                0.0      0.0       0.0   \n",
            "23803                  0.0                0.0      0.0       0.0   \n",
            "23804                  0.0                0.0      0.0       0.0   \n",
            "23805                  0.0                0.0      0.0       0.0   \n",
            "23806                  0.0                0.0      0.0       0.0   \n",
            "\n",
            "       UCLN_PRGN_YN  MENA_AGE  Risk_Percentile  \n",
            "0               0.0      13.0        50.616313  \n",
            "1               1.0       9.0        54.236814  \n",
            "2               0.0      10.0        53.362199  \n",
            "3               1.0      10.0        15.621564  \n",
            "4               0.0      11.0        -1.850397  \n",
            "...             ...       ...              ...  \n",
            "23802           0.5       9.6         0.183122  \n",
            "23803           0.5      14.4        -1.542577  \n",
            "23804           0.0      17.9        -4.331090  \n",
            "23805           0.5      16.3        -2.225667  \n",
            "23806           0.5      11.0        -0.320207  \n",
            "\n",
            "[23807 rows x 12 columns]\n"
          ]
        }
      ],
      "source": [
        "# 요인별 오즈비와 해당 요인의 사용자 입력 값을 곱하여 위험 점수 계산\n",
        "risk_scores_per_row_lr = X_scaled.dot(coefficients_series)\n",
        "\n",
        "# 최대 위험 점수\n",
        "max_risk_score_lr = risk_scores_per_row_lr.max()\n",
        "\n",
        "# 위험 점수를 100점 기준으로 변환하여 위험 백분위 계산\n",
        "risk_percentiles_lr = (risk_scores_per_row_lr / max_risk_score_lr) * 100\n",
        "\n",
        "# 데이터프레임에 위험 백분위 열 추가\n",
        "X_with_risk_percentiles_lr = X.copy()\n",
        "X_with_risk_percentiles_lr['Risk_Percentile'] = risk_percentiles_lr\n",
        "\n",
        "# 결과 출력\n",
        "print(X_with_risk_percentiles_lr)\n"
      ]
    },
    {
      "cell_type": "code",
      "execution_count": 19,
      "metadata": {
        "id": "0m9IeBafUP4z",
        "colab": {
          "base_uri": "https://localhost:8080/"
        },
        "outputId": "ef3badf8-29c9-4485-8c75-1b2d9d556320"
      },
      "outputs": [
        {
          "output_type": "stream",
          "name": "stderr",
          "text": [
            "<ipython-input-19-fa953bd22db4>:1: SettingWithCopyWarning: \n",
            "A value is trying to be set on a copy of a slice from a DataFrame.\n",
            "Try using .loc[row_indexer,col_indexer] = value instead\n",
            "\n",
            "See the caveats in the documentation: https://pandas.pydata.org/pandas-docs/stable/user_guide/indexing.html#returning-a-view-versus-a-copy\n",
            "  df['Risk_Percentile_lr'] = risk_percentiles_lr\n"
          ]
        }
      ],
      "source": [
        "\n",
        "df['Risk_Percentile_lr'] = risk_percentiles_lr"
      ]
    },
    {
      "cell_type": "code",
      "execution_count": 20,
      "metadata": {
        "colab": {
          "base_uri": "https://localhost:8080/",
          "height": 443
        },
        "id": "mqNm9MhzUvzN",
        "outputId": "e46cae95-27ca-4ea9-dec7-ec05df5966dd"
      },
      "outputs": [
        {
          "output_type": "execute_result",
          "data": {
            "text/plain": [
              "       SMOK_QTY  SMOK_STRT_AGE  SMOK_DTRN_YCNT  HORM_TRTM_YN  \\\n",
              "0          79.0           36.0             8.0           0.0   \n",
              "1          79.0           36.0             8.0           1.0   \n",
              "2          68.0           35.0            13.0           1.0   \n",
              "3           0.0            0.0             0.0           0.0   \n",
              "4           0.0            0.0             0.0           0.0   \n",
              "...         ...            ...             ...           ...   \n",
              "23802       0.0            0.0             0.0           0.0   \n",
              "23803       0.0            0.0             0.0           0.0   \n",
              "23804       0.0            0.0             0.0           0.0   \n",
              "23805       0.0            0.0             0.0           0.0   \n",
              "23806       0.0            0.0             0.0           0.0   \n",
              "\n",
              "       HORM_TRTM_DTRN_DCNT  HORM_TRTM_PRPS_CD  MENO_YN  MENO_AGE  \\\n",
              "0                      0.0                0.0      1.0      12.0   \n",
              "1                     47.0               99.0      0.0       0.0   \n",
              "2                     91.0               99.0      0.0       0.0   \n",
              "3                      0.0                0.0      1.0      93.0   \n",
              "4                      0.0                0.0      0.0       0.0   \n",
              "...                    ...                ...      ...       ...   \n",
              "23802                  0.0                0.0      0.0       0.0   \n",
              "23803                  0.0                0.0      0.0       0.0   \n",
              "23804                  0.0                0.0      0.0       0.0   \n",
              "23805                  0.0                0.0      0.0       0.0   \n",
              "23806                  0.0                0.0      0.0       0.0   \n",
              "\n",
              "       UCLN_PRGN_YN  MENA_AGE  target  Risk_Percentile_lr  \n",
              "0               0.0      13.0     1.0           50.616313  \n",
              "1               1.0       9.0     1.0           54.236814  \n",
              "2               0.0      10.0     1.0           53.362199  \n",
              "3               1.0      10.0     1.0           15.621564  \n",
              "4               0.0      11.0     1.0           -1.850397  \n",
              "...             ...       ...     ...                 ...  \n",
              "23802           0.5       9.6     0.0            0.183122  \n",
              "23803           0.5      14.4     0.0           -1.542577  \n",
              "23804           0.0      17.9     0.0           -4.331090  \n",
              "23805           0.5      16.3     0.0           -2.225667  \n",
              "23806           0.5      11.0     0.0           -0.320207  \n",
              "\n",
              "[23807 rows x 12 columns]"
            ],
            "text/html": [
              "\n",
              "  <div id=\"df-4d629728-1aea-4195-877b-ac793d8608b2\" class=\"colab-df-container\">\n",
              "    <div>\n",
              "<style scoped>\n",
              "    .dataframe tbody tr th:only-of-type {\n",
              "        vertical-align: middle;\n",
              "    }\n",
              "\n",
              "    .dataframe tbody tr th {\n",
              "        vertical-align: top;\n",
              "    }\n",
              "\n",
              "    .dataframe thead th {\n",
              "        text-align: right;\n",
              "    }\n",
              "</style>\n",
              "<table border=\"1\" class=\"dataframe\">\n",
              "  <thead>\n",
              "    <tr style=\"text-align: right;\">\n",
              "      <th></th>\n",
              "      <th>SMOK_QTY</th>\n",
              "      <th>SMOK_STRT_AGE</th>\n",
              "      <th>SMOK_DTRN_YCNT</th>\n",
              "      <th>HORM_TRTM_YN</th>\n",
              "      <th>HORM_TRTM_DTRN_DCNT</th>\n",
              "      <th>HORM_TRTM_PRPS_CD</th>\n",
              "      <th>MENO_YN</th>\n",
              "      <th>MENO_AGE</th>\n",
              "      <th>UCLN_PRGN_YN</th>\n",
              "      <th>MENA_AGE</th>\n",
              "      <th>target</th>\n",
              "      <th>Risk_Percentile_lr</th>\n",
              "    </tr>\n",
              "  </thead>\n",
              "  <tbody>\n",
              "    <tr>\n",
              "      <th>0</th>\n",
              "      <td>79.0</td>\n",
              "      <td>36.0</td>\n",
              "      <td>8.0</td>\n",
              "      <td>0.0</td>\n",
              "      <td>0.0</td>\n",
              "      <td>0.0</td>\n",
              "      <td>1.0</td>\n",
              "      <td>12.0</td>\n",
              "      <td>0.0</td>\n",
              "      <td>13.0</td>\n",
              "      <td>1.0</td>\n",
              "      <td>50.616313</td>\n",
              "    </tr>\n",
              "    <tr>\n",
              "      <th>1</th>\n",
              "      <td>79.0</td>\n",
              "      <td>36.0</td>\n",
              "      <td>8.0</td>\n",
              "      <td>1.0</td>\n",
              "      <td>47.0</td>\n",
              "      <td>99.0</td>\n",
              "      <td>0.0</td>\n",
              "      <td>0.0</td>\n",
              "      <td>1.0</td>\n",
              "      <td>9.0</td>\n",
              "      <td>1.0</td>\n",
              "      <td>54.236814</td>\n",
              "    </tr>\n",
              "    <tr>\n",
              "      <th>2</th>\n",
              "      <td>68.0</td>\n",
              "      <td>35.0</td>\n",
              "      <td>13.0</td>\n",
              "      <td>1.0</td>\n",
              "      <td>91.0</td>\n",
              "      <td>99.0</td>\n",
              "      <td>0.0</td>\n",
              "      <td>0.0</td>\n",
              "      <td>0.0</td>\n",
              "      <td>10.0</td>\n",
              "      <td>1.0</td>\n",
              "      <td>53.362199</td>\n",
              "    </tr>\n",
              "    <tr>\n",
              "      <th>3</th>\n",
              "      <td>0.0</td>\n",
              "      <td>0.0</td>\n",
              "      <td>0.0</td>\n",
              "      <td>0.0</td>\n",
              "      <td>0.0</td>\n",
              "      <td>0.0</td>\n",
              "      <td>1.0</td>\n",
              "      <td>93.0</td>\n",
              "      <td>1.0</td>\n",
              "      <td>10.0</td>\n",
              "      <td>1.0</td>\n",
              "      <td>15.621564</td>\n",
              "    </tr>\n",
              "    <tr>\n",
              "      <th>4</th>\n",
              "      <td>0.0</td>\n",
              "      <td>0.0</td>\n",
              "      <td>0.0</td>\n",
              "      <td>0.0</td>\n",
              "      <td>0.0</td>\n",
              "      <td>0.0</td>\n",
              "      <td>0.0</td>\n",
              "      <td>0.0</td>\n",
              "      <td>0.0</td>\n",
              "      <td>11.0</td>\n",
              "      <td>1.0</td>\n",
              "      <td>-1.850397</td>\n",
              "    </tr>\n",
              "    <tr>\n",
              "      <th>...</th>\n",
              "      <td>...</td>\n",
              "      <td>...</td>\n",
              "      <td>...</td>\n",
              "      <td>...</td>\n",
              "      <td>...</td>\n",
              "      <td>...</td>\n",
              "      <td>...</td>\n",
              "      <td>...</td>\n",
              "      <td>...</td>\n",
              "      <td>...</td>\n",
              "      <td>...</td>\n",
              "      <td>...</td>\n",
              "    </tr>\n",
              "    <tr>\n",
              "      <th>23802</th>\n",
              "      <td>0.0</td>\n",
              "      <td>0.0</td>\n",
              "      <td>0.0</td>\n",
              "      <td>0.0</td>\n",
              "      <td>0.0</td>\n",
              "      <td>0.0</td>\n",
              "      <td>0.0</td>\n",
              "      <td>0.0</td>\n",
              "      <td>0.5</td>\n",
              "      <td>9.6</td>\n",
              "      <td>0.0</td>\n",
              "      <td>0.183122</td>\n",
              "    </tr>\n",
              "    <tr>\n",
              "      <th>23803</th>\n",
              "      <td>0.0</td>\n",
              "      <td>0.0</td>\n",
              "      <td>0.0</td>\n",
              "      <td>0.0</td>\n",
              "      <td>0.0</td>\n",
              "      <td>0.0</td>\n",
              "      <td>0.0</td>\n",
              "      <td>0.0</td>\n",
              "      <td>0.5</td>\n",
              "      <td>14.4</td>\n",
              "      <td>0.0</td>\n",
              "      <td>-1.542577</td>\n",
              "    </tr>\n",
              "    <tr>\n",
              "      <th>23804</th>\n",
              "      <td>0.0</td>\n",
              "      <td>0.0</td>\n",
              "      <td>0.0</td>\n",
              "      <td>0.0</td>\n",
              "      <td>0.0</td>\n",
              "      <td>0.0</td>\n",
              "      <td>0.0</td>\n",
              "      <td>0.0</td>\n",
              "      <td>0.0</td>\n",
              "      <td>17.9</td>\n",
              "      <td>0.0</td>\n",
              "      <td>-4.331090</td>\n",
              "    </tr>\n",
              "    <tr>\n",
              "      <th>23805</th>\n",
              "      <td>0.0</td>\n",
              "      <td>0.0</td>\n",
              "      <td>0.0</td>\n",
              "      <td>0.0</td>\n",
              "      <td>0.0</td>\n",
              "      <td>0.0</td>\n",
              "      <td>0.0</td>\n",
              "      <td>0.0</td>\n",
              "      <td>0.5</td>\n",
              "      <td>16.3</td>\n",
              "      <td>0.0</td>\n",
              "      <td>-2.225667</td>\n",
              "    </tr>\n",
              "    <tr>\n",
              "      <th>23806</th>\n",
              "      <td>0.0</td>\n",
              "      <td>0.0</td>\n",
              "      <td>0.0</td>\n",
              "      <td>0.0</td>\n",
              "      <td>0.0</td>\n",
              "      <td>0.0</td>\n",
              "      <td>0.0</td>\n",
              "      <td>0.0</td>\n",
              "      <td>0.5</td>\n",
              "      <td>11.0</td>\n",
              "      <td>0.0</td>\n",
              "      <td>-0.320207</td>\n",
              "    </tr>\n",
              "  </tbody>\n",
              "</table>\n",
              "<p>23807 rows × 12 columns</p>\n",
              "</div>\n",
              "    <div class=\"colab-df-buttons\">\n",
              "\n",
              "  <div class=\"colab-df-container\">\n",
              "    <button class=\"colab-df-convert\" onclick=\"convertToInteractive('df-4d629728-1aea-4195-877b-ac793d8608b2')\"\n",
              "            title=\"Convert this dataframe to an interactive table.\"\n",
              "            style=\"display:none;\">\n",
              "\n",
              "  <svg xmlns=\"http://www.w3.org/2000/svg\" height=\"24px\" viewBox=\"0 -960 960 960\">\n",
              "    <path d=\"M120-120v-720h720v720H120Zm60-500h600v-160H180v160Zm220 220h160v-160H400v160Zm0 220h160v-160H400v160ZM180-400h160v-160H180v160Zm440 0h160v-160H620v160ZM180-180h160v-160H180v160Zm440 0h160v-160H620v160Z\"/>\n",
              "  </svg>\n",
              "    </button>\n",
              "\n",
              "  <style>\n",
              "    .colab-df-container {\n",
              "      display:flex;\n",
              "      gap: 12px;\n",
              "    }\n",
              "\n",
              "    .colab-df-convert {\n",
              "      background-color: #E8F0FE;\n",
              "      border: none;\n",
              "      border-radius: 50%;\n",
              "      cursor: pointer;\n",
              "      display: none;\n",
              "      fill: #1967D2;\n",
              "      height: 32px;\n",
              "      padding: 0 0 0 0;\n",
              "      width: 32px;\n",
              "    }\n",
              "\n",
              "    .colab-df-convert:hover {\n",
              "      background-color: #E2EBFA;\n",
              "      box-shadow: 0px 1px 2px rgba(60, 64, 67, 0.3), 0px 1px 3px 1px rgba(60, 64, 67, 0.15);\n",
              "      fill: #174EA6;\n",
              "    }\n",
              "\n",
              "    .colab-df-buttons div {\n",
              "      margin-bottom: 4px;\n",
              "    }\n",
              "\n",
              "    [theme=dark] .colab-df-convert {\n",
              "      background-color: #3B4455;\n",
              "      fill: #D2E3FC;\n",
              "    }\n",
              "\n",
              "    [theme=dark] .colab-df-convert:hover {\n",
              "      background-color: #434B5C;\n",
              "      box-shadow: 0px 1px 3px 1px rgba(0, 0, 0, 0.15);\n",
              "      filter: drop-shadow(0px 1px 2px rgba(0, 0, 0, 0.3));\n",
              "      fill: #FFFFFF;\n",
              "    }\n",
              "  </style>\n",
              "\n",
              "    <script>\n",
              "      const buttonEl =\n",
              "        document.querySelector('#df-4d629728-1aea-4195-877b-ac793d8608b2 button.colab-df-convert');\n",
              "      buttonEl.style.display =\n",
              "        google.colab.kernel.accessAllowed ? 'block' : 'none';\n",
              "\n",
              "      async function convertToInteractive(key) {\n",
              "        const element = document.querySelector('#df-4d629728-1aea-4195-877b-ac793d8608b2');\n",
              "        const dataTable =\n",
              "          await google.colab.kernel.invokeFunction('convertToInteractive',\n",
              "                                                    [key], {});\n",
              "        if (!dataTable) return;\n",
              "\n",
              "        const docLinkHtml = 'Like what you see? Visit the ' +\n",
              "          '<a target=\"_blank\" href=https://colab.research.google.com/notebooks/data_table.ipynb>data table notebook</a>'\n",
              "          + ' to learn more about interactive tables.';\n",
              "        element.innerHTML = '';\n",
              "        dataTable['output_type'] = 'display_data';\n",
              "        await google.colab.output.renderOutput(dataTable, element);\n",
              "        const docLink = document.createElement('div');\n",
              "        docLink.innerHTML = docLinkHtml;\n",
              "        element.appendChild(docLink);\n",
              "      }\n",
              "    </script>\n",
              "  </div>\n",
              "\n",
              "\n",
              "<div id=\"df-88693466-a7a3-4cac-bb68-61166c5d7777\">\n",
              "  <button class=\"colab-df-quickchart\" onclick=\"quickchart('df-88693466-a7a3-4cac-bb68-61166c5d7777')\"\n",
              "            title=\"Suggest charts\"\n",
              "            style=\"display:none;\">\n",
              "\n",
              "<svg xmlns=\"http://www.w3.org/2000/svg\" height=\"24px\"viewBox=\"0 0 24 24\"\n",
              "     width=\"24px\">\n",
              "    <g>\n",
              "        <path d=\"M19 3H5c-1.1 0-2 .9-2 2v14c0 1.1.9 2 2 2h14c1.1 0 2-.9 2-2V5c0-1.1-.9-2-2-2zM9 17H7v-7h2v7zm4 0h-2V7h2v10zm4 0h-2v-4h2v4z\"/>\n",
              "    </g>\n",
              "</svg>\n",
              "  </button>\n",
              "\n",
              "<style>\n",
              "  .colab-df-quickchart {\n",
              "      --bg-color: #E8F0FE;\n",
              "      --fill-color: #1967D2;\n",
              "      --hover-bg-color: #E2EBFA;\n",
              "      --hover-fill-color: #174EA6;\n",
              "      --disabled-fill-color: #AAA;\n",
              "      --disabled-bg-color: #DDD;\n",
              "  }\n",
              "\n",
              "  [theme=dark] .colab-df-quickchart {\n",
              "      --bg-color: #3B4455;\n",
              "      --fill-color: #D2E3FC;\n",
              "      --hover-bg-color: #434B5C;\n",
              "      --hover-fill-color: #FFFFFF;\n",
              "      --disabled-bg-color: #3B4455;\n",
              "      --disabled-fill-color: #666;\n",
              "  }\n",
              "\n",
              "  .colab-df-quickchart {\n",
              "    background-color: var(--bg-color);\n",
              "    border: none;\n",
              "    border-radius: 50%;\n",
              "    cursor: pointer;\n",
              "    display: none;\n",
              "    fill: var(--fill-color);\n",
              "    height: 32px;\n",
              "    padding: 0;\n",
              "    width: 32px;\n",
              "  }\n",
              "\n",
              "  .colab-df-quickchart:hover {\n",
              "    background-color: var(--hover-bg-color);\n",
              "    box-shadow: 0 1px 2px rgba(60, 64, 67, 0.3), 0 1px 3px 1px rgba(60, 64, 67, 0.15);\n",
              "    fill: var(--button-hover-fill-color);\n",
              "  }\n",
              "\n",
              "  .colab-df-quickchart-complete:disabled,\n",
              "  .colab-df-quickchart-complete:disabled:hover {\n",
              "    background-color: var(--disabled-bg-color);\n",
              "    fill: var(--disabled-fill-color);\n",
              "    box-shadow: none;\n",
              "  }\n",
              "\n",
              "  .colab-df-spinner {\n",
              "    border: 2px solid var(--fill-color);\n",
              "    border-color: transparent;\n",
              "    border-bottom-color: var(--fill-color);\n",
              "    animation:\n",
              "      spin 1s steps(1) infinite;\n",
              "  }\n",
              "\n",
              "  @keyframes spin {\n",
              "    0% {\n",
              "      border-color: transparent;\n",
              "      border-bottom-color: var(--fill-color);\n",
              "      border-left-color: var(--fill-color);\n",
              "    }\n",
              "    20% {\n",
              "      border-color: transparent;\n",
              "      border-left-color: var(--fill-color);\n",
              "      border-top-color: var(--fill-color);\n",
              "    }\n",
              "    30% {\n",
              "      border-color: transparent;\n",
              "      border-left-color: var(--fill-color);\n",
              "      border-top-color: var(--fill-color);\n",
              "      border-right-color: var(--fill-color);\n",
              "    }\n",
              "    40% {\n",
              "      border-color: transparent;\n",
              "      border-right-color: var(--fill-color);\n",
              "      border-top-color: var(--fill-color);\n",
              "    }\n",
              "    60% {\n",
              "      border-color: transparent;\n",
              "      border-right-color: var(--fill-color);\n",
              "    }\n",
              "    80% {\n",
              "      border-color: transparent;\n",
              "      border-right-color: var(--fill-color);\n",
              "      border-bottom-color: var(--fill-color);\n",
              "    }\n",
              "    90% {\n",
              "      border-color: transparent;\n",
              "      border-bottom-color: var(--fill-color);\n",
              "    }\n",
              "  }\n",
              "</style>\n",
              "\n",
              "  <script>\n",
              "    async function quickchart(key) {\n",
              "      const quickchartButtonEl =\n",
              "        document.querySelector('#' + key + ' button');\n",
              "      quickchartButtonEl.disabled = true;  // To prevent multiple clicks.\n",
              "      quickchartButtonEl.classList.add('colab-df-spinner');\n",
              "      try {\n",
              "        const charts = await google.colab.kernel.invokeFunction(\n",
              "            'suggestCharts', [key], {});\n",
              "      } catch (error) {\n",
              "        console.error('Error during call to suggestCharts:', error);\n",
              "      }\n",
              "      quickchartButtonEl.classList.remove('colab-df-spinner');\n",
              "      quickchartButtonEl.classList.add('colab-df-quickchart-complete');\n",
              "    }\n",
              "    (() => {\n",
              "      let quickchartButtonEl =\n",
              "        document.querySelector('#df-88693466-a7a3-4cac-bb68-61166c5d7777 button');\n",
              "      quickchartButtonEl.style.display =\n",
              "        google.colab.kernel.accessAllowed ? 'block' : 'none';\n",
              "    })();\n",
              "  </script>\n",
              "</div>\n",
              "    </div>\n",
              "  </div>\n"
            ],
            "application/vnd.google.colaboratory.intrinsic+json": {
              "type": "dataframe",
              "variable_name": "df",
              "summary": "{\n  \"name\": \"df\",\n  \"rows\": 23807,\n  \"fields\": [\n    {\n      \"column\": \"SMOK_QTY\",\n      \"properties\": {\n        \"dtype\": \"number\",\n        \"std\": 30.0191967000148,\n        \"min\": 0.0,\n        \"max\": 100.0,\n        \"num_unique_values\": 101,\n        \"samples\": [\n          71.0,\n          87.0,\n          43.0\n        ],\n        \"semantic_type\": \"\",\n        \"description\": \"\"\n      }\n    },\n    {\n      \"column\": \"SMOK_STRT_AGE\",\n      \"properties\": {\n        \"dtype\": \"number\",\n        \"std\": 30.80513900046091,\n        \"min\": 0.0,\n        \"max\": 100.0,\n        \"num_unique_values\": 101,\n        \"samples\": [\n          6.0,\n          1.0,\n          16.0\n        ],\n        \"semantic_type\": \"\",\n        \"description\": \"\"\n      }\n    },\n    {\n      \"column\": \"SMOK_DTRN_YCNT\",\n      \"properties\": {\n        \"dtype\": \"number\",\n        \"std\": 6.2285611632432545,\n        \"min\": 0.0,\n        \"max\": 20.0,\n        \"num_unique_values\": 21,\n        \"samples\": [\n          8.0,\n          18.0,\n          12.0\n        ],\n        \"semantic_type\": \"\",\n        \"description\": \"\"\n      }\n    },\n    {\n      \"column\": \"HORM_TRTM_YN\",\n      \"properties\": {\n        \"dtype\": \"number\",\n        \"std\": 0.4501337723279497,\n        \"min\": 0.0,\n        \"max\": 1.0,\n        \"num_unique_values\": 2,\n        \"samples\": [\n          1.0,\n          0.0\n        ],\n        \"semantic_type\": \"\",\n        \"description\": \"\"\n      }\n    },\n    {\n      \"column\": \"HORM_TRTM_DTRN_DCNT\",\n      \"properties\": {\n        \"dtype\": \"number\",\n        \"std\": 27.268853163249233,\n        \"min\": 0.0,\n        \"max\": 100.0,\n        \"num_unique_values\": 101,\n        \"samples\": [\n          32.0,\n          76.0\n        ],\n        \"semantic_type\": \"\",\n        \"description\": \"\"\n      }\n    },\n    {\n      \"column\": \"HORM_TRTM_PRPS_CD\",\n      \"properties\": {\n        \"dtype\": \"number\",\n        \"std\": 18.232709171571855,\n        \"min\": 0.0,\n        \"max\": 99.0,\n        \"num_unique_values\": 10,\n        \"samples\": [\n          3.0,\n          99.0\n        ],\n        \"semantic_type\": \"\",\n        \"description\": \"\"\n      }\n    },\n    {\n      \"column\": \"MENO_YN\",\n      \"properties\": {\n        \"dtype\": \"number\",\n        \"std\": 0.44789061447806383,\n        \"min\": 0.0,\n        \"max\": 1.0,\n        \"num_unique_values\": 2,\n        \"samples\": [\n          0.0,\n          1.0\n        ],\n        \"semantic_type\": \"\",\n        \"description\": \"\"\n      }\n    },\n    {\n      \"column\": \"MENO_AGE\",\n      \"properties\": {\n        \"dtype\": \"number\",\n        \"std\": 27.464608001559835,\n        \"min\": 0.0,\n        \"max\": 100.0,\n        \"num_unique_values\": 101,\n        \"samples\": [\n          18.0,\n          79.0\n        ],\n        \"semantic_type\": \"\",\n        \"description\": \"\"\n      }\n    },\n    {\n      \"column\": \"UCLN_PRGN_YN\",\n      \"properties\": {\n        \"dtype\": \"number\",\n        \"std\": 0.44392419975593705,\n        \"min\": 0.0,\n        \"max\": 1.0,\n        \"num_unique_values\": 3,\n        \"samples\": [\n          0.0,\n          1.0\n        ],\n        \"semantic_type\": \"\",\n        \"description\": \"\"\n      }\n    },\n    {\n      \"column\": \"MENA_AGE\",\n      \"properties\": {\n        \"dtype\": \"number\",\n        \"std\": 2.88551411731842,\n        \"min\": 1.0,\n        \"max\": 18.0,\n        \"num_unique_values\": 99,\n        \"samples\": [\n          17.5,\n          13.9\n        ],\n        \"semantic_type\": \"\",\n        \"description\": \"\"\n      }\n    },\n    {\n      \"column\": \"target\",\n      \"properties\": {\n        \"dtype\": \"number\",\n        \"std\": 0.49942375118147825,\n        \"min\": 0.0,\n        \"max\": 1.0,\n        \"num_unique_values\": 2,\n        \"samples\": [\n          0.0,\n          1.0\n        ],\n        \"semantic_type\": \"\",\n        \"description\": \"\"\n      }\n    },\n    {\n      \"column\": \"Risk_Percentile_lr\",\n      \"properties\": {\n        \"dtype\": \"number\",\n        \"std\": 28.24853367713504,\n        \"min\": -4.367041701875847,\n        \"max\": 100.0,\n        \"num_unique_values\": 9677,\n        \"samples\": [\n          12.218884543660502,\n          51.365173511914584\n        ],\n        \"semantic_type\": \"\",\n        \"description\": \"\"\n      }\n    }\n  ]\n}"
            }
          },
          "metadata": {},
          "execution_count": 20
        }
      ],
      "source": [
        "df"
      ]
    },
    {
      "cell_type": "code",
      "execution_count": 21,
      "metadata": {
        "colab": {
          "base_uri": "https://localhost:8080/"
        },
        "id": "FylVffN6_SHm",
        "outputId": "1f1e29ab-4d7c-404f-de62-3a92610feadb"
      },
      "outputs": [
        {
          "output_type": "stream",
          "name": "stdout",
          "text": [
            "Max Risk Score 환자군 lr: 100.0\n",
            "Min Risk Score 환자군 lr: -2.5694384110240973\n"
          ]
        }
      ],
      "source": [
        "# 'target'이 1인 데이터 필터링\n",
        "target_1_df = df[df['target'] == 1]\n",
        "\n",
        "# 'Risk_score'의 최대값과 최저값 계산\n",
        "max_risk_score_diag_yn_1_lr = target_1_df['Risk_Percentile_lr'].max()\n",
        "min_risk_score_diag_yn_1_lr = target_1_df['Risk_Percentile_lr'].min()\n",
        "\n",
        "print(f\"Max Risk Score 환자군 lr: {max_risk_score_diag_yn_1_lr}\")\n",
        "print(f\"Min Risk Score 환자군 lr: {min_risk_score_diag_yn_1_lr}\")\n"
      ]
    },
    {
      "cell_type": "code",
      "execution_count": 22,
      "metadata": {
        "id": "xaInk63ZRtCo"
      },
      "outputs": [],
      "source": [
        "\n",
        "# # CSV 파일로 저장\n",
        "# df.to_csv('/content/drive/MyDrive/캡디/df_Risk_score_included_0530_변수들추출후.csv', index=False)"
      ]
    },
    {
      "cell_type": "markdown",
      "source": [
        "##random forest"
      ],
      "metadata": {
        "id": "fz4cou123DM4"
      }
    },
    {
      "cell_type": "code",
      "source": [
        "import pandas as pd\n",
        "import numpy as np\n",
        "from sklearn.impute import SimpleImputer\n",
        "from sklearn.ensemble import RandomForestClassifier\n",
        "from sklearn.preprocessing import StandardScaler\n",
        "from sklearn.metrics import accuracy_score, confusion_matrix, classification_report\n",
        "from sklearn.model_selection import train_test_split\n",
        "from statsmodels.stats.outliers_influence import variance_inflation_factor\n"
      ],
      "metadata": {
        "id": "UM-3jXiS3nb5"
      },
      "execution_count": 23,
      "outputs": []
    },
    {
      "cell_type": "markdown",
      "source": [
        "###모델학습"
      ],
      "metadata": {
        "id": "96LIlYbHEzNu"
      }
    },
    {
      "cell_type": "code",
      "source": [
        "# 결측치 처리\n",
        "imputer = SimpleImputer(strategy='mean')\n",
        "X_imputed = imputer.fit_transform(X)\n",
        "\n",
        "# VIF 계산을 위한 상수 추가\n",
        "X_const = sm.add_constant(X_imputed)\n",
        "\n",
        "# VIF 계산\n",
        "vif = pd.DataFrame()\n",
        "vif[\"VIF Factor\"] = [variance_inflation_factor(X_const, i) for i in range(X_const.shape[1])]\n",
        "vif[\"features\"] = X.columns\n",
        "print(vif)\n",
        "\n",
        "# 데이터 스케일링\n",
        "scaler = StandardScaler()\n",
        "X_scaled = scaler.fit_transform(X_imputed)\n",
        "\n",
        "# 학습 데이터와 테스트 데이터 분할\n",
        "X_train, X_test, y_train, y_test = train_test_split(X_scaled, y, test_size=0.2, random_state=42)\n",
        "\n",
        "# Random Forest 모델 적합\n",
        "rf = RandomForestClassifier(n_estimators=100, random_state=42)\n",
        "rf.fit(X_train, y_train)\n",
        "\n",
        "# 예측\n",
        "y_pred_rf = rf.predict(X_test)\n",
        "\n",
        "# 결과 출력\n",
        "print(f'Random Forest 정확도: {accuracy_score(y_test, y_pred_rf)}')\n",
        "print(f'혼동 행렬:\\n{confusion_matrix(y_test, y_pred_rf)}')\n",
        "print(f'분류 보고서:\\n{classification_report(y_test, y_pred_rf)}')\n",
        "\n",
        "# 변수 중요도 출력\n",
        "feature_importances = rf.feature_importances_\n",
        "features = X.columns\n",
        "\n",
        "importance_df = pd.DataFrame({\n",
        "    'Feature': features,\n",
        "    'Importance': feature_importances\n",
        "})\n",
        "\n",
        "importance_df = importance_df.sort_values(by='Importance', ascending=False)\n",
        "print(\"변수 중요도:\")\n",
        "print(importance_df)"
      ],
      "metadata": {
        "colab": {
          "base_uri": "https://localhost:8080/"
        },
        "id": "VnFKtaWQ3HWF",
        "outputId": "47586564-8964-4667-b254-28d8c43363b1"
      },
      "execution_count": 24,
      "outputs": [
        {
          "output_type": "stream",
          "name": "stdout",
          "text": [
            "    VIF Factor             features\n",
            "0    29.157831                const\n",
            "1     1.996379             SMOK_QTY\n",
            "2     2.068262        SMOK_STRT_AGE\n",
            "3     2.254562       SMOK_DTRN_YCNT\n",
            "4     3.732207         HORM_TRTM_YN\n",
            "5     3.155356  HORM_TRTM_DTRN_DCNT\n",
            "6     1.198903    HORM_TRTM_PRPS_CD\n",
            "7     3.595955              MENO_YN\n",
            "8     3.234848             MENO_AGE\n",
            "9     1.316473         UCLN_PRGN_YN\n",
            "10    1.325301             MENA_AGE\n",
            "Random Forest 정확도: 0.9928601427971441\n",
            "혼동 행렬:\n",
            "[[2237    6]\n",
            " [  28 2491]]\n",
            "분류 보고서:\n",
            "              precision    recall  f1-score   support\n",
            "\n",
            "         0.0       0.99      1.00      0.99      2243\n",
            "         1.0       1.00      0.99      0.99      2519\n",
            "\n",
            "    accuracy                           0.99      4762\n",
            "   macro avg       0.99      0.99      0.99      4762\n",
            "weighted avg       0.99      0.99      0.99      4762\n",
            "\n",
            "변수 중요도:\n",
            "                Feature  Importance\n",
            "3        SMOK_DTRN_YCNT    0.205823\n",
            "2         SMOK_STRT_AGE    0.177794\n",
            "1              SMOK_QTY    0.162952\n",
            "10             MENA_AGE    0.092219\n",
            "7               MENO_YN    0.083014\n",
            "8              MENO_AGE    0.061812\n",
            "9          UCLN_PRGN_YN    0.061107\n",
            "6     HORM_TRTM_PRPS_CD    0.053311\n",
            "4          HORM_TRTM_YN    0.051610\n",
            "5   HORM_TRTM_DTRN_DCNT    0.050358\n",
            "0                 const    0.000000\n"
          ]
        }
      ]
    },
    {
      "cell_type": "markdown",
      "source": [
        "###점수구하기"
      ],
      "metadata": {
        "id": "PLU6JqQI9WnM"
      }
    },
    {
      "cell_type": "code",
      "source": [
        "# 각 행에 대한 위험 점수 계산\n",
        "# 클래스 1의 예측 확률을 위험 점수로 사용합니다.\n",
        "risk_scores_rf = rf.predict_proba(X_scaled)[:, 1]\n",
        "\n",
        "# 'target'이 1인 행들 필터링\n",
        "high_risk_patients_rf = risk_scores_rf[y == 1]\n",
        "\n",
        "# 'high_risk_patients'를 pandas Series로 변환\n",
        "high_risk_patients_series_rf = pd.Series(high_risk_patients_rf)\n",
        "\n",
        "# 최대 위험 점수를 갖는 행 찾기\n",
        "max_risk_index_diag_rf_1 = high_risk_patients_series_rf.idxmax()\n",
        "max_risk_row_diag_rf_1 = X.loc[max_risk_index_diag_rf_1]\n",
        "\n",
        "# 최대 위험 점수를 갖는 행의 위험 점수\n",
        "max_risk_score_diag_rf_1 = high_risk_patients_series_rf.loc[max_risk_index_diag_rf_1]\n",
        "print(\"DIAG_YN=1인 행들 중 최대 위험 점수를 갖는 행의 점수:\", max_risk_score_diag_rf_1)\n",
        "print(\"DIAG_YN=1인 행들 중 최대 위험 점수를 갖는 행:\", max_risk_row_diag_rf_1)\n"
      ],
      "metadata": {
        "colab": {
          "base_uri": "https://localhost:8080/"
        },
        "id": "outhxyfS9YZT",
        "outputId": "f254b394-3280-4ea4-8118-a8e0872d94b3"
      },
      "execution_count": 25,
      "outputs": [
        {
          "output_type": "stream",
          "name": "stdout",
          "text": [
            "DIAG_YN=1인 행들 중 최대 위험 점수를 갖는 행의 점수: 1.0\n",
            "DIAG_YN=1인 행들 중 최대 위험 점수를 갖는 행: const                   1.0\n",
            "SMOK_QTY               79.0\n",
            "SMOK_STRT_AGE          36.0\n",
            "SMOK_DTRN_YCNT          8.0\n",
            "HORM_TRTM_YN            0.0\n",
            "HORM_TRTM_DTRN_DCNT     0.0\n",
            "HORM_TRTM_PRPS_CD       0.0\n",
            "MENO_YN                 1.0\n",
            "MENO_AGE               12.0\n",
            "UCLN_PRGN_YN            0.0\n",
            "MENA_AGE               13.0\n",
            "Name: 0, dtype: float64\n"
          ]
        }
      ]
    },
    {
      "cell_type": "code",
      "source": [
        "# 최소 위험 점수를 갖는 행 찾기\n",
        "min_risk_index_diag_rf_1 = high_risk_patients_series_rf.idxmin()\n",
        "min_risk_row_diag_rf_1 = X.loc[min_risk_index_diag_rf_1]\n",
        "\n",
        "# 최소 위험 점수를 갖는 행의 위험 점수\n",
        "min_risk_score_diag_rf_1 = high_risk_patients_series_rf.loc[min_risk_index_diag_rf_1]\n",
        "print(\"DIAG_YN=1인 행들 중 최소 위험 점수를 갖는 행의 점수:\", min_risk_score_diag_rf_1)\n",
        "print(\"DIAG_YN=1인 행들 중 최소 위험 점수를 갖는 행:\", min_risk_row_diag_rf_1)\n"
      ],
      "metadata": {
        "colab": {
          "base_uri": "https://localhost:8080/"
        },
        "id": "n4v87mr_Aiyd",
        "outputId": "aee26d16-aa7a-4316-c6c6-dd98bd934ae3"
      },
      "execution_count": 26,
      "outputs": [
        {
          "output_type": "stream",
          "name": "stdout",
          "text": [
            "DIAG_YN=1인 행들 중 최소 위험 점수를 갖는 행의 점수: 0.05\n",
            "DIAG_YN=1인 행들 중 최소 위험 점수를 갖는 행: const                   1.0\n",
            "SMOK_QTY                0.0\n",
            "SMOK_STRT_AGE           0.0\n",
            "SMOK_DTRN_YCNT          0.0\n",
            "HORM_TRTM_YN            0.0\n",
            "HORM_TRTM_DTRN_DCNT     0.0\n",
            "HORM_TRTM_PRPS_CD       0.0\n",
            "MENO_YN                 0.0\n",
            "MENO_AGE                0.0\n",
            "UCLN_PRGN_YN            1.0\n",
            "MENA_AGE               14.0\n",
            "Name: 10290, dtype: float64\n"
          ]
        }
      ]
    },
    {
      "cell_type": "markdown",
      "source": [
        "###위험확률"
      ],
      "metadata": {
        "id": "akzYeiPwBKv7"
      }
    },
    {
      "cell_type": "code",
      "source": [
        "# 각 행에 대한 위험 점수 계산\n",
        "risk_scores_per_row_rf = rf.predict_proba(X_scaled)[:, 1]\n",
        "\n",
        "# 최대 위험 점수\n",
        "max_risk_score_rf = risk_scores_per_row_rf.max()\n",
        "\n",
        "# 위험 점수를 100점 기준으로 변환하여 위험 백분위 계산\n",
        "risk_percentiles_rf = (risk_scores_per_row_rf / max_risk_score_rf) * 100\n",
        "\n",
        "# 데이터프레임에 위험 백분위 열 추가\n",
        "X_with_risk_percentiles_rf = X.copy()\n",
        "X_with_risk_percentiles_rf['Risk_Percentile'] = risk_percentiles_rf\n",
        "\n",
        "# 결과 출력\n",
        "print(X_with_risk_percentiles_rf)\n"
      ],
      "metadata": {
        "colab": {
          "base_uri": "https://localhost:8080/"
        },
        "id": "hfvCX1bnBNLC",
        "outputId": "3e4acfaf-2895-4ced-cc44-e32d2adea7d6"
      },
      "execution_count": 27,
      "outputs": [
        {
          "output_type": "stream",
          "name": "stdout",
          "text": [
            "       const  SMOK_QTY  SMOK_STRT_AGE  SMOK_DTRN_YCNT  HORM_TRTM_YN  \\\n",
            "0        1.0      79.0           36.0             8.0           0.0   \n",
            "1        1.0      79.0           36.0             8.0           1.0   \n",
            "2        1.0      68.0           35.0            13.0           1.0   \n",
            "3        1.0       0.0            0.0             0.0           0.0   \n",
            "4        1.0       0.0            0.0             0.0           0.0   \n",
            "...      ...       ...            ...             ...           ...   \n",
            "23802    1.0       0.0            0.0             0.0           0.0   \n",
            "23803    1.0       0.0            0.0             0.0           0.0   \n",
            "23804    1.0       0.0            0.0             0.0           0.0   \n",
            "23805    1.0       0.0            0.0             0.0           0.0   \n",
            "23806    1.0       0.0            0.0             0.0           0.0   \n",
            "\n",
            "       HORM_TRTM_DTRN_DCNT  HORM_TRTM_PRPS_CD  MENO_YN  MENO_AGE  \\\n",
            "0                      0.0                0.0      1.0      12.0   \n",
            "1                     47.0               99.0      0.0       0.0   \n",
            "2                     91.0               99.0      0.0       0.0   \n",
            "3                      0.0                0.0      1.0      93.0   \n",
            "4                      0.0                0.0      0.0       0.0   \n",
            "...                    ...                ...      ...       ...   \n",
            "23802                  0.0                0.0      0.0       0.0   \n",
            "23803                  0.0                0.0      0.0       0.0   \n",
            "23804                  0.0                0.0      0.0       0.0   \n",
            "23805                  0.0                0.0      0.0       0.0   \n",
            "23806                  0.0                0.0      0.0       0.0   \n",
            "\n",
            "       UCLN_PRGN_YN  MENA_AGE  Risk_Percentile  \n",
            "0               0.0      13.0       100.000000  \n",
            "1               1.0       9.0       100.000000  \n",
            "2               0.0      10.0       100.000000  \n",
            "3               1.0      10.0       100.000000  \n",
            "4               0.0      11.0        39.519647  \n",
            "...             ...       ...              ...  \n",
            "23802           0.5       9.6         0.000000  \n",
            "23803           0.5      14.4         0.000000  \n",
            "23804           0.0      17.9         0.000000  \n",
            "23805           0.5      16.3         0.000000  \n",
            "23806           0.5      11.0         0.392000  \n",
            "\n",
            "[23807 rows x 12 columns]\n"
          ]
        }
      ]
    },
    {
      "cell_type": "code",
      "source": [
        "\n",
        "df['Risk_Percentile_rf'] = risk_percentiles_rf"
      ],
      "metadata": {
        "colab": {
          "base_uri": "https://localhost:8080/"
        },
        "id": "EBl5kW3jBW88",
        "outputId": "cad5b69f-b394-4c70-9494-485bedfbe152"
      },
      "execution_count": 28,
      "outputs": [
        {
          "output_type": "stream",
          "name": "stderr",
          "text": [
            "<ipython-input-28-cefa4b9237de>:1: SettingWithCopyWarning: \n",
            "A value is trying to be set on a copy of a slice from a DataFrame.\n",
            "Try using .loc[row_indexer,col_indexer] = value instead\n",
            "\n",
            "See the caveats in the documentation: https://pandas.pydata.org/pandas-docs/stable/user_guide/indexing.html#returning-a-view-versus-a-copy\n",
            "  df['Risk_Percentile_rf'] = risk_percentiles_rf\n"
          ]
        }
      ]
    },
    {
      "cell_type": "code",
      "source": [
        "# 'target'이 1인 데이터 필터링\n",
        "target_1_df = df[df['target'] == 1]\n",
        "\n",
        "# 'Risk_score'의 최대값과 최저값 계산\n",
        "max_risk_score_diag_yn_1_rf = target_1_df['Risk_Percentile_rf'].max()\n",
        "min_risk_score_diag_yn_1_rf = target_1_df['Risk_Percentile_rf'].min()\n",
        "\n",
        "print(f\"Max Risk Score 환자군: {max_risk_score_diag_yn_1_rf}\")\n",
        "print(f\"Min Risk Score 환자군: {min_risk_score_diag_yn_1_rf}\")\n"
      ],
      "metadata": {
        "colab": {
          "base_uri": "https://localhost:8080/"
        },
        "id": "YOjAo0THBahb",
        "outputId": "dc39bbe2-15fb-496b-b461-0df9a16dde21"
      },
      "execution_count": 29,
      "outputs": [
        {
          "output_type": "stream",
          "name": "stdout",
          "text": [
            "Max Risk Score 환자군: 100.0\n",
            "Min Risk Score 환자군: 5.0\n"
          ]
        }
      ]
    },
    {
      "cell_type": "markdown",
      "source": [
        "##ANN"
      ],
      "metadata": {
        "id": "CL-4IwJVCbdT"
      }
    },
    {
      "cell_type": "code",
      "source": [
        "import pandas as pd\n",
        "import numpy as np\n",
        "\n",
        "from sklearn.impute import SimpleImputer\n",
        "from sklearn.preprocessing import StandardScaler\n",
        "from sklearn.model_selection import train_test_split\n",
        "from sklearn.metrics import accuracy_score\n",
        "\n",
        "import tensorflow as tf\n",
        "from tensorflow.keras.models import Sequential\n",
        "from tensorflow.keras.layers import Dense, Dropout\n"
      ],
      "metadata": {
        "id": "hVdYPKTHCdp-"
      },
      "execution_count": 30,
      "outputs": []
    },
    {
      "cell_type": "markdown",
      "source": [
        "###모델학습"
      ],
      "metadata": {
        "id": "Cjwe6r5fErpK"
      }
    },
    {
      "cell_type": "code",
      "source": [
        "\n",
        "# 데이터 스케일링\n",
        "scaler = StandardScaler()\n",
        "X_scaled = scaler.fit_transform(X)\n",
        "\n",
        "# 학습 데이터와 테스트 데이터로 분할\n",
        "X_train, X_test, y_train, y_test = train_test_split(X_scaled, y, test_size=0.2, random_state=42)\n",
        "\n",
        "# ANN 모델 정의\n",
        "model = Sequential()\n",
        "model.add(Dense(64, input_dim=X_train.shape[1], activation='relu'))\n",
        "model.add(Dropout(0.5))\n",
        "model.add(Dense(32, activation='relu'))\n",
        "model.add(Dropout(0.5))\n",
        "model.add(Dense(1, activation='sigmoid'))\n",
        "\n",
        "# 모델 컴파일\n",
        "model.compile(optimizer='adam', loss='binary_crossentropy', metrics=['accuracy'])\n",
        "\n",
        "# 모델 학습\n",
        "history = model.fit(X_train, y_train, epochs=10, batch_size=10, validation_data=(X_test, y_test))\n",
        "\n",
        "# 모델 평가\n",
        "y_pred_ann = (model.predict(X_test) > 0.5).astype(\"int32\")\n",
        "accuracy_ann = accuracy_score(y_test, y_pred_ann)\n",
        "\n",
        "print(f'Test Accuracy ann: {accuracy_ann}')\n",
        "\n",
        "# 모델 요약 출력\n",
        "model.summary()\n",
        "\n",
        "# 가중치 확인\n",
        "weights = model.get_weights()\n",
        "\n",
        "for layer_num, layer_weights in enumerate(weights):\n",
        "    print(f\"Layer {layer_num + 1} weights shape: {layer_weights.shape}\")\n",
        "    print(layer_weights)"
      ],
      "metadata": {
        "colab": {
          "base_uri": "https://localhost:8080/"
        },
        "id": "DBfdMXzUCgjN",
        "outputId": "70206f9b-b084-46e8-eb09-79263acaeb80"
      },
      "execution_count": 31,
      "outputs": [
        {
          "output_type": "stream",
          "name": "stdout",
          "text": [
            "Epoch 1/10\n",
            "1905/1905 [==============================] - 6s 3ms/step - loss: 0.1069 - accuracy: 0.9701 - val_loss: 0.0412 - val_accuracy: 0.9891\n",
            "Epoch 2/10\n",
            "1905/1905 [==============================] - 5s 2ms/step - loss: 0.0605 - accuracy: 0.9863 - val_loss: 0.0383 - val_accuracy: 0.9920\n",
            "Epoch 3/10\n",
            "1905/1905 [==============================] - 7s 4ms/step - loss: 0.0564 - accuracy: 0.9875 - val_loss: 0.0350 - val_accuracy: 0.9918\n",
            "Epoch 4/10\n",
            "1905/1905 [==============================] - 11s 6ms/step - loss: 0.0547 - accuracy: 0.9874 - val_loss: 0.0343 - val_accuracy: 0.9920\n",
            "Epoch 5/10\n",
            "1905/1905 [==============================] - 10s 5ms/step - loss: 0.0517 - accuracy: 0.9879 - val_loss: 0.0336 - val_accuracy: 0.9922\n",
            "Epoch 6/10\n",
            "1905/1905 [==============================] - 8s 4ms/step - loss: 0.0516 - accuracy: 0.9879 - val_loss: 0.0339 - val_accuracy: 0.9920\n",
            "Epoch 7/10\n",
            "1905/1905 [==============================] - 6s 3ms/step - loss: 0.0502 - accuracy: 0.9880 - val_loss: 0.0372 - val_accuracy: 0.9927\n",
            "Epoch 8/10\n",
            "1905/1905 [==============================] - 5s 2ms/step - loss: 0.0490 - accuracy: 0.9882 - val_loss: 0.0341 - val_accuracy: 0.9922\n",
            "Epoch 9/10\n",
            "1905/1905 [==============================] - 4s 2ms/step - loss: 0.0484 - accuracy: 0.9883 - val_loss: 0.0335 - val_accuracy: 0.9920\n",
            "Epoch 10/10\n",
            "1905/1905 [==============================] - 6s 3ms/step - loss: 0.0476 - accuracy: 0.9881 - val_loss: 0.0332 - val_accuracy: 0.9922\n",
            "149/149 [==============================] - 0s 1ms/step\n",
            "Test Accuracy ann: 0.9922301553968921\n",
            "Model: \"sequential\"\n",
            "_________________________________________________________________\n",
            " Layer (type)                Output Shape              Param #   \n",
            "=================================================================\n",
            " dense (Dense)               (None, 64)                768       \n",
            "                                                                 \n",
            " dropout (Dropout)           (None, 64)                0         \n",
            "                                                                 \n",
            " dense_1 (Dense)             (None, 32)                2080      \n",
            "                                                                 \n",
            " dropout_1 (Dropout)         (None, 32)                0         \n",
            "                                                                 \n",
            " dense_2 (Dense)             (None, 1)                 33        \n",
            "                                                                 \n",
            "=================================================================\n",
            "Total params: 2881 (11.25 KB)\n",
            "Trainable params: 2881 (11.25 KB)\n",
            "Non-trainable params: 0 (0.00 Byte)\n",
            "_________________________________________________________________\n",
            "Layer 1 weights shape: (11, 64)\n",
            "[[ 1.52499497e-01 -2.49036774e-01 -2.15970576e-01  5.87266088e-02\n",
            "  -1.42518327e-01  1.46736234e-01  5.60102761e-02  1.72359854e-01\n",
            "  -1.95974112e-02 -2.56578982e-01  5.80602884e-02 -2.50963986e-01\n",
            "   1.83265507e-01  2.17844754e-01 -2.32595518e-01 -1.73710033e-01\n",
            "   1.16527736e-01  2.22070724e-01  2.75196224e-01  1.35763913e-01\n",
            "  -1.16764978e-01  1.92662209e-01  1.64206207e-01 -7.93041140e-02\n",
            "   2.66702920e-01  1.10811561e-01 -1.36129275e-01 -1.41104490e-01\n",
            "   2.29482651e-02  2.68290728e-01 -2.82720476e-01 -8.12086910e-02\n",
            "   1.93938971e-01 -5.79191446e-02  1.40326083e-01 -2.16430426e-02\n",
            "  -1.69139802e-02  2.39150852e-01 -2.34264880e-01 -2.53722161e-01\n",
            "  -1.43527016e-01 -7.75967985e-02 -2.09206790e-01 -8.00477862e-02\n",
            "   1.72091335e-01 -2.66913772e-02  2.54103571e-01  1.26575530e-02\n",
            "  -6.88051730e-02 -7.41586983e-02  1.77372843e-01 -2.69514412e-01\n",
            "   2.57413536e-01 -1.52105078e-01 -2.58873403e-02  2.64063984e-01\n",
            "  -6.44262880e-02  1.08438462e-01  6.20123744e-02 -1.23933852e-01\n",
            "  -8.58687162e-02  8.33738148e-02  1.83610886e-01  1.86314702e-01]\n",
            " [ 3.91455330e-02 -1.75296649e-01 -1.07310340e-01  1.38174415e-01\n",
            "  -2.99223885e-02  1.94582611e-01 -1.68437913e-01  7.87653551e-02\n",
            "  -6.07650019e-02  1.94420710e-01 -1.73400342e-01  3.24178964e-01\n",
            "   2.38660574e-01  1.87792495e-01  1.42994579e-02  3.49003643e-01\n",
            "  -1.56065285e-01  2.00435087e-01 -9.27393604e-03  2.88492113e-01\n",
            "  -1.33410990e-01  7.18654245e-02 -6.33599833e-02 -1.18807122e-01\n",
            "  -1.94138393e-01  8.23616907e-02  2.19444931e-01  2.94665247e-01\n",
            "  -4.09714354e-04 -1.89235136e-02  2.19166741e-01  9.46235061e-02\n",
            "  -1.57398164e-01  3.67778093e-01  3.61461341e-01 -1.88262388e-01\n",
            "   4.20408726e-01  2.26167157e-01 -2.61351526e-01 -2.07052082e-01\n",
            "  -5.69244139e-02  6.87244311e-02  3.30157667e-01  5.36626935e-01\n",
            "  -1.01023689e-01 -2.16932476e-01  7.06282780e-02  4.16107446e-01\n",
            "   1.32168487e-01  7.75316590e-03  1.39870510e-01  1.61493182e-01\n",
            "  -1.85269609e-01  1.87255785e-01  2.77718216e-01  1.99782193e-01\n",
            "   2.75841326e-01  1.25243723e-01 -2.62718685e-02  1.73217312e-01\n",
            "   3.71711403e-01 -2.79564619e-01 -2.24383757e-01  7.75759593e-02]\n",
            " [-7.90331736e-02 -1.56784520e-01 -8.46189260e-02  4.21909034e-01\n",
            "  -3.81604512e-03  1.83337569e-01 -1.65295556e-01 -3.27829659e-01\n",
            "  -6.60081059e-02 -4.30326574e-02  1.33179575e-01  3.86338502e-01\n",
            "   2.61549026e-01  1.28677517e-01  1.98498175e-01 -6.62168115e-02\n",
            "  -6.51886091e-02 -1.16920657e-01 -1.02487961e-02 -1.40575215e-01\n",
            "  -1.09767966e-01 -2.11703524e-01  1.52488202e-01  2.17645437e-01\n",
            "   4.43419889e-02 -1.90973178e-01  2.72638738e-01  4.87561554e-01\n",
            "  -1.66565612e-01 -1.70257255e-01  2.71560133e-01  2.28591096e-02\n",
            "  -1.40502751e-01 -1.49614001e-02  5.20949662e-01 -3.55353840e-02\n",
            "   5.73924720e-01  4.16299045e-01  1.21828206e-02 -1.54895753e-01\n",
            "   1.18596002e-01  3.04259472e-02  3.70022595e-01 -6.47783428e-02\n",
            "  -5.21954708e-02  2.71324426e-01  3.89823437e-01  3.48416865e-01\n",
            "   1.63662285e-01 -6.72521368e-02 -1.92729563e-01 -6.54964745e-02\n",
            "   1.77862450e-01 -2.58341998e-01 -6.65305331e-02  2.17020586e-01\n",
            "   2.50678122e-01 -2.36060336e-01 -2.75842577e-01  1.55395463e-01\n",
            "   2.34879822e-01  2.95991506e-02  2.62123525e-01  2.50207707e-02]\n",
            " [-2.17612371e-01  2.68969983e-01  8.17254856e-02  2.30499148e-01\n",
            "  -1.29827067e-01  2.38384306e-01 -2.63678759e-01 -2.61757132e-02\n",
            "  -1.39166089e-02 -2.98780233e-01 -1.26058623e-01  3.59796017e-01\n",
            "   1.92761153e-01  2.78391838e-01  6.13499340e-03 -2.77831294e-02\n",
            "   1.30535394e-01 -1.40083626e-01  7.42794648e-02 -2.51824915e-01\n",
            "   8.83513093e-02 -1.45969331e-01  3.58208595e-03 -1.44683376e-01\n",
            "   3.89430612e-01 -9.84297097e-02  1.93708345e-01  2.60833919e-01\n",
            "   1.88359857e-01 -6.22525588e-02 -1.18115753e-01  3.55859905e-01\n",
            "   4.71387580e-02  2.61945873e-01  2.24575087e-01  2.49759838e-01\n",
            "   2.26069167e-01  1.53556257e-01  1.82463154e-01  2.87030429e-01\n",
            "  -1.01340875e-01  3.25138330e-01  2.83461034e-01  3.60611111e-01\n",
            "   3.00463915e-01  9.69888493e-02  2.46455833e-01  2.71023512e-01\n",
            "   3.34551215e-01 -1.57215774e-01 -1.14974566e-01 -9.54163894e-02\n",
            "   2.48828784e-01 -9.65064615e-02  1.97785765e-01  4.25078645e-02\n",
            "  -1.63641185e-01  2.15973943e-01  2.13568732e-01 -2.09346727e-01\n",
            "   1.56139374e-01  6.71201348e-02  2.75716752e-01  4.37360071e-02]\n",
            " [ 2.75331646e-01  7.11199567e-02 -1.48717061e-01 -3.04526746e-01\n",
            "   1.22025102e-01 -1.37015000e-01  3.37135971e-01  3.49235803e-01\n",
            "   6.04421973e-01  4.00550216e-01  1.08885139e-01 -1.25483751e-01\n",
            "   2.24332303e-01 -3.39478463e-01  2.97024790e-02  4.24369812e-01\n",
            "   1.93814449e-02 -2.75616646e-01  4.21290398e-01  3.87020528e-01\n",
            "  -5.58105409e-02  2.13116884e-01  3.25548574e-02 -1.27665373e-02\n",
            "   4.44023579e-01 -3.93862016e-02 -4.17069113e-03 -4.03069288e-01\n",
            "   1.21962100e-01  9.49208587e-02  2.02277705e-01  5.95502555e-02\n",
            "   2.41616443e-02 -2.62010515e-01 -1.18480563e-01  3.73719543e-01\n",
            "  -3.37334722e-01  2.56140709e-01 -5.98519221e-02 -1.26196742e-01\n",
            "  -1.76051006e-01 -1.11558668e-01 -1.76642179e-01 -3.01811218e-01\n",
            "   3.18428546e-01 -4.53872234e-02 -2.20807686e-01 -2.63097826e-02\n",
            "   3.64745110e-01  5.72350085e-01 -8.80306587e-02 -7.77518079e-02\n",
            "  -1.72077920e-02 -1.98370978e-01  3.73847395e-01  3.08155894e-01\n",
            "   5.11379540e-01  2.13550970e-01  6.52138051e-03  1.80477858e-01\n",
            "  -2.92446613e-01  4.35254484e-01  4.25619744e-02  5.21581508e-02]\n",
            " [ 3.49041164e-01  2.72183210e-01  1.81496307e-01 -3.60801965e-01\n",
            "  -2.17878148e-01 -1.54630288e-01  1.30283190e-02  3.47808421e-01\n",
            "   2.87442207e-01 -6.29738197e-02  1.94242578e-02  3.11967462e-01\n",
            "   6.95923865e-02 -2.32280523e-01  1.11407302e-01  2.57160783e-01\n",
            "   1.46953225e-01  2.70555317e-01  9.88008678e-02  1.42174765e-01\n",
            "   1.55686438e-01  2.56079473e-02  1.21307500e-01 -5.07714972e-02\n",
            "   1.21878870e-01  7.89402146e-03  2.63966054e-01 -2.58668512e-01\n",
            "  -6.75360113e-02 -1.58101976e-01 -1.98947012e-01 -2.30079800e-01\n",
            "   3.11484635e-01 -1.47781938e-01 -3.46552372e-01  2.72836715e-01\n",
            "  -4.26137328e-01  6.66975752e-02  5.54336188e-03  1.26840919e-01\n",
            "   3.25097948e-01 -1.65069606e-02 -6.10781610e-02 -3.15423280e-01\n",
            "   2.44320594e-02  1.80856049e-01  3.03141803e-01 -3.55537862e-01\n",
            "  -1.82703100e-02  3.69279772e-01  2.60019720e-01  1.30028889e-01\n",
            "   3.47973913e-01  2.84446418e-01  8.91793072e-02  1.18597820e-01\n",
            "   1.82937041e-01  1.51716545e-01 -2.34199185e-02 -1.25198364e-01\n",
            "   2.27211475e-01  3.25392187e-01  2.10513368e-01  3.28726955e-02]\n",
            " [ 2.50347763e-01  1.23388236e-02 -1.24350630e-01 -4.96639535e-02\n",
            "   1.71113253e-01 -3.50837201e-01  2.60623932e-01  9.43676457e-02\n",
            "   8.17856044e-02 -1.21518895e-01  3.18656504e-01  1.62748888e-01\n",
            "   2.79618263e-01  1.84676096e-01  4.29723822e-02 -4.81916033e-02\n",
            "  -7.48083591e-02  1.87158808e-01  1.49075881e-01  1.14213312e-02\n",
            "  -7.65218213e-02  1.49193600e-01 -1.02591589e-01  2.86594272e-01\n",
            "   2.12514088e-01 -1.53973727e-02  2.76740789e-01 -5.58969080e-01\n",
            "   1.12114102e-01  2.61599362e-01 -7.96541721e-02 -1.20128609e-01\n",
            "   1.87700823e-01 -3.35742563e-01 -1.70517370e-01  3.35535407e-01\n",
            "  -4.50355932e-03 -9.94830728e-02  1.46507034e-02 -6.29597455e-02\n",
            "  -4.04544324e-02 -6.22704476e-02 -1.14254534e-01 -2.77242512e-01\n",
            "  -9.65202376e-02  1.50787666e-01 -1.30642811e-02  1.07877724e-01\n",
            "  -1.04861759e-01  3.06383044e-01  6.83083013e-02 -4.74226326e-02\n",
            "   3.18466783e-01  1.65378675e-01  1.24625146e-01  2.02182949e-01\n",
            "  -1.14613742e-01  5.26549481e-02  1.49490148e-01 -1.26657128e-01\n",
            "  -3.64547193e-01  2.91985899e-01  2.80129164e-01 -3.44575465e-01]\n",
            " [-2.32133139e-02  4.29106146e-01 -1.67170703e-01  2.79733509e-01\n",
            "  -3.75555940e-02  3.55755419e-01  4.61695433e-01  1.27245963e-01\n",
            "   1.99496225e-01  2.15709940e-01 -3.69193703e-02 -1.45922124e-01\n",
            "  -1.30772874e-01  1.81111693e-01  5.11600971e-02 -2.55443543e-01\n",
            "  -1.00275859e-01  3.33810985e-01 -9.78388414e-02  4.10042942e-01\n",
            "   3.14404778e-02  3.48379672e-01  2.52491459e-02 -8.11358020e-02\n",
            "  -1.67566732e-01 -5.87136112e-02 -2.18451843e-01  2.74752557e-01\n",
            "  -9.90802720e-02 -7.01332018e-02  2.42007658e-01 -1.78960025e-01\n",
            "   2.75978237e-01  1.79321766e-01  7.82762840e-03  7.96494931e-02\n",
            "  -2.49214828e-01 -3.23889740e-02  2.74115711e-01  2.27536604e-01\n",
            "  -1.40493929e-01  1.33933932e-01 -2.14704558e-01  2.30662614e-01\n",
            "  -1.82696626e-01  3.77889246e-01  1.44454077e-01  3.31475288e-01\n",
            "  -3.29434812e-01 -8.22775140e-02  3.26357186e-01 -1.39831919e-02\n",
            "   1.57708436e-01 -1.17833175e-01  2.27168933e-01 -1.42967189e-02\n",
            "  -8.15364197e-02 -1.34370655e-01 -4.06737030e-02 -3.48150581e-02\n",
            "   1.81244418e-01 -1.56168669e-01 -4.71301302e-02  4.23359811e-01]\n",
            " [ 2.97270596e-01  3.04781318e-01  2.06585601e-01  1.64552808e-01\n",
            "   2.01149985e-01  3.20944339e-01  1.19512431e-01  2.22645938e-01\n",
            "  -7.28461221e-02  2.39400983e-01  5.40181734e-02 -2.62001395e-01\n",
            "  -3.67381573e-01  1.04209423e-01 -6.38017803e-02  3.29159319e-01\n",
            "  -3.79374698e-02  2.94651955e-01  2.29751140e-01 -4.16141339e-02\n",
            "   1.82528183e-01  3.38423282e-01  1.17632262e-01  1.95553273e-01\n",
            "  -2.34696090e-01  1.55201666e-02 -1.11771978e-01  2.40206286e-01\n",
            "  -4.50301655e-02  2.87031978e-01  1.41245045e-03  2.90286392e-01\n",
            "   3.74680966e-01  2.64963478e-01  2.81763881e-01  4.79405597e-02\n",
            "   1.04840305e-02 -3.15625340e-01  2.24031091e-01 -7.04910681e-02\n",
            "   3.52125131e-02  2.41745263e-01 -2.41338491e-01  8.12338293e-02\n",
            "   2.15150341e-01  2.93895677e-02  9.89295766e-02 -1.41269028e-01\n",
            "  -6.47918656e-02 -1.06236614e-01  3.95314455e-01 -1.10165872e-01\n",
            "   3.22616771e-02  1.65473089e-01 -1.15433864e-01 -1.65217951e-01\n",
            "  -2.81239092e-01  2.24922076e-01 -5.67083359e-02  4.01490629e-02\n",
            "   2.50581145e-01 -4.89323400e-02 -2.46531535e-02  1.30445421e-01]\n",
            " [ 3.34557630e-02 -2.26554751e-01 -4.47407477e-02 -8.62289034e-03\n",
            "  -8.76899064e-03  2.49589905e-02  3.20568889e-01  1.01801775e-01\n",
            "   3.12131703e-01  4.12388563e-01 -3.41599248e-02  2.82801002e-01\n",
            "  -1.97053850e-01 -9.40986276e-02 -3.25687453e-02 -8.19549989e-03\n",
            "  -3.60758975e-03 -1.56021371e-01 -8.94689411e-02 -9.30811763e-02\n",
            "   1.38041684e-02  2.37118304e-01 -3.86631191e-02 -5.90409152e-02\n",
            "  -5.52469566e-02 -9.92541686e-02  6.55943230e-02 -5.12313619e-02\n",
            "  -1.61308616e-01 -1.45958930e-01 -1.39608696e-01  2.47330014e-02\n",
            "  -8.43078196e-02 -5.30145466e-02 -4.29767549e-01 -1.33827463e-01\n",
            "  -6.06456287e-02 -9.58373249e-02 -1.42146587e-01 -3.61498725e-03\n",
            "  -6.04567006e-02  2.35070005e-01  3.36711287e-01 -1.47687541e-02\n",
            "   3.81483212e-02  3.18720639e-01  2.39458129e-01 -2.98432440e-01\n",
            "  -2.22144991e-01  1.97408676e-01  3.15920591e-01 -9.54933539e-02\n",
            "   3.85201275e-01 -1.46046340e-01  4.42461848e-01  4.37577814e-02\n",
            "   2.75223166e-01 -3.70209627e-02  2.43310869e-01 -9.10189003e-02\n",
            "  -2.32461184e-01 -7.91667681e-03  3.77626568e-01  4.08365279e-01]\n",
            " [-4.35750633e-01 -4.46300775e-01  2.67799199e-01  5.77761792e-02\n",
            "  -4.80606183e-02 -5.14149964e-01 -6.38639256e-02  1.30593693e-02\n",
            "  -1.45486305e-02  9.88657922e-02  5.76730549e-01 -8.43202993e-02\n",
            "  -2.18592584e-01 -4.00946103e-02  9.40168917e-01  4.80191596e-02\n",
            "  -4.94951345e-02 -2.41560727e-01 -3.78070951e-01 -3.12719464e-01\n",
            "   5.93732595e-01 -5.57964630e-02  8.07362914e-01  5.11999965e-01\n",
            "  -3.25860232e-01  1.52009934e-01 -4.86044586e-01  3.13983336e-02\n",
            "   2.04877287e-01  1.58258110e-01 -2.93674856e-01 -3.50941837e-01\n",
            "  -2.93631732e-01  5.56411110e-02  4.83029671e-02 -4.39870924e-01\n",
            "   1.17256008e-02  4.68241423e-02 -3.15562338e-01  5.60347557e-01\n",
            "   3.57525498e-01 -1.92606151e-02 -6.56899065e-02  4.39922996e-02\n",
            "  -4.53831971e-01 -1.20234638e-01  4.56978716e-02  2.40467861e-02\n",
            "  -1.44203737e-01  2.47577000e-02 -1.89393163e-02  1.93319038e-01\n",
            "  -7.36048892e-02  1.03711002e-01 -1.01070300e-01 -4.72830921e-01\n",
            "   8.17597285e-02  7.80053139e-01 -2.40240425e-01  6.74273610e-01\n",
            "  -3.86793017e-01  7.14347288e-02  5.89957051e-02 -5.63406795e-02]]\n",
            "Layer 2 weights shape: (64,)\n",
            "[-0.01408089  0.04551252 -0.18503252  0.18617614 -0.13473023  0.10998701\n",
            "  0.01431607  0.04660819 -0.03107929  0.13506284 -0.17924608  0.05591348\n",
            "  0.11813338  0.11641437 -0.20008938  0.27472603 -0.1674989  -0.08565938\n",
            "  0.05827296  0.1150136  -0.24321216 -0.11176857 -0.15618892 -0.19545789\n",
            "  0.05308831 -0.26708326  0.02260555  0.38291195 -0.17725952 -0.18763822\n",
            "  0.00782843 -0.04986551  0.0869766   0.25300476  0.26240942  0.04080933\n",
            "  0.17332399  0.38588995 -0.0937583  -0.13450193 -0.17621587 -0.08489047\n",
            " -0.01528058  0.23054428 -0.10188915  0.05111975 -0.00671919  0.4155605\n",
            "  0.11229179 -0.06035887  0.01706009 -0.20186818  0.01746218 -0.1750788\n",
            "  0.23079607  0.05436943  0.24408196 -0.02764401 -0.067462   -0.19552891\n",
            "  0.14783324  0.14644116  0.06456652  0.14145464]\n",
            "Layer 3 weights shape: (64, 32)\n",
            "[[-0.19093017  0.33355266 -0.18839811 ...  0.02786464 -0.31347176\n",
            "  -0.31894758]\n",
            " [-0.2543462   0.64850247 -0.19927587 ... -0.32434165 -0.33370146\n",
            "  -0.24657443]\n",
            " [-0.17839085 -0.25992706  0.02985387 ...  0.10530153  0.07914245\n",
            "   0.2161967 ]\n",
            " ...\n",
            " [-0.11087587  0.38105732 -0.01125164 ... -0.06021111 -0.06414662\n",
            "  -0.04441614]\n",
            " [-0.33380935  0.25366473 -0.31662953 ... -0.32306412 -0.12732397\n",
            "  -0.30892527]\n",
            " [-0.3656449   0.27550414 -0.31057832 ... -0.28251126 -0.38527322\n",
            "  -0.41708153]]\n",
            "Layer 4 weights shape: (32,)\n",
            "[ 0.35739577 -0.10593065  0.30611733  0.38938376  0.33621302  0.3170149\n",
            " -0.10261417 -0.09762643 -0.12307583 -0.05929279 -0.21100608 -0.14663436\n",
            "  0.290235   -0.08415159  0.23134069  0.35649323  0.33266172  0.43531305\n",
            " -0.13267563 -0.10468251 -0.15366174 -0.05687866 -0.07951305  0.2890301\n",
            "  0.2890098  -0.09014694 -0.12284143 -0.1054633  -0.14975305  0.29790992\n",
            "  0.31509724  0.27599844]\n",
            "Layer 5 weights shape: (32, 1)\n",
            "[[-0.30299577]\n",
            " [ 0.35774803]\n",
            " [-0.3644864 ]\n",
            " [-0.24891059]\n",
            " [-0.477164  ]\n",
            " [-0.37494177]\n",
            " [ 0.59725815]\n",
            " [ 0.44846502]\n",
            " [ 0.6294174 ]\n",
            " [ 0.5404856 ]\n",
            " [ 0.41704318]\n",
            " [ 0.4764188 ]\n",
            " [-0.3506746 ]\n",
            " [ 0.39872634]\n",
            " [-0.40392047]\n",
            " [-0.35181436]\n",
            " [-0.29587877]\n",
            " [-0.2743442 ]\n",
            " [ 0.3984554 ]\n",
            " [ 0.48684105]\n",
            " [ 0.49680546]\n",
            " [ 0.67353153]\n",
            " [ 0.6105169 ]\n",
            " [-0.42735502]\n",
            " [-0.3285182 ]\n",
            " [ 0.6220577 ]\n",
            " [ 0.59449786]\n",
            " [ 0.5200754 ]\n",
            " [ 0.08313631]\n",
            " [-0.44674093]\n",
            " [-0.45111117]\n",
            " [-0.4915724 ]]\n",
            "Layer 6 weights shape: (1,)\n",
            "[-1.2715673]\n"
          ]
        }
      ]
    },
    {
      "cell_type": "markdown",
      "source": [
        "###점수구하기"
      ],
      "metadata": {
        "id": "BKb8jRcoDIgD"
      }
    },
    {
      "cell_type": "code",
      "source": [
        "# 각 행에 대한 위험 점수 계산\n",
        "risk_scores_ann = model.predict(X_scaled)\n",
        "\n",
        "# 'DIAG_YN'이 1인 행들 필터링\n",
        "high_risk_patients_ann = risk_scores_ann[y == 1]\n",
        "\n",
        "# 'high_risk_patients'를 pandas Series로 변환\n",
        "high_risk_patients_series_ann = pd.Series(np.squeeze(high_risk_patients_ann))\n",
        "\n",
        "# 최대 위험 점수를 갖는 행 찾기\n",
        "max_risk_index_diag_ann_1 = high_risk_patients_series_ann.idxmax()\n",
        "max_risk_row_diag_ann_1 = X.loc[max_risk_index_diag_ann_1]\n",
        "\n",
        "# 최대 위험 점수를 갖는 행의 위험 점수\n",
        "max_risk_score_diag_ann_1 = high_risk_patients_series_ann.loc[max_risk_index_diag_ann_1]\n",
        "print(\"DIAG_YN=1인 행들 중 최대 위험 점수를 갖는 행의 점수:\", max_risk_score_diag_ann_1)\n",
        "print(\"DIAG_YN=1인 행들 중 최대 위험 점수를 갖는 행:\", max_risk_row_diag_ann_1)\n"
      ],
      "metadata": {
        "colab": {
          "base_uri": "https://localhost:8080/"
        },
        "id": "q5WZFMVOCkEw",
        "outputId": "96a6cb62-25c6-4e80-c94d-d37a81c48e70"
      },
      "execution_count": 32,
      "outputs": [
        {
          "output_type": "stream",
          "name": "stdout",
          "text": [
            "744/744 [==============================] - 1s 1ms/step\n",
            "DIAG_YN=1인 행들 중 최대 위험 점수를 갖는 행의 점수: 1.0\n",
            "DIAG_YN=1인 행들 중 최대 위험 점수를 갖는 행: const                   1.0\n",
            "SMOK_QTY               79.0\n",
            "SMOK_STRT_AGE          36.0\n",
            "SMOK_DTRN_YCNT          8.0\n",
            "HORM_TRTM_YN            0.0\n",
            "HORM_TRTM_DTRN_DCNT     0.0\n",
            "HORM_TRTM_PRPS_CD       0.0\n",
            "MENO_YN                 1.0\n",
            "MENO_AGE               12.0\n",
            "UCLN_PRGN_YN            0.0\n",
            "MENA_AGE               13.0\n",
            "Name: 0, dtype: float64\n"
          ]
        }
      ]
    },
    {
      "cell_type": "code",
      "source": [
        "# 최소 위험 점수를 갖는 행 찾기\n",
        "min_risk_index_diag_ann_1 = high_risk_patients_series_ann.idxmin()\n",
        "min_risk_row_diag_ann_1 = X.loc[min_risk_index_diag_ann_1]\n",
        "\n",
        "# 최소 위험 점수를 갖는 행의 위험 점수\n",
        "min_risk_score_diag_ann_1 = high_risk_patients_series_ann.loc[min_risk_index_diag_ann_1]\n",
        "print(\"DIAG_YN=1인 행들 중 최소 위험 점수를 갖는 행의 점수:\", min_risk_score_diag_ann_1)\n",
        "print(\"DIAG_YN=1인 행들 중 최소 위험 점수를 갖는 행:\", min_risk_row_diag_ann_1)\n"
      ],
      "metadata": {
        "colab": {
          "base_uri": "https://localhost:8080/"
        },
        "id": "ILhoQ_x2DLMQ",
        "outputId": "5760cb14-336e-4682-ec27-068974bc353d"
      },
      "execution_count": 33,
      "outputs": [
        {
          "output_type": "stream",
          "name": "stdout",
          "text": [
            "DIAG_YN=1인 행들 중 최소 위험 점수를 갖는 행의 점수: 0.033281006\n",
            "DIAG_YN=1인 행들 중 최소 위험 점수를 갖는 행: const                   1.0\n",
            "SMOK_QTY                0.0\n",
            "SMOK_STRT_AGE           0.0\n",
            "SMOK_DTRN_YCNT          0.0\n",
            "HORM_TRTM_YN            0.0\n",
            "HORM_TRTM_DTRN_DCNT     0.0\n",
            "HORM_TRTM_PRPS_CD       0.0\n",
            "MENO_YN                 0.0\n",
            "MENO_AGE                0.0\n",
            "UCLN_PRGN_YN            0.0\n",
            "MENA_AGE               13.0\n",
            "Name: 462, dtype: float64\n"
          ]
        }
      ]
    },
    {
      "cell_type": "markdown",
      "source": [
        "###위험확률"
      ],
      "metadata": {
        "id": "RwbqlJXZDM2l"
      }
    },
    {
      "cell_type": "code",
      "source": [
        "# 각 행에 대한 위험 점수 계산\n",
        "risk_scores_per_row_ann = model.predict(X_scaled)\n",
        "\n",
        "# 최대 위험 점수\n",
        "max_risk_score_ann = risk_scores_per_row_ann.max()\n",
        "\n",
        "# 위험 점수를 100점 기준으로 변환하여 위험 백분위 계산\n",
        "risk_percentiles_ann = (risk_scores_per_row_ann / max_risk_score_ann) * 100\n",
        "\n",
        "# 데이터프레임에 위험 백분위 열 추가\n",
        "X_with_risk_percentiles_ann = X.copy()\n",
        "X_with_risk_percentiles_ann['Risk_Percentile'] = risk_percentiles_ann\n",
        "\n",
        "# 결과 출력\n",
        "print(X_with_risk_percentiles_ann)\n"
      ],
      "metadata": {
        "colab": {
          "base_uri": "https://localhost:8080/"
        },
        "id": "xHeEmXSnDQX5",
        "outputId": "7d910008-59eb-4f34-d7cb-96f088399c58"
      },
      "execution_count": 34,
      "outputs": [
        {
          "output_type": "stream",
          "name": "stdout",
          "text": [
            "744/744 [==============================] - 1s 1ms/step\n",
            "       const  SMOK_QTY  SMOK_STRT_AGE  SMOK_DTRN_YCNT  HORM_TRTM_YN  \\\n",
            "0        1.0      79.0           36.0             8.0           0.0   \n",
            "1        1.0      79.0           36.0             8.0           1.0   \n",
            "2        1.0      68.0           35.0            13.0           1.0   \n",
            "3        1.0       0.0            0.0             0.0           0.0   \n",
            "4        1.0       0.0            0.0             0.0           0.0   \n",
            "...      ...       ...            ...             ...           ...   \n",
            "23802    1.0       0.0            0.0             0.0           0.0   \n",
            "23803    1.0       0.0            0.0             0.0           0.0   \n",
            "23804    1.0       0.0            0.0             0.0           0.0   \n",
            "23805    1.0       0.0            0.0             0.0           0.0   \n",
            "23806    1.0       0.0            0.0             0.0           0.0   \n",
            "\n",
            "       HORM_TRTM_DTRN_DCNT  HORM_TRTM_PRPS_CD  MENO_YN  MENO_AGE  \\\n",
            "0                      0.0                0.0      1.0      12.0   \n",
            "1                     47.0               99.0      0.0       0.0   \n",
            "2                     91.0               99.0      0.0       0.0   \n",
            "3                      0.0                0.0      1.0      93.0   \n",
            "4                      0.0                0.0      0.0       0.0   \n",
            "...                    ...                ...      ...       ...   \n",
            "23802                  0.0                0.0      0.0       0.0   \n",
            "23803                  0.0                0.0      0.0       0.0   \n",
            "23804                  0.0                0.0      0.0       0.0   \n",
            "23805                  0.0                0.0      0.0       0.0   \n",
            "23806                  0.0                0.0      0.0       0.0   \n",
            "\n",
            "       UCLN_PRGN_YN  MENA_AGE  Risk_Percentile  \n",
            "0               0.0      13.0     1.000000e+02  \n",
            "1               1.0       9.0     1.000000e+02  \n",
            "2               0.0      10.0     1.000000e+02  \n",
            "3               1.0      10.0     1.000000e+02  \n",
            "4               0.0      11.0     4.584727e+00  \n",
            "...             ...       ...              ...  \n",
            "23802           0.5       9.6     4.431545e+00  \n",
            "23803           0.5      14.4     1.167496e-02  \n",
            "23804           0.0      17.9     9.444125e-11  \n",
            "23805           0.5      16.3     9.746016e-07  \n",
            "23806           0.5      11.0     4.347390e+00  \n",
            "\n",
            "[23807 rows x 12 columns]\n"
          ]
        }
      ]
    },
    {
      "cell_type": "code",
      "source": [
        "\n",
        "df['Risk_Percentile_ann'] = risk_percentiles_ann"
      ],
      "metadata": {
        "colab": {
          "base_uri": "https://localhost:8080/"
        },
        "id": "8lAOGSEhDaG5",
        "outputId": "c71df585-857a-45e2-8eb1-78cf68b4e9bb"
      },
      "execution_count": 35,
      "outputs": [
        {
          "output_type": "stream",
          "name": "stderr",
          "text": [
            "<ipython-input-35-61d79e60e43e>:1: SettingWithCopyWarning: \n",
            "A value is trying to be set on a copy of a slice from a DataFrame.\n",
            "Try using .loc[row_indexer,col_indexer] = value instead\n",
            "\n",
            "See the caveats in the documentation: https://pandas.pydata.org/pandas-docs/stable/user_guide/indexing.html#returning-a-view-versus-a-copy\n",
            "  df['Risk_Percentile_ann'] = risk_percentiles_ann\n"
          ]
        }
      ]
    },
    {
      "cell_type": "code",
      "source": [
        "# 'target'이 1인 데이터 필터링\n",
        "target_1_df = df[df['target'] == 1]\n",
        "\n",
        "# 'Risk_Percentile_ann'의 최대값과 최소값 계산\n",
        "max_risk_score_diag_yn_1_ann = target_1_df['Risk_Percentile_ann'].max()\n",
        "min_risk_score_diag_yn_1_ann = target_1_df['Risk_Percentile_ann'].min()\n",
        "\n",
        "print(f\"Max Risk Score 환자군 ann: {max_risk_score_diag_yn_1_ann}\")\n",
        "print(f\"Min Risk Score 환자군 ann: {min_risk_score_diag_yn_1_ann}\")\n"
      ],
      "metadata": {
        "colab": {
          "base_uri": "https://localhost:8080/"
        },
        "id": "9UyLcWbvDexq",
        "outputId": "20c584f0-2358-4862-f396-02f177a8fb35"
      },
      "execution_count": 36,
      "outputs": [
        {
          "output_type": "stream",
          "name": "stdout",
          "text": [
            "Max Risk Score 환자군 ann: 100.0\n",
            "Min Risk Score 환자군 ann: 3.3281006813049316\n"
          ]
        }
      ]
    },
    {
      "cell_type": "markdown",
      "source": [
        "##그래디언트 부스팅"
      ],
      "metadata": {
        "id": "HjWyJiAuB0Nq"
      }
    },
    {
      "cell_type": "code",
      "source": [
        "import pandas as pd\n",
        "import numpy as np\n",
        "\n",
        "from sklearn.ensemble import GradientBoostingClassifier\n",
        "from sklearn.model_selection import train_test_split\n",
        "from sklearn.preprocessing import StandardScaler\n"
      ],
      "metadata": {
        "id": "Bh4yX-KUB4eW"
      },
      "execution_count": 37,
      "outputs": []
    },
    {
      "cell_type": "markdown",
      "source": [
        "###모델학습"
      ],
      "metadata": {
        "id": "M20i_utuFO1W"
      }
    },
    {
      "cell_type": "code",
      "source": [
        "# 데이터 프레임 복사\n",
        "df_Odds = pd.DataFrame(df)\n",
        "\n",
        "\n",
        "# 데이터 스케일링\n",
        "scaler = StandardScaler()\n",
        "X_scaled = scaler.fit_transform(X)\n",
        "\n",
        "# 데이터 분할\n",
        "X_train, X_test, y_train, y_test = train_test_split(X_scaled, y, test_size=0.2, random_state=42)\n",
        "\n",
        "# 그래디언트 부스팅 분류기 초기화 및 학습\n",
        "gb_model = GradientBoostingClassifier(learning_rate = 0.07,    # 기존 모델 0.1\n",
        "                                     max_depth = 1,           # 기존 모델 3\n",
        "                                     min_samples_leaf = 3,    # 기존 모델 1\n",
        "                                     min_samples_split = 3,   # 기존 모델 2\n",
        "                                     n_estimators = 300)      # 기존 모델 100\n",
        "gb_model.fit(X_train, y_train)\n",
        "\n",
        "# 테스트 데이터로 예측\n",
        "y_pred_gbm = gb_model.predict(X_test)\n",
        "\n",
        "# 정확도 계산\n",
        "accuracy_gbm = (y_pred_gbm == y_test).mean()\n",
        "print(\"정확도:\", accuracy_gbm)"
      ],
      "metadata": {
        "colab": {
          "base_uri": "https://localhost:8080/"
        },
        "id": "xJ7JrjcAFRE3",
        "outputId": "1ae1a791-6d84-4035-c0c4-56595fe6f948"
      },
      "execution_count": 76,
      "outputs": [
        {
          "output_type": "stream",
          "name": "stdout",
          "text": [
            "정확도: 0.9922301553968921\n"
          ]
        }
      ]
    },
    {
      "cell_type": "code",
      "source": [
        "# 모델에서 특성 중요도 확인\n",
        "feature_importances = gb_model.feature_importances_\n",
        "\n",
        "# 특성 중요도 출력\n",
        "print(\"특성 중요도:\")\n",
        "for feature, importance in zip(X.columns, feature_importances):\n",
        "    print(f\"{feature}: {importance}\")"
      ],
      "metadata": {
        "colab": {
          "base_uri": "https://localhost:8080/"
        },
        "id": "scwh0JbwFV-P",
        "outputId": "98c45dba-e841-436d-8098-081605bdf76e"
      },
      "execution_count": 77,
      "outputs": [
        {
          "output_type": "stream",
          "name": "stdout",
          "text": [
            "특성 중요도:\n",
            "const: 0.0\n",
            "SMOK_QTY: 0.09833593980878037\n",
            "SMOK_STRT_AGE: 0.30698590571244944\n",
            "SMOK_DTRN_YCNT: 0.18222354566984522\n",
            "HORM_TRTM_YN: 0.032303933537848835\n",
            "HORM_TRTM_DTRN_DCNT: 0.04460760234979836\n",
            "HORM_TRTM_PRPS_CD: 0.015318219706041617\n",
            "MENO_YN: 0.0723127258856457\n",
            "MENO_AGE: 0.025065356173314606\n",
            "UCLN_PRGN_YN: 0.07651649722447021\n",
            "MENA_AGE: 0.1463302739318055\n"
          ]
        }
      ]
    },
    {
      "cell_type": "markdown",
      "source": [
        "###점수구하기"
      ],
      "metadata": {
        "id": "fT5yvB6yFeaf"
      }
    },
    {
      "cell_type": "code",
      "source": [
        "from sklearn.ensemble import GradientBoostingClassifier\n",
        "\n",
        "# 그래디언트 부스팅 모델 학습\n",
        "gbm = GradientBoostingClassifier(n_estimators=100, random_state=42)\n",
        "gbm.fit(X_scaled, y)\n",
        "\n",
        "# 각 행에 대한 예측 확률 계산\n",
        "predicted_probabilities = gbm.predict_proba(X_scaled)[:, 1]\n",
        "\n",
        "# 위험 점수를 Series로 변환\n",
        "risk_scores_gbm = pd.Series(predicted_probabilities, index=X.index)\n",
        "\n",
        "# 'DIAG_YN'이 1인 행들 필터링\n",
        "high_risk_patients_gbm = risk_scores_gbm[y == 1]\n",
        "\n",
        "# 최대 위험 점수를 갖는 행 찾기\n",
        "max_risk_index_diag_gbm_1 = high_risk_patients_gbm.idxmax()\n",
        "max_risk_row_diag_gbm_1 = X.loc[max_risk_index_diag_gbm_1]\n",
        "\n",
        "# 최대 위험 점수를 갖는 행의 위험 점수\n",
        "max_risk_score_diag_gbm_1 = high_risk_patients_gbm.loc[max_risk_index_diag_gbm_1]\n",
        "print(\"DIAG_YN=1인 행들 중 최대 위험 점수를 갖는 행의 점수:\", max_risk_score_diag_gbm_1)\n",
        "print(\"DIAG_YN=1인 행들 중 최대 위험 점수를 갖는 행:\", max_risk_row_diag_gbm_1)\n"
      ],
      "metadata": {
        "colab": {
          "base_uri": "https://localhost:8080/"
        },
        "id": "_G97-KfbFi1A",
        "outputId": "9840eaba-f3b2-44dc-9b36-7699fe1b0749"
      },
      "execution_count": 78,
      "outputs": [
        {
          "output_type": "stream",
          "name": "stdout",
          "text": [
            "DIAG_YN=1인 행들 중 최대 위험 점수를 갖는 행의 점수: 0.9997407352330651\n",
            "DIAG_YN=1인 행들 중 최대 위험 점수를 갖는 행: const                   1.0\n",
            "SMOK_QTY               60.0\n",
            "SMOK_STRT_AGE          86.0\n",
            "SMOK_DTRN_YCNT         11.0\n",
            "HORM_TRTM_YN            1.0\n",
            "HORM_TRTM_DTRN_DCNT    79.0\n",
            "HORM_TRTM_PRPS_CD       1.0\n",
            "MENO_YN                 1.0\n",
            "MENO_AGE               59.0\n",
            "UCLN_PRGN_YN            1.0\n",
            "MENA_AGE               14.0\n",
            "Name: 926, dtype: float64\n"
          ]
        }
      ]
    },
    {
      "cell_type": "code",
      "source": [
        "\n",
        "# 최소 위험 점수를 갖는 행 찾기\n",
        "min_risk_index_diag_gbm_1 = high_risk_patients_gbm.idxmin()\n",
        "min_risk_row_diag_gbm_1 = X.loc[min_risk_index_diag_gbm_1]\n",
        "\n",
        "# 최소 위험 점수를 갖는 행의 위험 점수\n",
        "min_risk_score_diag_gbm_1 = high_risk_patients_gbm.loc[min_risk_index_diag_gbm_1]\n",
        "print(\"DIAG_YN=1인 행들 중 최소 위험 점수를 갖는 행의 점수:\", min_risk_score_diag_gbm_1)\n",
        "print(\"DIAG_YN=1인 행들 중 최소 위험 점수를 갖는 행:\", min_risk_row_diag_gbm_1)"
      ],
      "metadata": {
        "colab": {
          "base_uri": "https://localhost:8080/"
        },
        "id": "p68mXZJUF3S0",
        "outputId": "41fe1868-49a1-496e-c439-cea246e44348"
      },
      "execution_count": 79,
      "outputs": [
        {
          "output_type": "stream",
          "name": "stdout",
          "text": [
            "DIAG_YN=1인 행들 중 최소 위험 점수를 갖는 행의 점수: 0.183125987016403\n",
            "DIAG_YN=1인 행들 중 최소 위험 점수를 갖는 행: const                   1.0\n",
            "SMOK_QTY                0.0\n",
            "SMOK_STRT_AGE           0.0\n",
            "SMOK_DTRN_YCNT          0.0\n",
            "HORM_TRTM_YN            0.0\n",
            "HORM_TRTM_DTRN_DCNT     0.0\n",
            "HORM_TRTM_PRPS_CD       0.0\n",
            "MENO_YN                 0.0\n",
            "MENO_AGE                0.0\n",
            "UCLN_PRGN_YN            1.0\n",
            "MENA_AGE               14.0\n",
            "Name: 10290, dtype: float64\n"
          ]
        }
      ]
    },
    {
      "cell_type": "markdown",
      "source": [
        "###위험확률"
      ],
      "metadata": {
        "id": "-_kUdk12F-h2"
      }
    },
    {
      "cell_type": "code",
      "source": [
        "from sklearn.ensemble import GradientBoostingClassifier\n",
        "\n",
        "# 그래디언트 부스팅 모델 학습\n",
        "gbm = GradientBoostingClassifier(n_estimators=100, random_state=42)\n",
        "gbm.fit(X_scaled, y)\n",
        "\n",
        "# 각 행에 대한 예측 확률 계산\n",
        "predicted_probabilities = gbm.predict_proba(X_scaled)[:, 1]\n",
        "\n",
        "# 위험 점수 계산 (예측 확률을 위험 점수로 사용)\n",
        "risk_scores_gbm = pd.Series(predicted_probabilities, index=X.index)\n",
        "\n",
        "# 최대 위험 점수\n",
        "max_risk_score_gbm = risk_scores_gbm.max()\n",
        "\n",
        "# 위험 점수를 100점 기준으로 변환하여 위험 백분위 계산\n",
        "risk_percentiles_gbm = (risk_scores_gbm / max_risk_score_gbm) * 100\n",
        "\n",
        "# 데이터프레임에 위험 백분위 열 추가\n",
        "X_with_risk_percentiles_gbm = X.copy()\n",
        "X_with_risk_percentiles_gbm['Risk_Percentile'] = risk_percentiles_gbm\n",
        "\n",
        "# 결과 출력\n",
        "print(X_with_risk_percentiles_gbm)\n"
      ],
      "metadata": {
        "colab": {
          "base_uri": "https://localhost:8080/"
        },
        "id": "MgMXWYrpGRXN",
        "outputId": "b4bf1f4a-f017-4893-e00e-8e3edafa7a17"
      },
      "execution_count": 80,
      "outputs": [
        {
          "output_type": "stream",
          "name": "stdout",
          "text": [
            "       const  SMOK_QTY  SMOK_STRT_AGE  SMOK_DTRN_YCNT  HORM_TRTM_YN  \\\n",
            "0        1.0      79.0           36.0             8.0           0.0   \n",
            "1        1.0      79.0           36.0             8.0           1.0   \n",
            "2        1.0      68.0           35.0            13.0           1.0   \n",
            "3        1.0       0.0            0.0             0.0           0.0   \n",
            "4        1.0       0.0            0.0             0.0           0.0   \n",
            "...      ...       ...            ...             ...           ...   \n",
            "23802    1.0       0.0            0.0             0.0           0.0   \n",
            "23803    1.0       0.0            0.0             0.0           0.0   \n",
            "23804    1.0       0.0            0.0             0.0           0.0   \n",
            "23805    1.0       0.0            0.0             0.0           0.0   \n",
            "23806    1.0       0.0            0.0             0.0           0.0   \n",
            "\n",
            "       HORM_TRTM_DTRN_DCNT  HORM_TRTM_PRPS_CD  MENO_YN  MENO_AGE  \\\n",
            "0                      0.0                0.0      1.0      12.0   \n",
            "1                     47.0               99.0      0.0       0.0   \n",
            "2                     91.0               99.0      0.0       0.0   \n",
            "3                      0.0                0.0      1.0      93.0   \n",
            "4                      0.0                0.0      0.0       0.0   \n",
            "...                    ...                ...      ...       ...   \n",
            "23802                  0.0                0.0      0.0       0.0   \n",
            "23803                  0.0                0.0      0.0       0.0   \n",
            "23804                  0.0                0.0      0.0       0.0   \n",
            "23805                  0.0                0.0      0.0       0.0   \n",
            "23806                  0.0                0.0      0.0       0.0   \n",
            "\n",
            "       UCLN_PRGN_YN  MENA_AGE  Risk_Percentile  \n",
            "0               0.0      13.0        99.907749  \n",
            "1               1.0       9.0        99.962489  \n",
            "2               0.0      10.0        99.911454  \n",
            "3               1.0      10.0        99.852891  \n",
            "4               0.0      11.0        31.903590  \n",
            "...             ...       ...              ...  \n",
            "23802           0.5       9.6         0.830264  \n",
            "23803           0.5      14.4         0.168826  \n",
            "23804           0.0      17.9         0.168826  \n",
            "23805           0.5      16.3         0.168826  \n",
            "23806           0.5      11.0        31.903590  \n",
            "\n",
            "[23807 rows x 12 columns]\n"
          ]
        }
      ]
    },
    {
      "cell_type": "code",
      "source": [
        "\n",
        "df['Risk_Percentile_gbm'] = risk_percentiles_gbm"
      ],
      "metadata": {
        "colab": {
          "base_uri": "https://localhost:8080/"
        },
        "id": "4znPwCKhGQoW",
        "outputId": "4aeefdd5-a777-47ce-8612-7a9a89bc49de"
      },
      "execution_count": 81,
      "outputs": [
        {
          "output_type": "stream",
          "name": "stderr",
          "text": [
            "<ipython-input-81-d7be046541c7>:1: SettingWithCopyWarning: \n",
            "A value is trying to be set on a copy of a slice from a DataFrame.\n",
            "Try using .loc[row_indexer,col_indexer] = value instead\n",
            "\n",
            "See the caveats in the documentation: https://pandas.pydata.org/pandas-docs/stable/user_guide/indexing.html#returning-a-view-versus-a-copy\n",
            "  df['Risk_Percentile_gbm'] = risk_percentiles_gbm\n"
          ]
        }
      ]
    },
    {
      "cell_type": "code",
      "source": [
        "# 'target'이 1인 데이터 필터링\n",
        "target_1_df = df[df['target'] == 1]\n",
        "\n",
        "# 그래디언트 부스팅 모델을 사용하여 계산된 'Risk_Percentile'의 최대값과 최저값 계산\n",
        "max_risk_score_diag_yn_1_gbm = target_1_df['Risk_Percentile_gbm'].max()\n",
        "min_risk_score_diag_yn_1_gbm = target_1_df['Risk_Percentile_gbm'].min()\n",
        "\n",
        "print(f\"Max Risk Score 환자군 gbm: {max_risk_score_diag_yn_1_gbm}\")\n",
        "print(f\"Min Risk Score 환자군 gbm: {min_risk_score_diag_yn_1_gbm}\")\n"
      ],
      "metadata": {
        "colab": {
          "base_uri": "https://localhost:8080/"
        },
        "id": "0t1cDqe6Gdbu",
        "outputId": "98a7ab9c-c475-4c30-e25a-cb59fd47a9a8"
      },
      "execution_count": 82,
      "outputs": [
        {
          "output_type": "stream",
          "name": "stdout",
          "text": [
            "Max Risk Score 환자군 gbm: 100.0\n",
            "Min Risk Score 환자군 gbm: 18.317347744534153\n"
          ]
        }
      ]
    },
    {
      "cell_type": "markdown",
      "metadata": {
        "id": "0hzAVyJXSCQN"
      },
      "source": [
        "#모델 정확도 비교"
      ]
    },
    {
      "cell_type": "code",
      "source": [
        "y_pred_lr = result.predict(X_test)\n",
        "y_pred_lr = (y_pred_lr > 0.5).astype(int)  # 0.5를 기준으로 이진 분류 수행\n"
      ],
      "metadata": {
        "id": "JNVVYpAbJXK8"
      },
      "execution_count": 83,
      "outputs": []
    },
    {
      "cell_type": "code",
      "source": [
        "# 정확도 계산\n",
        "accuracy_gbm = accuracy_score(y_test, y_pred_gbm)\n",
        "accuracy_rf = accuracy_score(y_test, y_pred_rf)\n",
        "accuracy_ann = accuracy_score(y_test, y_pred_ann)\n",
        "accuracy_log_reg = accuracy_score(y_test, y_pred_lr)\n",
        "\n",
        "print(\"Accuracy of Gradient Boosting:\", accuracy_gbm)\n",
        "print(\"Accuracy of Random Forest:\", accuracy_rf)\n",
        "print(\"Accuracy of ANN:\", accuracy_ann)\n",
        "print(\"Accuracy of Logistic Regression:\", accuracy_log_reg)"
      ],
      "metadata": {
        "colab": {
          "base_uri": "https://localhost:8080/"
        },
        "id": "YBZK-jBNI-pZ",
        "outputId": "6d5db394-e0bc-4b88-d37f-5551b6e2e47c"
      },
      "execution_count": 84,
      "outputs": [
        {
          "output_type": "stream",
          "name": "stdout",
          "text": [
            "Accuracy of Gradient Boosting: 0.9922301553968921\n",
            "Accuracy of Random Forest: 0.9928601427971441\n",
            "Accuracy of ANN: 0.9922301553968921\n",
            "Accuracy of Logistic Regression: 0.9113817723645528\n"
          ]
        }
      ]
    },
    {
      "cell_type": "code",
      "source": [
        "import matplotlib.pyplot as plt\n",
        "import seaborn as sns\n"
      ],
      "metadata": {
        "id": "1jlfVYMdJxsp"
      },
      "execution_count": 85,
      "outputs": []
    },
    {
      "cell_type": "code",
      "source": [
        "accuracies = {\n",
        "    'Gradient Boosting': accuracy_gbm,\n",
        "    'Random Forest': accuracy_rf,\n",
        "    'ANN': accuracy_ann,\n",
        "    'Logistic Regression': accuracy_log_reg\n",
        "}\n",
        "# 데이터를 시각화하기 좋게 DataFrame으로 변환\n",
        "accuracy_df = pd.DataFrame(list(accuracies.items()), columns=['Model', 'Accuracy'])\n",
        "\n",
        "# 바 차트 생성\n",
        "plt.figure(figsize=(10, 6))\n",
        "sns.barplot(x='Model', y='Accuracy', data=accuracy_df)\n",
        "plt.title('Comparison of Model Accuracies')\n",
        "plt.ylim(0.5, 1)  # Y축의 범위를 조정하여 차트의 차이를 더 잘 보이게 할 수 있습니다.\n",
        "plt.ylabel('Accuracy')\n",
        "plt.xlabel('Model')\n",
        "plt.xticks(rotation=45)  # 모델 이름이 긴 경우 기울기 조정\n",
        "plt.show()\n"
      ],
      "metadata": {
        "colab": {
          "base_uri": "https://localhost:8080/",
          "height": 654
        },
        "id": "qAIFwIzvJz_Q",
        "outputId": "303e62cc-baae-46fa-bfb1-558aa32ff62a"
      },
      "execution_count": 86,
      "outputs": [
        {
          "output_type": "display_data",
          "data": {
            "text/plain": [
              "<Figure size 1000x600 with 1 Axes>"
            ],
            "image/png": "[encoded data removed]"
          },
          "metadata": {}
        }
      ]
    },
    {
      "cell_type": "code",
      "source": [
        "from sklearn.metrics import precision_score, recall_score, f1_score, roc_auc_score, roc_curve\n",
        "\n",
        "# 각 모델의 예측 결과\n",
        "y_preds = {\n",
        "    'Gradient Boosting': y_pred_gbm,\n",
        "    'Random Forest': y_pred_rf,\n",
        "    'ANN': y_pred_ann,\n",
        "    'Logistic Regression': y_pred_lr\n",
        "}\n",
        "\n",
        "# 비교할 성능 지표를 계산할 함수\n",
        "def calculate_performance_metrics(y_true, y_pred):\n",
        "    accuracy = accuracy_score(y_true, y_pred)\n",
        "    precision = precision_score(y_true, y_pred)\n",
        "    recall = recall_score(y_true, y_pred)\n",
        "    f1 = f1_score(y_true, y_pred)\n",
        "    roc_auc = roc_auc_score(y_true, y_pred)\n",
        "    return accuracy, precision, recall, f1, roc_auc\n",
        "\n",
        "# 성능 지표 계산\n",
        "performance_metrics = {}\n",
        "for model_name, y_pred in y_preds.items():\n",
        "    accuracy, precision, recall, f1, roc_auc = calculate_performance_metrics(y_test, y_pred)\n",
        "    performance_metrics[model_name] = {\n",
        "        'Accuracy': accuracy,\n",
        "        'Precision': precision,\n",
        "        'Recall': recall,\n",
        "        'F1 Score': f1,\n",
        "        'ROC AUC': roc_auc\n",
        "    }\n",
        "\n",
        "# 결과 출력\n",
        "performance_df = pd.DataFrame(performance_metrics).T\n",
        "print(performance_df)\n",
        "\n",
        "# 결과 시각화\n",
        "plt.figure(figsize=(12, 8))\n",
        "sns.barplot(data=performance_df, palette='viridis')\n",
        "plt.title('Comparison of Model Performance Metrics')\n",
        "plt.ylabel('Score')\n",
        "plt.xlabel('Metrics')\n",
        "plt.xticks(rotation=45)\n",
        "plt.legend(performance_df.columns)\n",
        "plt.show()\n"
      ],
      "metadata": {
        "colab": {
          "base_uri": "https://localhost:8080/",
          "height": 809
        },
        "id": "k8tg4UA0KCkD",
        "outputId": "5c43903f-d568-4f9d-d3ed-7712b2267381"
      },
      "execution_count": 88,
      "outputs": [
        {
          "output_type": "stream",
          "name": "stdout",
          "text": [
            "                     Accuracy  Precision    Recall  F1 Score   ROC AUC\n",
            "Gradient Boosting    0.992230   1.000000  0.985312  0.992601  0.992656\n",
            "Random Forest        0.992860   0.997597  0.988884  0.993222  0.993105\n",
            "ANN                  0.992230   1.000000  0.985312  0.992601  0.992656\n",
            "Logistic Regression  0.911382   1.000000  0.832473  0.908579  0.916237\n"
          ]
        },
        {
          "output_type": "display_data",
          "data": {
            "text/plain": [
              "<Figure size 1200x800 with 1 Axes>"
            ],
            "image/png": "[encoded data removed]"
          },
          "metadata": {}
        }
      ]
    },
    {
      "cell_type": "markdown",
      "source": [
        "#표본 입력 예시"
      ],
      "metadata": {
        "id": "JrCJ2joJLCDj"
      }
    },
    {
      "cell_type": "code",
      "execution_count": 89,
      "metadata": {
        "colab": {
          "base_uri": "https://localhost:8080/"
        },
        "id": "Y3Ju1vi6eqUC",
        "outputId": "84af8f2d-ba12-4255-c212-4e4ec15992d1"
      },
      "outputs": [
        {
          "output_type": "stream",
          "name": "stdout",
          "text": [
            "100번째 행의 값들:\n",
            "SMOK_QTY                25.000000\n",
            "SMOK_STRT_AGE           98.000000\n",
            "SMOK_DTRN_YCNT           1.000000\n",
            "HORM_TRTM_YN             1.000000\n",
            "HORM_TRTM_DTRN_DCNT     50.000000\n",
            "HORM_TRTM_PRPS_CD        6.000000\n",
            "MENO_YN                  1.000000\n",
            "MENO_AGE                 8.000000\n",
            "UCLN_PRGN_YN             1.000000\n",
            "MENA_AGE                12.000000\n",
            "target                   1.000000\n",
            "Risk_Percentile_lr      62.417526\n",
            "Risk_Percentile_rf     100.000000\n",
            "Risk_Percentile_ann    100.000000\n",
            "Risk_Percentile_gbm     99.981029\n",
            "Name: 99, dtype: float64\n"
          ]
        }
      ],
      "source": [
        "# 100번째 행을 선택합니다.\n",
        "row_100 = df.iloc[99]  # 인덱스는 0부터 시작하므로 99는 100번째 행을 의미합니다.\n",
        "\n",
        "# 선택된 행을 출력합니다.\n",
        "print(\"100번째 행의 값들:\")\n",
        "print(row_100)\n"
      ]
    },
    {
      "cell_type": "code",
      "source": [
        "# 18346번째 행을 선택합니다.\n",
        "row_18346 = df.iloc[18345]  # 인덱스는 0부터 시작하므로 99는 100번째 행을 의미합니다.\n",
        "\n",
        "# 선택된 행을 출력합니다.\n",
        "print(\"18346번째 행의 값들:\")\n",
        "print(row_18346)\n"
      ],
      "metadata": {
        "colab": {
          "base_uri": "https://localhost:8080/"
        },
        "id": "0wXr0PUCV5dj",
        "outputId": "30aa9b63-45cd-4c36-effb-10e3de326c6c"
      },
      "execution_count": 90,
      "outputs": [
        {
          "output_type": "stream",
          "name": "stdout",
          "text": [
            "18346번째 행의 값들:\n",
            "SMOK_QTY                0.000000\n",
            "SMOK_STRT_AGE           0.000000\n",
            "SMOK_DTRN_YCNT          0.000000\n",
            "HORM_TRTM_YN            0.000000\n",
            "HORM_TRTM_DTRN_DCNT     0.000000\n",
            "HORM_TRTM_PRPS_CD       0.000000\n",
            "MENO_YN                 0.000000\n",
            "MENO_AGE                0.000000\n",
            "UCLN_PRGN_YN            0.000000\n",
            "MENA_AGE               13.100000\n",
            "target                  0.000000\n",
            "Risk_Percentile_lr     -2.605390\n",
            "Risk_Percentile_rf      0.000000\n",
            "Risk_Percentile_ann     2.493828\n",
            "Risk_Percentile_gbm     0.168826\n",
            "Name: 18345, dtype: float64\n"
          ]
        }
      ]
    },
    {
      "cell_type": "code",
      "execution_count": 91,
      "metadata": {
        "colab": {
          "base_uri": "https://localhost:8080/"
        },
        "id": "Vpu9G0EuhL3g",
        "outputId": "c384baf3-ab48-471a-b6c4-d297a03f54a5"
      },
      "outputs": [
        {
          "output_type": "stream",
          "name": "stdout",
          "text": [
            "입력 데이터:\n",
            "    SMOK_QTY  SMOK_STRT_AGE  SMOK_DTRN_YCNT  HORM_TRTM_YN  \\\n",
            "99      25.0           98.0             1.0           1.0   \n",
            "\n",
            "    HORM_TRTM_DTRN_DCNT  HORM_TRTM_PRPS_CD  MENO_YN  MENO_AGE  UCLN_PRGN_YN  \\\n",
            "99                 50.0                6.0      1.0       8.0           1.0   \n",
            "\n",
            "    MENA_AGE  target  \n",
            "99      12.0     1.0  \n",
            "새로운 데이터셋에 대한 예측 결과: [1.]\n"
          ]
        },
        {
          "output_type": "stream",
          "name": "stderr",
          "text": [
            "/usr/local/lib/python3.10/dist-packages/sklearn/base.py:432: UserWarning: X has feature names, but GradientBoostingClassifier was fitted without feature names\n",
            "  warnings.warn(\n"
          ]
        }
      ],
      "source": [
        "import pandas as pd\n",
        "\n",
        "\n",
        "# 100번째 행을 선택합니다.\n",
        "row_100 = df.iloc[[99]]\n",
        "# 'DIAG_YN', 'Risk_score', 'Risk_Percentile'을 제외한 열을 사용하여 예측을 수행합니다.\n",
        "input_data = row_100.drop(['Risk_Percentile_lr','Risk_Percentile_rf',\n",
        "                           'Risk_Percentile_ann','Risk_Percentile_gbm'], axis=1)\n",
        "new_predictions = gb_model.predict(input_data)\n",
        "\n",
        "# 입력 데이터와 예측 결과를 함께 출력합니다.\n",
        "print(\"입력 데이터:\")\n",
        "print(input_data)\n",
        "\n",
        "# 예측 결과를 출력합니다.\n",
        "print(\"새로운 데이터셋에 대한 예측 결과:\", new_predictions)\n"
      ]
    },
    {
      "cell_type": "code",
      "source": [
        "import pandas as pd\n",
        "\n",
        "\n",
        "# 100번째 행을 선택합니다.\n",
        "row_18346 = df.iloc[[18345]]\n",
        "# 'DIAG_YN', 'Risk_score', 'Risk_Percentile'을 제외한 열을 사용하여 예측을 수행합니다.\n",
        "input_data2 = row_18346.drop(['Risk_Percentile_lr','Risk_Percentile_rf',\n",
        "                           'Risk_Percentile_ann','Risk_Percentile_gbm'], axis=1)\n",
        "new_predictions2 = gb_model.predict(input_data)\n",
        "\n",
        "# 입력 데이터와 예측 결과를 함께 출력합니다.\n",
        "print(\"입력 데이터:\")\n",
        "print(input_data2)\n",
        "\n",
        "# 예측 결과를 출력합니다.\n",
        "print(\"새로운 데이터셋에 대한 예측 결과:\", new_predictions2)\n"
      ],
      "metadata": {
        "colab": {
          "base_uri": "https://localhost:8080/"
        },
        "id": "YcWx7nOmYAz4",
        "outputId": "a9cd98c8-f047-465c-e9b2-5dac2b820de2"
      },
      "execution_count": 92,
      "outputs": [
        {
          "output_type": "stream",
          "name": "stdout",
          "text": [
            "입력 데이터:\n",
            "       SMOK_QTY  SMOK_STRT_AGE  SMOK_DTRN_YCNT  HORM_TRTM_YN  \\\n",
            "18345       0.0            0.0             0.0           0.0   \n",
            "\n",
            "       HORM_TRTM_DTRN_DCNT  HORM_TRTM_PRPS_CD  MENO_YN  MENO_AGE  \\\n",
            "18345                  0.0                0.0      0.0       0.0   \n",
            "\n",
            "       UCLN_PRGN_YN  MENA_AGE  target  \n",
            "18345           0.0      13.1     0.0  \n",
            "새로운 데이터셋에 대한 예측 결과: [1.]\n"
          ]
        },
        {
          "output_type": "stream",
          "name": "stderr",
          "text": [
            "/usr/local/lib/python3.10/dist-packages/sklearn/base.py:432: UserWarning: X has feature names, but GradientBoostingClassifier was fitted without feature names\n",
            "  warnings.warn(\n"
          ]
        }
      ]
    },
    {
      "cell_type": "markdown",
      "source": [
        "#위험군 분류"
      ],
      "metadata": {
        "id": "6c6YPAubLNzd"
      }
    },
    {
      "cell_type": "markdown",
      "source": [
        "##범위 계산"
      ],
      "metadata": {
        "id": "bGsAs6nvLQY_"
      }
    },
    {
      "cell_type": "code",
      "source": [
        "# 'Risk_Percentile'의 중앙값 계산\n",
        "median_risk_score_diag_yn_1_gbm = target_1_df['Risk_Percentile_gbm'].median()\n",
        "\n",
        "print(f\"Median Risk Score 환자군 gbm: {median_risk_score_diag_yn_1_gbm}\")"
      ],
      "metadata": {
        "colab": {
          "base_uri": "https://localhost:8080/"
        },
        "id": "QJh7vHcsJ6H3",
        "outputId": "2714c0ec-3f38-430a-929a-f2e12ebafb42"
      },
      "execution_count": 93,
      "outputs": [
        {
          "output_type": "stream",
          "name": "stdout",
          "text": [
            "Median Risk Score 환자군 gbm: 99.95449521438942\n"
          ]
        }
      ]
    },
    {
      "cell_type": "markdown",
      "source": [
        "##분류"
      ],
      "metadata": {
        "id": "udJtcl2WLUlf"
      }
    },
    {
      "cell_type": "code",
      "source": [
        "risk_percentile_gbm_18346 = df.loc[18345, 'Risk_Percentile_gbm']\n",
        "print(\"18346번째 행의 'Risk_Percentile_gbm':\", risk_percentile_gbm_18346)\n"
      ],
      "metadata": {
        "colab": {
          "base_uri": "https://localhost:8080/"
        },
        "id": "xOOr9Po6RTt5",
        "outputId": "ef688982-4a31-4ce2-e41f-11318e933f2b"
      },
      "execution_count": 94,
      "outputs": [
        {
          "output_type": "stream",
          "name": "stdout",
          "text": [
            "18346번째 행의 'Risk_Percentile_gbm': 0.16882629705607413\n"
          ]
        }
      ]
    },
    {
      "cell_type": "code",
      "source": [
        "\n",
        "# 고위험군과 위험군을 판단하는 함수\n",
        "def risk_group(score):\n",
        "    if min_risk_score_diag_yn_1_gbm <= score < median_risk_score_diag_yn_1_gbm:\n",
        "        return '위험군입니다.'\n",
        "    elif median_risk_score_diag_yn_1_gbm <= score <= max_risk_score_diag_yn_1_gbm:\n",
        "        return '고위험군입니다.'\n",
        "    else:\n",
        "        return '저위험군입니다.'\n",
        "\n",
        "\n",
        "# 고위험군 또는 위험군을 판단합니다.\n",
        "result2 = risk_group(risk_percentile_gbm_18346)\n",
        "\n",
        "# 결과 출력\n",
        "print(\"예측된 점수:\", risk_percentile_gbm_18346)\n",
        "print(result2)"
      ],
      "metadata": {
        "colab": {
          "base_uri": "https://localhost:8080/"
        },
        "id": "vs3NJ2claQa-",
        "outputId": "a6d5be82-0688-495a-9a69-5544943466c5"
      },
      "execution_count": 95,
      "outputs": [
        {
          "output_type": "stream",
          "name": "stdout",
          "text": [
            "예측된 점수: 0.16882629705607413\n",
            "저위험군입니다.\n"
          ]
        }
      ]
    },
    {
      "cell_type": "markdown",
      "source": [
        "##분류 시각화"
      ],
      "metadata": {
        "id": "vaZecJJdLXu9"
      }
    },
    {
      "cell_type": "code",
      "source": [
        "# 박스 플롯 생성\n",
        "plt.figure(figsize=(10, 6))\n",
        "sns.boxplot(y=diag_yn_1_df['Risk_Percentile'], color='skyblue')\n",
        "\n",
        "# 예측된 점수 표시\n",
        "plt.scatter(x=[0], y=[predicted_score], color='red', label=f'예측된 점수: {predicted_score}', zorder=5)\n",
        "plt.axhline(median_risk_score_diag_yn_1, color='orange', linestyle='--', label=f'중앙값: {median_risk_score_diag_yn_1}')\n",
        "plt.axhline(min_risk_score_diag_yn_1, color='green', linestyle='--', label=f'최소값: {min_risk_score_diag_yn_1}')\n",
        "plt.axhline(max_risk_score_diag_yn_1, color='blue', linestyle='--', label=f'최대값: {max_risk_score_diag_yn_1}')\n",
        "\n",
        "# 경계에 판단 결과 추가\n",
        "plt.text(0.2, min_risk_score_diag_yn_1, '위험군 시작', horizontalalignment='left', color='green', weight='bold')\n",
        "plt.text(0.2, median_risk_score_diag_yn_1, '고위험군 시작', horizontalalignment='left', color='orange', weight='bold')\n",
        "plt.text(0.2, max_risk_score_diag_yn_1, '최대값', horizontalalignment='left', color='blue', weight='bold')\n",
        "\n",
        "# 플롯 꾸미기\n",
        "plt.title('Risk Percentile Distribution (DIAG_YN=1)')\n",
        "plt.ylabel('Risk_Percentile')\n",
        "plt.xlabel('')  # x축 레이블을 제거하여 보기 좋게 만듦\n",
        "plt.xticks([])  # x축 눈금을 제거하여 보기 좋게 만듦\n",
        "plt.legend()\n",
        "\n",
        "# 결과 출력\n",
        "plt.show()"
      ],
      "metadata": {
        "colab": {
          "base_uri": "https://localhost:8080/",
          "height": 240
        },
        "id": "f2Vzm0ShLAJT",
        "outputId": "825c36ad-b254-4c68-b6af-95657819e661"
      },
      "execution_count": 96,
      "outputs": [
        {
          "output_type": "error",
          "ename": "NameError",
          "evalue": "name 'diag_yn_1_df' is not defined",
          "traceback": [
            "\u001b[0;31m---------------------------------------------------------------------------\u001b[0m",
            "\u001b[0;31mNameError\u001b[0m                                 Traceback (most recent call last)",
            "\u001b[0;32m<ipython-input-96-dccc3c494350>\u001b[0m in \u001b[0;36m<cell line: 3>\u001b[0;34m()\u001b[0m\n\u001b[1;32m      1\u001b[0m \u001b[0;31m# 박스 플롯 생성\u001b[0m\u001b[0;34m\u001b[0m\u001b[0;34m\u001b[0m\u001b[0m\n\u001b[1;32m      2\u001b[0m \u001b[0mplt\u001b[0m\u001b[0;34m.\u001b[0m\u001b[0mfigure\u001b[0m\u001b[0;34m(\u001b[0m\u001b[0mfigsize\u001b[0m\u001b[0;34m=\u001b[0m\u001b[0;34m(\u001b[0m\u001b[0;36m10\u001b[0m\u001b[0;34m,\u001b[0m \u001b[0;36m6\u001b[0m\u001b[0;34m)\u001b[0m\u001b[0;34m)\u001b[0m\u001b[0;34m\u001b[0m\u001b[0;34m\u001b[0m\u001b[0m\n\u001b[0;32m----> 3\u001b[0;31m \u001b[0msns\u001b[0m\u001b[0;34m.\u001b[0m\u001b[0mboxplot\u001b[0m\u001b[0;34m(\u001b[0m\u001b[0my\u001b[0m\u001b[0;34m=\u001b[0m\u001b[0mdiag_yn_1_df\u001b[0m\u001b[0;34m[\u001b[0m\u001b[0;34m'Risk_Percentile'\u001b[0m\u001b[0;34m]\u001b[0m\u001b[0;34m,\u001b[0m \u001b[0mcolor\u001b[0m\u001b[0;34m=\u001b[0m\u001b[0;34m'skyblue'\u001b[0m\u001b[0;34m)\u001b[0m\u001b[0;34m\u001b[0m\u001b[0;34m\u001b[0m\u001b[0m\n\u001b[0m\u001b[1;32m      4\u001b[0m \u001b[0;34m\u001b[0m\u001b[0m\n\u001b[1;32m      5\u001b[0m \u001b[0;31m# 예측된 점수 표시\u001b[0m\u001b[0;34m\u001b[0m\u001b[0;34m\u001b[0m\u001b[0m\n",
            "\u001b[0;31mNameError\u001b[0m: name 'diag_yn_1_df' is not defined"
          ]
        },
        {
          "output_type": "display_data",
          "data": {
            "text/plain": [
              "<Figure size 1000x600 with 0 Axes>"
            ]
          },
          "metadata": {}
        }
      ]
    },
    {
      "cell_type": "code",
      "source": [
        "# KDE 플롯 생성\n",
        "plt.figure(figsize=(12, 8))\n",
        "sns.kdeplot(diag_yn_1_df['Risk_Percentile'], shade=True, color='skyblue')\n",
        "\n",
        "# 중요 값들 표시\n",
        "plt.axvline(min_risk_score_diag_yn_1, color='green', linestyle='--', label=f'최소값: {min_risk_score_diag_yn_1}')\n",
        "plt.axvline(median_risk_score_diag_yn_1, color='orange', linestyle='--', label=f'중앙값: {median_risk_score_diag_yn_1}')\n",
        "plt.axvline(max_risk_score_diag_yn_1, color='blue', linestyle='--', label=f'최대값: {max_risk_score_diag_yn_1}')\n",
        "plt.axvline(predicted_score, color='red', linestyle='-', label=f'예측된 점수: {predicted_score}')\n",
        "\n",
        "# 경계에 판단 결과 추가\n",
        "plt.text(min_risk_score_diag_yn_1, plt.ylim()[1]*0.9, '위험군 시작', horizontalalignment='right', color='green', weight='bold', rotation=90)\n",
        "plt.text(median_risk_score_diag_yn_1, plt.ylim()[1]*0.9, '고위험군 시작', horizontalalignment='right', color='orange', weight='bold', rotation=90)\n",
        "plt.text(max_risk_score_diag_yn_1, plt.ylim()[1]*0.9, '최대값', horizontalalignment='right', color='blue', weight='bold', rotation=90)\n",
        "\n",
        "# 플롯 꾸미기\n",
        "plt.title('Risk Percentile Distribution (DIAG_YN=1)')\n",
        "plt.xlabel('Risk_Percentile')\n",
        "plt.ylabel('Density')\n",
        "plt.legend()\n",
        "\n",
        "# 결과 출력\n",
        "plt.show()"
      ],
      "metadata": {
        "id": "JEcjq8BLL6_b"
      },
      "execution_count": null,
      "outputs": []
    }
  ],
  "metadata": {
    "colab": {
      "collapsed_sections": [
        "iAcXNafAFCaU",
        "abjOD4Dd3xn0",
        "x_aoPfoP3vMJ",
        "fz4cou123DM4",
        "CL-4IwJVCbdT",
        "Cjwe6r5fErpK",
        "BKb8jRcoDIgD",
        "RwbqlJXZDM2l",
        "0hzAVyJXSCQN",
        "vaZecJJdLXu9"
      ],
      "provenance": []
    },
    "kernelspec": {
      "display_name": "Python 3",
      "name": "python3"
    },
    "language_info": {
      "name": "python"
    }
  },
  "nbformat": 4,
  "nbformat_minor": 0
}